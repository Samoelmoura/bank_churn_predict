{
 "cells": [
  {
   "cell_type": "markdown",
   "id": "b4572851",
   "metadata": {
    "heading_collapsed": true
   },
   "source": [
    "# 0.0 Business Problem"
   ]
  },
  {
   "cell_type": "markdown",
   "id": "b4da65b9",
   "metadata": {
    "heading_collapsed": true,
    "hidden": true
   },
   "source": [
    "## 0.1 Contexto:\n",
    "A TopBank é uma grande empresa de serviços bancários. Ela atua principalmente nos países da Europa oferecendo produtos financeiros, desde contas bancárias até investimentos, passando por alguns tipos de seguros e produto de investimento.\n",
    "\n",
    "O modelo de negócio da empresa é do tipo serviço, ou seja, ela comercializa serviços bancários para seus clientes através de agências físicas e um portal online. \n",
    "\n",
    "O principal produto da empresa é uma conta bancária, na qual o cliente pode depositar seu salário, fazer saques, depósitos e transferência para outras contas. Essa conta bancária não tem custo para o cliente e tem uma vigência de 12 meses, ou seja, o cliente precisa renovar o contrato dessa conta para continuar utilizando pelos próximos 12 meses.\n",
    "\n",
    "Segundo o time de Analytics da TopBank, cada cliente que possui essa conta bancária retorna um valor monetário de 15% do valor do seu salário estimado, se esse for menor que a média e 20% se esse salário for maior que a média, durante o período vigente de sua conta. Esse valor é calculado anualmente. \n",
    "\n",
    "Por exemplo, se o salário mensal de um cliente é de 1.000 reais e a média de todos os salários do banco é de 800 reais. A empresa, portanto, fatura 200 reais anualmente com esse cliente. Se esse cliente está no banco há 10 anos, a empresa já faturou 2.000 reais com suas transações e utilização da conta. \n",
    "\n",
    "Nos últimos meses, o time de Analytics percebeu que a taxa de clientes cancelando suas contas e deixando o banco, atingiu números inéditos na empresa. Preocupados com o aumento dessa taxa, o time planejou um plano de ação para diminuir taxa de evasão de clientes.\n",
    "\n",
    "Preocupados com a queda dessa métrica, o time de Analytics da TopBottom, contratou você como consultor de Data Science para criar um plano de ação, com o objetivo de reduzir a evasão de clientes, ou seja, impedir que o cliente cancele seu contrato e não o renove por mais 12 meses. Essa evasão, nas métricas de negócio, é conhecida como Churn.\n",
    "\n",
    "De maneira geral, Churn é uma métrica que indica o número de clientes que cancelaram o contrato ou pararam de comprar seu produto em um determinado período de tempo. Por exemplo, clientes que cancelaram o contrato de serviço ou após o vencimento do mesmo, não renovaram, são clientes considerados em churn.\n",
    "\n",
    "Outro exemplo seria os clientes que não fazem uma compra à mais de 60 dias. Esse clientes podem ser considerados clientes em churn até que uma compra seja realizada. O período de 60 dias é totalmente arbitrário e varia entre empresas. \n",
    "\n",
    "Projeto retirado do Blog Seja Um Data Scientist\n",
    "https://sejaumdatascientist.com/predicao-de-churn/\n",
    "\n",
    "Projeto original disponível na plataforma Kaggle\n",
    "https://www.kaggle.com/mervetorkan/churndataset\n",
    "\n",
    "## 0.2 Dicionário de features:\n",
    "\n",
    "1. RowNumber: O número da coluna\n",
    "2. CustomerID: Identificador único do cliente\n",
    "3. Surname: Sobrenome do cliente.\n",
    "4. CreditScore: A pontuação de Crédito do cliente para o mercado de consumo.\n",
    "5. Geography: O país onde o cliente reside.\n",
    "6. Gender: O gênero do cliente.\n",
    "7. Age: A idade do cliente.\n",
    "8. Tenure: Número de anos que o cliente permaneceu ativo.\n",
    "9. Balance: Valor monetário que o cliente tem em sua conta bancária.\n",
    "10. NumOfProducts: O número de produtos comprado pelo cliente no banco.\n",
    "11. HasCrCard: Indica se o cliente possui ou não cartão de crédito.\n",
    "12. IsActiveMember: Indica se o cliente fez pelo menos uma movimentação na conta bancário dentro de 12 meses.\n",
    "13. EstimateSalary: Estimativa do salário mensal do cliente.\n",
    "14. Exited: Indica se o cliente está ou não em Churn.\n",
    "\n",
    "\n",
    "## 0.3 Estratégia da Solução:\n",
    "\n",
    "#### 0.3.1 Objetivos:\n",
    "1. Qual a taxa atual de Churn da Top-Bank? Como ela varia mensalmente?\n",
    "2. Qual a performance do modelo em classificar os clientes como churn?\n",
    "3. Qual o retorno esperado, em termos de faturamento, se a empresa utilizar seu modelo para evitar o churn dos clientes?\n",
    "\n",
    "#### 0.3.2 Proposta de Solução:\n",
    "1. Descobrir a média global de Churn, e utilizar de Exploratory Data Analysis para levantar parâmetros de timeseries para explicar o comportamento da variabilidade ao longo do tempo. (Output = taxa e parâmetros)\n",
    "2. Escolher métrica de performance, modelar o problema e treinar. (Output = Métricas do modelo)\n",
    "3. Identificar o custo do churn atual, scorar os clientes, suas probabilidades de churn, definir programa de giftcards, mensurar probabilidade de conversão de clientes em churn, e custo do programa. Retorno financeiro = Churn atual - (menos) Churn predito após programa de giftcards - (menos) custo do programa. (Output = Retorno financeiro)\n",
    "\n",
    "#### 0.3.3 Inputs:\n",
    "1. Problema de negócio\n",
    "2. Conjunto de dados com características de 10.000 clientes e seus status de churn\n",
    "\n",
    "#### 0.3.4 Outputs:\n",
    "1. Tabela de banco de dados SQL com todas as classificações\n",
    "2. Respostas às perguntas de negócio\n",
    "3. API com request/predict - v1 | v2 | v3 - 1/0\n",
    "\n",
    "#### 0.3.5 Ciclos:\n",
    "1. Pipeline de dados, funcional, de ponta a ponta (desde a coleta de dados até o \n",
    "    treinamento do modelo)\n",
    "2. Entender os dados e limpa-los (buscar inconsistências) Análises de estatística\n",
    "    descritiva de primeira ordem\n",
    "3. Feature Engineering (criar variáveis que modelam o fenômeno)\n",
    "4. Criar as hipóteses (10 hipóteses, afirmações)\n",
    "5. Análise exploratória de dados para validar ou refutar hióteses\n",
    "6. Treinar o modelo\n",
    "\n",
    "## 0.4 Sumário:\n",
    "\n",
    "## 0.5 Resultados e Conclusão:"
   ]
  },
  {
   "cell_type": "markdown",
   "id": "c729438b",
   "metadata": {
    "heading_collapsed": true
   },
   "source": [
    "# 1.0 Imports"
   ]
  },
  {
   "cell_type": "code",
   "execution_count": 33,
   "id": "11fa254d",
   "metadata": {
    "hidden": true
   },
   "outputs": [],
   "source": [
    "import numpy as np\n",
    "import pandas as pd\n",
    "import matplotlib.pyplot as plt\n",
    "import seaborn as sns\n",
    "\n",
    "from sklearn.preprocessing import LabelEncoder, StandardScaler\n",
    "from sklearn.model_selection import train_test_split\n",
    "from sklearn.metrics import classification_report, roc_auc_score, roc_curve\n",
    "\n",
    "from scipy.stats import shapiro\n",
    "\n",
    "from imblearn.over_sampling import SMOTE\n",
    "from imblearn.under_sampling import NearMiss\n",
    "\n",
    "from xgboost import XGBRFClassifier\n",
    "\n",
    "import time"
   ]
  },
  {
   "cell_type": "code",
   "execution_count": 36,
   "id": "28f78ba6",
   "metadata": {
    "hidden": true
   },
   "outputs": [],
   "source": [
    "# reading csv\n",
    "df = pd.read_csv('C:\\\\Users\\\\Notebook\\\\Google Drive\\\\Pessoal\\\\Projetos\\\\preditor_churn_banco\\\\churn.csv')"
   ]
  },
  {
   "cell_type": "code",
   "execution_count": 151,
   "id": "58eb838c",
   "metadata": {
    "hidden": true
   },
   "outputs": [],
   "source": [
    "# Help Functions\n",
    "\n",
    "# Estatística descritiva de primeira ordem\n",
    "def estat_desc(x):\n",
    "    print(f'Média: {round(x.mean(), 2)}')\n",
    "    print(f'Mínimo: {round(x.min(), 2)}')\n",
    "    print(f'Máximo: {round(x.max(), 2)}')\n",
    "    print(f'Desvio Padrão: {round(x.std(), 2)}')\n",
    "    print(f'Curtose: {round(x.kurtosis(), 2)}')\n",
    "    print(f'Skew: {round(x.skew(), 2)}')\n",
    "    \n",
    "# Teste de Shapiro de normalidade\n",
    "def teste_shapiro(x, alpha=0.05):\n",
    "    temp = np.random.choice(df.index, 5000)\n",
    "    x = x.loc[temp]\n",
    "    result = shapiro(x)\n",
    "    if result.pvalue < alpha:\n",
    "        print(f'Com um pvalor: {result.pvalue}, a Series NÃO tem distribuição normal.')\n",
    "    else:\n",
    "        print(f'Com um pvalor: {result.pvalue}, a Series tem distribuição normal.')\n",
    "\n",
    "# identificando outliers\n",
    "def busca_outliers(df, series):\n",
    "    q1 = np.percentile(df[series], 25)\n",
    "    q3 = np.percentile(df[series], 75)\n",
    "    distancia = q3 - q1\n",
    "    salto = distancia * 1.5\n",
    "    li = q1 - salto\n",
    "    ls = q3 + salto\n",
    "    indices = df[(df[series]<li)|(df[series]>ls)].index\n",
    "    print(f'O limite inferior é: {li}\\nO limite superior é: {ls}\\nHá {len(indices)} outliers')\n",
    "    return indices"
   ]
  },
  {
   "cell_type": "markdown",
   "id": "34679afd",
   "metadata": {},
   "source": [
    "# 2.0 Exploratory Data Analysis and Cleaning"
   ]
  },
  {
   "cell_type": "markdown",
   "id": "5dc07c60",
   "metadata": {
    "heading_collapsed": true
   },
   "source": [
    "## General Analysis"
   ]
  },
  {
   "cell_type": "code",
   "execution_count": 3,
   "id": "695df189",
   "metadata": {
    "hidden": true
   },
   "outputs": [],
   "source": [
    "tempo_agora = time.time()"
   ]
  },
  {
   "cell_type": "code",
   "execution_count": 4,
   "id": "a9a6d3cc",
   "metadata": {
    "hidden": true
   },
   "outputs": [
    {
     "data": {
      "text/html": [
       "<div>\n",
       "<style scoped>\n",
       "    .dataframe tbody tr th:only-of-type {\n",
       "        vertical-align: middle;\n",
       "    }\n",
       "\n",
       "    .dataframe tbody tr th {\n",
       "        vertical-align: top;\n",
       "    }\n",
       "\n",
       "    .dataframe thead th {\n",
       "        text-align: right;\n",
       "    }\n",
       "</style>\n",
       "<table border=\"1\" class=\"dataframe\">\n",
       "  <thead>\n",
       "    <tr style=\"text-align: right;\">\n",
       "      <th></th>\n",
       "      <th>RowNumber</th>\n",
       "      <th>CustomerId</th>\n",
       "      <th>Surname</th>\n",
       "      <th>CreditScore</th>\n",
       "      <th>Geography</th>\n",
       "      <th>Gender</th>\n",
       "      <th>Age</th>\n",
       "      <th>Tenure</th>\n",
       "      <th>Balance</th>\n",
       "      <th>NumOfProducts</th>\n",
       "      <th>HasCrCard</th>\n",
       "      <th>IsActiveMember</th>\n",
       "      <th>EstimatedSalary</th>\n",
       "      <th>Exited</th>\n",
       "    </tr>\n",
       "  </thead>\n",
       "  <tbody>\n",
       "    <tr>\n",
       "      <th>0</th>\n",
       "      <td>1</td>\n",
       "      <td>15634602</td>\n",
       "      <td>Hargrave</td>\n",
       "      <td>619</td>\n",
       "      <td>France</td>\n",
       "      <td>Female</td>\n",
       "      <td>42</td>\n",
       "      <td>2</td>\n",
       "      <td>0.00</td>\n",
       "      <td>1</td>\n",
       "      <td>1</td>\n",
       "      <td>1</td>\n",
       "      <td>101348.88</td>\n",
       "      <td>1</td>\n",
       "    </tr>\n",
       "    <tr>\n",
       "      <th>1</th>\n",
       "      <td>2</td>\n",
       "      <td>15647311</td>\n",
       "      <td>Hill</td>\n",
       "      <td>608</td>\n",
       "      <td>Spain</td>\n",
       "      <td>Female</td>\n",
       "      <td>41</td>\n",
       "      <td>1</td>\n",
       "      <td>83807.86</td>\n",
       "      <td>1</td>\n",
       "      <td>0</td>\n",
       "      <td>1</td>\n",
       "      <td>112542.58</td>\n",
       "      <td>0</td>\n",
       "    </tr>\n",
       "    <tr>\n",
       "      <th>2</th>\n",
       "      <td>3</td>\n",
       "      <td>15619304</td>\n",
       "      <td>Onio</td>\n",
       "      <td>502</td>\n",
       "      <td>France</td>\n",
       "      <td>Female</td>\n",
       "      <td>42</td>\n",
       "      <td>8</td>\n",
       "      <td>159660.80</td>\n",
       "      <td>3</td>\n",
       "      <td>1</td>\n",
       "      <td>0</td>\n",
       "      <td>113931.57</td>\n",
       "      <td>1</td>\n",
       "    </tr>\n",
       "    <tr>\n",
       "      <th>3</th>\n",
       "      <td>4</td>\n",
       "      <td>15701354</td>\n",
       "      <td>Boni</td>\n",
       "      <td>699</td>\n",
       "      <td>France</td>\n",
       "      <td>Female</td>\n",
       "      <td>39</td>\n",
       "      <td>1</td>\n",
       "      <td>0.00</td>\n",
       "      <td>2</td>\n",
       "      <td>0</td>\n",
       "      <td>0</td>\n",
       "      <td>93826.63</td>\n",
       "      <td>0</td>\n",
       "    </tr>\n",
       "    <tr>\n",
       "      <th>4</th>\n",
       "      <td>5</td>\n",
       "      <td>15737888</td>\n",
       "      <td>Mitchell</td>\n",
       "      <td>850</td>\n",
       "      <td>Spain</td>\n",
       "      <td>Female</td>\n",
       "      <td>43</td>\n",
       "      <td>2</td>\n",
       "      <td>125510.82</td>\n",
       "      <td>1</td>\n",
       "      <td>1</td>\n",
       "      <td>1</td>\n",
       "      <td>79084.10</td>\n",
       "      <td>0</td>\n",
       "    </tr>\n",
       "  </tbody>\n",
       "</table>\n",
       "</div>"
      ],
      "text/plain": [
       "   RowNumber  CustomerId   Surname  CreditScore Geography  Gender  Age  \\\n",
       "0          1    15634602  Hargrave          619    France  Female   42   \n",
       "1          2    15647311      Hill          608     Spain  Female   41   \n",
       "2          3    15619304      Onio          502    France  Female   42   \n",
       "3          4    15701354      Boni          699    France  Female   39   \n",
       "4          5    15737888  Mitchell          850     Spain  Female   43   \n",
       "\n",
       "   Tenure    Balance  NumOfProducts  HasCrCard  IsActiveMember  \\\n",
       "0       2       0.00              1          1               1   \n",
       "1       1   83807.86              1          0               1   \n",
       "2       8  159660.80              3          1               0   \n",
       "3       1       0.00              2          0               0   \n",
       "4       2  125510.82              1          1               1   \n",
       "\n",
       "   EstimatedSalary  Exited  \n",
       "0        101348.88       1  \n",
       "1        112542.58       0  \n",
       "2        113931.57       1  \n",
       "3         93826.63       0  \n",
       "4         79084.10       0  "
      ]
     },
     "execution_count": 4,
     "metadata": {},
     "output_type": "execute_result"
    }
   ],
   "source": [
    "df.head(5)"
   ]
  },
  {
   "cell_type": "code",
   "execution_count": 5,
   "id": "4982efc4",
   "metadata": {
    "hidden": true
   },
   "outputs": [
    {
     "data": {
      "text/plain": [
       "0.2037"
      ]
     },
     "execution_count": 5,
     "metadata": {},
     "output_type": "execute_result"
    }
   ],
   "source": [
    "df['Exited'].mean()"
   ]
  },
  {
   "cell_type": "markdown",
   "id": "971bb884",
   "metadata": {
    "hidden": true
   },
   "source": [
    "A feature target é desbalanceada, com 20% de churn."
   ]
  },
  {
   "cell_type": "code",
   "execution_count": 6,
   "id": "e12f3418",
   "metadata": {
    "hidden": true
   },
   "outputs": [
    {
     "name": "stdout",
     "output_type": "stream",
     "text": [
      "<class 'pandas.core.frame.DataFrame'>\n",
      "RangeIndex: 10000 entries, 0 to 9999\n",
      "Data columns (total 14 columns):\n",
      " #   Column           Non-Null Count  Dtype  \n",
      "---  ------           --------------  -----  \n",
      " 0   RowNumber        10000 non-null  int64  \n",
      " 1   CustomerId       10000 non-null  int64  \n",
      " 2   Surname          10000 non-null  object \n",
      " 3   CreditScore      10000 non-null  int64  \n",
      " 4   Geography        10000 non-null  object \n",
      " 5   Gender           10000 non-null  object \n",
      " 6   Age              10000 non-null  int64  \n",
      " 7   Tenure           10000 non-null  int64  \n",
      " 8   Balance          10000 non-null  float64\n",
      " 9   NumOfProducts    10000 non-null  int64  \n",
      " 10  HasCrCard        10000 non-null  int64  \n",
      " 11  IsActiveMember   10000 non-null  int64  \n",
      " 12  EstimatedSalary  10000 non-null  float64\n",
      " 13  Exited           10000 non-null  int64  \n",
      "dtypes: float64(2), int64(9), object(3)\n",
      "memory usage: 1.1+ MB\n"
     ]
    }
   ],
   "source": [
    "df.info()"
   ]
  },
  {
   "cell_type": "code",
   "execution_count": 7,
   "id": "8dd3a90d",
   "metadata": {
    "hidden": true
   },
   "outputs": [
    {
     "data": {
      "text/html": [
       "<div>\n",
       "<style scoped>\n",
       "    .dataframe tbody tr th:only-of-type {\n",
       "        vertical-align: middle;\n",
       "    }\n",
       "\n",
       "    .dataframe tbody tr th {\n",
       "        vertical-align: top;\n",
       "    }\n",
       "\n",
       "    .dataframe thead th {\n",
       "        text-align: right;\n",
       "    }\n",
       "</style>\n",
       "<table border=\"1\" class=\"dataframe\">\n",
       "  <thead>\n",
       "    <tr style=\"text-align: right;\">\n",
       "      <th></th>\n",
       "      <th>RowNumber</th>\n",
       "      <th>CustomerId</th>\n",
       "      <th>CreditScore</th>\n",
       "      <th>Age</th>\n",
       "      <th>Tenure</th>\n",
       "      <th>Balance</th>\n",
       "      <th>NumOfProducts</th>\n",
       "      <th>HasCrCard</th>\n",
       "      <th>IsActiveMember</th>\n",
       "      <th>EstimatedSalary</th>\n",
       "      <th>Exited</th>\n",
       "    </tr>\n",
       "  </thead>\n",
       "  <tbody>\n",
       "    <tr>\n",
       "      <th>count</th>\n",
       "      <td>10000.00000</td>\n",
       "      <td>1.000000e+04</td>\n",
       "      <td>10000.000000</td>\n",
       "      <td>10000.000000</td>\n",
       "      <td>10000.000000</td>\n",
       "      <td>10000.000000</td>\n",
       "      <td>10000.000000</td>\n",
       "      <td>10000.00000</td>\n",
       "      <td>10000.000000</td>\n",
       "      <td>10000.000000</td>\n",
       "      <td>10000.000000</td>\n",
       "    </tr>\n",
       "    <tr>\n",
       "      <th>mean</th>\n",
       "      <td>5000.50000</td>\n",
       "      <td>1.569094e+07</td>\n",
       "      <td>650.528800</td>\n",
       "      <td>38.921800</td>\n",
       "      <td>5.012800</td>\n",
       "      <td>76485.889288</td>\n",
       "      <td>1.530200</td>\n",
       "      <td>0.70550</td>\n",
       "      <td>0.515100</td>\n",
       "      <td>100090.239881</td>\n",
       "      <td>0.203700</td>\n",
       "    </tr>\n",
       "    <tr>\n",
       "      <th>std</th>\n",
       "      <td>2886.89568</td>\n",
       "      <td>7.193619e+04</td>\n",
       "      <td>96.653299</td>\n",
       "      <td>10.487806</td>\n",
       "      <td>2.892174</td>\n",
       "      <td>62397.405202</td>\n",
       "      <td>0.581654</td>\n",
       "      <td>0.45584</td>\n",
       "      <td>0.499797</td>\n",
       "      <td>57510.492818</td>\n",
       "      <td>0.402769</td>\n",
       "    </tr>\n",
       "    <tr>\n",
       "      <th>min</th>\n",
       "      <td>1.00000</td>\n",
       "      <td>1.556570e+07</td>\n",
       "      <td>350.000000</td>\n",
       "      <td>18.000000</td>\n",
       "      <td>0.000000</td>\n",
       "      <td>0.000000</td>\n",
       "      <td>1.000000</td>\n",
       "      <td>0.00000</td>\n",
       "      <td>0.000000</td>\n",
       "      <td>11.580000</td>\n",
       "      <td>0.000000</td>\n",
       "    </tr>\n",
       "    <tr>\n",
       "      <th>25%</th>\n",
       "      <td>2500.75000</td>\n",
       "      <td>1.562853e+07</td>\n",
       "      <td>584.000000</td>\n",
       "      <td>32.000000</td>\n",
       "      <td>3.000000</td>\n",
       "      <td>0.000000</td>\n",
       "      <td>1.000000</td>\n",
       "      <td>0.00000</td>\n",
       "      <td>0.000000</td>\n",
       "      <td>51002.110000</td>\n",
       "      <td>0.000000</td>\n",
       "    </tr>\n",
       "    <tr>\n",
       "      <th>50%</th>\n",
       "      <td>5000.50000</td>\n",
       "      <td>1.569074e+07</td>\n",
       "      <td>652.000000</td>\n",
       "      <td>37.000000</td>\n",
       "      <td>5.000000</td>\n",
       "      <td>97198.540000</td>\n",
       "      <td>1.000000</td>\n",
       "      <td>1.00000</td>\n",
       "      <td>1.000000</td>\n",
       "      <td>100193.915000</td>\n",
       "      <td>0.000000</td>\n",
       "    </tr>\n",
       "    <tr>\n",
       "      <th>75%</th>\n",
       "      <td>7500.25000</td>\n",
       "      <td>1.575323e+07</td>\n",
       "      <td>718.000000</td>\n",
       "      <td>44.000000</td>\n",
       "      <td>7.000000</td>\n",
       "      <td>127644.240000</td>\n",
       "      <td>2.000000</td>\n",
       "      <td>1.00000</td>\n",
       "      <td>1.000000</td>\n",
       "      <td>149388.247500</td>\n",
       "      <td>0.000000</td>\n",
       "    </tr>\n",
       "    <tr>\n",
       "      <th>max</th>\n",
       "      <td>10000.00000</td>\n",
       "      <td>1.581569e+07</td>\n",
       "      <td>850.000000</td>\n",
       "      <td>92.000000</td>\n",
       "      <td>10.000000</td>\n",
       "      <td>250898.090000</td>\n",
       "      <td>4.000000</td>\n",
       "      <td>1.00000</td>\n",
       "      <td>1.000000</td>\n",
       "      <td>199992.480000</td>\n",
       "      <td>1.000000</td>\n",
       "    </tr>\n",
       "  </tbody>\n",
       "</table>\n",
       "</div>"
      ],
      "text/plain": [
       "         RowNumber    CustomerId   CreditScore           Age        Tenure  \\\n",
       "count  10000.00000  1.000000e+04  10000.000000  10000.000000  10000.000000   \n",
       "mean    5000.50000  1.569094e+07    650.528800     38.921800      5.012800   \n",
       "std     2886.89568  7.193619e+04     96.653299     10.487806      2.892174   \n",
       "min        1.00000  1.556570e+07    350.000000     18.000000      0.000000   \n",
       "25%     2500.75000  1.562853e+07    584.000000     32.000000      3.000000   \n",
       "50%     5000.50000  1.569074e+07    652.000000     37.000000      5.000000   \n",
       "75%     7500.25000  1.575323e+07    718.000000     44.000000      7.000000   \n",
       "max    10000.00000  1.581569e+07    850.000000     92.000000     10.000000   \n",
       "\n",
       "             Balance  NumOfProducts    HasCrCard  IsActiveMember  \\\n",
       "count   10000.000000   10000.000000  10000.00000    10000.000000   \n",
       "mean    76485.889288       1.530200      0.70550        0.515100   \n",
       "std     62397.405202       0.581654      0.45584        0.499797   \n",
       "min         0.000000       1.000000      0.00000        0.000000   \n",
       "25%         0.000000       1.000000      0.00000        0.000000   \n",
       "50%     97198.540000       1.000000      1.00000        1.000000   \n",
       "75%    127644.240000       2.000000      1.00000        1.000000   \n",
       "max    250898.090000       4.000000      1.00000        1.000000   \n",
       "\n",
       "       EstimatedSalary        Exited  \n",
       "count     10000.000000  10000.000000  \n",
       "mean     100090.239881      0.203700  \n",
       "std       57510.492818      0.402769  \n",
       "min          11.580000      0.000000  \n",
       "25%       51002.110000      0.000000  \n",
       "50%      100193.915000      0.000000  \n",
       "75%      149388.247500      0.000000  \n",
       "max      199992.480000      1.000000  "
      ]
     },
     "execution_count": 7,
     "metadata": {},
     "output_type": "execute_result"
    }
   ],
   "source": [
    "df.describe()"
   ]
  },
  {
   "cell_type": "code",
   "execution_count": 8,
   "id": "9044cf63",
   "metadata": {
    "hidden": true
   },
   "outputs": [
    {
     "data": {
      "text/html": [
       "<div>\n",
       "<style scoped>\n",
       "    .dataframe tbody tr th:only-of-type {\n",
       "        vertical-align: middle;\n",
       "    }\n",
       "\n",
       "    .dataframe tbody tr th {\n",
       "        vertical-align: top;\n",
       "    }\n",
       "\n",
       "    .dataframe thead th {\n",
       "        text-align: right;\n",
       "    }\n",
       "</style>\n",
       "<table border=\"1\" class=\"dataframe\">\n",
       "  <thead>\n",
       "    <tr style=\"text-align: right;\">\n",
       "      <th></th>\n",
       "      <th>Surname</th>\n",
       "      <th>Geography</th>\n",
       "      <th>Gender</th>\n",
       "    </tr>\n",
       "  </thead>\n",
       "  <tbody>\n",
       "    <tr>\n",
       "      <th>count</th>\n",
       "      <td>10000</td>\n",
       "      <td>10000</td>\n",
       "      <td>10000</td>\n",
       "    </tr>\n",
       "    <tr>\n",
       "      <th>unique</th>\n",
       "      <td>2932</td>\n",
       "      <td>3</td>\n",
       "      <td>2</td>\n",
       "    </tr>\n",
       "    <tr>\n",
       "      <th>top</th>\n",
       "      <td>Smith</td>\n",
       "      <td>France</td>\n",
       "      <td>Male</td>\n",
       "    </tr>\n",
       "    <tr>\n",
       "      <th>freq</th>\n",
       "      <td>32</td>\n",
       "      <td>5014</td>\n",
       "      <td>5457</td>\n",
       "    </tr>\n",
       "  </tbody>\n",
       "</table>\n",
       "</div>"
      ],
      "text/plain": [
       "       Surname Geography Gender\n",
       "count    10000     10000  10000\n",
       "unique    2932         3      2\n",
       "top      Smith    France   Male\n",
       "freq        32      5014   5457"
      ]
     },
     "execution_count": 8,
     "metadata": {},
     "output_type": "execute_result"
    }
   ],
   "source": [
    "df.describe(include='object')"
   ]
  },
  {
   "cell_type": "code",
   "execution_count": 167,
   "id": "4b65fe27",
   "metadata": {
    "hidden": true
   },
   "outputs": [],
   "source": [
    "# Encondings\n",
    "df['Geography_enc'] = LabelEncoder().fit_transform(df['Geography'])\n",
    "df['Gender_enc'] = LabelEncoder().fit_transform(df['Gender'])"
   ]
  },
  {
   "cell_type": "code",
   "execution_count": 10,
   "id": "14f0974e",
   "metadata": {
    "hidden": true
   },
   "outputs": [
    {
     "data": {
      "text/plain": [
       "Age                0.285323\n",
       "Balance            0.118533\n",
       "Geography_enc      0.035943\n",
       "EstimatedSalary    0.012097\n",
       "HasCrCard         -0.007138\n",
       "Tenure            -0.014001\n",
       "RowNumber         -0.016571\n",
       "CreditScore       -0.027094\n",
       "NumOfProducts     -0.047820\n",
       "Gender_enc        -0.106512\n",
       "IsActiveMember    -0.156128\n",
       "Name: Exited, dtype: float64"
      ]
     },
     "execution_count": 10,
     "metadata": {},
     "output_type": "execute_result"
    }
   ],
   "source": [
    "df.drop('CustomerId', axis=1).corr()['Exited'].sort_values(ascending=False)[1:]"
   ]
  },
  {
   "cell_type": "markdown",
   "id": "3f1ad2ff",
   "metadata": {},
   "source": [
    "## Features Analysis"
   ]
  },
  {
   "cell_type": "markdown",
   "id": "2c302419",
   "metadata": {
    "heading_collapsed": true
   },
   "source": [
    "### Exited"
   ]
  },
  {
   "cell_type": "markdown",
   "id": "bfe89eec",
   "metadata": {
    "heading_collapsed": true,
    "hidden": true
   },
   "source": [
    "#### Principais Insights:\n",
    "1. ..."
   ]
  },
  {
   "cell_type": "markdown",
   "id": "06625c7b",
   "metadata": {
    "heading_collapsed": true,
    "hidden": true
   },
   "source": [
    "#### General Analysis"
   ]
  },
  {
   "cell_type": "code",
   "execution_count": 129,
   "id": "606cf047",
   "metadata": {
    "hidden": true
   },
   "outputs": [
    {
     "data": {
      "text/plain": [
       "Log_Age            0.294082\n",
       "Age                0.285323\n",
       "Balance            0.118533\n",
       "EstimatedSalary    0.012097\n",
       "CustomerId        -0.006248\n",
       "HasCrCard         -0.007138\n",
       "Tenure            -0.014001\n",
       "RowNumber         -0.016571\n",
       "CreditScore       -0.027094\n",
       "NumOfProducts     -0.047820\n",
       "IsActiveMember    -0.156128\n",
       "Name: Exited, dtype: float64"
      ]
     },
     "execution_count": 129,
     "metadata": {},
     "output_type": "execute_result"
    }
   ],
   "source": [
    "df.corr()['Exited'].sort_values(ascending=False)[1:]"
   ]
  },
  {
   "cell_type": "markdown",
   "id": "1c6df918",
   "metadata": {
    "hidden": true
   },
   "source": [
    "Correlação fraca com Age"
   ]
  },
  {
   "cell_type": "code",
   "execution_count": 130,
   "id": "1a9aa4be",
   "metadata": {
    "hidden": true
   },
   "outputs": [
    {
     "data": {
      "text/plain": [
       "0.2037"
      ]
     },
     "execution_count": 130,
     "metadata": {},
     "output_type": "execute_result"
    }
   ],
   "source": [
    "df['Exited'].mean()"
   ]
  },
  {
   "cell_type": "markdown",
   "id": "3c345965",
   "metadata": {
    "hidden": true
   },
   "source": [
    "Desbalanceada"
   ]
  },
  {
   "cell_type": "markdown",
   "id": "9ed9246a",
   "metadata": {
    "heading_collapsed": true
   },
   "source": [
    "### Age"
   ]
  },
  {
   "cell_type": "markdown",
   "id": "4a6fcae5",
   "metadata": {
    "heading_collapsed": true,
    "hidden": true
   },
   "source": [
    "#### Principais Insights:\n",
    "1. Média de idade de clientes em churn é de 45, já os em não churn é de 37"
   ]
  },
  {
   "cell_type": "markdown",
   "id": "7df3c2e1",
   "metadata": {
    "heading_collapsed": true,
    "hidden": true
   },
   "source": [
    "#### General Analysis"
   ]
  },
  {
   "cell_type": "code",
   "execution_count": 122,
   "id": "abc6a43a",
   "metadata": {
    "hidden": true
   },
   "outputs": [
    {
     "data": {
      "text/plain": [
       "Log_Age            0.982680\n",
       "Exited             0.285323\n",
       "IsActiveMember     0.085472\n",
       "Balance            0.028308\n",
       "CustomerId         0.009497\n",
       "RowNumber          0.000783\n",
       "CreditScore       -0.003965\n",
       "EstimatedSalary   -0.007201\n",
       "Tenure            -0.009997\n",
       "HasCrCard         -0.011721\n",
       "NumOfProducts     -0.030680\n",
       "Name: Age, dtype: float64"
      ]
     },
     "execution_count": 122,
     "metadata": {},
     "output_type": "execute_result"
    }
   ],
   "source": [
    "df.corr()['Age'].sort_values(ascending=False)[1:]"
   ]
  },
  {
   "cell_type": "markdown",
   "id": "f4ce1287",
   "metadata": {
    "hidden": true
   },
   "source": [
    "Correlação fraca com Exited"
   ]
  },
  {
   "cell_type": "code",
   "execution_count": 18,
   "id": "dfe1fb8e",
   "metadata": {
    "hidden": true
   },
   "outputs": [
    {
     "data": {
      "text/plain": [
       "<AxesSubplot:xlabel='Age', ylabel='Count'>"
      ]
     },
     "execution_count": 18,
     "metadata": {},
     "output_type": "execute_result"
    },
    {
     "data": {
      "image/png": "[encoded data removed]",
      "text/plain": [
       "<Figure size 432x288 with 1 Axes>"
      ]
     },
     "metadata": {
      "needs_background": "light"
     },
     "output_type": "display_data"
    }
   ],
   "source": [
    "sns.histplot(df['Age'])"
   ]
  },
  {
   "cell_type": "code",
   "execution_count": 32,
   "id": "48071367",
   "metadata": {
    "hidden": true
   },
   "outputs": [
    {
     "name": "stdout",
     "output_type": "stream",
     "text": [
      "Média: 38.92\n",
      "Mínimo: 18\n",
      "Máximo: 92\n",
      "Desvio Padrão: 10.49\n",
      "Curtose: 1.4\n",
      "Skew: 1.01\n"
     ]
    }
   ],
   "source": [
    "estat_desc(df['Age'])"
   ]
  },
  {
   "cell_type": "code",
   "execution_count": 153,
   "id": "1d0e0810",
   "metadata": {
    "hidden": true,
    "scrolled": false
   },
   "outputs": [
    {
     "name": "stdout",
     "output_type": "stream",
     "text": [
      "Com um pvalor: 1.4975256298700023e-40, a Series NÃO tem distribuição normal.\n"
     ]
    }
   ],
   "source": [
    "teste_shapiro(df['Age'], 0.05)"
   ]
  },
  {
   "cell_type": "code",
   "execution_count": 154,
   "id": "9652c698",
   "metadata": {
    "hidden": true,
    "scrolled": false
   },
   "outputs": [
    {
     "name": "stdout",
     "output_type": "stream",
     "text": [
      "O limite inferior é: 14.0\n",
      "O limite superior é: 62.0\n",
      "Há 359 outliers\n"
     ]
    }
   ],
   "source": [
    "indices = busca_outliers(df, 'Age')"
   ]
  },
  {
   "cell_type": "markdown",
   "id": "8a367e05",
   "metadata": {
    "heading_collapsed": true,
    "hidden": true
   },
   "source": [
    "#### Criando feature de Age Transformada por Log"
   ]
  },
  {
   "cell_type": "code",
   "execution_count": 71,
   "id": "8d28b7a0",
   "metadata": {
    "hidden": true
   },
   "outputs": [],
   "source": [
    "df['Log_Age'] = df['Age'].apply(lambda x: np.log(x) if x>0 else 0)"
   ]
  },
  {
   "cell_type": "code",
   "execution_count": 73,
   "id": "2ded2fa0",
   "metadata": {
    "hidden": true
   },
   "outputs": [
    {
     "data": {
      "text/plain": [
       "<AxesSubplot:xlabel='Log_Age', ylabel='Count'>"
      ]
     },
     "execution_count": 73,
     "metadata": {},
     "output_type": "execute_result"
    },
    {
     "data": {
      "image/png": "[encoded data removed]",
      "text/plain": [
       "<Figure size 432x288 with 1 Axes>"
      ]
     },
     "metadata": {
      "needs_background": "light"
     },
     "output_type": "display_data"
    }
   ],
   "source": [
    "sns.histplot(df['Log_Age'])"
   ]
  },
  {
   "cell_type": "code",
   "execution_count": 88,
   "id": "ff46a183",
   "metadata": {
    "hidden": true
   },
   "outputs": [
    {
     "name": "stdout",
     "output_type": "stream",
     "text": [
      "Com um pvalor: 9.895501952572605e-12, a Series NÃO tem distribuição normal.\n"
     ]
    }
   ],
   "source": [
    "stat, pvalor = teste_shapiro(df['Log_Age'], 0.05)"
   ]
  },
  {
   "cell_type": "code",
   "execution_count": 90,
   "id": "ab7b26dd",
   "metadata": {
    "hidden": true,
    "scrolled": true
   },
   "outputs": [
    {
     "name": "stdout",
     "output_type": "stream",
     "text": [
      "Média: 3.63\n",
      "Mínimo: 2.89\n",
      "Máximo: 4.52\n",
      "Desvio Padrão: 0.26\n",
      "Curtose: 0.15\n",
      "Skew: 0.18\n"
     ]
    }
   ],
   "source": [
    "estat_desc(df['Log_Age'])"
   ]
  },
  {
   "cell_type": "code",
   "execution_count": 117,
   "id": "2d9b0ad4",
   "metadata": {
    "hidden": true
   },
   "outputs": [
    {
     "name": "stdout",
     "output_type": "stream",
     "text": [
      "O limite inferior é: 2.988055306121925\n",
      "O limite superior é: 4.261870230596063\n",
      "Há 182 outliers\n"
     ]
    }
   ],
   "source": [
    "li, ls, indices = busca_outliers(df, 'Log_Age')"
   ]
  },
  {
   "cell_type": "markdown",
   "id": "41763d15",
   "metadata": {
    "heading_collapsed": true,
    "hidden": true
   },
   "source": [
    "#### Correlação com a target"
   ]
  },
  {
   "cell_type": "code",
   "execution_count": 191,
   "id": "55233b63",
   "metadata": {
    "hidden": true
   },
   "outputs": [
    {
     "data": {
      "image/png": "[encoded data removed]",
      "text/plain": [
       "<Figure size 432x288 with 2 Axes>"
      ]
     },
     "metadata": {
      "needs_background": "light"
     },
     "output_type": "display_data"
    }
   ],
   "source": [
    "plt.subplot(2, 1, 1)\n",
    "g = sns.histplot(df.loc[df['Exited']==0, 'Age'], color='b', alpha=0.5)\n",
    "g = sns.histplot(df.loc[df['Exited']==1, 'Age'], color='r', alpha=0.5)\n",
    "plt.subplot(2, 1, 2)\n",
    "g = sns.kdeplot(df.loc[df['Exited']==0, 'Age'], color='b', alpha=0.5, shade=True)\n",
    "g = sns.kdeplot(df.loc[df['Exited']==1, 'Age'], color='r', alpha=0.5, shade=True)"
   ]
  },
  {
   "cell_type": "markdown",
   "id": "6a57492c",
   "metadata": {
    "hidden": true
   },
   "source": [
    "Aparentemente a média de idade de clientes que não estão em churn é por volta dos 37 anos, e os clientes em churn por volta de 45 anos."
   ]
  },
  {
   "cell_type": "code",
   "execution_count": 202,
   "id": "bc104166",
   "metadata": {
    "hidden": true
   },
   "outputs": [
    {
     "name": "stdout",
     "output_type": "stream",
     "text": [
      "Média de idade de clientes em NÃO churn: 37\n",
      "Média de idade de clientes em churn: 45\n"
     ]
    }
   ],
   "source": [
    "print(f'Média de idade de clientes em NÃO churn: {round(df.loc[df[\"Exited\"]==0, \"Age\"].mean())}')\n",
    "print(f'Média de idade de clientes em churn: {round(df.loc[df[\"Exited\"]==1, \"Age\"].mean())}')"
   ]
  },
  {
   "cell_type": "markdown",
   "id": "9756ad8a",
   "metadata": {
    "heading_collapsed": true
   },
   "source": [
    "### Balance"
   ]
  },
  {
   "cell_type": "markdown",
   "id": "310a5fbe",
   "metadata": {
    "heading_collapsed": true,
    "hidden": true
   },
   "source": [
    "#### Principais Insights:\n",
    "1. Clientes com saldo zerado na conta tem probabilidade relativamente menor de churn"
   ]
  },
  {
   "cell_type": "markdown",
   "id": "ce6b90e6",
   "metadata": {
    "heading_collapsed": true,
    "hidden": true
   },
   "source": [
    "#### General Analysis"
   ]
  },
  {
   "cell_type": "code",
   "execution_count": 133,
   "id": "5e8d2c05",
   "metadata": {
    "hidden": true
   },
   "outputs": [
    {
     "data": {
      "text/plain": [
       "Exited             0.118533\n",
       "Log_Age            0.030598\n",
       "Age                0.028308\n",
       "EstimatedSalary    0.012797\n",
       "CreditScore        0.006268\n",
       "RowNumber         -0.009067\n",
       "IsActiveMember    -0.010084\n",
       "Tenure            -0.012254\n",
       "CustomerId        -0.012419\n",
       "HasCrCard         -0.014858\n",
       "NumOfProducts     -0.304180\n",
       "Name: Balance, dtype: float64"
      ]
     },
     "execution_count": 133,
     "metadata": {},
     "output_type": "execute_result"
    }
   ],
   "source": [
    "df.corr()['Balance'].sort_values(ascending=False)[1:]"
   ]
  },
  {
   "cell_type": "markdown",
   "id": "3ae4b350",
   "metadata": {
    "hidden": true
   },
   "source": [
    "Correlação fraca com NumOfProducts"
   ]
  },
  {
   "cell_type": "code",
   "execution_count": 135,
   "id": "06e42434",
   "metadata": {
    "hidden": true
   },
   "outputs": [
    {
     "name": "stdout",
     "output_type": "stream",
     "text": [
      "Média: 76485.89\n",
      "Mínimo: 0.0\n",
      "Máximo: 250898.09\n",
      "Desvio Padrão: 62397.41\n",
      "Curtose: -1.49\n",
      "Skew: -0.14\n"
     ]
    }
   ],
   "source": [
    "estat_desc(df['Balance'])"
   ]
  },
  {
   "cell_type": "code",
   "execution_count": 136,
   "id": "99152021",
   "metadata": {
    "hidden": true
   },
   "outputs": [
    {
     "data": {
      "text/plain": [
       "<AxesSubplot:xlabel='Balance', ylabel='Count'>"
      ]
     },
     "execution_count": 136,
     "metadata": {},
     "output_type": "execute_result"
    },
    {
     "data": {
      "image/png": "[encoded data removed]",
      "text/plain": [
       "<Figure size 432x288 with 1 Axes>"
      ]
     },
     "metadata": {
      "needs_background": "light"
     },
     "output_type": "display_data"
    }
   ],
   "source": [
    "sns.histplot(df['Balance'])"
   ]
  },
  {
   "cell_type": "code",
   "execution_count": 141,
   "id": "25844341",
   "metadata": {
    "hidden": true
   },
   "outputs": [
    {
     "data": {
      "text/plain": [
       "0.00         0.3617\n",
       "105473.74    0.0002\n",
       "130170.82    0.0002\n",
       "72594.00     0.0001\n",
       "139723.90    0.0001\n",
       "Name: Balance, dtype: float64"
      ]
     },
     "execution_count": 141,
     "metadata": {},
     "output_type": "execute_result"
    }
   ],
   "source": [
    "df['Balance'].value_counts(normalize=True).head(5)"
   ]
  },
  {
   "cell_type": "markdown",
   "id": "8f9d321d",
   "metadata": {
    "hidden": true
   },
   "source": [
    "36% das contas bancárias estão zeradas"
   ]
  },
  {
   "cell_type": "code",
   "execution_count": 152,
   "id": "33065d55",
   "metadata": {
    "hidden": true
   },
   "outputs": [
    {
     "name": "stdout",
     "output_type": "stream",
     "text": [
      "Com um pvalor: 0.0, a Series NÃO tem distribuição normal.\n"
     ]
    }
   ],
   "source": [
    "teste_shapiro(df['Balance'])"
   ]
  },
  {
   "cell_type": "code",
   "execution_count": 155,
   "id": "5125d1fa",
   "metadata": {
    "hidden": true
   },
   "outputs": [
    {
     "name": "stdout",
     "output_type": "stream",
     "text": [
      "O limite inferior é: -191466.36000000002\n",
      "O limite superior é: 319110.60000000003\n",
      "Há 0 outliers\n"
     ]
    }
   ],
   "source": [
    "indices = busca_outliers(df, 'Balance')"
   ]
  },
  {
   "cell_type": "markdown",
   "id": "6aafcda5",
   "metadata": {
    "heading_collapsed": true,
    "hidden": true
   },
   "source": [
    "#### Correlação com a target"
   ]
  },
  {
   "cell_type": "code",
   "execution_count": 210,
   "id": "b5ebf367",
   "metadata": {
    "hidden": true
   },
   "outputs": [
    {
     "data": {
      "text/plain": [
       "<AxesSubplot:xlabel='Balance', ylabel='Density'>"
      ]
     },
     "execution_count": 210,
     "metadata": {},
     "output_type": "execute_result"
    },
    {
     "data": {
      "image/png": "[encoded data removed]",
      "text/plain": [
       "<Figure size 432x288 with 2 Axes>"
      ]
     },
     "metadata": {
      "needs_background": "light"
     },
     "output_type": "display_data"
    }
   ],
   "source": [
    "plt.subplot(2, 1, 1)\n",
    "sns.histplot(df.loc[df['Exited']==0, 'Balance'], color='b', alpha=0.5)\n",
    "sns.histplot(df.loc[df['Exited']==1, 'Balance'], color='r', alpha=0.5)\n",
    "plt.subplot(2, 1, 2)\n",
    "sns.kdeplot(df.loc[df['Exited']==0, 'Balance'], color='b', alpha=0.5, shade=True)\n",
    "sns.kdeplot(df.loc[df['Exited']==1, 'Balance'], color='r', alpha=0.5, shade=True)"
   ]
  },
  {
   "cell_type": "markdown",
   "id": "7ae27071",
   "metadata": {
    "hidden": true
   },
   "source": [
    "Aparentemente os clientes que têm algum dinheiro na sua conta bancária tem uma probabilidade relativamente maior de churn"
   ]
  },
  {
   "cell_type": "markdown",
   "id": "8bc4e6bd",
   "metadata": {
    "heading_collapsed": true
   },
   "source": [
    "### Geography"
   ]
  },
  {
   "cell_type": "markdown",
   "id": "029a8844",
   "metadata": {
    "heading_collapsed": true,
    "hidden": true
   },
   "source": [
    "#### Principais Insights:\n",
    "1. Clientes da Germany têm maior probabilidade de Churn"
   ]
  },
  {
   "cell_type": "markdown",
   "id": "4de45aae",
   "metadata": {
    "heading_collapsed": true,
    "hidden": true
   },
   "source": [
    "#### General Analysis"
   ]
  },
  {
   "cell_type": "code",
   "execution_count": 169,
   "id": "84010da9",
   "metadata": {
    "hidden": true,
    "scrolled": true
   },
   "outputs": [
    {
     "data": {
      "text/plain": [
       "Balance            0.069408\n",
       "Exited             0.035943\n",
       "Log_Age            0.024125\n",
       "Age                0.022812\n",
       "CreditScore        0.007888\n",
       "IsActiveMember     0.006724\n",
       "CustomerId         0.006516\n",
       "Gender_enc         0.004719\n",
       "NumOfProducts      0.003972\n",
       "Tenure             0.003739\n",
       "EstimatedSalary   -0.001369\n",
       "HasCrCard         -0.008523\n",
       "RowNumber         -0.010358\n",
       "Name: Geography_enc, dtype: float64"
      ]
     },
     "execution_count": 169,
     "metadata": {},
     "output_type": "execute_result"
    }
   ],
   "source": [
    "df.corr()['Geography_enc'].sort_values(ascending=False)[1:]"
   ]
  },
  {
   "cell_type": "markdown",
   "id": "6dcc22a9",
   "metadata": {
    "hidden": true
   },
   "source": [
    "Correlações muito fracas"
   ]
  },
  {
   "cell_type": "code",
   "execution_count": 174,
   "id": "0f0d62df",
   "metadata": {
    "hidden": true
   },
   "outputs": [
    {
     "data": {
      "text/plain": [
       "<AxesSubplot:xlabel='Geography_enc', ylabel='count'>"
      ]
     },
     "execution_count": 174,
     "metadata": {},
     "output_type": "execute_result"
    },
    {
     "data": {
      "image/png": "[encoded data removed]",
      "text/plain": [
       "<Figure size 432x288 with 1 Axes>"
      ]
     },
     "metadata": {
      "needs_background": "light"
     },
     "output_type": "display_data"
    }
   ],
   "source": [
    "sns.countplot(x='Geography_enc', data=df)"
   ]
  },
  {
   "cell_type": "markdown",
   "id": "23ac6904",
   "metadata": {
    "heading_collapsed": true,
    "hidden": true
   },
   "source": [
    "#### Correlação com a target"
   ]
  },
  {
   "cell_type": "code",
   "execution_count": 213,
   "id": "bf6999e4",
   "metadata": {
    "hidden": true
   },
   "outputs": [
    {
     "data": {
      "text/plain": [
       "<seaborn.axisgrid.FacetGrid at 0x1c653f7ac70>"
      ]
     },
     "execution_count": 213,
     "metadata": {},
     "output_type": "execute_result"
    },
    {
     "data": {
      "image/png": "[encoded data removed]",
      "text/plain": [
       "<Figure size 360x360 with 1 Axes>"
      ]
     },
     "metadata": {
      "needs_background": "light"
     },
     "output_type": "display_data"
    }
   ],
   "source": [
    "sns.catplot(x='Geography', y='Exited', data=df, kind='bar')"
   ]
  },
  {
   "cell_type": "markdown",
   "id": "0b3e6092",
   "metadata": {
    "hidden": true
   },
   "source": [
    "Clientes da Germany têm maior probabilidade de Churn"
   ]
  },
  {
   "cell_type": "markdown",
   "id": "d24b065a",
   "metadata": {
    "heading_collapsed": true
   },
   "source": [
    "# 3.0 Feature Engineering"
   ]
  },
  {
   "cell_type": "markdown",
   "id": "6ee00e85",
   "metadata": {
    "heading_collapsed": true
   },
   "source": [
    "# 4.0 Hypothesis"
   ]
  },
  {
   "cell_type": "code",
   "execution_count": 22,
   "id": "86c70fa4",
   "metadata": {
    "hidden": true
   },
   "outputs": [
    {
     "data": {
      "text/plain": [
       "18"
      ]
     },
     "execution_count": 22,
     "metadata": {},
     "output_type": "execute_result"
    }
   ],
   "source": [
    "df['Age'].min()"
   ]
  },
  {
   "cell_type": "code",
   "execution_count": 23,
   "id": "a4ec8ac2",
   "metadata": {
    "hidden": true
   },
   "outputs": [
    {
     "data": {
      "text/plain": [
       "92"
      ]
     },
     "execution_count": 23,
     "metadata": {},
     "output_type": "execute_result"
    }
   ],
   "source": [
    "df['Age'].max()"
   ]
  },
  {
   "cell_type": "code",
   "execution_count": 25,
   "id": "1c71cd57",
   "metadata": {
    "hidden": true
   },
   "outputs": [
    {
     "data": {
      "text/plain": [
       "10.487806451704591"
      ]
     },
     "execution_count": 25,
     "metadata": {},
     "output_type": "execute_result"
    }
   ],
   "source": [
    "df['Age'].std()"
   ]
  },
  {
   "cell_type": "code",
   "execution_count": 26,
   "id": "c98ff498",
   "metadata": {
    "hidden": true
   },
   "outputs": [
    {
     "data": {
      "text/plain": [
       "1.3953470615086956"
      ]
     },
     "execution_count": 26,
     "metadata": {},
     "output_type": "execute_result"
    }
   ],
   "source": [
    "df['Age'].kurtosis()"
   ]
  },
  {
   "cell_type": "code",
   "execution_count": 27,
   "id": "99f6b432",
   "metadata": {
    "hidden": true
   },
   "outputs": [
    {
     "data": {
      "text/plain": [
       "1.0113202630234552"
      ]
     },
     "execution_count": 27,
     "metadata": {},
     "output_type": "execute_result"
    }
   ],
   "source": [
    "df['Age'].skew()"
   ]
  },
  {
   "cell_type": "markdown",
   "id": "fcc4dc2d",
   "metadata": {
    "heading_collapsed": true
   },
   "source": [
    "# 5.0 Exploratory Data Analysis"
   ]
  },
  {
   "cell_type": "markdown",
   "id": "613f15cb",
   "metadata": {
    "heading_collapsed": true
   },
   "source": [
    "# 6.0 Machine Learning Model"
   ]
  },
  {
   "cell_type": "code",
   "execution_count": 11,
   "id": "84d97b49",
   "metadata": {
    "hidden": true
   },
   "outputs": [],
   "source": [
    "# Encodings\n",
    "temp = pd.get_dummies(df['Geography_enc'], prefix='Geography', drop_first=True)\n",
    "df = pd.concat([df, temp], axis=1)\n",
    "\n",
    "# Removing features\n",
    "features_remover = 'CustomerId Surname Geography Gender Geography_enc RowNumber'.split()\n",
    "df.drop(features_remover, axis=1, inplace=True)\n",
    "\n",
    "# Split features and target\n",
    "X = df.drop('Exited', axis=1)\n",
    "y = df['Exited']\n",
    "\n",
    "# Standard and scaler\n",
    "scaler = StandardScaler()\n",
    "X_scaler = scaler.fit_transform(X)\n",
    "X_scaler = pd.DataFrame(X_scaler, columns = X.columns)\n",
    "\n",
    "# Hiding test\n",
    "X_train, X_test, y_train, y_test = train_test_split(X_scaler, y, test_size=0.2, random_state=101)\n",
    "\n",
    "# Train and validation\n",
    "X_train_, X_valid, y_train_, y_valid = train_test_split(X_train, y_train, test_size=0.3, random_state=101)"
   ]
  },
  {
   "cell_type": "code",
   "execution_count": 12,
   "id": "50d219bc",
   "metadata": {
    "hidden": true
   },
   "outputs": [],
   "source": [
    "# Solving unbalance\n",
    "smote = SMOTE()\n",
    "X_smote, y_smote = smote.fit_resample(X_train_, y_train_)\n",
    "X_smote = pd.DataFrame(X_smote, columns=X.columns)\n",
    "\n",
    "# near = NearMiss()\n",
    "# X_near, y_near = near.fit_resample(X_train_, y_train_)\n",
    "# X_near = pd.DataFrame(X_near, columns=X.columns)"
   ]
  },
  {
   "cell_type": "code",
   "execution_count": 13,
   "id": "fb11d6e3",
   "metadata": {
    "hidden": true
   },
   "outputs": [],
   "source": [
    "# Modeling\n",
    "model = XGBRFClassifier(use_label_encoder=False)\n",
    "model.fit(X_smote, y_smote, eval_metric='error')\n",
    "predict = model.predict(X_valid)"
   ]
  },
  {
   "cell_type": "markdown",
   "id": "a2e47212",
   "metadata": {
    "heading_collapsed": true
   },
   "source": [
    "# 7.0 Performance"
   ]
  },
  {
   "cell_type": "code",
   "execution_count": 14,
   "id": "70d60acf",
   "metadata": {
    "hidden": true
   },
   "outputs": [
    {
     "name": "stdout",
     "output_type": "stream",
     "text": [
      "              precision    recall  f1-score   support\n",
      "\n",
      "           0       0.91      0.84      0.87      1923\n",
      "           1       0.51      0.68      0.58       477\n",
      "\n",
      "    accuracy                           0.81      2400\n",
      "   macro avg       0.71      0.76      0.73      2400\n",
      "weighted avg       0.83      0.81      0.82      2400\n",
      "\n",
      "0.7598158014370889\n"
     ]
    }
   ],
   "source": [
    "print(classification_report(y_valid, predict))\n",
    "print(roc_auc_score(y_valid, predict))"
   ]
  },
  {
   "cell_type": "markdown",
   "id": "85f575b7",
   "metadata": {
    "hidden": true
   },
   "source": [
    "**Baseline:** \\\n",
    "Adicionado encodings \\\n",
    "**métricas:** Acc = 0.86, roc_auc = 0.71, f1 score = 92/57\n",
    "\n",
    "**Adicionado balanceamento:**  \\\n",
    "Adicionado smote para resolver desbalanceamento \\\n",
    "**métricas:** Acc = 0.80, roc_auc = 0.76, f1 score = 87/59 \\\n",
    "Substituindo smote por near para resolver desbalanceamento \\\n",
    "**métricas:** Acc = 0.59, roc_auc = 0.62, f1 score = 69/40"
   ]
  },
  {
   "cell_type": "markdown",
   "id": "c694234c",
   "metadata": {},
   "source": [
    "# Time"
   ]
  },
  {
   "cell_type": "code",
   "execution_count": 15,
   "id": "7f87b027",
   "metadata": {},
   "outputs": [
    {
     "name": "stdout",
     "output_type": "stream",
     "text": [
      "O tempo de processamento do projeto foi de: 0 minutos\n"
     ]
    }
   ],
   "source": [
    "print(f'O tempo de processamento do projeto foi de: {int(round(time.time()-tempo_agora, 2)/60)} minutos')"
   ]
  },
  {
   "cell_type": "markdown",
   "id": "e1410e0c",
   "metadata": {},
   "source": [
    "# Continua..."
   ]
  }
 ],
 "metadata": {
  "kernelspec": {
   "display_name": "Python 3",
   "language": "python",
   "name": "python3"
  },
  "language_info": {
   "codemirror_mode": {
    "name": "ipython",
    "version": 3
   },
   "file_extension": ".py",
   "mimetype": "text/x-python",
   "name": "python",
   "nbconvert_exporter": "python",
   "pygments_lexer": "ipython3",
   "version": "3.8.8"
  }
 },
 "nbformat": 4,
 "nbformat_minor": 5
}
