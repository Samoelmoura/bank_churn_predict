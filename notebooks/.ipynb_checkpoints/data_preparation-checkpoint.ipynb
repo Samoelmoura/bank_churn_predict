{
 "cells": [
  {
   "cell_type": "markdown",
   "id": "b4572851",
   "metadata": {
    "heading_collapsed": true
   },
   "source": [
    "# 0.0 Scope\n",
    "\n",
    "**Inputs:** Data whith feature engineering\n",
    "\n",
    "**Outputs:** Prepared data to ml\n",
    "\n",
    "###### Reports\n",
    "1. ..."
   ]
  },
  {
   "cell_type": "markdown",
   "id": "c729438b",
   "metadata": {
    "heading_collapsed": true
   },
   "source": [
    "# 1.0 Imports"
   ]
  },
  {
   "cell_type": "markdown",
   "id": "46adce05",
   "metadata": {
    "heading_collapsed": true,
    "hidden": true
   },
   "source": [
    "###### 1.1 Importing libraries"
   ]
  },
  {
   "cell_type": "code",
   "execution_count": 1,
   "id": "11fa254d",
   "metadata": {
    "hidden": true
   },
   "outputs": [],
   "source": [
    "import numpy as np\n",
    "import pandas as pd\n",
    "import matplotlib.pyplot as plt\n",
    "import seaborn as sns\n",
    "\n",
    "from sklearn.preprocessing import LabelEncoder, StandardScaler\n",
    "from sklearn.model_selection import train_test_split\n",
    "from sklearn.metrics import classification_report, roc_auc_score, roc_curve\n",
    "from sklearn.ensemble import RandomForestClassifier\n",
    "\n",
    "from scipy.stats import shapiro, ttest_ind\n",
    "\n",
    "from imblearn.over_sampling import SMOTE\n",
    "from imblearn.under_sampling import NearMiss\n",
    "\n",
    "from xgboost import XGBRFClassifier\n",
    "\n",
    "import time\n",
    "\n",
    "tempo_agora = time.time() # Contabilizando o tempo de processamento do projeto"
   ]
  },
  {
   "cell_type": "markdown",
   "id": "83200982",
   "metadata": {
    "heading_collapsed": true
   },
   "source": [
    "# 6.0 Data Preparation"
   ]
  },
  {
   "cell_type": "code",
   "execution_count": 75,
   "id": "36ac0e42",
   "metadata": {
    "hidden": true
   },
   "outputs": [],
   "source": [
    "backup = df.copy()"
   ]
  },
  {
   "cell_type": "code",
   "execution_count": 76,
   "id": "0cf2950b",
   "metadata": {
    "hidden": true
   },
   "outputs": [],
   "source": [
    "df = backup.copy()"
   ]
  },
  {
   "cell_type": "code",
   "execution_count": 77,
   "id": "84d97b49",
   "metadata": {
    "hidden": true
   },
   "outputs": [],
   "source": [
    "# Encodings\n",
    "temp = pd.get_dummies(df['Geography_enc'], prefix='Geography', drop_first=True)\n",
    "df = pd.concat([df, temp], axis=1)\n",
    "\n",
    "# Removing features\n",
    "features_remover = 'CustomerId Surname Geography Gender Geography_enc RowNumber Age Tenure'.split()\n",
    "df.drop(features_remover, axis=1, inplace=True)\n",
    "\n",
    "# Split features and target\n",
    "X = df.drop('Exited', axis=1)\n",
    "y = df['Exited']\n",
    "\n",
    "# Standard and scaler\n",
    "scaler = StandardScaler()\n",
    "X_scaler = scaler.fit_transform(X)\n",
    "X_scaler = pd.DataFrame(X_scaler, columns = X.columns)\n",
    "\n",
    "# Hiding test\n",
    "X_train, X_test, y_train, y_test = train_test_split(X_scaler, y, test_size=0.2, random_state=101)\n",
    "\n",
    "# Train and validation\n",
    "X_train_, X_valid, y_train_, y_valid = train_test_split(X_train, y_train, test_size=0.3, random_state=101)"
   ]
  },
  {
   "cell_type": "code",
   "execution_count": 78,
   "id": "67a65973",
   "metadata": {
    "hidden": true
   },
   "outputs": [],
   "source": [
    "smote = SMOTE()\n",
    "X_smote, y_smote = smote.fit_resample(X_train_, y_train_)\n",
    "X_smote = pd.DataFrame(X_smote, columns=X.columns)\n",
    "\n",
    "# near = NearMiss()\n",
    "# X_near, y_near = near.fit_resample(X_train_, y_train_)\n",
    "# X_near = pd.DataFrame(X_near, columns=X.columns)"
   ]
  },
  {
   "cell_type": "markdown",
   "id": "6ae0b706",
   "metadata": {
    "heading_collapsed": true
   },
   "source": [
    "# 7.0 Exporting Data"
   ]
  },
  {
   "cell_type": "markdown",
   "id": "c694234c",
   "metadata": {},
   "source": [
    "# Time"
   ]
  },
  {
   "cell_type": "code",
   "execution_count": 75,
   "id": "7f87b027",
   "metadata": {},
   "outputs": [
    {
     "name": "stdout",
     "output_type": "stream",
     "text": [
      "O tempo de processamento do projeto foi de: 0 minutos\n"
     ]
    }
   ],
   "source": [
    "print(f'O tempo de processamento do projeto foi de: {int(round(time.time()-tempo_agora, 2)/60)} minutos')"
   ]
  }
 ],
 "metadata": {
  "kernelspec": {
   "display_name": "Python 3 (ipykernel)",
   "language": "python",
   "name": "python3"
  },
  "language_info": {
   "codemirror_mode": {
    "name": "ipython",
    "version": 3
   },
   "file_extension": ".py",
   "mimetype": "text/x-python",
   "name": "python",
   "nbconvert_exporter": "python",
   "pygments_lexer": "ipython3",
   "version": "3.8.8"
  }
 },
 "nbformat": 4,
 "nbformat_minor": 5
}
