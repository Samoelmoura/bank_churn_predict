{
 "cells": [
  {
   "cell_type": "markdown",
   "id": "a14cc61b",
   "metadata": {
    "heading_collapsed": true
   },
   "source": [
    "# Reports\n",
    "1. Inputs: analytics, metrics and business problem\n",
    "2. Outputs: results and conclusions about business problems"
   ]
  },
  {
   "cell_type": "markdown",
   "id": "b4572851",
   "metadata": {
    "heading_collapsed": true
   },
   "source": [
    "# 0.0 Business Problem"
   ]
  },
  {
   "cell_type": "markdown",
   "id": "b4da65b9",
   "metadata": {
    "heading_collapsed": true,
    "hidden": true
   },
   "source": [
    "## *****Estágio atual do projeto:*****\n",
    "Ciclo 4: Criar as hipóteses de negócio\n",
    "\n",
    "## 0.1 Contexto:\n",
    "A TopBank é uma grande empresa de serviços bancários. Ela atua principalmente nos países da Europa oferecendo produtos financeiros, desde contas bancárias até investimentos, passando por alguns tipos de seguros e produto de investimento.\n",
    "\n",
    "O modelo de negócio da empresa é do tipo serviço, ou seja, ela comercializa serviços bancários para seus clientes através de agências físicas e um portal online. \n",
    "\n",
    "O principal produto da empresa é uma conta bancária, na qual o cliente pode depositar seu salário, fazer saques, depósitos e transferência para outras contas. Essa conta bancária não tem custo para o cliente e tem uma vigência de 12 meses, ou seja, o cliente precisa renovar o contrato dessa conta para continuar utilizando pelos próximos 12 meses.\n",
    "\n",
    "Segundo o time de Analytics da TopBank, cada cliente que possui essa conta bancária retorna um valor monetário de 15% do valor do seu salário estimado, se esse for menor que a média e 20% se esse salário for maior que a média, durante o período vigente de sua conta. Esse valor é calculado anualmente. \n",
    "\n",
    "Por exemplo, se o salário mensal de um cliente é de 1.000 reais e a média de todos os salários do banco é de 800 reais. A empresa, portanto, fatura 200 reais anualmente com esse cliente. Se esse cliente está no banco há 10 anos, a empresa já faturou 2.000 reais com suas transações e utilização da conta. \n",
    "\n",
    "Nos últimos meses, o time de Analytics percebeu que a taxa de clientes cancelando suas contas e deixando o banco, atingiu números inéditos na empresa. Preocupados com o aumento dessa taxa, o time planejou um plano de ação para diminuir taxa de evasão de clientes.\n",
    "\n",
    "Preocupados com a queda dessa métrica, o time de Analytics da TopBottom, contratou você como consultor de Data Science para criar um plano de ação, com o objetivo de reduzir a evasão de clientes, ou seja, impedir que o cliente cancele seu contrato e não o renove por mais 12 meses. Essa evasão, nas métricas de negócio, é conhecida como Churn.\n",
    "\n",
    "De maneira geral, Churn é uma métrica que indica o número de clientes que cancelaram o contrato ou pararam de comprar seu produto em um determinado período de tempo. Por exemplo, clientes que cancelaram o contrato de serviço ou após o vencimento do mesmo, não renovaram, são clientes considerados em churn.\n",
    "\n",
    "Outro exemplo seria os clientes que não fazem uma compra à mais de 60 dias. Esse clientes podem ser considerados clientes em churn até que uma compra seja realizada. O período de 60 dias é totalmente arbitrário e varia entre empresas. \n",
    "\n",
    "Projeto retirado do Blog Seja Um Data Scientist\n",
    "https://sejaumdatascientist.com/predicao-de-churn/\n",
    "\n",
    "Projeto original disponível na plataforma Kaggle\n",
    "https://www.kaggle.com/mervetorkan/churndataset\n",
    "\n",
    "## 0.2 Estratégia da Solução:\n",
    "\n",
    "#### 0.2.1 Objetivos:\n",
    "1. Qual a taxa atual de Churn da Top-Bank, qual é o seu custo financeiro para a empresa por perda de faturamento?\n",
    "2. Qual a performance do modelo em classificar os clientes como churn?\n",
    "3. Qual o retorno esperado, em termos de faturamento, se a empresa utilizar seu modelo para evitar o churn dos clientes?\n",
    "\n",
    "#### 0.2.2 Proposta de Solução:\n",
    "1. Definir a baseline de churn atual e qual é seu custo para a empresa.\n",
    "2. Escolher métrica de performance, modelar o problema e treinar.\n",
    "3. Definido a baseline (problema 1), scorar os clientes, suas probabilidades de churn, definir programa de giftcards, mensurar probabilidade de conversão de clientes em churn, e custo do programa. Retorno financeiro = Churn atual - (menos) Churn predito após programa de giftcards - (menos) custo do programa.\n",
    "\n",
    "#### 0.2.3 Inputs:\n",
    "1. Problema de negócio\n",
    "2. Conjunto de dados com características de 10.000 clientes e seus status de churn\n",
    "\n",
    "#### 0.2.4 Outputs:\n",
    "1. Taxa atuai de CHURN, uma porcentagem em Jupyter Notebook (Porcentagem)\n",
    "3. Métricas do modelo (Métrica F1-Score)\n",
    "3. Receita gerada pela redução de churn (Valor em moeda)\n",
    "4. Tabela de banco de dados SQL com todas as classificações\n",
    "5. API com request/predict do tipo: | v1 | v2 | v3 | - 1/0\n",
    "\n",
    "#### 0.2.5 Ciclos:\n",
    "1. Criar um pipeline de dados funcional, de ponta a ponta (desde a coleta de dados até o \n",
    "    treinamento do modelo)\n",
    "2. Entender os dados e limpa-los (buscar inconsistências) Análises de estatística\n",
    "    descritiva de primeira ordem\n",
    "3. Feature Engineering (criar variáveis que modelam o fenômeno)\n",
    "4. Criar as hipóteses de negócio\n",
    "5. Análise exploratória de dados para validar ou refutar hióteses\n",
    "6. Definir métricas e treinar o modelo\n",
    "7. Analisar métricas\n",
    "8. Resultados e conclusão\n",
    "\n",
    "## 0.3 Significado das features:\n",
    "\n",
    "1. RowNumber: O número da linha\n",
    "2. CustomerID: Identificador único do cliente\n",
    "3. Surname: Sobrenome do cliente.\n",
    "4. CreditScore: A pontuação de Crédito do cliente para o mercado de consumo.\n",
    "5. Geography: O país onde o cliente reside.\n",
    "6. Gender: O gênero do cliente.\n",
    "7. Age: A idade do cliente.\n",
    "8. Tenure: Número de anos que o cliente permaneceu ativo.\n",
    "9. Balance: Valor monetário que o cliente tem em sua conta bancária.\n",
    "10. NumOfProducts: O número de produtos comprado pelo cliente no banco.\n",
    "11. HasCrCard: Indica se o cliente possui ou não cartão de crédito.\n",
    "12. IsActiveMember: Indica se o cliente fez pelo menos uma movimentação na conta bancário dentro de 12 meses.\n",
    "13. EstimateSalary: Estimativa do salário mensal do cliente.\n",
    "14. Exited: Indica se o cliente está ou não em Churn.\n",
    "\n",
    "## 0.4 Sumário:"
   ]
  },
  {
   "cell_type": "markdown",
   "id": "b98193ac",
   "metadata": {
    "heading_collapsed": true
   },
   "source": [
    "# 1.0 Imports"
   ]
  },
  {
   "cell_type": "markdown",
   "id": "c6b66975",
   "metadata": {
    "heading_collapsed": true,
    "hidden": true
   },
   "source": [
    "###### 1.1 Libraries"
   ]
  },
  {
   "cell_type": "code",
   "execution_count": 1,
   "id": "ae435a18",
   "metadata": {
    "hidden": true
   },
   "outputs": [],
   "source": [
    "import pandas as pd"
   ]
  },
  {
   "cell_type": "markdown",
   "id": "b72dda90",
   "metadata": {
    "heading_collapsed": true,
    "hidden": true
   },
   "source": [
    "###### 1.2 Colecting data"
   ]
  },
  {
   "cell_type": "code",
   "execution_count": 8,
   "id": "9341d1f4",
   "metadata": {
    "hidden": true
   },
   "outputs": [],
   "source": [
    "df = pd.read_csv('D:\\\\My Drive\\\\Pessoal\\\\Projetos\\\\bank_churn_predict\\\\bank_churn_predict\\\\churn.csv')"
   ]
  },
  {
   "cell_type": "markdown",
   "id": "c9b2572b",
   "metadata": {
    "heading_collapsed": true
   },
   "source": [
    "# 2.0 Baseline"
   ]
  },
  {
   "cell_type": "markdown",
   "id": "4b09ea24",
   "metadata": {
    "heading_collapsed": true,
    "hidden": true
   },
   "source": [
    "###### 2.1 Média de churn atual"
   ]
  },
  {
   "cell_type": "code",
   "execution_count": 37,
   "id": "bba7ed5e",
   "metadata": {
    "hidden": true
   },
   "outputs": [
    {
     "name": "stdout",
     "output_type": "stream",
     "text": [
      "A taxa atual de churn é igual a: 20.37%\n"
     ]
    }
   ],
   "source": [
    "print(f'A taxa atual de churn é igual a: {round(train[\"Exited\"].mean()*100,2)}%')"
   ]
  },
  {
   "cell_type": "markdown",
   "id": "bd9e4492",
   "metadata": {},
   "source": [
    "# 3.0 Métrica do Algorítmo Atual"
   ]
  },
  {
   "cell_type": "code",
   "execution_count": null,
   "id": "e8b18644",
   "metadata": {},
   "outputs": [],
   "source": []
  },
  {
   "cell_type": "markdown",
   "id": "31617e9a",
   "metadata": {
    "heading_collapsed": true
   },
   "source": [
    "# 4.0 Qual a taxa atual de Churn da Top-Bank, qual é o seu custo financeiro para a empresa por perda de faturamento?\n",
    "1. A taxa atual de churn é igual a: 20.37%\n",
    "2. O custo total para a empresa é igual a: $ 38,846,324.63"
   ]
  },
  {
   "cell_type": "markdown",
   "id": "ab97942c",
   "metadata": {
    "heading_collapsed": true,
    "hidden": true
   },
   "source": [
    "### 4.1 Premissas:"
   ]
  },
  {
   "cell_type": "markdown",
   "id": "ad31c6d1",
   "metadata": {
    "hidden": true
   },
   "source": [
    "1. \"Segundo o time de Analytics da TopBank, cada cliente que possui essa conta bancária retorna um valor monetário de 15% do valor do seu salário estimado, se esse for menor que a média e 20% se esse salário for maior que a média, durante o período vigente de sua conta. Esse valor é calculado anualmente.\""
   ]
  },
  {
   "cell_type": "markdown",
   "id": "ef9c77cf",
   "metadata": {
    "heading_collapsed": true,
    "hidden": true
   },
   "source": [
    "### 4.2 Calculos:"
   ]
  },
  {
   "cell_type": "markdown",
   "id": "c2af8e30",
   "metadata": {
    "heading_collapsed": true,
    "hidden": true
   },
   "source": [
    "###### 4.2.1 Média salarial"
   ]
  },
  {
   "cell_type": "code",
   "execution_count": 13,
   "id": "dcc4950e",
   "metadata": {
    "hidden": true
   },
   "outputs": [
    {
     "name": "stdout",
     "output_type": "stream",
     "text": [
      "Média salarial igual a: $100090.24\n"
     ]
    }
   ],
   "source": [
    "print(f'Média salarial igual a: ${round(df[\"EstimatedSalary\"].mean(), 2)}')"
   ]
  },
  {
   "cell_type": "markdown",
   "id": "84b802b5",
   "metadata": {
    "heading_collapsed": true,
    "hidden": true
   },
   "source": [
    "###### 4.2.1 15% da somatória dos salários estimados dentre os clientes em churn com salário estimado ABAIXO da média"
   ]
  },
  {
   "cell_type": "code",
   "execution_count": 27,
   "id": "51fedbb2",
   "metadata": {
    "hidden": true
   },
   "outputs": [
    {
     "name": "stdout",
     "output_type": "stream",
     "text": [
      "Soma total igual a: $7472377.18\n"
     ]
    }
   ],
   "source": [
    "clientes_abaixo_da_media = df.loc[(df[\"Exited\"]==1)&(df[\"EstimatedSalary\"]<100090.24), \"EstimatedSalary\"].sum()*.15\n",
    "print(f'Soma total igual a: ${round(clientes_abaixo_da_media, 2)}')"
   ]
  },
  {
   "cell_type": "markdown",
   "id": "3d308916",
   "metadata": {
    "heading_collapsed": true,
    "hidden": true
   },
   "source": [
    "###### 4.2.2 20% da somatória dos salários estimados dentre os clientes em churn com salário estimado ACIMA da média"
   ]
  },
  {
   "cell_type": "code",
   "execution_count": 30,
   "id": "bba0eef8",
   "metadata": {
    "hidden": true
   },
   "outputs": [
    {
     "name": "stdout",
     "output_type": "stream",
     "text": [
      "Soma total igual a: $31373947.46\n"
     ]
    }
   ],
   "source": [
    "clientes_acima_da_media = df.loc[(df[\"Exited\"]==1)&(df[\"EstimatedSalary\"]>=100090.24), \"EstimatedSalary\"].sum()*.20\n",
    "print(f'Soma total igual a: ${round(clientes_acima_da_media, 2)}')"
   ]
  },
  {
   "cell_type": "markdown",
   "id": "0a620950",
   "metadata": {
    "hidden": true
   },
   "source": [
    "###### 4.2.3 Total"
   ]
  },
  {
   "cell_type": "code",
   "execution_count": 32,
   "id": "ebbf1ae3",
   "metadata": {
    "hidden": true
   },
   "outputs": [],
   "source": [
    "total = clientes_acima_da_media + clientes_abaixo_da_media"
   ]
  },
  {
   "cell_type": "code",
   "execution_count": 33,
   "id": "376de627",
   "metadata": {
    "hidden": true
   },
   "outputs": [
    {
     "name": "stdout",
     "output_type": "stream",
     "text": [
      "Soma total igual a: $38846324.63\n"
     ]
    }
   ],
   "source": [
    "print(f'Soma total igual a: ${round(total, 2)}')"
   ]
  },
  {
   "cell_type": "markdown",
   "id": "6a4f0680",
   "metadata": {},
   "source": [
    "# 5.0 Qual a performance do modelo em classificar os clientes como churn?"
   ]
  },
  {
   "cell_type": "code",
   "execution_count": null,
   "id": "8b58efe4",
   "metadata": {},
   "outputs": [],
   "source": []
  }
 ],
 "metadata": {
  "kernelspec": {
   "display_name": "Python 3 (ipykernel)",
   "language": "python",
   "name": "python3"
  },
  "language_info": {
   "codemirror_mode": {
    "name": "ipython",
    "version": 3
   },
   "file_extension": ".py",
   "mimetype": "text/x-python",
   "name": "python",
   "nbconvert_exporter": "python",
   "pygments_lexer": "ipython3",
   "version": "3.8.8"
  }
 },
 "nbformat": 4,
 "nbformat_minor": 5
}
