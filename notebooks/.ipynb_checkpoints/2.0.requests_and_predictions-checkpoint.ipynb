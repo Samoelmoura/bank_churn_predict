{
 "cells": [
  {
   "cell_type": "markdown",
   "id": "f5f22930",
   "metadata": {
    "heading_collapsed": true
   },
   "source": [
    "# Reports\n",
    "1. Inputs: raw data from kaggle\n",
    "2. Outputs: predicts and probabilitys\n",
    "3. ..."
   ]
  },
  {
   "cell_type": "markdown",
   "id": "90e8198d",
   "metadata": {},
   "source": [
    "# 1.0 Imports"
   ]
  },
  {
   "cell_type": "markdown",
   "id": "00614176",
   "metadata": {},
   "source": [
    "###### 1.1 Libraries"
   ]
  },
  {
   "cell_type": "code",
   "execution_count": 1,
   "id": "05b7638c",
   "metadata": {
    "ExecuteTime": {
     "end_time": "2022-04-30T13:20:40.948506Z",
     "start_time": "2022-04-30T13:20:40.325732Z"
    }
   },
   "outputs": [],
   "source": [
    "import pandas as pd\n",
    "import numpy as np\n",
    "\n",
    "import requests\n",
    "import pickle\n",
    "\n",
    "import time\n",
    "import warnings\n",
    "\n",
    "# Tempo de processamento\n",
    "time_agora = time.time()"
   ]
  },
  {
   "cell_type": "markdown",
   "id": "afb6ffa0",
   "metadata": {},
   "source": [
    "###### 1.2 Colecting data"
   ]
  },
  {
   "cell_type": "code",
   "execution_count": 2,
   "id": "65414448",
   "metadata": {
    "ExecuteTime": {
     "end_time": "2022-04-30T13:20:40.979369Z",
     "start_time": "2022-04-30T13:20:40.950540Z"
    }
   },
   "outputs": [],
   "source": [
    "df_raw = pd.read_csv('D:\\\\My Drive\\\\Pessoal\\\\Projetos\\\\bank_churn_predict\\\\bank_churn_predict\\\\data\\\\raw\\\\churn.csv')"
   ]
  },
  {
   "cell_type": "markdown",
   "id": "5c0b6ae8",
   "metadata": {},
   "source": [
    "# 2.0 Predictions"
   ]
  },
  {
   "cell_type": "markdown",
   "id": "40df2078",
   "metadata": {},
   "source": [
    "###### 2.1 Simulating data from requests"
   ]
  },
  {
   "cell_type": "code",
   "execution_count": 3,
   "id": "cecc19f6",
   "metadata": {
    "ExecuteTime": {
     "end_time": "2022-04-30T13:20:40.995330Z",
     "start_time": "2022-04-30T13:20:40.981434Z"
    }
   },
   "outputs": [],
   "source": [
    "request_1 = df_raw.drop('Exited', axis=1).sample(1)\n",
    "request_1_json = request_1.to_json(orient='records')\n",
    "\n",
    "request_varios = df_raw.drop('Exited', axis=1).sample(100)\n",
    "request_varios_json = request_varios.to_json(orient='records')"
   ]
  },
  {
   "cell_type": "markdown",
   "id": "57db8f1d",
   "metadata": {},
   "source": [
    "###### 2.2 Request"
   ]
  },
  {
   "cell_type": "code",
   "execution_count": 4,
   "id": "f9d0d317",
   "metadata": {
    "ExecuteTime": {
     "end_time": "2022-04-30T13:20:41.090791Z",
     "start_time": "2022-04-30T13:20:40.998908Z"
    },
    "scrolled": false
   },
   "outputs": [
    {
     "data": {
      "text/plain": [
       "200"
      ]
     },
     "execution_count": 4,
     "metadata": {},
     "output_type": "execute_result"
    }
   ],
   "source": [
    "received = requests.post(url='http://192.168.15.6:5000/predict', \n",
    "                         data=request_varios_json, \n",
    "                         headers={'Content-type':'application/json'})\n",
    "received.status_code"
   ]
  },
  {
   "cell_type": "markdown",
   "id": "3bf6dff3",
   "metadata": {},
   "source": [
    "###### 2.3 Received"
   ]
  },
  {
   "cell_type": "code",
   "execution_count": 5,
   "id": "be412232",
   "metadata": {
    "ExecuteTime": {
     "end_time": "2022-04-30T13:20:41.121959Z",
     "start_time": "2022-04-30T13:20:41.093482Z"
    }
   },
   "outputs": [
    {
     "data": {
      "text/html": [
       "<div>\n",
       "<style scoped>\n",
       "    .dataframe tbody tr th:only-of-type {\n",
       "        vertical-align: middle;\n",
       "    }\n",
       "\n",
       "    .dataframe tbody tr th {\n",
       "        vertical-align: top;\n",
       "    }\n",
       "\n",
       "    .dataframe thead th {\n",
       "        text-align: right;\n",
       "    }\n",
       "</style>\n",
       "<table border=\"1\" class=\"dataframe\">\n",
       "  <thead>\n",
       "    <tr style=\"text-align: right;\">\n",
       "      <th></th>\n",
       "      <th>Balance</th>\n",
       "      <th>NumOfProducts</th>\n",
       "      <th>HasCrCard</th>\n",
       "      <th>IsActiveMember</th>\n",
       "      <th>Gender_enc</th>\n",
       "      <th>Log_Age</th>\n",
       "      <th>Tenure_Exited_Mean</th>\n",
       "      <th>Geography_1</th>\n",
       "      <th>Geography_2</th>\n",
       "      <th>predictions</th>\n",
       "      <th>probabilitys</th>\n",
       "    </tr>\n",
       "  </thead>\n",
       "  <tbody>\n",
       "    <tr>\n",
       "      <th>0</th>\n",
       "      <td>-1.233510</td>\n",
       "      <td>0.813033</td>\n",
       "      <td>0.644926</td>\n",
       "      <td>-1.021992</td>\n",
       "      <td>0.913938</td>\n",
       "      <td>268.958511</td>\n",
       "      <td>-13.146323</td>\n",
       "      <td>-0.575041</td>\n",
       "      <td>-0.571577</td>\n",
       "      <td>1</td>\n",
       "      <td>0.643927</td>\n",
       "    </tr>\n",
       "    <tr>\n",
       "      <th>1</th>\n",
       "      <td>0.784863</td>\n",
       "      <td>-0.907672</td>\n",
       "      <td>-1.550566</td>\n",
       "      <td>-1.021992</td>\n",
       "      <td>-1.094166</td>\n",
       "      <td>189.573408</td>\n",
       "      <td>-13.216050</td>\n",
       "      <td>-0.575041</td>\n",
       "      <td>-0.571577</td>\n",
       "      <td>0</td>\n",
       "      <td>0.283277</td>\n",
       "    </tr>\n",
       "    <tr>\n",
       "      <th>2</th>\n",
       "      <td>1.595905</td>\n",
       "      <td>0.813033</td>\n",
       "      <td>-1.550566</td>\n",
       "      <td>0.978481</td>\n",
       "      <td>-1.094166</td>\n",
       "      <td>206.344498</td>\n",
       "      <td>-13.347305</td>\n",
       "      <td>-0.575041</td>\n",
       "      <td>-0.571577</td>\n",
       "      <td>1</td>\n",
       "      <td>0.517456</td>\n",
       "    </tr>\n",
       "    <tr>\n",
       "      <th>3</th>\n",
       "      <td>0.913487</td>\n",
       "      <td>-0.907672</td>\n",
       "      <td>-1.550566</td>\n",
       "      <td>-1.021992</td>\n",
       "      <td>-1.094166</td>\n",
       "      <td>250.082089</td>\n",
       "      <td>-13.123626</td>\n",
       "      <td>1.739007</td>\n",
       "      <td>-0.571577</td>\n",
       "      <td>0</td>\n",
       "      <td>0.372980</td>\n",
       "    </tr>\n",
       "    <tr>\n",
       "      <th>4</th>\n",
       "      <td>0.828219</td>\n",
       "      <td>-0.907672</td>\n",
       "      <td>-1.550566</td>\n",
       "      <td>0.978481</td>\n",
       "      <td>-1.094166</td>\n",
       "      <td>237.399815</td>\n",
       "      <td>-13.269905</td>\n",
       "      <td>-0.575041</td>\n",
       "      <td>1.749547</td>\n",
       "      <td>0</td>\n",
       "      <td>0.492908</td>\n",
       "    </tr>\n",
       "  </tbody>\n",
       "</table>\n",
       "</div>"
      ],
      "text/plain": [
       "    Balance  NumOfProducts  HasCrCard  IsActiveMember  Gender_enc     Log_Age  \\\n",
       "0 -1.233510       0.813033   0.644926       -1.021992    0.913938  268.958511   \n",
       "1  0.784863      -0.907672  -1.550566       -1.021992   -1.094166  189.573408   \n",
       "2  1.595905       0.813033  -1.550566        0.978481   -1.094166  206.344498   \n",
       "3  0.913487      -0.907672  -1.550566       -1.021992   -1.094166  250.082089   \n",
       "4  0.828219      -0.907672  -1.550566        0.978481   -1.094166  237.399815   \n",
       "\n",
       "   Tenure_Exited_Mean  Geography_1  Geography_2  predictions  probabilitys  \n",
       "0          -13.146323    -0.575041    -0.571577            1      0.643927  \n",
       "1          -13.216050    -0.575041    -0.571577            0      0.283277  \n",
       "2          -13.347305    -0.575041    -0.571577            1      0.517456  \n",
       "3          -13.123626     1.739007    -0.571577            0      0.372980  \n",
       "4          -13.269905    -0.575041     1.749547            0      0.492908  "
      ]
     },
     "execution_count": 5,
     "metadata": {},
     "output_type": "execute_result"
    }
   ],
   "source": [
    "df_predict = pd.DataFrame(received.json(), columns=received.json()[0].keys())\n",
    "df_predict.head(5)"
   ]
  },
  {
   "cell_type": "markdown",
   "id": "871730b8",
   "metadata": {},
   "source": [
    "# 3.0 Exports"
   ]
  },
  {
   "cell_type": "markdown",
   "id": "2c65f889",
   "metadata": {},
   "source": [
    "###### 3.1 dataframe processed"
   ]
  },
  {
   "cell_type": "code",
   "execution_count": 6,
   "id": "84ab9ff8",
   "metadata": {
    "ExecuteTime": {
     "end_time": "2022-04-30T13:20:41.138071Z",
     "start_time": "2022-04-30T13:20:41.123953Z"
    }
   },
   "outputs": [],
   "source": [
    "pickle.dump(df_predict, open('D://My Drive//Pessoal//Projetos//bank_churn_predict//bank_churn_predict//data//interim//df_processed.pkl', 'wb'))"
   ]
  }
 ],
 "metadata": {
  "kernelspec": {
   "display_name": "Python 3 (ipykernel)",
   "language": "python",
   "name": "python3"
  },
  "language_info": {
   "codemirror_mode": {
    "name": "ipython",
    "version": 3
   },
   "file_extension": ".py",
   "mimetype": "text/x-python",
   "name": "python",
   "nbconvert_exporter": "python",
   "pygments_lexer": "ipython3",
   "version": "3.9.7"
  }
 },
 "nbformat": 4,
 "nbformat_minor": 5
}
