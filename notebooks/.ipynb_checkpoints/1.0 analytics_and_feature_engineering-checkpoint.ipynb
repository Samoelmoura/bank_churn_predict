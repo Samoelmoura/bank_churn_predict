{
 "cells": [
  {
   "cell_type": "markdown",
   "id": "c28dcdb7",
   "metadata": {},
   "source": [
    "# Reports\n",
    "1. Inputs: data raw from kaggle and business problems\n",
    "2. Outputs: analisys about business hypothesis"
   ]
  },
  {
   "cell_type": "markdown",
   "id": "c729438b",
   "metadata": {
    "heading_collapsed": true
   },
   "source": [
    "# 1.0 Imports"
   ]
  },
  {
   "cell_type": "markdown",
   "id": "46adce05",
   "metadata": {
    "heading_collapsed": true,
    "hidden": true
   },
   "source": [
    "###### 1.1 Importing libraries"
   ]
  },
  {
   "cell_type": "code",
   "execution_count": 55,
   "id": "11fa254d",
   "metadata": {
    "ExecuteTime": {
     "end_time": "2022-04-08T02:02:59.882178Z",
     "start_time": "2022-04-08T02:02:59.861260Z"
    },
    "hidden": true
   },
   "outputs": [],
   "source": [
    "import numpy as np\n",
    "import pandas as pd\n",
    "import matplotlib.pyplot as plt\n",
    "import seaborn as sns\n",
    "\n",
    "from sklearn.preprocessing import LabelEncoder\n",
    "\n",
    "import pickle\n",
    "\n",
    "import time\n",
    "from IPython.display import Image\n",
    "\n",
    "tempo_agora = time.time() # Contabilizando o tempo de processamento do projeto"
   ]
  },
  {
   "cell_type": "markdown",
   "id": "bdf7f18f",
   "metadata": {
    "heading_collapsed": true,
    "hidden": true
   },
   "source": [
    "###### 1.2 Loading dataset"
   ]
  },
  {
   "cell_type": "code",
   "execution_count": 2,
   "id": "c99872ec",
   "metadata": {
    "ExecuteTime": {
     "end_time": "2022-04-08T00:38:40.137188Z",
     "start_time": "2022-04-08T00:38:40.092628Z"
    },
    "hidden": true
   },
   "outputs": [
    {
     "data": {
      "text/html": [
       "<div>\n",
       "<style scoped>\n",
       "    .dataframe tbody tr th:only-of-type {\n",
       "        vertical-align: middle;\n",
       "    }\n",
       "\n",
       "    .dataframe tbody tr th {\n",
       "        vertical-align: top;\n",
       "    }\n",
       "\n",
       "    .dataframe thead th {\n",
       "        text-align: right;\n",
       "    }\n",
       "</style>\n",
       "<table border=\"1\" class=\"dataframe\">\n",
       "  <thead>\n",
       "    <tr style=\"text-align: right;\">\n",
       "      <th></th>\n",
       "      <th>RowNumber</th>\n",
       "      <th>CustomerId</th>\n",
       "      <th>Surname</th>\n",
       "      <th>CreditScore</th>\n",
       "      <th>Geography</th>\n",
       "      <th>Gender</th>\n",
       "      <th>Age</th>\n",
       "      <th>Tenure</th>\n",
       "      <th>Balance</th>\n",
       "      <th>NumOfProducts</th>\n",
       "      <th>HasCrCard</th>\n",
       "      <th>IsActiveMember</th>\n",
       "      <th>EstimatedSalary</th>\n",
       "      <th>Exited</th>\n",
       "    </tr>\n",
       "  </thead>\n",
       "  <tbody>\n",
       "    <tr>\n",
       "      <th>0</th>\n",
       "      <td>1</td>\n",
       "      <td>15634602</td>\n",
       "      <td>Hargrave</td>\n",
       "      <td>619</td>\n",
       "      <td>France</td>\n",
       "      <td>Female</td>\n",
       "      <td>42</td>\n",
       "      <td>2</td>\n",
       "      <td>0.00</td>\n",
       "      <td>1</td>\n",
       "      <td>1</td>\n",
       "      <td>1</td>\n",
       "      <td>101348.88</td>\n",
       "      <td>1</td>\n",
       "    </tr>\n",
       "    <tr>\n",
       "      <th>1</th>\n",
       "      <td>2</td>\n",
       "      <td>15647311</td>\n",
       "      <td>Hill</td>\n",
       "      <td>608</td>\n",
       "      <td>Spain</td>\n",
       "      <td>Female</td>\n",
       "      <td>41</td>\n",
       "      <td>1</td>\n",
       "      <td>83807.86</td>\n",
       "      <td>1</td>\n",
       "      <td>0</td>\n",
       "      <td>1</td>\n",
       "      <td>112542.58</td>\n",
       "      <td>0</td>\n",
       "    </tr>\n",
       "    <tr>\n",
       "      <th>2</th>\n",
       "      <td>3</td>\n",
       "      <td>15619304</td>\n",
       "      <td>Onio</td>\n",
       "      <td>502</td>\n",
       "      <td>France</td>\n",
       "      <td>Female</td>\n",
       "      <td>42</td>\n",
       "      <td>8</td>\n",
       "      <td>159660.80</td>\n",
       "      <td>3</td>\n",
       "      <td>1</td>\n",
       "      <td>0</td>\n",
       "      <td>113931.57</td>\n",
       "      <td>1</td>\n",
       "    </tr>\n",
       "    <tr>\n",
       "      <th>3</th>\n",
       "      <td>4</td>\n",
       "      <td>15701354</td>\n",
       "      <td>Boni</td>\n",
       "      <td>699</td>\n",
       "      <td>France</td>\n",
       "      <td>Female</td>\n",
       "      <td>39</td>\n",
       "      <td>1</td>\n",
       "      <td>0.00</td>\n",
       "      <td>2</td>\n",
       "      <td>0</td>\n",
       "      <td>0</td>\n",
       "      <td>93826.63</td>\n",
       "      <td>0</td>\n",
       "    </tr>\n",
       "    <tr>\n",
       "      <th>4</th>\n",
       "      <td>5</td>\n",
       "      <td>15737888</td>\n",
       "      <td>Mitchell</td>\n",
       "      <td>850</td>\n",
       "      <td>Spain</td>\n",
       "      <td>Female</td>\n",
       "      <td>43</td>\n",
       "      <td>2</td>\n",
       "      <td>125510.82</td>\n",
       "      <td>1</td>\n",
       "      <td>1</td>\n",
       "      <td>1</td>\n",
       "      <td>79084.10</td>\n",
       "      <td>0</td>\n",
       "    </tr>\n",
       "  </tbody>\n",
       "</table>\n",
       "</div>"
      ],
      "text/plain": [
       "   RowNumber  CustomerId   Surname  CreditScore Geography  Gender  Age  \\\n",
       "0          1    15634602  Hargrave          619    France  Female   42   \n",
       "1          2    15647311      Hill          608     Spain  Female   41   \n",
       "2          3    15619304      Onio          502    France  Female   42   \n",
       "3          4    15701354      Boni          699    France  Female   39   \n",
       "4          5    15737888  Mitchell          850     Spain  Female   43   \n",
       "\n",
       "   Tenure    Balance  NumOfProducts  HasCrCard  IsActiveMember  \\\n",
       "0       2       0.00              1          1               1   \n",
       "1       1   83807.86              1          0               1   \n",
       "2       8  159660.80              3          1               0   \n",
       "3       1       0.00              2          0               0   \n",
       "4       2  125510.82              1          1               1   \n",
       "\n",
       "   EstimatedSalary  Exited  \n",
       "0        101348.88       1  \n",
       "1        112542.58       0  \n",
       "2        113931.57       1  \n",
       "3         93826.63       0  \n",
       "4         79084.10       0  "
      ]
     },
     "execution_count": 2,
     "metadata": {},
     "output_type": "execute_result"
    }
   ],
   "source": [
    "# reading csv\n",
    "df = pd.read_csv('D:\\\\My Drive\\\\Pessoal\\\\Projetos\\\\bank_churn_predict\\\\bank_churn_predict\\\\churn.csv')\n",
    "df.head(5)"
   ]
  },
  {
   "cell_type": "markdown",
   "id": "e62dcc46",
   "metadata": {
    "heading_collapsed": true,
    "hidden": true
   },
   "source": [
    "###### 1.3 Helper functions"
   ]
  },
  {
   "cell_type": "code",
   "execution_count": 77,
   "id": "4379c4d6",
   "metadata": {
    "ExecuteTime": {
     "end_time": "2022-04-08T02:35:28.349573Z",
     "start_time": "2022-04-08T02:35:28.334387Z"
    },
    "hidden": true
   },
   "outputs": [],
   "source": [
    "# identificando outliers\n",
    "def busca_outliers(df, series):\n",
    "    q1 = np.percentile(df[series], 25)\n",
    "    q3 = np.percentile(df[series], 75)\n",
    "    distancia = q3 - q1\n",
    "    salto = distancia * 1.5\n",
    "    li = q1 - salto\n",
    "    ls = q3 + salto\n",
    "    indices = df[(df[series]<li)|(df[series]>ls)].index\n",
    "#     print(f'O limite inferior é: {li}\\nO limite superior é: {ls}\\nHá {len(indices)} outliers')\n",
    "    return indices, li, ls"
   ]
  },
  {
   "cell_type": "markdown",
   "id": "34679afd",
   "metadata": {
    "heading_collapsed": true
   },
   "source": [
    "# 2.0 Data Description"
   ]
  },
  {
   "cell_type": "markdown",
   "id": "852b5c4b",
   "metadata": {
    "heading_collapsed": true,
    "hidden": true
   },
   "source": [
    "## 2.1 General Analysis"
   ]
  },
  {
   "cell_type": "markdown",
   "id": "1d220e17",
   "metadata": {
    "heading_collapsed": true,
    "hidden": true
   },
   "source": [
    "##### 2.1.1 Main insights:\n",
    "\n",
    "###### Exited\n",
    "1. Desbalanceado, por volta de 20% de churn\n",
    "2. Correlação fraca com Age e muito fraca com as demais\n",
    "\n",
    "###### NumOfProducts\n",
    "1. Clientes com 3 ou 4 produtos têm maior probabilidade de churn, com 80% e 100% de churn respectivamente.\n",
    "2. Correlação fraca negativa com Balance\n",
    "3. 95% dos clientes possuem 1 ou 2 produtos\n",
    "\n",
    "###### HasCrCard\n",
    "1. 70% dos clientes possuem cartão de crédito\n",
    "2. Aparentemente não ajuda a modelar o fenômeno\n",
    "3. Correlações muito fracas\n",
    "\n",
    "###### IsActiveMember\n",
    "1. A quantidade de clientes ativos e inativos está equilibrada\n",
    "2. Membros ativos são 47% menos propensos ao churn\n",
    "3. Correlações muito fracas\n",
    "\n",
    "###### Geography\n",
    "1. Mais de 50% dos clientes está na França\n",
    "2. Clientes da Germany têm maior probabilidade de churn\n",
    "3. Correlações muito fracas\n",
    "\n",
    "###### Gender\n",
    "1. 54% dos clientes são homens\n",
    "2. Mulheres têm 34% de chance maior de churn\n",
    "3. Correlações muito fracas\n",
    "\n",
    "###### CreditScore\n",
    "1. Não há faixas de CreditScore mais suscetíveis ao churn\n",
    "2. Correlações muito fracas\n",
    "3. Há um teto máximo de score, distribuição semelhante a uma Poisson\n",
    "4. Outliers somente no início da distribuição\n",
    "\n",
    "###### Age\n",
    "1. Idade mínima de 18 anos, máxima de 92, aparentemente sem erros de input\n",
    "2. Média de idade de clientes em churn é de 45, já os em não churn é de 37\n",
    "3. Correlação fraca com Exited\n",
    "4. Cauda direita mais pesada\n",
    "5. 359 outliers pelo método de Tukey\n",
    "\n",
    "###### Balance\n",
    "1. Balance com valor máximo bastante mais alto do que o terceiro quartil, indicando outliers. Com primeiro quartil com cliantes com valor zerado na conta, o que sugere que haja uma quantidade grande de contas com zero de saldo.\n",
    "2. Clientes com saldo zerado na conta tem probabilidade relativamente menor de churn\n",
    "3. Excluindo-se as contas de valores de Balance zerados, resta uma curva aparentemente normal com média em 12000\n",
    "3. Correlação fraca com NumOfProducts\n",
    "4. 36% das contas bancárias estão zeradas\n",
    "5. Excluindo-se as contas com Balance igual a zero, pelo método de Tukey há 73 outliers\n",
    "\n",
    "###### EstimatedSalary\n",
    "1. Aparentemente não ajuda a modelar o fenômeno\n",
    "2. Correlações muito fracas\n",
    "3. Apresenta uma contagem bastante contínua em todo o range da variância da feature, semelhante a variáveis categóricas\n",
    "\n",
    "###### Tenure\n",
    "1. Aparentemente não ajuda a modelar o fenômeno\n",
    "2. Correlações muito fracas\n",
    "3. Apesar das médias de churn por categoria serem relativamente diferentes, os desvios padrões colocam todas as categorias em um mesmo patamar"
   ]
  },
  {
   "cell_type": "markdown",
   "id": "7d388fe5",
   "metadata": {
    "heading_collapsed": true,
    "hidden": true
   },
   "source": [
    "##### 2.1.2 Looking dataset"
   ]
  },
  {
   "cell_type": "code",
   "execution_count": 4,
   "id": "a9a6d3cc",
   "metadata": {
    "ExecuteTime": {
     "end_time": "2022-04-08T00:38:40.184902Z",
     "start_time": "2022-04-08T00:38:40.156188Z"
    },
    "hidden": true,
    "scrolled": false
   },
   "outputs": [
    {
     "data": {
      "text/html": [
       "<div>\n",
       "<style scoped>\n",
       "    .dataframe tbody tr th:only-of-type {\n",
       "        vertical-align: middle;\n",
       "    }\n",
       "\n",
       "    .dataframe tbody tr th {\n",
       "        vertical-align: top;\n",
       "    }\n",
       "\n",
       "    .dataframe thead th {\n",
       "        text-align: right;\n",
       "    }\n",
       "</style>\n",
       "<table border=\"1\" class=\"dataframe\">\n",
       "  <thead>\n",
       "    <tr style=\"text-align: right;\">\n",
       "      <th></th>\n",
       "      <th>RowNumber</th>\n",
       "      <th>CustomerId</th>\n",
       "      <th>Surname</th>\n",
       "      <th>CreditScore</th>\n",
       "      <th>Geography</th>\n",
       "      <th>Gender</th>\n",
       "      <th>Age</th>\n",
       "      <th>Tenure</th>\n",
       "      <th>Balance</th>\n",
       "      <th>NumOfProducts</th>\n",
       "      <th>HasCrCard</th>\n",
       "      <th>IsActiveMember</th>\n",
       "      <th>EstimatedSalary</th>\n",
       "      <th>Exited</th>\n",
       "    </tr>\n",
       "  </thead>\n",
       "  <tbody>\n",
       "    <tr>\n",
       "      <th>0</th>\n",
       "      <td>1</td>\n",
       "      <td>15634602</td>\n",
       "      <td>Hargrave</td>\n",
       "      <td>619</td>\n",
       "      <td>France</td>\n",
       "      <td>Female</td>\n",
       "      <td>42</td>\n",
       "      <td>2</td>\n",
       "      <td>0.00</td>\n",
       "      <td>1</td>\n",
       "      <td>1</td>\n",
       "      <td>1</td>\n",
       "      <td>101348.88</td>\n",
       "      <td>1</td>\n",
       "    </tr>\n",
       "    <tr>\n",
       "      <th>1</th>\n",
       "      <td>2</td>\n",
       "      <td>15647311</td>\n",
       "      <td>Hill</td>\n",
       "      <td>608</td>\n",
       "      <td>Spain</td>\n",
       "      <td>Female</td>\n",
       "      <td>41</td>\n",
       "      <td>1</td>\n",
       "      <td>83807.86</td>\n",
       "      <td>1</td>\n",
       "      <td>0</td>\n",
       "      <td>1</td>\n",
       "      <td>112542.58</td>\n",
       "      <td>0</td>\n",
       "    </tr>\n",
       "    <tr>\n",
       "      <th>2</th>\n",
       "      <td>3</td>\n",
       "      <td>15619304</td>\n",
       "      <td>Onio</td>\n",
       "      <td>502</td>\n",
       "      <td>France</td>\n",
       "      <td>Female</td>\n",
       "      <td>42</td>\n",
       "      <td>8</td>\n",
       "      <td>159660.80</td>\n",
       "      <td>3</td>\n",
       "      <td>1</td>\n",
       "      <td>0</td>\n",
       "      <td>113931.57</td>\n",
       "      <td>1</td>\n",
       "    </tr>\n",
       "    <tr>\n",
       "      <th>3</th>\n",
       "      <td>4</td>\n",
       "      <td>15701354</td>\n",
       "      <td>Boni</td>\n",
       "      <td>699</td>\n",
       "      <td>France</td>\n",
       "      <td>Female</td>\n",
       "      <td>39</td>\n",
       "      <td>1</td>\n",
       "      <td>0.00</td>\n",
       "      <td>2</td>\n",
       "      <td>0</td>\n",
       "      <td>0</td>\n",
       "      <td>93826.63</td>\n",
       "      <td>0</td>\n",
       "    </tr>\n",
       "    <tr>\n",
       "      <th>4</th>\n",
       "      <td>5</td>\n",
       "      <td>15737888</td>\n",
       "      <td>Mitchell</td>\n",
       "      <td>850</td>\n",
       "      <td>Spain</td>\n",
       "      <td>Female</td>\n",
       "      <td>43</td>\n",
       "      <td>2</td>\n",
       "      <td>125510.82</td>\n",
       "      <td>1</td>\n",
       "      <td>1</td>\n",
       "      <td>1</td>\n",
       "      <td>79084.10</td>\n",
       "      <td>0</td>\n",
       "    </tr>\n",
       "  </tbody>\n",
       "</table>\n",
       "</div>"
      ],
      "text/plain": [
       "   RowNumber  CustomerId   Surname  CreditScore Geography  Gender  Age  \\\n",
       "0          1    15634602  Hargrave          619    France  Female   42   \n",
       "1          2    15647311      Hill          608     Spain  Female   41   \n",
       "2          3    15619304      Onio          502    France  Female   42   \n",
       "3          4    15701354      Boni          699    France  Female   39   \n",
       "4          5    15737888  Mitchell          850     Spain  Female   43   \n",
       "\n",
       "   Tenure    Balance  NumOfProducts  HasCrCard  IsActiveMember  \\\n",
       "0       2       0.00              1          1               1   \n",
       "1       1   83807.86              1          0               1   \n",
       "2       8  159660.80              3          1               0   \n",
       "3       1       0.00              2          0               0   \n",
       "4       2  125510.82              1          1               1   \n",
       "\n",
       "   EstimatedSalary  Exited  \n",
       "0        101348.88       1  \n",
       "1        112542.58       0  \n",
       "2        113931.57       1  \n",
       "3         93826.63       0  \n",
       "4         79084.10       0  "
      ]
     },
     "execution_count": 4,
     "metadata": {},
     "output_type": "execute_result"
    }
   ],
   "source": [
    "df.head(5)"
   ]
  },
  {
   "cell_type": "markdown",
   "id": "9844549c",
   "metadata": {
    "heading_collapsed": true,
    "hidden": true
   },
   "source": [
    "##### 2.1.3 Data dimensions"
   ]
  },
  {
   "cell_type": "code",
   "execution_count": 5,
   "id": "c190ba97",
   "metadata": {
    "ExecuteTime": {
     "end_time": "2022-04-08T00:38:40.200489Z",
     "start_time": "2022-04-08T00:38:40.186651Z"
    },
    "hidden": true
   },
   "outputs": [
    {
     "name": "stdout",
     "output_type": "stream",
     "text": [
      "O dataset possui: 10000 linhas\n",
      "O dataset possui: 14 colunas\n"
     ]
    }
   ],
   "source": [
    "print(f'O dataset possui: {df.shape[0]} linhas')\n",
    "print(f'O dataset possui: {df.shape[1]} colunas')"
   ]
  },
  {
   "cell_type": "markdown",
   "id": "5601711a",
   "metadata": {
    "heading_collapsed": true,
    "hidden": true
   },
   "source": [
    "##### 2.1.4 Datatypes"
   ]
  },
  {
   "cell_type": "code",
   "execution_count": 6,
   "id": "e12f3418",
   "metadata": {
    "ExecuteTime": {
     "end_time": "2022-04-08T00:38:40.215782Z",
     "start_time": "2022-04-08T00:38:40.202483Z"
    },
    "hidden": true
   },
   "outputs": [
    {
     "data": {
      "text/plain": [
       "RowNumber            int64\n",
       "CustomerId           int64\n",
       "Surname             object\n",
       "CreditScore          int64\n",
       "Geography           object\n",
       "Gender              object\n",
       "Age                  int64\n",
       "Tenure               int64\n",
       "Balance            float64\n",
       "NumOfProducts        int64\n",
       "HasCrCard            int64\n",
       "IsActiveMember       int64\n",
       "EstimatedSalary    float64\n",
       "Exited               int64\n",
       "dtype: object"
      ]
     },
     "execution_count": 6,
     "metadata": {},
     "output_type": "execute_result"
    }
   ],
   "source": [
    "df.dtypes"
   ]
  },
  {
   "cell_type": "markdown",
   "id": "8556d3f5",
   "metadata": {
    "heading_collapsed": true,
    "hidden": true
   },
   "source": [
    "##### 2.1.5 Changing interesting datatypes"
   ]
  },
  {
   "cell_type": "code",
   "execution_count": 7,
   "id": "a12e6332",
   "metadata": {
    "ExecuteTime": {
     "end_time": "2022-04-08T00:38:40.230928Z",
     "start_time": "2022-04-08T00:38:40.216779Z"
    },
    "hidden": true
   },
   "outputs": [],
   "source": [
    "geography_le = LabelEncoder()\n",
    "geography_le = geography_le.fit(df['Geography'])\n",
    "df['Geography_enc'] = geography_le.transform(df['Geography'])\n",
    "gender_le = LabelEncoder()\n",
    "gender_le = gender_le.fit(df['Gender'])\n",
    "df['Gender_enc'] = gender_le.transform(df['Gender'])"
   ]
  },
  {
   "cell_type": "markdown",
   "id": "c7bbd080",
   "metadata": {
    "heading_collapsed": true,
    "hidden": true
   },
   "source": [
    "##### 2.1.7 Cheking NaN values"
   ]
  },
  {
   "cell_type": "code",
   "execution_count": 8,
   "id": "0a3bddae",
   "metadata": {
    "ExecuteTime": {
     "end_time": "2022-04-08T00:38:40.246835Z",
     "start_time": "2022-04-08T00:38:40.231925Z"
    },
    "hidden": true
   },
   "outputs": [
    {
     "data": {
      "text/plain": [
       "RowNumber          0\n",
       "CustomerId         0\n",
       "Surname            0\n",
       "CreditScore        0\n",
       "Geography          0\n",
       "Gender             0\n",
       "Age                0\n",
       "Tenure             0\n",
       "Balance            0\n",
       "NumOfProducts      0\n",
       "HasCrCard          0\n",
       "IsActiveMember     0\n",
       "EstimatedSalary    0\n",
       "Exited             0\n",
       "Geography_enc      0\n",
       "Gender_enc         0\n",
       "dtype: int64"
      ]
     },
     "execution_count": 8,
     "metadata": {},
     "output_type": "execute_result"
    }
   ],
   "source": [
    "df.isna().sum()"
   ]
  },
  {
   "cell_type": "markdown",
   "id": "7b184e1a",
   "metadata": {
    "heading_collapsed": true,
    "hidden": true
   },
   "source": [
    "## 2.2 Descriptive Statistical"
   ]
  },
  {
   "cell_type": "markdown",
   "id": "8a971cda",
   "metadata": {
    "heading_collapsed": true,
    "hidden": true
   },
   "source": [
    "### 2.2.1 Classifying Attributes"
   ]
  },
  {
   "cell_type": "code",
   "execution_count": 9,
   "id": "3c724945",
   "metadata": {
    "ExecuteTime": {
     "end_time": "2022-04-08T00:38:41.896400Z",
     "start_time": "2022-04-08T00:38:41.878183Z"
    },
    "hidden": true
   },
   "outputs": [],
   "source": [
    "cat_attributes = ['NumOfProducts', 'HasCrCard', 'IsActiveMember', 'Tenure', 'Gender', 'Geography']\n",
    "num_attributes = ['CreditScore', 'Age', 'Balance', 'EstimatedSalary']"
   ]
  },
  {
   "cell_type": "markdown",
   "id": "00027975",
   "metadata": {
    "heading_collapsed": true,
    "hidden": true
   },
   "source": [
    "### 2.2.2 Numerical Attributes"
   ]
  },
  {
   "cell_type": "code",
   "execution_count": 13,
   "id": "578398b5",
   "metadata": {
    "ExecuteTime": {
     "end_time": "2022-04-08T00:49:12.422972Z",
     "start_time": "2022-04-08T00:49:12.353966Z"
    },
    "hidden": true,
    "hide_input": true,
    "scrolled": true
   },
   "outputs": [
    {
     "data": {
      "text/html": [
       "<div>\n",
       "<style scoped>\n",
       "    .dataframe tbody tr th:only-of-type {\n",
       "        vertical-align: middle;\n",
       "    }\n",
       "\n",
       "    .dataframe tbody tr th {\n",
       "        vertical-align: top;\n",
       "    }\n",
       "\n",
       "    .dataframe thead th {\n",
       "        text-align: right;\n",
       "    }\n",
       "</style>\n",
       "<table border=\"1\" class=\"dataframe\">\n",
       "  <thead>\n",
       "    <tr style=\"text-align: right;\">\n",
       "      <th></th>\n",
       "      <th>min</th>\n",
       "      <th>max</th>\n",
       "      <th>range</th>\n",
       "      <th>mean</th>\n",
       "      <th>median</th>\n",
       "      <th>std</th>\n",
       "      <th>skew</th>\n",
       "      <th>kurtosis</th>\n",
       "    </tr>\n",
       "  </thead>\n",
       "  <tbody>\n",
       "    <tr>\n",
       "      <th>CreditScore</th>\n",
       "      <td>350.00</td>\n",
       "      <td>850.00</td>\n",
       "      <td>500.00</td>\n",
       "      <td>650.528800</td>\n",
       "      <td>652.000</td>\n",
       "      <td>96.648466</td>\n",
       "      <td>-0.071607</td>\n",
       "      <td>-0.425726</td>\n",
       "    </tr>\n",
       "    <tr>\n",
       "      <th>Age</th>\n",
       "      <td>18.00</td>\n",
       "      <td>92.00</td>\n",
       "      <td>74.00</td>\n",
       "      <td>38.921800</td>\n",
       "      <td>37.000</td>\n",
       "      <td>10.487282</td>\n",
       "      <td>1.011320</td>\n",
       "      <td>1.395347</td>\n",
       "    </tr>\n",
       "    <tr>\n",
       "      <th>Balance</th>\n",
       "      <td>0.00</td>\n",
       "      <td>250898.09</td>\n",
       "      <td>250898.09</td>\n",
       "      <td>76485.889288</td>\n",
       "      <td>97198.540</td>\n",
       "      <td>62394.285254</td>\n",
       "      <td>-0.141109</td>\n",
       "      <td>-1.489412</td>\n",
       "    </tr>\n",
       "    <tr>\n",
       "      <th>EstimatedSalary</th>\n",
       "      <td>11.58</td>\n",
       "      <td>199992.48</td>\n",
       "      <td>199980.90</td>\n",
       "      <td>100090.239881</td>\n",
       "      <td>100193.915</td>\n",
       "      <td>57507.617221</td>\n",
       "      <td>0.002085</td>\n",
       "      <td>-1.181518</td>\n",
       "    </tr>\n",
       "  </tbody>\n",
       "</table>\n",
       "</div>"
      ],
      "text/plain": [
       "                    min        max      range           mean      median  \\\n",
       "CreditScore      350.00     850.00     500.00     650.528800     652.000   \n",
       "Age               18.00      92.00      74.00      38.921800      37.000   \n",
       "Balance            0.00  250898.09  250898.09   76485.889288   97198.540   \n",
       "EstimatedSalary   11.58  199992.48  199980.90  100090.239881  100193.915   \n",
       "\n",
       "                          std      skew  kurtosis  \n",
       "CreditScore         96.648466 -0.071607 -0.425726  \n",
       "Age                 10.487282  1.011320  1.395347  \n",
       "Balance          62394.285254 -0.141109 -1.489412  \n",
       "EstimatedSalary  57507.617221  0.002085 -1.181518  "
      ]
     },
     "execution_count": 13,
     "metadata": {},
     "output_type": "execute_result"
    }
   ],
   "source": [
    "# Central tendency\n",
    "ct1 = pd.DataFrame(df[num_attributes].apply(np.mean)).T\n",
    "ct2 = pd.DataFrame(df[num_attributes].apply(np.median)).T\n",
    "\n",
    "# Dispersion\n",
    "d1 = pd.DataFrame(df[num_attributes].apply(np.std)).T\n",
    "d2 = pd.DataFrame(df[num_attributes].apply(min)).T\n",
    "d3 = pd.DataFrame(df[num_attributes].apply(max)).T\n",
    "d4 = pd.DataFrame(df[num_attributes].apply(lambda x: x.max() - x.min())).T\n",
    "d5 = pd.DataFrame(df[num_attributes].apply(lambda x: x.skew())).T\n",
    "d6 = pd.DataFrame(df[num_attributes].apply(lambda x: x.kurtosis())).T\n",
    "\n",
    "# Concat\n",
    "temp = pd.concat([d2, d3, d4, ct1, ct2, d1, d5, d6]).T\n",
    "temp.columns = 'min max range mean median std skew kurtosis'.split()\n",
    "temp"
   ]
  },
  {
   "cell_type": "markdown",
   "id": "ce144b96",
   "metadata": {
    "hidden": true
   },
   "source": [
    "1. CreditScore - média e mediana próximas, o que indica que os dados estão centralizados na média, a skew é baixa e negativa, o que reforça que os dados estejam centralizados na média com uma cauda esquerda levemente maior, kurtosis pouco negativo, o que sugere uma distribuição mais plana do que uma distribuição normal com mesma média e desvio padrão.\n",
    "2. Age - somente maiores de 18 anos, média e mediana levemente deslocados (10%), skew baixa e positiva, indicando que os dados estão centralizados na média com uma cauda direita levemente maior, kurtosis baixa, características de uma NORMAL\n",
    "3. Balance - mínimo em zero, média e mediana bastante deslocados, desvio padrão bastante alto, skew baixa, o que sugere uma distribuição centralizada na média apesar da média e mediana diferirem, kurtosis negativa, o que sugere uma distribuição mais plana.\n",
    "4. EstimatedSalary - média e mediana próximas, desvio padrão bastante alto, skew centralizado na média, kurtosis baixa, distribuição mais plana do que uma normal."
   ]
  },
  {
   "cell_type": "markdown",
   "id": "c81b77d4",
   "metadata": {
    "heading_collapsed": true,
    "hidden": true
   },
   "source": [
    "### 2.2.3 Categorical Attributes"
   ]
  },
  {
   "cell_type": "code",
   "execution_count": 27,
   "id": "cc2d9ae9",
   "metadata": {
    "ExecuteTime": {
     "end_time": "2022-04-08T01:19:30.008609Z",
     "start_time": "2022-04-08T01:19:29.982228Z"
    },
    "hidden": true
   },
   "outputs": [
    {
     "data": {
      "text/plain": [
       "NumOfProducts      4\n",
       "HasCrCard          2\n",
       "IsActiveMember     2\n",
       "Tenure            11\n",
       "Gender             2\n",
       "Geography          3\n",
       "dtype: int64"
      ]
     },
     "execution_count": 27,
     "metadata": {},
     "output_type": "execute_result"
    }
   ],
   "source": [
    "df[cat_attributes].apply(lambda x: x.nunique())"
   ]
  },
  {
   "cell_type": "code",
   "execution_count": 52,
   "id": "8be6d980",
   "metadata": {
    "ExecuteTime": {
     "end_time": "2022-04-08T01:38:34.083904Z",
     "start_time": "2022-04-08T01:38:33.664321Z"
    },
    "hidden": true,
    "scrolled": false
   },
   "outputs": [
    {
     "data": {
      "image/png": "[encoded data removed]",
      "text/plain": [
       "<Figure size 1440x720 with 6 Axes>"
      ]
     },
     "metadata": {
      "needs_background": "light"
     },
     "output_type": "display_data"
    }
   ],
   "source": [
    "plt.figure(figsize=(20, 10))\n",
    "plt.subplots_adjust(hspace=0.8)\n",
    "\n",
    "plt.subplot(3, 2, 1)\n",
    "sns.countplot(data=df, x='NumOfProducts', color='b')\n",
    "sns.despine()\n",
    "plt.title('NumOfProducts', fontsize=20)\n",
    "plt.xlabel('')\n",
    "plt.ylabel('')\n",
    "\n",
    "plt.subplot(3, 2, 2)\n",
    "sns.countplot(data=df, x='HasCrCard', color='b')\n",
    "sns.despine()\n",
    "plt.title('HasCrCard', fontsize=20)\n",
    "plt.xlabel('')\n",
    "plt.ylabel('')\n",
    "\n",
    "plt.subplot(3, 2, 3)\n",
    "sns.countplot(data=df, x='IsActiveMember', color='b')\n",
    "sns.despine()\n",
    "plt.title('IsActiveMember', fontsize=20)\n",
    "plt.xlabel('')\n",
    "plt.ylabel('')\n",
    "\n",
    "plt.subplot(3, 2, 4)\n",
    "sns.countplot(data=df, x='Tenure', color='b')\n",
    "sns.despine()\n",
    "plt.title('Tenure', fontsize=20)\n",
    "plt.xlabel('')\n",
    "plt.ylabel('')\n",
    "\n",
    "plt.subplot(3, 2, 5)\n",
    "sns.countplot(data=df, x='Gender', color='b')\n",
    "sns.despine()\n",
    "plt.title('Gender', fontsize=20)\n",
    "plt.xlabel('')\n",
    "plt.ylabel('')\n",
    "\n",
    "plt.subplot(3, 2, 6)\n",
    "sns.countplot(data=df, x='Geography', color='b')\n",
    "sns.despine()\n",
    "plt.title('Geography', fontsize=20)\n",
    "plt.xlabel('')\n",
    "plt.ylabel('');"
   ]
  },
  {
   "cell_type": "markdown",
   "id": "a55b9a6a",
   "metadata": {
    "hidden": true
   },
   "source": [
    "1. Maior parte dos clientes com 1 ou 2 produtos\n",
    "2. Clientes com cartão de crédito são maioria]\n",
    "3. Clientes na França são maioria"
   ]
  },
  {
   "cell_type": "markdown",
   "id": "d24b065a",
   "metadata": {
    "heading_collapsed": true
   },
   "source": [
    "# 3.0 Feature Engineering"
   ]
  },
  {
   "cell_type": "markdown",
   "id": "fcc4dc2d",
   "metadata": {
    "heading_collapsed": true
   },
   "source": [
    "# 4.0 Exploratory Data Analysis"
   ]
  },
  {
   "cell_type": "markdown",
   "id": "671906ec",
   "metadata": {
    "heading_collapsed": true,
    "hidden": true
   },
   "source": [
    "## 4.1 Business Hypothesis"
   ]
  },
  {
   "cell_type": "markdown",
   "id": "ff532a42",
   "metadata": {
    "heading_collapsed": true,
    "hidden": true
   },
   "source": [
    "### 4.1.1 Hypothesis Mindmap"
   ]
  },
  {
   "cell_type": "code",
   "execution_count": 56,
   "id": "e60ac312",
   "metadata": {
    "ExecuteTime": {
     "end_time": "2022-04-08T02:03:43.688438Z",
     "start_time": "2022-04-08T02:03:43.649414Z"
    },
    "hidden": true
   },
   "outputs": [
    {
     "data": {
      "image/png": "[encoded data removed]",
      "text/plain": [
       "<IPython.core.display.Image object>"
      ]
     },
     "execution_count": 56,
     "metadata": {},
     "output_type": "execute_result"
    }
   ],
   "source": [
    "Image('..\\\\img\\\\mindmap.png')"
   ]
  },
  {
   "cell_type": "markdown",
   "id": "888bf8f2",
   "metadata": {
    "heading_collapsed": true,
    "hidden": true
   },
   "source": [
    "### 4.1.2 Creating Hypothesis"
   ]
  },
  {
   "cell_type": "markdown",
   "id": "b8f4837a",
   "metadata": {
    "heading_collapsed": true,
    "hidden": true
   },
   "source": [
    "###### Clientes:\n",
    "1. Clientes mais ativos deveriam fazer menos churn.\n",
    "2. Mulheres deveriam fazer menos churn.\n",
    "3. Clientes com salários maiores deveriam fazer mais churn.\n",
    "4. Clientes mais velhos deveriam fazer menos churn.\n",
    "5. Clientes com melhores scores deveriam fazer mais churn\n",
    "\n",
    "###### Conta Bancária:\n",
    "1. Clientes com contas bancárias com maiores movimentações mensais deveriam fazer menos churn.\n",
    "2. Clientes que adquirem mais produtos deveriam fazer menos churn.\n",
    "3. Clientes com saldos bancários maiores deveriam fazer menos churn.\n",
    "4. Clientes com cartão de crédito deveriam fazer menos churn.\n",
    "\n",
    "###### Loja:\n",
    "1. Lojas especiais VIPs deveriam ter menos churn.\n",
    "2. Lojas melhor localizadas deveriam ter menos churn.\n",
    "3. Lojas maiores deveriam ter menos churn.\n",
    "4. Lojas localizadas em países com melhores PIB's deveriam vender mais.\n",
    "\n",
    "###### Lista Final de Hipóteses:\n",
    "As hipóteses em negrito foram selecionadas e serão estudadas primeiro. O principal critério para selecionar as possíveis hipóteses foi a disponibilidade de features que possibilitem os estudos.\n",
    "\n",
    "1. Clientes mais ativos deveriam fazer menos churn.\n",
    "2. Mulheres deveriam fazer menos churn.\n",
    "3. Clientes com salários maiores deveriam fazer mais churn.\n",
    "4. Clientes mais velhos deveriam fazer menos churn.\n",
    "5. Clientes com melhores scores deveriam fazer mais churn\n",
    "6. Clientes com contas bancárias com maiores movimentações mensais deveriam fazer menos churn.\n",
    "7. Clientes que adquirem mais produtos deveriam fazer menos churn.\n",
    "8. Clientes com saldos bancários maiores deveriam fazer menos churn.\n",
    "9. Clientes com cartão de crédito deveriam fazer menos churn."
   ]
  },
  {
   "cell_type": "markdown",
   "id": "5cafe1f4",
   "metadata": {
    "heading_collapsed": true,
    "hidden": true
   },
   "source": [
    "## 4.2 Univariate Analysis"
   ]
  },
  {
   "cell_type": "markdown",
   "id": "d80968e0",
   "metadata": {
    "heading_collapsed": true,
    "hidden": true
   },
   "source": [
    "### 4.2.1 Response Variable"
   ]
  },
  {
   "cell_type": "code",
   "execution_count": 70,
   "id": "b9ba9ab8",
   "metadata": {
    "ExecuteTime": {
     "end_time": "2022-04-08T02:30:36.535119Z",
     "start_time": "2022-04-08T02:30:36.411614Z"
    },
    "hidden": true,
    "scrolled": false
   },
   "outputs": [
    {
     "name": "stdout",
     "output_type": "stream",
     "text": [
      "Média de churn: 20.37%\n"
     ]
    },
    {
     "data": {
      "image/png": "[encoded data removed]",
      "text/plain": [
       "<Figure size 432x288 with 1 Axes>"
      ]
     },
     "metadata": {
      "needs_background": "light"
     },
     "output_type": "display_data"
    }
   ],
   "source": [
    "sns.countplot(data=df, x='Exited')\n",
    "sns.despine()\n",
    "plt.title('Exited', fontsize=20)\n",
    "plt.xlabel('')\n",
    "plt.ylabel('')\n",
    "print(f\"Média de churn: {round(df['Exited'].mean()*100, 2)}%\")"
   ]
  },
  {
   "cell_type": "markdown",
   "id": "75c90b3f",
   "metadata": {
    "heading_collapsed": true,
    "hidden": true
   },
   "source": [
    "### 4.2.2 Numerical Variables"
   ]
  },
  {
   "cell_type": "code",
   "execution_count": 72,
   "id": "5ac84f3b",
   "metadata": {
    "ExecuteTime": {
     "end_time": "2022-04-08T02:33:56.785966Z",
     "start_time": "2022-04-08T02:33:56.772143Z"
    },
    "hidden": true
   },
   "outputs": [
    {
     "data": {
      "text/plain": [
       "['CreditScore', 'Age', 'Balance', 'EstimatedSalary']"
      ]
     },
     "execution_count": 72,
     "metadata": {},
     "output_type": "execute_result"
    }
   ],
   "source": [
    "num_attributes"
   ]
  },
  {
   "cell_type": "code",
   "execution_count": 85,
   "id": "bb4c4749",
   "metadata": {
    "ExecuteTime": {
     "end_time": "2022-04-08T02:38:37.963154Z",
     "start_time": "2022-04-08T02:38:37.092025Z"
    },
    "hidden": true,
    "hide_input": true,
    "scrolled": false
   },
   "outputs": [
    {
     "data": {
      "image/png": "[encoded data removed]",
      "text/plain": [
       "<Figure size 1440x720 with 4 Axes>"
      ]
     },
     "metadata": {
      "needs_background": "light"
     },
     "output_type": "display_data"
    }
   ],
   "source": [
    "plt.figure(figsize=(20, 10))\n",
    "plt.subplots_adjust(hspace=0.8)\n",
    "\n",
    "plt.subplot(2, 2, 1)\n",
    "indices, li, ls = busca_outliers(df, 'CreditScore')\n",
    "temp = df.loc[indices]\n",
    "sns.histplot(data=df, x='CreditScore')\n",
    "sns.despine()\n",
    "plt.title('CreditScore', fontsize=20)\n",
    "plt.xlabel('')\n",
    "plt.ylabel('')\n",
    "\n",
    "plt.subplot(2, 2, 2)\n",
    "indices, li, ls = busca_outliers(df, 'Age')\n",
    "temp = df.loc[indices]\n",
    "sns.histplot(data=df, x='Age')\n",
    "sns.despine()\n",
    "plt.title('Age', fontsize=20)\n",
    "plt.xlabel('')\n",
    "plt.ylabel('')\n",
    "\n",
    "plt.subplot(2, 2, 3)\n",
    "indices, li, ls = busca_outliers(df, 'Balance')\n",
    "temp = df.loc[indices]\n",
    "sns.histplot(data=df, x='Balance')\n",
    "sns.despine()\n",
    "plt.title('Balance', fontsize=20)\n",
    "plt.xlabel('')\n",
    "plt.ylabel('')\n",
    "\n",
    "plt.subplot(2, 2, 4)\n",
    "indices, li, ls = busca_outliers(df, 'EstimatedSalary')\n",
    "temp = df.loc[indices]\n",
    "sns.histplot(data=df, x='EstimatedSalary')\n",
    "sns.despine()\n",
    "plt.title('EstimatedSalary', fontsize=20)\n",
    "plt.xlabel('')\n",
    "plt.ylabel('');"
   ]
  },
  {
   "cell_type": "markdown",
   "id": "67fdb751",
   "metadata": {
    "hidden": true
   },
   "source": [
    "1. Muitas contas zeradas\n",
    "2. Salário estimado com uma distribuição totalmente plana"
   ]
  },
  {
   "cell_type": "markdown",
   "id": "0fcdf04b",
   "metadata": {
    "heading_collapsed": true,
    "hidden": true
   },
   "source": [
    "### 4.2.3 Categorical Variables"
   ]
  },
  {
   "cell_type": "code",
   "execution_count": 107,
   "id": "64324f04",
   "metadata": {
    "ExecuteTime": {
     "end_time": "2022-04-08T02:49:11.888952Z",
     "start_time": "2022-04-08T02:49:09.963818Z"
    },
    "hidden": true,
    "hide_input": true,
    "scrolled": false
   },
   "outputs": [
    {
     "data": {
      "image/png": "[encoded data removed]",
      "text/plain": [
       "<Figure size 1440x1440 with 12 Axes>"
      ]
     },
     "metadata": {
      "needs_background": "light"
     },
     "output_type": "display_data"
    }
   ],
   "source": [
    "plt.figure(figsize=(20, 20))\n",
    "plt.subplots_adjust(hspace=0.8)\n",
    "\n",
    "plt.subplot(6, 2, 1)\n",
    "sns.countplot(data=df, x='NumOfProducts', color='b')\n",
    "sns.despine()\n",
    "plt.title('NumOfProducts Count', fontsize=20)\n",
    "plt.xlabel('')\n",
    "plt.ylabel('')\n",
    "\n",
    "plt.subplot(6, 2, 2)\n",
    "sns.barplot(data=df, x='NumOfProducts', y='Exited', color='b')\n",
    "sns.despine()\n",
    "plt.title('NumOfProducts Exit Mean', fontsize=20)\n",
    "plt.xlabel('')\n",
    "plt.ylabel('')\n",
    "\n",
    "plt.subplot(6, 2, 3)\n",
    "sns.countplot(data=df, x='HasCrCard', color='b')\n",
    "sns.despine()\n",
    "plt.title('HasCrCard Count', fontsize=20)\n",
    "plt.xlabel('')\n",
    "plt.ylabel('')\n",
    "\n",
    "plt.subplot(6, 2, 4)\n",
    "sns.barplot(data=df, x='HasCrCard', y='Exited', color='b')\n",
    "sns.despine()\n",
    "plt.title('HasCrCard Exit Mean', fontsize=20)\n",
    "plt.xlabel('')\n",
    "plt.ylabel('')\n",
    "\n",
    "plt.subplot(6, 2, 5)\n",
    "sns.countplot(data=df, x='IsActiveMember', color='b')\n",
    "sns.despine()\n",
    "plt.title('IsActiveMember Count', fontsize=20)\n",
    "plt.xlabel('')\n",
    "plt.ylabel('')\n",
    "\n",
    "plt.subplot(6, 2, 6)\n",
    "sns.barplot(data=df, x='IsActiveMember', y='Exited', color='b')\n",
    "sns.despine()\n",
    "plt.title('IsActiveMember Exit Mean', fontsize=20)\n",
    "plt.xlabel('')\n",
    "plt.ylabel('')\n",
    "\n",
    "plt.subplot(6, 2, 7)\n",
    "sns.countplot(data=df, x='Tenure', color='b')\n",
    "sns.despine()\n",
    "plt.title('Tenure Count', fontsize=20)\n",
    "plt.xlabel('')\n",
    "plt.ylabel('')\n",
    "\n",
    "plt.subplot(6, 2, 8)\n",
    "sns.barplot(data=df, x='Tenure', y='Exited', color='b')\n",
    "sns.despine()\n",
    "plt.title('Tenure Exit Mean', fontsize=20)\n",
    "plt.xlabel('')\n",
    "plt.ylabel('')\n",
    "\n",
    "plt.subplot(6, 2, 9)\n",
    "sns.countplot(data=df, x='Gender', color='b')\n",
    "sns.despine()\n",
    "plt.title('Gender Count', fontsize=20)\n",
    "plt.xlabel('')\n",
    "plt.ylabel('')\n",
    "\n",
    "plt.subplot(6, 2, 10)\n",
    "sns.barplot(data=df, x='Gender', y='Exited', color='b')\n",
    "sns.despine()\n",
    "plt.title('Gender Exit Mean', fontsize=20)\n",
    "plt.xlabel('')\n",
    "plt.ylabel('')\n",
    "\n",
    "plt.subplot(6, 2, 11)\n",
    "sns.countplot(data=df, x='Geography', color='b')\n",
    "sns.despine()\n",
    "plt.title('Geography Count', fontsize=20)\n",
    "plt.xlabel('')\n",
    "plt.ylabel('')\n",
    "\n",
    "plt.subplot(6, 2, 12)\n",
    "sns.barplot(data=df, x='Geography', y='Exited', color='b')\n",
    "sns.despine()\n",
    "plt.title('Geography Exit Mean', fontsize=20)\n",
    "plt.xlabel('')\n",
    "plt.ylabel('');"
   ]
  },
  {
   "cell_type": "markdown",
   "id": "ab90b66e",
   "metadata": {
    "hidden": true
   },
   "source": [
    "###### 1. Clientes mais ativos deveriam fazer menos churn.\n",
    "Hipótese validada, clientes mais ativos fazem menos churn\n",
    "###### 2. Mulheres deveriam fazer menos churn.\n",
    "Hipótese refutada, mulheres fazem mais churn\n",
    "###### 7. Clientes que adquirem mais produtos deveriam fazer menos churn.\n",
    "Hipótese refutada, clientes que adquirirem mais produtos fazem mais churn\n",
    "###### 9. Clientes com cartão de crédito deveriam fazer menos churn.\n",
    "Hipótese refutada, cartão de crédito aparentemente é indiferente para o churn"
   ]
  },
  {
   "cell_type": "markdown",
   "id": "df4a8598",
   "metadata": {
    "heading_collapsed": true,
    "hidden": true
   },
   "source": [
    "## 4.3 Bivariate Analysis"
   ]
  },
  {
   "cell_type": "markdown",
   "id": "fc256eea",
   "metadata": {
    "hidden": true
   },
   "source": [
    "###### 4.3.1 Clientes com salários maiores deveriam fazer mais churn."
   ]
  },
  {
   "cell_type": "code",
   "execution_count": 132,
   "id": "3161b88d",
   "metadata": {
    "ExecuteTime": {
     "end_time": "2022-04-08T03:09:51.382486Z",
     "start_time": "2022-04-08T03:09:51.144930Z"
    },
    "hidden": true,
    "hide_input": false,
    "scrolled": true
   },
   "outputs": [
    {
     "data": {
      "image/png": "[encoded data removed]",
      "text/plain": [
       "<Figure size 432x288 with 1 Axes>"
      ]
     },
     "metadata": {
      "needs_background": "light"
     },
     "output_type": "display_data"
    }
   ],
   "source": [
    "sns.kdeplot(data=df.loc[df['Exited']==0], x='EstimatedSalary', color='b')\n",
    "sns.kdeplot(data=df.loc[df['Exited']==1], x='EstimatedSalary', color='r')\n",
    "sns.despine()\n",
    "plt.title('EstimatedSalary', fontsize=20)\n",
    "plt.xlabel('')\n",
    "plt.ylabel('');"
   ]
  },
  {
   "cell_type": "markdown",
   "id": "2f66fb2e",
   "metadata": {
    "hidden": true
   },
   "source": [
    "Hipótese refutada, salário aparentemente não influencia no churn"
   ]
  },
  {
   "cell_type": "markdown",
   "id": "ae2daddd",
   "metadata": {
    "hidden": true
   },
   "source": [
    "###### 4.3.2. Clientes mais velhos deveriam fazer menos churn."
   ]
  },
  {
   "cell_type": "code",
   "execution_count": 134,
   "id": "e7fe99c2",
   "metadata": {
    "ExecuteTime": {
     "end_time": "2022-04-08T03:10:15.294591Z",
     "start_time": "2022-04-08T03:10:15.091090Z"
    },
    "hidden": true,
    "hide_input": false,
    "scrolled": false
   },
   "outputs": [
    {
     "data": {
      "image/png": "[encoded data removed]",
      "text/plain": [
       "<Figure size 432x288 with 1 Axes>"
      ]
     },
     "metadata": {
      "needs_background": "light"
     },
     "output_type": "display_data"
    }
   ],
   "source": [
    "sns.kdeplot(data=df.loc[df['Exited']==0], x='Age', color='b')\n",
    "sns.kdeplot(data=df.loc[df['Exited']==1], x='Age', color='r')\n",
    "sns.despine()\n",
    "plt.title('Age', fontsize=20)\n",
    "plt.xlabel('')\n",
    "plt.ylabel('');"
   ]
  },
  {
   "cell_type": "code",
   "execution_count": 127,
   "id": "06c30ced",
   "metadata": {
    "ExecuteTime": {
     "end_time": "2022-04-08T03:04:16.429958Z",
     "start_time": "2022-04-08T03:04:16.407794Z"
    },
    "hidden": true,
    "hide_input": true
   },
   "outputs": [
    {
     "name": "stdout",
     "output_type": "stream",
     "text": [
      "Média de clientes que permanecem na base: 37\n",
      "Média de clientes em churn: 44\n"
     ]
    }
   ],
   "source": [
    "print(f\"Média de clientes que permanecem na base: {int(df.loc[df['Exited']==0, 'Age'].mean())}\")\n",
    "print(f\"Média de clientes em churn: {int(df.loc[df['Exited']==1, 'Age'].mean())}\")"
   ]
  },
  {
   "cell_type": "markdown",
   "id": "7747ba74",
   "metadata": {
    "hidden": true
   },
   "source": [
    "Hipótese refutada, clientes mais velhos fazem mais churn"
   ]
  },
  {
   "cell_type": "markdown",
   "id": "ab4f93d8",
   "metadata": {
    "hidden": true
   },
   "source": [
    "###### 4.3.3. Clientes com melhores scores deveriam fazer mais churn"
   ]
  },
  {
   "cell_type": "code",
   "execution_count": 135,
   "id": "18352641",
   "metadata": {
    "ExecuteTime": {
     "end_time": "2022-04-08T03:10:35.329998Z",
     "start_time": "2022-04-08T03:10:35.079218Z"
    },
    "hidden": true,
    "hide_input": false,
    "scrolled": true
   },
   "outputs": [
    {
     "data": {
      "image/png": "[encoded data removed]",
      "text/plain": [
       "<Figure size 432x288 with 1 Axes>"
      ]
     },
     "metadata": {
      "needs_background": "light"
     },
     "output_type": "display_data"
    }
   ],
   "source": [
    "sns.kdeplot(data=df.loc[df['Exited']==0], x='CreditScore', color='b')\n",
    "sns.kdeplot(data=df.loc[df['Exited']==1], x='CreditScore', color='r')\n",
    "sns.despine()\n",
    "plt.title('CreditScore', fontsize=20)\n",
    "plt.xlabel('')\n",
    "plt.ylabel('');"
   ]
  },
  {
   "cell_type": "markdown",
   "id": "74b9a687",
   "metadata": {
    "hidden": true
   },
   "source": [
    "Hipótese refutada, score aparentemente não influencia no churn"
   ]
  },
  {
   "cell_type": "markdown",
   "id": "50f44d3b",
   "metadata": {
    "hidden": true
   },
   "source": [
    "###### 4.3.4. Clientes com saldos bancários maiores deveriam fazer menos churn."
   ]
  },
  {
   "cell_type": "code",
   "execution_count": 136,
   "id": "09ca40e1",
   "metadata": {
    "ExecuteTime": {
     "end_time": "2022-04-08T03:10:43.295077Z",
     "start_time": "2022-04-08T03:10:42.992237Z"
    },
    "hidden": true
   },
   "outputs": [
    {
     "data": {
      "image/png": "[encoded data removed]",
      "text/plain": [
       "<Figure size 432x288 with 1 Axes>"
      ]
     },
     "metadata": {
      "needs_background": "light"
     },
     "output_type": "display_data"
    }
   ],
   "source": [
    "sns.kdeplot(data=df.loc[df['Exited']==0], x='Balance', color='b')\n",
    "sns.kdeplot(data=df.loc[df['Exited']==1], x='Balance', color='r')\n",
    "sns.despine()\n",
    "plt.title('Balance', fontsize=20)\n",
    "plt.xlabel('')\n",
    "plt.ylabel('');"
   ]
  },
  {
   "cell_type": "markdown",
   "id": "1646ae55",
   "metadata": {
    "hidden": true
   },
   "source": [
    "Hipótese refutada, clientes com mais dinheiro na conta fazem mais churn."
   ]
  },
  {
   "cell_type": "markdown",
   "id": "9cc57392",
   "metadata": {
    "heading_collapsed": true,
    "hidden": true
   },
   "source": [
    "## 4.4 Multivariate Analysis"
   ]
  },
  {
   "cell_type": "code",
   "execution_count": null,
   "id": "56e44158",
   "metadata": {
    "hidden": true
   },
   "outputs": [],
   "source": []
  },
  {
   "cell_type": "markdown",
   "id": "8a2e011c",
   "metadata": {
    "heading_collapsed": true
   },
   "source": [
    "# 6.0 Exporting Data"
   ]
  },
  {
   "cell_type": "markdown",
   "id": "7b9b6dd0",
   "metadata": {
    "hidden": true
   },
   "source": [
    "###### 6.1 Dataframe"
   ]
  },
  {
   "cell_type": "code",
   "execution_count": 69,
   "id": "c355e67a",
   "metadata": {
    "ExecuteTime": {
     "end_time": "2022-04-08T00:26:58.825992Z",
     "start_time": "2022-04-08T00:26:58.798862Z"
    },
    "hidden": true
   },
   "outputs": [],
   "source": [
    "pickle.dump(df, open('D://My Drive//Pessoal//Projetos//bank_churn_predict//bank_churn_predict//exportings//df_to_data_preparation.pkl', 'wb'))"
   ]
  },
  {
   "cell_type": "markdown",
   "id": "2754cce4",
   "metadata": {
    "hidden": true
   },
   "source": [
    "###### 6.2 Features"
   ]
  },
  {
   "cell_type": "code",
   "execution_count": 70,
   "id": "118b8cb2",
   "metadata": {
    "ExecuteTime": {
     "end_time": "2022-04-08T00:26:58.841668Z",
     "start_time": "2022-04-08T00:26:58.827943Z"
    },
    "hidden": true
   },
   "outputs": [],
   "source": [
    "# Tenure_Exited_Mean\n",
    "pickle.dump(map_tenure_exited_mean, open('D://My Drive//Pessoal//Projetos//bank_churn_predict//deploy//transformers//map_tenure_exited_mean.pkl', 'wb'))"
   ]
  },
  {
   "cell_type": "code",
   "execution_count": 71,
   "id": "ec8fb411",
   "metadata": {
    "ExecuteTime": {
     "end_time": "2022-04-08T00:26:58.857090Z",
     "start_time": "2022-04-08T00:26:58.842972Z"
    },
    "hidden": true
   },
   "outputs": [],
   "source": [
    "# Geography_enc\n",
    "pickle.dump(geography_le, open('D://My Drive//Pessoal//Projetos//bank_churn_predict//deploy//transformers//geography_le.pkl', 'wb'))\n",
    "\n",
    "# Gender_enc\n",
    "pickle.dump(gender_le, open('D://My Drive//Pessoal//Projetos//bank_churn_predict//deploy//transformers//gender_le.pkl', 'wb'))"
   ]
  },
  {
   "cell_type": "markdown",
   "id": "c694234c",
   "metadata": {},
   "source": [
    "# Time"
   ]
  },
  {
   "cell_type": "code",
   "execution_count": 72,
   "id": "7f87b027",
   "metadata": {
    "ExecuteTime": {
     "end_time": "2022-04-08T00:26:58.873195Z",
     "start_time": "2022-04-08T00:26:58.859665Z"
    }
   },
   "outputs": [
    {
     "name": "stdout",
     "output_type": "stream",
     "text": [
      "O tempo de processamento do projeto foi de: 0 minutos\n"
     ]
    }
   ],
   "source": [
    "print(f'O tempo de processamento do projeto foi de: {int(round(time.time()-tempo_agora, 2)/60)} minutos')"
   ]
  }
 ],
 "metadata": {
  "kernelspec": {
   "display_name": "Python 3 (ipykernel)",
   "language": "python",
   "name": "python3"
  },
  "language_info": {
   "codemirror_mode": {
    "name": "ipython",
    "version": 3
   },
   "file_extension": ".py",
   "mimetype": "text/x-python",
   "name": "python",
   "nbconvert_exporter": "python",
   "pygments_lexer": "ipython3",
   "version": "3.9.7"
  }
 },
 "nbformat": 4,
 "nbformat_minor": 5
}
