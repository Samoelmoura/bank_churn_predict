{
 "cells": [
  {
   "cell_type": "markdown",
   "id": "c729438b",
   "metadata": {
    "heading_collapsed": true
   },
   "source": [
    "# 0.0 Imports"
   ]
  },
  {
   "cell_type": "code",
   "execution_count": 1,
   "id": "11fa254d",
   "metadata": {
    "ExecuteTime": {
     "end_time": "2022-10-23T14:07:44.333877Z",
     "start_time": "2022-10-23T14:07:37.877039Z"
    },
    "hidden": true
   },
   "outputs": [],
   "source": [
    "import numpy as np\n",
    "import pandas as pd\n",
    "import matplotlib.pyplot as plt\n",
    "import seaborn as sns\n",
    "\n",
    "from sklearn.preprocessing import LabelEncoder, MinMaxScaler, StandardScaler\n",
    "from sklearn.model_selection import train_test_split, KFold\n",
    "from sklearn.ensemble import RandomForestClassifier\n",
    "from sklearn.metrics import classification_report, auc, accuracy_score, f1_score, recall_score, precision_score\n",
    "from sklearn.linear_model import LogisticRegression\n",
    "from sklearn.svm import SVC\n",
    "from sklearn.neighbors import KNeighborsClassifier\n",
    "\n",
    "import requests\n",
    "\n",
    "import scikitplot as skplt\n",
    "\n",
    "from xgboost import XGBClassifier\n",
    "\n",
    "from imblearn.over_sampling import SMOTE\n",
    "\n",
    "from scipy.stats import chi2_contingency\n",
    "\n",
    "import pickle\n",
    "\n",
    "import time\n",
    "\n",
    "from IPython.display import Image\n",
    "\n",
    "tempo_agora = time.time() # Contabilizando o tempo de processamento do projeto"
   ]
  },
  {
   "cell_type": "markdown",
   "id": "bdf7f18f",
   "metadata": {
    "heading_collapsed": true,
    "hidden": true
   },
   "source": [
    "###### 0.1 Loading dataset"
   ]
  },
  {
   "cell_type": "code",
   "execution_count": 2,
   "id": "c99872ec",
   "metadata": {
    "ExecuteTime": {
     "end_time": "2022-10-23T14:07:44.401590Z",
     "start_time": "2022-10-23T14:07:44.335107Z"
    },
    "hidden": true
   },
   "outputs": [
    {
     "data": {
      "text/html": [
       "<div>\n",
       "<style scoped>\n",
       "    .dataframe tbody tr th:only-of-type {\n",
       "        vertical-align: middle;\n",
       "    }\n",
       "\n",
       "    .dataframe tbody tr th {\n",
       "        vertical-align: top;\n",
       "    }\n",
       "\n",
       "    .dataframe thead th {\n",
       "        text-align: right;\n",
       "    }\n",
       "</style>\n",
       "<table border=\"1\" class=\"dataframe\">\n",
       "  <thead>\n",
       "    <tr style=\"text-align: right;\">\n",
       "      <th></th>\n",
       "      <th>RowNumber</th>\n",
       "      <th>CustomerId</th>\n",
       "      <th>Surname</th>\n",
       "      <th>CreditScore</th>\n",
       "      <th>Geography</th>\n",
       "      <th>Gender</th>\n",
       "      <th>Age</th>\n",
       "      <th>Tenure</th>\n",
       "      <th>Balance</th>\n",
       "      <th>NumOfProducts</th>\n",
       "      <th>HasCrCard</th>\n",
       "      <th>IsActiveMember</th>\n",
       "      <th>EstimatedSalary</th>\n",
       "      <th>Exited</th>\n",
       "    </tr>\n",
       "  </thead>\n",
       "  <tbody>\n",
       "    <tr>\n",
       "      <th>0</th>\n",
       "      <td>1</td>\n",
       "      <td>15634602</td>\n",
       "      <td>Hargrave</td>\n",
       "      <td>619</td>\n",
       "      <td>France</td>\n",
       "      <td>Female</td>\n",
       "      <td>42</td>\n",
       "      <td>2</td>\n",
       "      <td>0.00</td>\n",
       "      <td>1</td>\n",
       "      <td>1</td>\n",
       "      <td>1</td>\n",
       "      <td>101348.88</td>\n",
       "      <td>1</td>\n",
       "    </tr>\n",
       "    <tr>\n",
       "      <th>1</th>\n",
       "      <td>2</td>\n",
       "      <td>15647311</td>\n",
       "      <td>Hill</td>\n",
       "      <td>608</td>\n",
       "      <td>Spain</td>\n",
       "      <td>Female</td>\n",
       "      <td>41</td>\n",
       "      <td>1</td>\n",
       "      <td>83807.86</td>\n",
       "      <td>1</td>\n",
       "      <td>0</td>\n",
       "      <td>1</td>\n",
       "      <td>112542.58</td>\n",
       "      <td>0</td>\n",
       "    </tr>\n",
       "    <tr>\n",
       "      <th>2</th>\n",
       "      <td>3</td>\n",
       "      <td>15619304</td>\n",
       "      <td>Onio</td>\n",
       "      <td>502</td>\n",
       "      <td>France</td>\n",
       "      <td>Female</td>\n",
       "      <td>42</td>\n",
       "      <td>8</td>\n",
       "      <td>159660.80</td>\n",
       "      <td>3</td>\n",
       "      <td>1</td>\n",
       "      <td>0</td>\n",
       "      <td>113931.57</td>\n",
       "      <td>1</td>\n",
       "    </tr>\n",
       "    <tr>\n",
       "      <th>3</th>\n",
       "      <td>4</td>\n",
       "      <td>15701354</td>\n",
       "      <td>Boni</td>\n",
       "      <td>699</td>\n",
       "      <td>France</td>\n",
       "      <td>Female</td>\n",
       "      <td>39</td>\n",
       "      <td>1</td>\n",
       "      <td>0.00</td>\n",
       "      <td>2</td>\n",
       "      <td>0</td>\n",
       "      <td>0</td>\n",
       "      <td>93826.63</td>\n",
       "      <td>0</td>\n",
       "    </tr>\n",
       "    <tr>\n",
       "      <th>4</th>\n",
       "      <td>5</td>\n",
       "      <td>15737888</td>\n",
       "      <td>Mitchell</td>\n",
       "      <td>850</td>\n",
       "      <td>Spain</td>\n",
       "      <td>Female</td>\n",
       "      <td>43</td>\n",
       "      <td>2</td>\n",
       "      <td>125510.82</td>\n",
       "      <td>1</td>\n",
       "      <td>1</td>\n",
       "      <td>1</td>\n",
       "      <td>79084.10</td>\n",
       "      <td>0</td>\n",
       "    </tr>\n",
       "  </tbody>\n",
       "</table>\n",
       "</div>"
      ],
      "text/plain": [
       "   RowNumber  CustomerId   Surname  CreditScore Geography  Gender  Age  \\\n",
       "0          1    15634602  Hargrave          619    France  Female   42   \n",
       "1          2    15647311      Hill          608     Spain  Female   41   \n",
       "2          3    15619304      Onio          502    France  Female   42   \n",
       "3          4    15701354      Boni          699    France  Female   39   \n",
       "4          5    15737888  Mitchell          850     Spain  Female   43   \n",
       "\n",
       "   Tenure    Balance  NumOfProducts  HasCrCard  IsActiveMember  \\\n",
       "0       2       0.00              1          1               1   \n",
       "1       1   83807.86              1          0               1   \n",
       "2       8  159660.80              3          1               0   \n",
       "3       1       0.00              2          0               0   \n",
       "4       2  125510.82              1          1               1   \n",
       "\n",
       "   EstimatedSalary  Exited  \n",
       "0        101348.88       1  \n",
       "1        112542.58       0  \n",
       "2        113931.57       1  \n",
       "3         93826.63       0  \n",
       "4         79084.10       0  "
      ]
     },
     "execution_count": 2,
     "metadata": {},
     "output_type": "execute_result"
    }
   ],
   "source": [
    "# reading csv\n",
    "df_raw = pd.read_csv('D:\\\\My Drive\\\\Pessoal\\\\Projetos\\\\bank_churn_predict\\\\data\\\\raw\\\\churn.csv')\n",
    "test_raw = df_raw.sample(frac=0.2, random_state=101)\n",
    "test_index = test_raw.index\n",
    "test = test_raw.copy()\n",
    "df = df_raw.drop(test_index)\n",
    "df.head(5)"
   ]
  },
  {
   "cell_type": "markdown",
   "id": "e62dcc46",
   "metadata": {
    "heading_collapsed": true,
    "hidden": true
   },
   "source": [
    "###### 0.3 Helper functions"
   ]
  },
  {
   "cell_type": "code",
   "execution_count": 3,
   "id": "4379c4d6",
   "metadata": {
    "ExecuteTime": {
     "end_time": "2022-10-23T14:07:44.436043Z",
     "start_time": "2022-10-23T14:07:44.403934Z"
    },
    "hidden": true
   },
   "outputs": [],
   "source": [
    "# identificando outliers\n",
    "def busca_outliers(df, series):\n",
    "    q1 = np.percentile(df[series], 25)\n",
    "    q3 = np.percentile(df[series], 75)\n",
    "    distancia = q3 - q1\n",
    "    salto = distancia * 1.5\n",
    "    li = q1 - salto\n",
    "    ls = q3 + salto\n",
    "    indices = df[(df[series]<li)|(df[series]>ls)].index\n",
    "#     print(f'O limite inferior é: {li}\\nO limite superior é: {ls}\\nHá {len(indices)} outliers')\n",
    "    return indices, li, ls\n",
    "\n",
    "\n",
    "# categorical attributes correlations\n",
    "def cramer_v(x, y):\n",
    "    cm = pd.crosstab(x, y).values\n",
    "    n = cm.sum()\n",
    "    r, k = cm.shape\n",
    "    chi2 = chi2_contingency(cm)[0]\n",
    "    chi2corr = max(0, chi2-(k-1)*(r-1)/(n-1))\n",
    "    kcorr = k-(k-1)**2/(n-1)\n",
    "    rcorr = r-(r-1)**2/(n-1)\n",
    "    return round(np.sqrt((chi2corr/n)/( min(kcorr-1, rcorr-1))), 2)\n",
    "\n",
    "\n",
    "def gain_curve_ktop_precision(df, model_name, dict_ktop_precision, target_variable, ktop=2000, new_clients=127000):\n",
    "    proportional = df.shape[0] / new_clients\n",
    "    ktop_proportional = ktop * proportional\n",
    "    df.sort_values('propencity', ascending=False, inplace=True)\n",
    "    df.reset_index(drop=True, inplace=True)\n",
    "    df['ranking'] = df.index + 1\n",
    "    df[f'cum_{target_variable}'] = np.cumsum(df[target_variable])\n",
    "    df[f'percent_cum_{target_variable}'] = df[f'cum_{target_variable}'] / df['ranking']\n",
    "    answer = round(float(df.loc[df['ranking']>=ktop_proportional, f'percent_cum_{target_variable}'].head(1).values)*100, 2)\n",
    "    dict_ktop_precision[model_name] = answer\n",
    "#     print(f\"Precision at {ktop}ktop: {answer}%\")\n",
    "    return dict_ktop_precision\n",
    "\n",
    "\n",
    "def gain_curve_ktop_recall(df, model_name, dict_ktop_recall, target_variable, ktop=2000, new_clients=127000):\n",
    "    proportional = df.shape[0] / new_clients\n",
    "    ktop_proportional = ktop * proportional\n",
    "    df.sort_values('propencity', ascending=False, inplace=True)\n",
    "    df.reset_index(drop=True, inplace=True)\n",
    "    df['ranking'] = df.index + 1\n",
    "    df[f'cum_{target_variable}'] = np.cumsum(df[target_variable])\n",
    "    df[f'percent_cum_{target_variable}'] = df[f'cum_{target_variable}'] / df[target_variable].sum()\n",
    "    answer = round(float(df.loc[df['ranking']>=ktop_proportional, f'percent_cum_{target_variable}'].head(1).values)*100, 2)\n",
    "    dict_ktop_recall[model_name] = answer\n",
    "#     print(f\"Recall at {ktop}ktop: {answer}%\")\n",
    "    return dict_ktop_recall\n",
    "\n",
    "    \n",
    "def gain_curve_recall_recall(df, model_name, dict_top_recall_recall, target_variable, recall=0.8, new_clients=127000):\n",
    "    proportional = df.shape[0] / new_clients\n",
    "    df.sort_values('propencity', ascending=False, inplace=True)\n",
    "    df.reset_index(drop=True, inplace=True)\n",
    "    df['ranking'] = df.index + 1\n",
    "    df[f'cum_{target_variable}'] = np.cumsum(df[target_variable])\n",
    "    df[f'percent_cum_{target_variable}'] = df[f'cum_{target_variable}'] / df[target_variable].sum()\n",
    "    answer = int(df.loc[df[f'percent_cum_{target_variable}']>=recall, 'ranking'].head(1).values/proportional)\n",
    "    dict_top_recall_recall[model_name] = answer\n",
    "#     print(f\"To achieve {round(recall*100, 2)}% of recall: {answer} will be needed\")\n",
    "    return dict_top_recall_recall\n",
    "    \n",
    "    \n",
    "def cross_validation(X_smote, y_smote, error, kfold, model_name, model):\n",
    "    kf = KFold(kfold, shuffle=True)\n",
    "    accuracy, precision, recall, f1 = [], [], [], []\n",
    "\n",
    "    for train_index, test_index in kf.split(X_smote):\n",
    "        # cross validation folds\n",
    "        X_train, X_val = X_smote[train_index], X_smote[test_index]\n",
    "        y_train, y_val = y_smote[train_index], y_smote[test_index]\n",
    "\n",
    "        # fiting\n",
    "        model_fit_kf = model.fit(X_train, y_train)\n",
    "\n",
    "        # predicting\n",
    "        y_hat = model_fit_kf.predict(X_val)\n",
    "\n",
    "        # metrics\n",
    "        accuracy.append(accuracy_score(y_val, y_hat))\n",
    "        precision.append(precision_score(y_val, y_hat))\n",
    "        recall.append(recall_score(y_val, y_hat))\n",
    "        f1.append(f1_score(y_val, y_hat))\n",
    "\n",
    "    accuracy.append(f'{round(np.mean(accuracy), 2)} +/- {round(np.std(accuracy), 3)}')\n",
    "    precision.append(f'{round(np.mean(precision), 2)} +/- {round(np.std(precision), 3)}')\n",
    "    recall.append(f'{round(np.mean(recall), 2)} +/- {round(np.std(recall), 3)}')\n",
    "    f1.append(f'{round(np.mean(f1), 2)} +/- {round(np.std(f1), 3)}')\n",
    "\n",
    "    cross_validation = pd.DataFrame([accuracy, precision, recall, f1], columns='fold1 fold2 fold3 fold4 fold5 mean_and_std'.split(), index='accuracy precision recall f1'.split()).round(2).T\n",
    "\n",
    "    error[model_name] = cross_validation.loc['mean_and_std']\n",
    "    return cross_validation, error\n",
    "\n",
    "\n",
    "def metrics(X, X_smote, y_smote, X_train_smote, y_train_smote, X_val, y_val, model):\n",
    "    \n",
    "    # fiting val model\n",
    "    model_fit = model.fit(X_train_smote, y_train_smote)\n",
    "    \n",
    "    # predicting val\n",
    "    y_hat = model_fit.predict(X_val)\n",
    "    \n",
    "    # validation\n",
    "    print('TRAIN')\n",
    "    print(classification_report(y_val, y_hat))\n",
    "    print('')\n",
    "\n",
    "    # fiting model integral\n",
    "    model_fit = model.fit(X_smote, y_smote)\n",
    "\n",
    "    # predicting test\n",
    "    y_hat = model_fit.predict(X_test)\n",
    "    \n",
    "    # test\n",
    "    print('TEST')\n",
    "    print(classification_report(y_test, y_hat))\n",
    "    \n",
    "    # predict proba\n",
    "    predict_proba_train = model_fit.predict_proba(X)\n",
    "    predict_proba_test = model_fit.predict_proba(X_test)\n",
    "    \n",
    "    return predict_proba_train, predict_proba_test"
   ]
  },
  {
   "cell_type": "markdown",
   "id": "34679afd",
   "metadata": {
    "heading_collapsed": true
   },
   "source": [
    "# 1.0 Data Description"
   ]
  },
  {
   "cell_type": "code",
   "execution_count": 4,
   "id": "d213938f",
   "metadata": {
    "ExecuteTime": {
     "end_time": "2022-10-23T14:07:44.457754Z",
     "start_time": "2022-10-23T14:07:44.436043Z"
    },
    "hidden": true
   },
   "outputs": [],
   "source": [
    "df1 = df.copy()"
   ]
  },
  {
   "cell_type": "markdown",
   "id": "7d388fe5",
   "metadata": {
    "heading_collapsed": true,
    "hidden": true
   },
   "source": [
    "## 1.1 Looking dataset"
   ]
  },
  {
   "cell_type": "code",
   "execution_count": 5,
   "id": "a9a6d3cc",
   "metadata": {
    "ExecuteTime": {
     "end_time": "2022-10-23T14:07:44.488685Z",
     "start_time": "2022-10-23T14:07:44.457754Z"
    },
    "hidden": true,
    "scrolled": false
   },
   "outputs": [
    {
     "data": {
      "text/html": [
       "<div>\n",
       "<style scoped>\n",
       "    .dataframe tbody tr th:only-of-type {\n",
       "        vertical-align: middle;\n",
       "    }\n",
       "\n",
       "    .dataframe tbody tr th {\n",
       "        vertical-align: top;\n",
       "    }\n",
       "\n",
       "    .dataframe thead th {\n",
       "        text-align: right;\n",
       "    }\n",
       "</style>\n",
       "<table border=\"1\" class=\"dataframe\">\n",
       "  <thead>\n",
       "    <tr style=\"text-align: right;\">\n",
       "      <th></th>\n",
       "      <th>RowNumber</th>\n",
       "      <th>CustomerId</th>\n",
       "      <th>Surname</th>\n",
       "      <th>CreditScore</th>\n",
       "      <th>Geography</th>\n",
       "      <th>Gender</th>\n",
       "      <th>Age</th>\n",
       "      <th>Tenure</th>\n",
       "      <th>Balance</th>\n",
       "      <th>NumOfProducts</th>\n",
       "      <th>HasCrCard</th>\n",
       "      <th>IsActiveMember</th>\n",
       "      <th>EstimatedSalary</th>\n",
       "      <th>Exited</th>\n",
       "    </tr>\n",
       "  </thead>\n",
       "  <tbody>\n",
       "    <tr>\n",
       "      <th>0</th>\n",
       "      <td>1</td>\n",
       "      <td>15634602</td>\n",
       "      <td>Hargrave</td>\n",
       "      <td>619</td>\n",
       "      <td>France</td>\n",
       "      <td>Female</td>\n",
       "      <td>42</td>\n",
       "      <td>2</td>\n",
       "      <td>0.00</td>\n",
       "      <td>1</td>\n",
       "      <td>1</td>\n",
       "      <td>1</td>\n",
       "      <td>101348.88</td>\n",
       "      <td>1</td>\n",
       "    </tr>\n",
       "    <tr>\n",
       "      <th>1</th>\n",
       "      <td>2</td>\n",
       "      <td>15647311</td>\n",
       "      <td>Hill</td>\n",
       "      <td>608</td>\n",
       "      <td>Spain</td>\n",
       "      <td>Female</td>\n",
       "      <td>41</td>\n",
       "      <td>1</td>\n",
       "      <td>83807.86</td>\n",
       "      <td>1</td>\n",
       "      <td>0</td>\n",
       "      <td>1</td>\n",
       "      <td>112542.58</td>\n",
       "      <td>0</td>\n",
       "    </tr>\n",
       "    <tr>\n",
       "      <th>2</th>\n",
       "      <td>3</td>\n",
       "      <td>15619304</td>\n",
       "      <td>Onio</td>\n",
       "      <td>502</td>\n",
       "      <td>France</td>\n",
       "      <td>Female</td>\n",
       "      <td>42</td>\n",
       "      <td>8</td>\n",
       "      <td>159660.80</td>\n",
       "      <td>3</td>\n",
       "      <td>1</td>\n",
       "      <td>0</td>\n",
       "      <td>113931.57</td>\n",
       "      <td>1</td>\n",
       "    </tr>\n",
       "    <tr>\n",
       "      <th>3</th>\n",
       "      <td>4</td>\n",
       "      <td>15701354</td>\n",
       "      <td>Boni</td>\n",
       "      <td>699</td>\n",
       "      <td>France</td>\n",
       "      <td>Female</td>\n",
       "      <td>39</td>\n",
       "      <td>1</td>\n",
       "      <td>0.00</td>\n",
       "      <td>2</td>\n",
       "      <td>0</td>\n",
       "      <td>0</td>\n",
       "      <td>93826.63</td>\n",
       "      <td>0</td>\n",
       "    </tr>\n",
       "    <tr>\n",
       "      <th>4</th>\n",
       "      <td>5</td>\n",
       "      <td>15737888</td>\n",
       "      <td>Mitchell</td>\n",
       "      <td>850</td>\n",
       "      <td>Spain</td>\n",
       "      <td>Female</td>\n",
       "      <td>43</td>\n",
       "      <td>2</td>\n",
       "      <td>125510.82</td>\n",
       "      <td>1</td>\n",
       "      <td>1</td>\n",
       "      <td>1</td>\n",
       "      <td>79084.10</td>\n",
       "      <td>0</td>\n",
       "    </tr>\n",
       "  </tbody>\n",
       "</table>\n",
       "</div>"
      ],
      "text/plain": [
       "   RowNumber  CustomerId   Surname  CreditScore Geography  Gender  Age  \\\n",
       "0          1    15634602  Hargrave          619    France  Female   42   \n",
       "1          2    15647311      Hill          608     Spain  Female   41   \n",
       "2          3    15619304      Onio          502    France  Female   42   \n",
       "3          4    15701354      Boni          699    France  Female   39   \n",
       "4          5    15737888  Mitchell          850     Spain  Female   43   \n",
       "\n",
       "   Tenure    Balance  NumOfProducts  HasCrCard  IsActiveMember  \\\n",
       "0       2       0.00              1          1               1   \n",
       "1       1   83807.86              1          0               1   \n",
       "2       8  159660.80              3          1               0   \n",
       "3       1       0.00              2          0               0   \n",
       "4       2  125510.82              1          1               1   \n",
       "\n",
       "   EstimatedSalary  Exited  \n",
       "0        101348.88       1  \n",
       "1        112542.58       0  \n",
       "2        113931.57       1  \n",
       "3         93826.63       0  \n",
       "4         79084.10       0  "
      ]
     },
     "execution_count": 5,
     "metadata": {},
     "output_type": "execute_result"
    }
   ],
   "source": [
    "df1.head(5)"
   ]
  },
  {
   "cell_type": "markdown",
   "id": "9844549c",
   "metadata": {
    "heading_collapsed": true,
    "hidden": true
   },
   "source": [
    "## 1.2 Data dimensions"
   ]
  },
  {
   "cell_type": "code",
   "execution_count": 6,
   "id": "c190ba97",
   "metadata": {
    "ExecuteTime": {
     "end_time": "2022-10-23T14:07:44.513567Z",
     "start_time": "2022-10-23T14:07:44.488685Z"
    },
    "hidden": true
   },
   "outputs": [
    {
     "name": "stdout",
     "output_type": "stream",
     "text": [
      "O dataset possui: 8000 linhas\n",
      "O dataset possui: 14 colunas\n"
     ]
    }
   ],
   "source": [
    "print(f'O dataset possui: {df1.shape[0]} linhas')\n",
    "print(f'O dataset possui: {df1.shape[1]} colunas')"
   ]
  },
  {
   "cell_type": "markdown",
   "id": "5601711a",
   "metadata": {
    "heading_collapsed": true,
    "hidden": true
   },
   "source": [
    "## 1.3 Datatypes"
   ]
  },
  {
   "cell_type": "code",
   "execution_count": 7,
   "id": "e12f3418",
   "metadata": {
    "ExecuteTime": {
     "end_time": "2022-10-23T14:07:44.529667Z",
     "start_time": "2022-10-23T14:07:44.513667Z"
    },
    "hidden": true
   },
   "outputs": [
    {
     "data": {
      "text/plain": [
       "RowNumber            int64\n",
       "CustomerId           int64\n",
       "Surname             object\n",
       "CreditScore          int64\n",
       "Geography           object\n",
       "Gender              object\n",
       "Age                  int64\n",
       "Tenure               int64\n",
       "Balance            float64\n",
       "NumOfProducts        int64\n",
       "HasCrCard            int64\n",
       "IsActiveMember       int64\n",
       "EstimatedSalary    float64\n",
       "Exited               int64\n",
       "dtype: object"
      ]
     },
     "execution_count": 7,
     "metadata": {},
     "output_type": "execute_result"
    }
   ],
   "source": [
    "df1.dtypes"
   ]
  },
  {
   "cell_type": "markdown",
   "id": "c7bbd080",
   "metadata": {
    "heading_collapsed": true,
    "hidden": true
   },
   "source": [
    "## 1.4 Checking NaN values"
   ]
  },
  {
   "cell_type": "code",
   "execution_count": 8,
   "id": "0a3bddae",
   "metadata": {
    "ExecuteTime": {
     "end_time": "2022-10-23T14:07:44.557081Z",
     "start_time": "2022-10-23T14:07:44.532160Z"
    },
    "hidden": true
   },
   "outputs": [
    {
     "data": {
      "text/plain": [
       "RowNumber          0\n",
       "CustomerId         0\n",
       "Surname            0\n",
       "CreditScore        0\n",
       "Geography          0\n",
       "Gender             0\n",
       "Age                0\n",
       "Tenure             0\n",
       "Balance            0\n",
       "NumOfProducts      0\n",
       "HasCrCard          0\n",
       "IsActiveMember     0\n",
       "EstimatedSalary    0\n",
       "Exited             0\n",
       "dtype: int64"
      ]
     },
     "execution_count": 8,
     "metadata": {},
     "output_type": "execute_result"
    }
   ],
   "source": [
    "df1.isna().sum()"
   ]
  },
  {
   "cell_type": "markdown",
   "id": "7b184e1a",
   "metadata": {
    "heading_collapsed": true,
    "hidden": true
   },
   "source": [
    "## 1.5 Descriptive Statistical"
   ]
  },
  {
   "cell_type": "markdown",
   "id": "8a971cda",
   "metadata": {
    "heading_collapsed": true,
    "hidden": true
   },
   "source": [
    "### 1.5.1 Classifying Attributes"
   ]
  },
  {
   "cell_type": "code",
   "execution_count": 9,
   "id": "3c724945",
   "metadata": {
    "ExecuteTime": {
     "end_time": "2022-10-23T14:07:44.572992Z",
     "start_time": "2022-10-23T14:07:44.557081Z"
    },
    "hidden": true
   },
   "outputs": [],
   "source": [
    "cat_attributes = ['NumOfProducts', 'HasCrCard', 'IsActiveMember', 'Tenure', 'Gender', 'Geography']\n",
    "num_attributes = ['CreditScore', 'Age', 'Balance', 'EstimatedSalary']"
   ]
  },
  {
   "cell_type": "markdown",
   "id": "00027975",
   "metadata": {
    "heading_collapsed": true,
    "hidden": true
   },
   "source": [
    "### 1.5.2 Numerical Attributes"
   ]
  },
  {
   "cell_type": "code",
   "execution_count": 10,
   "id": "578398b5",
   "metadata": {
    "ExecuteTime": {
     "end_time": "2022-10-23T14:07:44.621176Z",
     "start_time": "2022-10-23T14:07:44.572992Z"
    },
    "hidden": true,
    "hide_input": false,
    "scrolled": false
   },
   "outputs": [
    {
     "data": {
      "text/html": [
       "<div>\n",
       "<style scoped>\n",
       "    .dataframe tbody tr th:only-of-type {\n",
       "        vertical-align: middle;\n",
       "    }\n",
       "\n",
       "    .dataframe tbody tr th {\n",
       "        vertical-align: top;\n",
       "    }\n",
       "\n",
       "    .dataframe thead th {\n",
       "        text-align: right;\n",
       "    }\n",
       "</style>\n",
       "<table border=\"1\" class=\"dataframe\">\n",
       "  <thead>\n",
       "    <tr style=\"text-align: right;\">\n",
       "      <th></th>\n",
       "      <th>min</th>\n",
       "      <th>max</th>\n",
       "      <th>range</th>\n",
       "      <th>mean</th>\n",
       "      <th>median</th>\n",
       "      <th>std</th>\n",
       "      <th>skew</th>\n",
       "      <th>kurtosis</th>\n",
       "    </tr>\n",
       "  </thead>\n",
       "  <tbody>\n",
       "    <tr>\n",
       "      <th>CreditScore</th>\n",
       "      <td>350.00</td>\n",
       "      <td>850.00</td>\n",
       "      <td>500.00</td>\n",
       "      <td>650.918375</td>\n",
       "      <td>652.000</td>\n",
       "      <td>96.549675</td>\n",
       "      <td>-0.081188</td>\n",
       "      <td>-0.426630</td>\n",
       "    </tr>\n",
       "    <tr>\n",
       "      <th>Age</th>\n",
       "      <td>18.00</td>\n",
       "      <td>92.00</td>\n",
       "      <td>74.00</td>\n",
       "      <td>38.782125</td>\n",
       "      <td>37.000</td>\n",
       "      <td>10.493077</td>\n",
       "      <td>1.049614</td>\n",
       "      <td>1.546493</td>\n",
       "    </tr>\n",
       "    <tr>\n",
       "      <th>Balance</th>\n",
       "      <td>0.00</td>\n",
       "      <td>250898.09</td>\n",
       "      <td>250898.09</td>\n",
       "      <td>76827.860287</td>\n",
       "      <td>97442.755</td>\n",
       "      <td>62283.923395</td>\n",
       "      <td>-0.150535</td>\n",
       "      <td>-1.477921</td>\n",
       "    </tr>\n",
       "    <tr>\n",
       "      <th>EstimatedSalary</th>\n",
       "      <td>11.58</td>\n",
       "      <td>199970.74</td>\n",
       "      <td>199959.16</td>\n",
       "      <td>100274.703841</td>\n",
       "      <td>100721.370</td>\n",
       "      <td>57687.654564</td>\n",
       "      <td>-0.004446</td>\n",
       "      <td>-1.184357</td>\n",
       "    </tr>\n",
       "  </tbody>\n",
       "</table>\n",
       "</div>"
      ],
      "text/plain": [
       "                    min        max      range           mean      median  \\\n",
       "CreditScore      350.00     850.00     500.00     650.918375     652.000   \n",
       "Age               18.00      92.00      74.00      38.782125      37.000   \n",
       "Balance            0.00  250898.09  250898.09   76827.860287   97442.755   \n",
       "EstimatedSalary   11.58  199970.74  199959.16  100274.703841  100721.370   \n",
       "\n",
       "                          std      skew  kurtosis  \n",
       "CreditScore         96.549675 -0.081188 -0.426630  \n",
       "Age                 10.493077  1.049614  1.546493  \n",
       "Balance          62283.923395 -0.150535 -1.477921  \n",
       "EstimatedSalary  57687.654564 -0.004446 -1.184357  "
      ]
     },
     "execution_count": 10,
     "metadata": {},
     "output_type": "execute_result"
    }
   ],
   "source": [
    "# Central tendency\n",
    "ct1 = pd.DataFrame(df1[num_attributes].apply(np.mean)).T\n",
    "ct2 = pd.DataFrame(df1[num_attributes].apply(np.median)).T\n",
    "\n",
    "# Dispersion\n",
    "d1 = pd.DataFrame(df1[num_attributes].apply(np.std)).T\n",
    "d2 = pd.DataFrame(df1[num_attributes].apply(min)).T\n",
    "d3 = pd.DataFrame(df1[num_attributes].apply(max)).T\n",
    "d4 = pd.DataFrame(df1[num_attributes].apply(lambda x: x.max() - x.min())).T\n",
    "d5 = pd.DataFrame(df1[num_attributes].apply(lambda x: x.skew())).T\n",
    "d6 = pd.DataFrame(df1[num_attributes].apply(lambda x: x.kurtosis())).T\n",
    "\n",
    "# Concat\n",
    "temp = pd.concat([d2, d3, d4, ct1, ct2, d1, d5, d6]).T\n",
    "temp.columns = 'min max range mean median std skew kurtosis'.split()\n",
    "temp"
   ]
  },
  {
   "cell_type": "markdown",
   "id": "ce144b96",
   "metadata": {
    "hidden": true
   },
   "source": [
    "1. CreditScore - média e mediana próximas, o que indica que os dados estão centralizados na média, a skew é baixa e negativa, o que reforça que os dados estejam centralizados na média com uma cauda esquerda levemente maior, kurtosis pouco negativo, o que sugere uma distribuição mais plana do que uma distribuição normal com mesma média e desvio padrão.\n",
    "2. Age - somente maiores de 18 anos, média e mediana levemente deslocados (10%), skew baixa e positiva, indicando que os dados estão centralizados na média com uma cauda direita levemente maior, kurtosis baixa, características de uma NORMAL\n",
    "3. Balance - mínimo em zero, média e mediana bastante deslocados, desvio padrão bastante alto, skew baixa, o que sugere uma distribuição centralizada na média apesar da média e mediana diferirem, kurtosis negativa, o que sugere uma distribuição mais plana.\n",
    "4. EstimatedSalary - média e mediana próximas, desvio padrão bastante alto, skew centralizado na média, kurtosis baixa, distribuição mais plana do que uma normal."
   ]
  },
  {
   "cell_type": "markdown",
   "id": "c81b77d4",
   "metadata": {
    "heading_collapsed": true,
    "hidden": true
   },
   "source": [
    "### 1.5.3 Categorical Attributes"
   ]
  },
  {
   "cell_type": "code",
   "execution_count": 11,
   "id": "cc2d9ae9",
   "metadata": {
    "ExecuteTime": {
     "end_time": "2022-10-23T14:07:44.646924Z",
     "start_time": "2022-10-23T14:07:44.622218Z"
    },
    "hidden": true,
    "hide_input": false,
    "scrolled": true
   },
   "outputs": [
    {
     "data": {
      "text/plain": [
       "NumOfProducts      4\n",
       "HasCrCard          2\n",
       "IsActiveMember     2\n",
       "Tenure            11\n",
       "Gender             2\n",
       "Geography          3\n",
       "dtype: int64"
      ]
     },
     "execution_count": 11,
     "metadata": {},
     "output_type": "execute_result"
    }
   ],
   "source": [
    "df1[cat_attributes].apply(lambda x: x.nunique())"
   ]
  },
  {
   "cell_type": "code",
   "execution_count": 12,
   "id": "8be6d980",
   "metadata": {
    "ExecuteTime": {
     "end_time": "2022-10-23T14:07:45.413965Z",
     "start_time": "2022-10-23T14:07:44.646924Z"
    },
    "hidden": true,
    "hide_input": false,
    "scrolled": false
   },
   "outputs": [
    {
     "data": {
      "image/png": "[encoded data removed]",
      "text/plain": [
       "<Figure size 1440x720 with 6 Axes>"
      ]
     },
     "metadata": {
      "needs_background": "light"
     },
     "output_type": "display_data"
    }
   ],
   "source": [
    "plt.figure(figsize=(20, 10))\n",
    "plt.subplots_adjust(hspace=0.8)\n",
    "\n",
    "plt.subplot(3, 2, 1)\n",
    "sns.countplot(data=df1, x='NumOfProducts', color='b')\n",
    "sns.despine()\n",
    "plt.title('NumOfProducts', fontsize=20)\n",
    "plt.xlabel('')\n",
    "plt.ylabel('')\n",
    "\n",
    "plt.subplot(3, 2, 2)\n",
    "sns.countplot(data=df1, x='HasCrCard', color='b')\n",
    "sns.despine()\n",
    "plt.title('HasCrCard', fontsize=20)\n",
    "plt.xlabel('')\n",
    "plt.ylabel('')\n",
    "\n",
    "plt.subplot(3, 2, 3)\n",
    "sns.countplot(data=df1, x='IsActiveMember', color='b')\n",
    "sns.despine()\n",
    "plt.title('IsActiveMember', fontsize=20)\n",
    "plt.xlabel('')\n",
    "plt.ylabel('')\n",
    "\n",
    "plt.subplot(3, 2, 4)\n",
    "sns.countplot(data=df1, x='Tenure', color='b')\n",
    "sns.despine()\n",
    "plt.title('Tenure', fontsize=20)\n",
    "plt.xlabel('')\n",
    "plt.ylabel('')\n",
    "\n",
    "plt.subplot(3, 2, 5)\n",
    "sns.countplot(data=df1, x='Gender', color='b')\n",
    "sns.despine()\n",
    "plt.title('Gender', fontsize=20)\n",
    "plt.xlabel('')\n",
    "plt.ylabel('')\n",
    "\n",
    "plt.subplot(3, 2, 6)\n",
    "sns.countplot(data=df1, x='Geography', color='b')\n",
    "sns.despine()\n",
    "plt.title('Geography', fontsize=20)\n",
    "plt.xlabel('')\n",
    "plt.ylabel('');"
   ]
  },
  {
   "cell_type": "markdown",
   "id": "a55b9a6a",
   "metadata": {
    "hidden": true
   },
   "source": [
    "1. Maior parte dos clientes com 1 ou 2 produtos\n",
    "2. Clientes com cartão de crédito são maioria]\n",
    "3. Clientes na França são maioria"
   ]
  },
  {
   "cell_type": "markdown",
   "id": "d24b065a",
   "metadata": {
    "heading_collapsed": true
   },
   "source": [
    "# 2.0 Feature Engineering"
   ]
  },
  {
   "cell_type": "code",
   "execution_count": 13,
   "id": "b8ff5d31",
   "metadata": {
    "ExecuteTime": {
     "end_time": "2022-10-23T14:07:45.433645Z",
     "start_time": "2022-10-23T14:07:45.413965Z"
    },
    "hidden": true
   },
   "outputs": [],
   "source": [
    "df2 = df1.copy()"
   ]
  },
  {
   "cell_type": "markdown",
   "id": "fcc4dc2d",
   "metadata": {
    "heading_collapsed": true
   },
   "source": [
    "# 3.0 Exploratory Data Analysis"
   ]
  },
  {
   "cell_type": "code",
   "execution_count": 14,
   "id": "420fec2a",
   "metadata": {
    "ExecuteTime": {
     "end_time": "2022-10-23T14:07:45.460921Z",
     "start_time": "2022-10-23T14:07:45.443156Z"
    },
    "hidden": true
   },
   "outputs": [],
   "source": [
    "df3 = df2.copy()"
   ]
  },
  {
   "cell_type": "markdown",
   "id": "272b541a",
   "metadata": {
    "heading_collapsed": true,
    "hidden": true
   },
   "source": [
    "##### Main insights:\n",
    "\n",
    "###### Exited\n",
    "1. Desbalanceado, por volta de 20% de churn\n",
    "2. Correlação fraca com Age e muito fraca com as demais\n",
    "\n",
    "###### NumOfProducts\n",
    "1. Clientes com 3 ou 4 produtos têm maior probabilidade de churn, com 80% e 100% de churn respectivamente.\n",
    "2. Correlação fraca negativa com Balance\n",
    "3. 95% dos clientes possuem 1 ou 2 produtos\n",
    "\n",
    "###### HasCrCard\n",
    "1. 70% dos clientes possuem cartão de crédito\n",
    "2. Aparentemente não ajuda a modelar o fenômeno\n",
    "3. Correlações muito fracas\n",
    "\n",
    "###### IsActiveMember\n",
    "1. A quantidade de clientes ativos e inativos está equilibrada\n",
    "2. Membros ativos são 47% menos propensos ao churn\n",
    "3. Correlações muito fracas\n",
    "\n",
    "###### Geography\n",
    "1. Mais de 50% dos clientes está na França\n",
    "2. Clientes da Germany têm maior probabilidade de churn\n",
    "3. Correlações muito fracas\n",
    "\n",
    "###### Gender\n",
    "1. 54% dos clientes são homens\n",
    "2. Mulheres têm 34% de chance maior de churn\n",
    "3. Correlações muito fracas\n",
    "\n",
    "###### CreditScore\n",
    "1. Não há faixas de CreditScore mais suscetíveis ao churn\n",
    "2. Correlações muito fracas\n",
    "3. Há um teto máximo de score, distribuição semelhante a uma Poisson\n",
    "4. Outliers somente no início da distribuição\n",
    "\n",
    "###### Age\n",
    "1. Idade mínima de 18 anos, máxima de 92, aparentemente sem erros de input\n",
    "2. Média de idade de clientes em churn é de 45, já os em não churn é de 37\n",
    "3. Correlação fraca com Exited\n",
    "4. Cauda direita mais pesada\n",
    "5. 359 outliers pelo método de Tukey\n",
    "\n",
    "###### Balance\n",
    "1. Balance com valor máximo bastante mais alto do que o terceiro quartil, indicando outliers. Com primeiro quartil com cliantes com valor zerado na conta, o que sugere que haja uma quantidade grande de contas com zero de saldo.\n",
    "2. Clientes com saldo zerado na conta tem probabilidade relativamente menor de churn\n",
    "3. Excluindo-se as contas de valores de Balance zerados, resta uma curva aparentemente normal com média em 12000\n",
    "3. Correlação fraca com NumOfProducts\n",
    "4. 36% das contas bancárias estão zeradas\n",
    "5. Excluindo-se as contas com Balance igual a zero, pelo método de Tukey há 73 outliers\n",
    "\n",
    "###### EstimatedSalary\n",
    "1. Aparentemente não ajuda a modelar o fenômeno\n",
    "2. Correlações muito fracas\n",
    "3. Apresenta uma contagem bastante contínua em todo o range da variância da feature, semelhante a variáveis categóricas\n",
    "\n",
    "###### Tenure\n",
    "1. Aparentemente não ajuda a modelar o fenômeno\n",
    "2. Correlações muito fracas\n",
    "3. Apesar das médias de churn por categoria serem relativamente diferentes, os desvios padrões colocam todas as categorias em um mesmo patamar"
   ]
  },
  {
   "cell_type": "markdown",
   "id": "671906ec",
   "metadata": {
    "heading_collapsed": true,
    "hidden": true
   },
   "source": [
    "## 3.1 Business Hypothesis"
   ]
  },
  {
   "cell_type": "markdown",
   "id": "ff532a42",
   "metadata": {
    "heading_collapsed": true,
    "hidden": true
   },
   "source": [
    "### 3.1.1 Hypothesis Mindmap"
   ]
  },
  {
   "cell_type": "code",
   "execution_count": 15,
   "id": "e60ac312",
   "metadata": {
    "ExecuteTime": {
     "end_time": "2022-10-23T14:07:45.513148Z",
     "start_time": "2022-10-23T14:07:45.466610Z"
    },
    "hidden": true
   },
   "outputs": [
    {
     "data": {
      "image/png": "[encoded data removed]",
      "text/plain": [
       "<IPython.core.display.Image object>"
      ]
     },
     "execution_count": 15,
     "metadata": {},
     "output_type": "execute_result"
    }
   ],
   "source": [
    "Image('..\\\\img\\\\mindmap.png')"
   ]
  },
  {
   "cell_type": "markdown",
   "id": "888bf8f2",
   "metadata": {
    "heading_collapsed": true,
    "hidden": true
   },
   "source": [
    "### 3.1.2 Creating Hypothesis"
   ]
  },
  {
   "cell_type": "markdown",
   "id": "b8f4837a",
   "metadata": {
    "heading_collapsed": true,
    "hidden": true
   },
   "source": [
    "###### Clientes:\n",
    "1. Clientes mais ativos deveriam fazer menos churn.\n",
    "2. Mulheres deveriam fazer menos churn.\n",
    "3. Clientes com salários maiores deveriam fazer mais churn.\n",
    "4. Clientes mais velhos deveriam fazer menos churn.\n",
    "5. Clientes com melhores scores deveriam fazer mais churn\n",
    "\n",
    "###### Conta Bancária:\n",
    "1. Clientes com contas bancárias com maiores movimentações mensais deveriam fazer menos churn.\n",
    "2. Clientes que adquirem mais produtos deveriam fazer menos churn.\n",
    "3. Clientes com saldos bancários maiores deveriam fazer menos churn.\n",
    "4. Clientes com cartão de crédito deveriam fazer menos churn.\n",
    "\n",
    "###### Loja:\n",
    "1. Lojas especiais VIPs deveriam ter menos churn.\n",
    "2. Lojas melhor localizadas deveriam ter menos churn.\n",
    "3. Lojas maiores deveriam ter menos churn.\n",
    "4. Lojas localizadas em países com melhores PIB's deveriam vender mais.\n",
    "\n",
    "###### Lista Final de Hipóteses:\n",
    "As hipóteses em negrito foram selecionadas e serão estudadas primeiro. O principal critério para selecionar as possíveis hipóteses foi a disponibilidade de features que possibilitem os estudos.\n",
    "\n",
    "1. Clientes mais ativos deveriam fazer menos churn.\n",
    "2. Mulheres deveriam fazer menos churn.\n",
    "3. Clientes com salários maiores deveriam fazer mais churn.\n",
    "4. Clientes mais velhos deveriam fazer menos churn.\n",
    "5. Clientes com melhores scores deveriam fazer mais churn\n",
    "6. Clientes com contas bancárias com maiores movimentações mensais deveriam fazer menos churn.\n",
    "7. Clientes que adquirem mais produtos deveriam fazer menos churn.\n",
    "8. Clientes com saldos bancários maiores deveriam fazer menos churn.\n",
    "9. Clientes com cartão de crédito deveriam fazer menos churn."
   ]
  },
  {
   "cell_type": "markdown",
   "id": "5cafe1f4",
   "metadata": {
    "heading_collapsed": true,
    "hidden": true
   },
   "source": [
    "## 3.2 Univariate Analysis"
   ]
  },
  {
   "cell_type": "markdown",
   "id": "d80968e0",
   "metadata": {
    "heading_collapsed": true,
    "hidden": true
   },
   "source": [
    "### 3.2.1 Response Variable"
   ]
  },
  {
   "cell_type": "code",
   "execution_count": 16,
   "id": "b9ba9ab8",
   "metadata": {
    "ExecuteTime": {
     "end_time": "2022-10-23T14:07:45.669227Z",
     "start_time": "2022-10-23T14:07:45.515798Z"
    },
    "hidden": true,
    "scrolled": false
   },
   "outputs": [
    {
     "name": "stdout",
     "output_type": "stream",
     "text": [
      "Média de churn: 20.18%\n"
     ]
    },
    {
     "data": {
      "image/png": "[encoded data removed]",
      "text/plain": [
       "<Figure size 432x288 with 1 Axes>"
      ]
     },
     "metadata": {
      "needs_background": "light"
     },
     "output_type": "display_data"
    }
   ],
   "source": [
    "sns.countplot(data=df3, x='Exited')\n",
    "sns.despine()\n",
    "plt.title('Exited', fontsize=20)\n",
    "plt.xlabel('')\n",
    "plt.ylabel('')\n",
    "print(f\"Média de churn: {round(df['Exited'].mean()*100, 2)}%\")"
   ]
  },
  {
   "cell_type": "markdown",
   "id": "75c90b3f",
   "metadata": {
    "heading_collapsed": true,
    "hidden": true
   },
   "source": [
    "### 3.2.2 Numerical Variables"
   ]
  },
  {
   "cell_type": "code",
   "execution_count": 17,
   "id": "bb4c4749",
   "metadata": {
    "ExecuteTime": {
     "end_time": "2022-10-23T14:07:46.886329Z",
     "start_time": "2022-10-23T14:07:45.669724Z"
    },
    "hidden": true,
    "hide_input": false,
    "scrolled": false
   },
   "outputs": [
    {
     "data": {
      "image/png": "[encoded data removed]",
      "text/plain": [
       "<Figure size 1440x720 with 4 Axes>"
      ]
     },
     "metadata": {
      "needs_background": "light"
     },
     "output_type": "display_data"
    }
   ],
   "source": [
    "plt.figure(figsize=(20, 10))\n",
    "plt.subplots_adjust(hspace=0.8)\n",
    "\n",
    "plt.subplot(2, 2, 1)\n",
    "indices, li, ls = busca_outliers(df3, 'CreditScore')\n",
    "temp = df3.loc[indices]\n",
    "sns.histplot(data=df3, x='CreditScore')\n",
    "sns.despine()\n",
    "plt.title('CreditScore', fontsize=20)\n",
    "plt.xlabel('')\n",
    "plt.ylabel('')\n",
    "\n",
    "plt.subplot(2, 2, 2)\n",
    "indices, li, ls = busca_outliers(df3, 'Age')\n",
    "temp = df3.loc[indices]\n",
    "sns.histplot(data=df3, x='Age')\n",
    "sns.despine()\n",
    "plt.title('Age', fontsize=20)\n",
    "plt.xlabel('')\n",
    "plt.ylabel('')\n",
    "\n",
    "plt.subplot(2, 2, 3)\n",
    "indices, li, ls = busca_outliers(df3, 'Balance')\n",
    "temp = df3.loc[indices]\n",
    "sns.histplot(data=df3, x='Balance')\n",
    "sns.despine()\n",
    "plt.title('Balance', fontsize=20)\n",
    "plt.xlabel('')\n",
    "plt.ylabel('')\n",
    "\n",
    "plt.subplot(2, 2, 4)\n",
    "indices, li, ls = busca_outliers(df3, 'EstimatedSalary')\n",
    "temp = df3.loc[indices]\n",
    "sns.histplot(data=df3, x='EstimatedSalary')\n",
    "sns.despine()\n",
    "plt.title('EstimatedSalary', fontsize=20)\n",
    "plt.xlabel('')\n",
    "plt.ylabel('');"
   ]
  },
  {
   "cell_type": "markdown",
   "id": "67fdb751",
   "metadata": {
    "hidden": true
   },
   "source": [
    "1. Muitas contas zeradas\n",
    "2. Salário estimado com uma distribuição totalmente plana"
   ]
  },
  {
   "cell_type": "markdown",
   "id": "0fcdf04b",
   "metadata": {
    "heading_collapsed": true,
    "hidden": true
   },
   "source": [
    "### 3.2.3 Categorical Variables"
   ]
  },
  {
   "cell_type": "code",
   "execution_count": 18,
   "id": "64324f04",
   "metadata": {
    "ExecuteTime": {
     "end_time": "2022-10-23T14:07:50.429255Z",
     "start_time": "2022-10-23T14:07:46.893450Z"
    },
    "hidden": true,
    "hide_input": false,
    "scrolled": false
   },
   "outputs": [
    {
     "data": {
      "image/png": "[encoded data removed]",
      "text/plain": [
       "<Figure size 1440x1440 with 12 Axes>"
      ]
     },
     "metadata": {
      "needs_background": "light"
     },
     "output_type": "display_data"
    }
   ],
   "source": [
    "plt.figure(figsize=(20, 20))\n",
    "plt.subplots_adjust(hspace=0.8)\n",
    "\n",
    "plt.subplot(6, 2, 1)\n",
    "sns.countplot(data=df3, x='NumOfProducts', color='b')\n",
    "sns.despine()\n",
    "plt.title('NumOfProducts Count', fontsize=20)\n",
    "plt.xlabel('')\n",
    "plt.ylabel('')\n",
    "\n",
    "plt.subplot(6, 2, 2)\n",
    "sns.barplot(data=df3, x='NumOfProducts', y='Exited', color='b')\n",
    "sns.despine()\n",
    "plt.title('NumOfProducts Exit Mean', fontsize=20)\n",
    "plt.xlabel('')\n",
    "plt.ylabel('')\n",
    "\n",
    "plt.subplot(6, 2, 3)\n",
    "sns.countplot(data=df3, x='HasCrCard', color='b')\n",
    "sns.despine()\n",
    "plt.title('HasCrCard Count', fontsize=20)\n",
    "plt.xlabel('')\n",
    "plt.ylabel('')\n",
    "\n",
    "plt.subplot(6, 2, 4)\n",
    "sns.barplot(data=df3, x='HasCrCard', y='Exited', color='b')\n",
    "sns.despine()\n",
    "plt.title('HasCrCard Exit Mean', fontsize=20)\n",
    "plt.xlabel('')\n",
    "plt.ylabel('')\n",
    "\n",
    "plt.subplot(6, 2, 5)\n",
    "sns.countplot(data=df3, x='IsActiveMember', color='b')\n",
    "sns.despine()\n",
    "plt.title('IsActiveMember Count', fontsize=20)\n",
    "plt.xlabel('')\n",
    "plt.ylabel('')\n",
    "\n",
    "plt.subplot(6, 2, 6)\n",
    "sns.barplot(data=df3, x='IsActiveMember', y='Exited', color='b')\n",
    "sns.despine()\n",
    "plt.title('IsActiveMember Exit Mean', fontsize=20)\n",
    "plt.xlabel('')\n",
    "plt.ylabel('')\n",
    "\n",
    "plt.subplot(6, 2, 7)\n",
    "sns.countplot(data=df3, x='Tenure', color='b')\n",
    "sns.despine()\n",
    "plt.title('Tenure Count', fontsize=20)\n",
    "plt.xlabel('')\n",
    "plt.ylabel('')\n",
    "\n",
    "plt.subplot(6, 2, 8)\n",
    "sns.barplot(data=df3, x='Tenure', y='Exited', color='b')\n",
    "sns.despine()\n",
    "plt.title('Tenure Exit Mean', fontsize=20)\n",
    "plt.xlabel('')\n",
    "plt.ylabel('')\n",
    "\n",
    "plt.subplot(6, 2, 9)\n",
    "sns.countplot(data=df3, x='Gender', color='b')\n",
    "sns.despine()\n",
    "plt.title('Gender Count', fontsize=20)\n",
    "plt.xlabel('')\n",
    "plt.ylabel('')\n",
    "\n",
    "plt.subplot(6, 2, 10)\n",
    "sns.barplot(data=df3, x='Gender', y='Exited', color='b')\n",
    "sns.despine()\n",
    "plt.title('Gender Exit Mean', fontsize=20)\n",
    "plt.xlabel('')\n",
    "plt.ylabel('')\n",
    "\n",
    "plt.subplot(6, 2, 11)\n",
    "sns.countplot(data=df3, x='Geography', color='b')\n",
    "sns.despine()\n",
    "plt.title('Geography Count', fontsize=20)\n",
    "plt.xlabel('')\n",
    "plt.ylabel('')\n",
    "\n",
    "plt.subplot(6, 2, 12)\n",
    "sns.barplot(data=df3, x='Geography', y='Exited', color='b')\n",
    "sns.despine()\n",
    "plt.title('Geography Exit Mean', fontsize=20)\n",
    "plt.xlabel('')\n",
    "plt.ylabel('');"
   ]
  },
  {
   "cell_type": "markdown",
   "id": "ab90b66e",
   "metadata": {
    "heading_collapsed": true,
    "hidden": true
   },
   "source": [
    "###### 1. Clientes mais ativos deveriam fazer menos churn.\n",
    "Hipótese validada, clientes mais ativos fazem menos churn\n",
    "###### 2. Mulheres deveriam fazer menos churn.\n",
    "Hipótese refutada, mulheres fazem mais churn\n",
    "###### 7. Clientes que adquirem mais produtos deveriam fazer menos churn.\n",
    "Hipótese refutada, clientes que adquirirem mais produtos fazem mais churn\n",
    "###### 9. Clientes com cartão de crédito deveriam fazer menos churn.\n",
    "Hipótese refutada, cartão de crédito aparentemente é indiferente para o churn"
   ]
  },
  {
   "cell_type": "markdown",
   "id": "df4a8598",
   "metadata": {
    "heading_collapsed": true,
    "hidden": true
   },
   "source": [
    "## 3.3 Bivariate Analysis"
   ]
  },
  {
   "cell_type": "markdown",
   "id": "fc256eea",
   "metadata": {
    "heading_collapsed": true,
    "hidden": true
   },
   "source": [
    "###### 3.3.1 Clientes com salários maiores deveriam fazer mais churn.\n",
    "Hipótese refutada, salário aparentemente não influencia no churn"
   ]
  },
  {
   "cell_type": "code",
   "execution_count": 19,
   "id": "3161b88d",
   "metadata": {
    "ExecuteTime": {
     "end_time": "2022-10-23T14:07:50.949788Z",
     "start_time": "2022-10-23T14:07:50.431457Z"
    },
    "hidden": true,
    "hide_input": false,
    "scrolled": false
   },
   "outputs": [
    {
     "data": {
      "image/png": "[encoded data removed]",
      "text/plain": [
       "<Figure size 1440x360 with 2 Axes>"
      ]
     },
     "metadata": {
      "needs_background": "light"
     },
     "output_type": "display_data"
    }
   ],
   "source": [
    "plt.figure(figsize=(20, 5))\n",
    "plt.subplot(1, 2, 1)\n",
    "sns.kdeplot(data=df3.loc[df3['Exited']==0], x='EstimatedSalary', color='b')\n",
    "sns.kdeplot(data=df3.loc[df3['Exited']==1], x='EstimatedSalary', color='r')\n",
    "sns.despine()\n",
    "plt.title('EstimatedSalary x Exited', fontsize=20)\n",
    "plt.xlabel('')\n",
    "plt.ylabel('')\n",
    "\n",
    "plt.subplot(1, 2, 2)\n",
    "sns.boxplot(data=df3, y='EstimatedSalary', x='Exited')\n",
    "sns.despine()\n",
    "plt.title('EstimatedSalary x Exited', fontsize=20)\n",
    "plt.xlabel('')\n",
    "plt.ylabel('');"
   ]
  },
  {
   "cell_type": "markdown",
   "id": "ae2daddd",
   "metadata": {
    "heading_collapsed": true,
    "hidden": true
   },
   "source": [
    "###### 3.3.2. Clientes mais velhos deveriam fazer menos churn.\n",
    "Hipótese refutada, clientes mais velhos fazem mais churn"
   ]
  },
  {
   "cell_type": "code",
   "execution_count": 20,
   "id": "e7fe99c2",
   "metadata": {
    "ExecuteTime": {
     "end_time": "2022-10-23T14:07:51.415883Z",
     "start_time": "2022-10-23T14:07:50.949788Z"
    },
    "hidden": true,
    "hide_input": false,
    "scrolled": false
   },
   "outputs": [
    {
     "data": {
      "image/png": "[encoded data removed]",
      "text/plain": [
       "<Figure size 1440x360 with 2 Axes>"
      ]
     },
     "metadata": {
      "needs_background": "light"
     },
     "output_type": "display_data"
    }
   ],
   "source": [
    "plt.figure(figsize=(20, 5))\n",
    "plt.subplot(1, 2, 1)\n",
    "sns.kdeplot(data=df3.loc[df3['Exited']==0], x='Age', color='b')\n",
    "sns.kdeplot(data=df3.loc[df3['Exited']==1], x='Age', color='r')\n",
    "sns.despine()\n",
    "plt.title('Age x Exited', fontsize=20)\n",
    "plt.xlabel('')\n",
    "plt.ylabel('')\n",
    "\n",
    "plt.subplot(1, 2, 2)\n",
    "sns.boxplot(data=df3, y='Age', x='Exited')\n",
    "sns.despine()\n",
    "plt.title('Age x Exited', fontsize=20)\n",
    "plt.xlabel('')\n",
    "plt.ylabel('');"
   ]
  },
  {
   "cell_type": "code",
   "execution_count": 21,
   "id": "06c30ced",
   "metadata": {
    "ExecuteTime": {
     "end_time": "2022-10-23T14:07:51.447422Z",
     "start_time": "2022-10-23T14:07:51.415883Z"
    },
    "hidden": true,
    "hide_input": false,
    "scrolled": false
   },
   "outputs": [
    {
     "name": "stdout",
     "output_type": "stream",
     "text": [
      "Média de clientes que permanecem na base: 37\n",
      "Média de clientes em churn: 44\n"
     ]
    }
   ],
   "source": [
    "print(f\"Média de clientes que permanecem na base: {int(df3.loc[df3['Exited']==0, 'Age'].mean())}\")\n",
    "print(f\"Média de clientes em churn: {int(df3.loc[df3['Exited']==1, 'Age'].mean())}\")"
   ]
  },
  {
   "cell_type": "markdown",
   "id": "34744ba7",
   "metadata": {
    "hidden": true
   },
   "source": [
    "A distribuição de idade entre os clientes que fizeram ou não churn é bastante diferente. A média de clientes que fazem churn está acima do terceiro quartil dos clientes que não fizeram churn."
   ]
  },
  {
   "cell_type": "markdown",
   "id": "ab4f93d8",
   "metadata": {
    "heading_collapsed": true,
    "hidden": true
   },
   "source": [
    "###### 3.3.3. Clientes com melhores scores deveriam fazer mais churn\n",
    "Hipótese refutada, score aparentemente não influencia no churn"
   ]
  },
  {
   "cell_type": "code",
   "execution_count": 22,
   "id": "18352641",
   "metadata": {
    "ExecuteTime": {
     "end_time": "2022-10-23T14:07:52.093323Z",
     "start_time": "2022-10-23T14:07:51.450955Z"
    },
    "hidden": true,
    "hide_input": false,
    "scrolled": true
   },
   "outputs": [
    {
     "data": {
      "image/png": "[encoded data removed]",
      "text/plain": [
       "<Figure size 1440x360 with 2 Axes>"
      ]
     },
     "metadata": {
      "needs_background": "light"
     },
     "output_type": "display_data"
    }
   ],
   "source": [
    "plt.figure(figsize=(20, 5))\n",
    "plt.subplot(1, 2, 1)\n",
    "sns.kdeplot(data=df3.loc[df3['Exited']==0], x='CreditScore', color='b')\n",
    "sns.kdeplot(data=df3.loc[df3['Exited']==1], x='CreditScore', color='r')\n",
    "sns.despine()\n",
    "plt.title('CreditScore x Exited', fontsize=20)\n",
    "plt.xlabel('')\n",
    "plt.ylabel('')\n",
    "\n",
    "plt.subplot(1, 2, 2)\n",
    "sns.boxplot(data=df3, y='CreditScore', x='Exited')\n",
    "sns.despine()\n",
    "plt.title('CreditScore x Exited', fontsize=20)\n",
    "plt.xlabel('')\n",
    "plt.ylabel('');"
   ]
  },
  {
   "cell_type": "markdown",
   "id": "50f44d3b",
   "metadata": {
    "heading_collapsed": true,
    "hidden": true
   },
   "source": [
    "###### 3.3.4. Clientes com saldos bancários maiores deveriam fazer menos churn.\n",
    "Hipótese refutada, clientes com mais dinheiro na conta fazem mais churn."
   ]
  },
  {
   "cell_type": "code",
   "execution_count": 23,
   "id": "09ca40e1",
   "metadata": {
    "ExecuteTime": {
     "end_time": "2022-10-23T14:07:52.554520Z",
     "start_time": "2022-10-23T14:07:52.093323Z"
    },
    "hidden": true,
    "scrolled": true
   },
   "outputs": [
    {
     "data": {
      "image/png": "[encoded data removed]",
      "text/plain": [
       "<Figure size 1440x360 with 2 Axes>"
      ]
     },
     "metadata": {
      "needs_background": "light"
     },
     "output_type": "display_data"
    }
   ],
   "source": [
    "plt.figure(figsize=(20, 5))\n",
    "plt.subplot(1, 2, 1)\n",
    "sns.kdeplot(data=df3.loc[df3['Exited']==0], x='Balance', color='b')\n",
    "sns.kdeplot(data=df3.loc[df3['Exited']==1], x='Balance', color='r')\n",
    "sns.despine()\n",
    "plt.title('Balance x Exited', fontsize=20)\n",
    "plt.xlabel('')\n",
    "plt.ylabel('')\n",
    "\n",
    "plt.subplot(1, 2, 2)\n",
    "sns.boxplot(data=df3, y='Balance', x='Exited')\n",
    "sns.despine()\n",
    "plt.title('Balance x Exited', fontsize=20)\n",
    "plt.xlabel('')\n",
    "plt.ylabel('');"
   ]
  },
  {
   "cell_type": "markdown",
   "id": "9cc57392",
   "metadata": {
    "heading_collapsed": true,
    "hidden": true
   },
   "source": [
    "## 3.4 Multivariate Analysis"
   ]
  },
  {
   "cell_type": "markdown",
   "id": "b9af74c9",
   "metadata": {
    "heading_collapsed": true,
    "hidden": true
   },
   "source": [
    "### 3.4.1 Numerical Attributes"
   ]
  },
  {
   "cell_type": "code",
   "execution_count": 24,
   "id": "56e44158",
   "metadata": {
    "ExecuteTime": {
     "end_time": "2022-10-23T14:07:52.765265Z",
     "start_time": "2022-10-23T14:07:52.556591Z"
    },
    "hidden": true
   },
   "outputs": [
    {
     "data": {
      "image/png": "[encoded data removed]",
      "text/plain": [
       "<Figure size 432x288 with 1 Axes>"
      ]
     },
     "metadata": {
      "needs_background": "light"
     },
     "output_type": "display_data"
    }
   ],
   "source": [
    "sns.heatmap(df3[num_attributes].corr(), annot=True, cbar=False);"
   ]
  },
  {
   "cell_type": "markdown",
   "id": "6bd90288",
   "metadata": {
    "heading_collapsed": true,
    "hidden": true
   },
   "source": [
    "### 3.4.2 Categorical Attributes"
   ]
  },
  {
   "cell_type": "code",
   "execution_count": 25,
   "id": "33f85e0d",
   "metadata": {
    "ExecuteTime": {
     "end_time": "2022-10-23T14:07:53.539095Z",
     "start_time": "2022-10-23T14:07:52.765265Z"
    },
    "hidden": true
   },
   "outputs": [
    {
     "data": {
      "image/png": "[encoded data removed]",
      "text/plain": [
       "<Figure size 432x288 with 1 Axes>"
      ]
     },
     "metadata": {
      "needs_background": "light"
     },
     "output_type": "display_data"
    }
   ],
   "source": [
    "cramer_correlation = []\n",
    "\n",
    "for i, col_1 in enumerate(cat_attributes):\n",
    "    for j, col_2 in enumerate(cat_attributes):\n",
    "        cramer_correlation.append(cramer_v(df3[col_1], df3[col_2]))\n",
    "        \n",
    "matrix = pd.DataFrame(np.array(cramer_correlation).reshape(6, 6), index=cat_attributes, columns=cat_attributes)\n",
    "\n",
    "sns.heatmap(matrix, annot=True, cbar=False);"
   ]
  },
  {
   "cell_type": "markdown",
   "id": "fe4315a1",
   "metadata": {
    "heading_collapsed": true
   },
   "source": [
    "# 4.0 Data Filtering"
   ]
  },
  {
   "cell_type": "code",
   "execution_count": 26,
   "id": "56cf0f13",
   "metadata": {
    "ExecuteTime": {
     "end_time": "2022-10-23T14:07:53.549951Z",
     "start_time": "2022-10-23T14:07:53.539095Z"
    },
    "hidden": true
   },
   "outputs": [],
   "source": [
    "df4 = df3.copy()"
   ]
  },
  {
   "cell_type": "markdown",
   "id": "a89df5df",
   "metadata": {
    "heading_collapsed": true,
    "hidden": true
   },
   "source": [
    "## 4.1 Columns Filtering"
   ]
  },
  {
   "cell_type": "code",
   "execution_count": 27,
   "id": "2b905698",
   "metadata": {
    "ExecuteTime": {
     "end_time": "2022-10-23T14:07:53.580753Z",
     "start_time": "2022-10-23T14:07:53.555785Z"
    },
    "hidden": true
   },
   "outputs": [],
   "source": [
    "cols_filtering = ['Surname']\n",
    "df4.drop(cols_filtering, axis=1, inplace=True)"
   ]
  },
  {
   "cell_type": "markdown",
   "id": "a66c1865",
   "metadata": {
    "heading_collapsed": true,
    "hidden": true
   },
   "source": [
    "## 4.2 Rows Filtering"
   ]
  },
  {
   "cell_type": "code",
   "execution_count": null,
   "id": "c50f1a0c",
   "metadata": {
    "hidden": true
   },
   "outputs": [],
   "source": []
  },
  {
   "cell_type": "markdown",
   "id": "fc115a8c",
   "metadata": {
    "heading_collapsed": true
   },
   "source": [
    "# 5.0 Data Preparation"
   ]
  },
  {
   "cell_type": "code",
   "execution_count": 28,
   "id": "a5087103",
   "metadata": {
    "ExecuteTime": {
     "end_time": "2022-10-23T14:07:53.597522Z",
     "start_time": "2022-10-23T14:07:53.580753Z"
    },
    "hidden": true
   },
   "outputs": [],
   "source": [
    "df5 = df4.copy()"
   ]
  },
  {
   "cell_type": "markdown",
   "id": "731ee014",
   "metadata": {
    "heading_collapsed": true,
    "hidden": true
   },
   "source": [
    "## 5.1 Normalization"
   ]
  },
  {
   "cell_type": "code",
   "execution_count": 29,
   "id": "ac1f8819",
   "metadata": {
    "ExecuteTime": {
     "end_time": "2022-10-23T14:07:53.620715Z",
     "start_time": "2022-10-23T14:07:53.599217Z"
    },
    "hidden": true
   },
   "outputs": [],
   "source": [
    "# 'Balance'\n",
    "ss_balance = StandardScaler()\n",
    "ss_balance = ss_balance.fit(df5[['Balance']].values)\n",
    "df5['Balance'] = ss_balance.transform(df5[['Balance']].values)"
   ]
  },
  {
   "cell_type": "markdown",
   "id": "316f2862",
   "metadata": {
    "heading_collapsed": true,
    "hidden": true
   },
   "source": [
    "## 5.2 Rescaling"
   ]
  },
  {
   "cell_type": "code",
   "execution_count": 30,
   "id": "0a22da12",
   "metadata": {
    "ExecuteTime": {
     "end_time": "2022-10-23T14:07:53.653076Z",
     "start_time": "2022-10-23T14:07:53.621555Z"
    },
    "hidden": true
   },
   "outputs": [],
   "source": [
    "# 'CreditScore'\n",
    "mm_credit_score = MinMaxScaler().fit(df5[['CreditScore']].values)\n",
    "df5['CreditScore'] = mm_credit_score.transform(df5[['CreditScore']].values)\n",
    "\n",
    "# 'EstimatedSalary'\n",
    "mm_estimatedsalary = MinMaxScaler().fit(df5[['EstimatedSalary']].values)\n",
    "df5['EstimatedSalary'] = mm_estimatedsalary.transform(df5[['EstimatedSalary']].values)\n",
    "\n",
    "# 'Age'\n",
    "df5['Age'] = np.log1p(df5['Age'])"
   ]
  },
  {
   "cell_type": "markdown",
   "id": "129c828b",
   "metadata": {
    "heading_collapsed": true,
    "hidden": true
   },
   "source": [
    "## 5.3 Transformations"
   ]
  },
  {
   "cell_type": "markdown",
   "id": "67bea792",
   "metadata": {
    "heading_collapsed": true,
    "hidden": true
   },
   "source": [
    "### 5.3.1 Encoding"
   ]
  },
  {
   "cell_type": "code",
   "execution_count": 31,
   "id": "a326e43b",
   "metadata": {
    "ExecuteTime": {
     "end_time": "2022-10-23T14:07:53.685140Z",
     "start_time": "2022-10-23T14:07:53.653076Z"
    },
    "hidden": true
   },
   "outputs": [],
   "source": [
    "# 'Geography'\n",
    "map_geography = df5.groupby('Geography').agg({'Exited':'mean'})['Exited']\n",
    "df5['Geography'] = df5['Geography'].map(map_geography)\n",
    "\n",
    "# 'Gender'\n",
    "map_gender = {'Female':0, 'Male':1}\n",
    "df5['Gender'] = df5['Gender'].map(map_gender)\n",
    "\n",
    "# 'NumOfProducts'\n",
    "map_numofproducts = df5.groupby('NumOfProducts').agg({'Exited':'mean'})['Exited']\n",
    "df5['NumOfProducts'] = df5['NumOfProducts'].map(map_numofproducts)"
   ]
  },
  {
   "cell_type": "markdown",
   "id": "b5e2bb40",
   "metadata": {
    "heading_collapsed": true,
    "hidden": true
   },
   "source": [
    "### 5.3.2 Nature Transformation"
   ]
  },
  {
   "cell_type": "code",
   "execution_count": 32,
   "id": "5176273f",
   "metadata": {
    "ExecuteTime": {
     "end_time": "2022-10-23T14:07:53.820249Z",
     "start_time": "2022-10-23T14:07:53.685140Z"
    },
    "hidden": true
   },
   "outputs": [],
   "source": [
    "# 'Tenure'\n",
    "tenure_cicle = df5['Tenure'].max() - df5['Tenure'].min()\n",
    "df5['Tenure_sin'] = df5['Tenure'].apply(lambda x: np.sin(x* (2*np.pi/tenure_cicle)))\n",
    "df5['Tenure_cos'] = df5['Tenure'].apply(lambda x: np.cos(x* (2*np.pi/tenure_cicle)))\n",
    "df5.drop('Tenure', axis=1, inplace=True)"
   ]
  },
  {
   "cell_type": "markdown",
   "id": "4dd9983f",
   "metadata": {
    "heading_collapsed": true,
    "hidden": true
   },
   "source": [
    "## 5.4 Splits"
   ]
  },
  {
   "cell_type": "code",
   "execution_count": 33,
   "id": "5b5c857d",
   "metadata": {
    "ExecuteTime": {
     "end_time": "2022-10-23T14:07:53.846133Z",
     "start_time": "2022-10-23T14:07:53.820249Z"
    },
    "hidden": true
   },
   "outputs": [],
   "source": [
    "# spliting X and y\n",
    "cols_drop_split = ['RowNumber', 'CustomerId', 'Exited']\n",
    "X = df5.drop(cols_drop_split, axis=1).values\n",
    "y = df5['Exited'].values.ravel()\n",
    "\n",
    "# train and test split\n",
    "X_train, X_val, y_train, y_val = train_test_split(X, y, test_size=0.2, random_state=101)"
   ]
  },
  {
   "cell_type": "markdown",
   "id": "b4e28bf5",
   "metadata": {
    "heading_collapsed": true,
    "hidden": true
   },
   "source": [
    "## 5.5 Balancing"
   ]
  },
  {
   "cell_type": "code",
   "execution_count": 34,
   "id": "f55ec33f",
   "metadata": {
    "ExecuteTime": {
     "end_time": "2022-10-23T14:07:53.971235Z",
     "start_time": "2022-10-23T14:07:53.846133Z"
    },
    "hidden": true
   },
   "outputs": [],
   "source": [
    "smote = SMOTE()\n",
    "\n",
    "X_train_smote, y_train_smote = smote.fit_resample(X_train, y_train)\n",
    "X_smote, y_smote = smote.fit_resample(X, y)"
   ]
  },
  {
   "cell_type": "markdown",
   "id": "4d50cea2",
   "metadata": {
    "heading_collapsed": true,
    "hidden": true
   },
   "source": [
    "## 5.6 Test Preparation"
   ]
  },
  {
   "cell_type": "code",
   "execution_count": 35,
   "id": "2292285d",
   "metadata": {
    "ExecuteTime": {
     "end_time": "2022-10-23T14:07:54.045296Z",
     "start_time": "2022-10-23T14:07:53.973909Z"
    },
    "hidden": true
   },
   "outputs": [],
   "source": [
    "test_backup = test.copy()\n",
    "\n",
    "# for next business steps\n",
    "map_test_id_salary = test[['CustomerId', 'EstimatedSalary']].set_index('CustomerId')['EstimatedSalary']\n",
    "\n",
    "test.drop(cols_filtering, axis=1, inplace=True)\n",
    "\n",
    "test['Balance'] = ss_balance.transform(test[['Balance']].values)\n",
    "\n",
    "test['CreditScore'] = mm_credit_score.transform(test[['CreditScore']].values)\n",
    "\n",
    "test['EstimatedSalary'] = mm_estimatedsalary.transform(test[['EstimatedSalary']].values)\n",
    "\n",
    "test['Age'] = np.log1p(test['Age'])\n",
    "\n",
    "test['Geography'] = test['Geography'].map(map_geography)\n",
    "\n",
    "test['Gender'] = test['Gender'].map(map_gender)\n",
    "\n",
    "test['NumOfProducts'] = test['NumOfProducts'].map(map_numofproducts)\n",
    "\n",
    "test['Tenure_sin'] = test['Tenure'].apply(lambda x: np.sin(x* (2*np.pi/tenure_cicle)))\n",
    "test['Tenure_cos'] = test['Tenure'].apply(lambda x: np.cos(x* (2*np.pi/tenure_cicle)))\n",
    "test.drop('Tenure', axis=1, inplace=True)\n",
    "\n",
    "# spliting X and y\n",
    "X_test = test.drop(['RowNumber', 'CustomerId', 'Exited'], axis=1).values\n",
    "y_test = test['Exited'].values.ravel()"
   ]
  },
  {
   "cell_type": "markdown",
   "id": "87d1d009",
   "metadata": {
    "heading_collapsed": true
   },
   "source": [
    "# 6.0 Feature Selection"
   ]
  },
  {
   "cell_type": "code",
   "execution_count": 36,
   "id": "4262a73e",
   "metadata": {
    "ExecuteTime": {
     "end_time": "2022-10-23T14:07:54.062747Z",
     "start_time": "2022-10-23T14:07:54.045792Z"
    },
    "hidden": true
   },
   "outputs": [],
   "source": [
    "df6 = df5.copy()"
   ]
  },
  {
   "cell_type": "markdown",
   "id": "c89e6ce0",
   "metadata": {
    "heading_collapsed": true,
    "hidden": true
   },
   "source": [
    "## 6.1 Embedded Method"
   ]
  },
  {
   "cell_type": "markdown",
   "id": "4d7d41a4",
   "metadata": {
    "heading_collapsed": true,
    "hidden": true
   },
   "source": [
    "### 6.1.1 Importances"
   ]
  },
  {
   "cell_type": "code",
   "execution_count": 37,
   "id": "786d3a43",
   "metadata": {
    "ExecuteTime": {
     "end_time": "2022-10-23T14:07:57.389088Z",
     "start_time": "2022-10-23T14:07:54.065136Z"
    },
    "hidden": true
   },
   "outputs": [
    {
     "name": "stdout",
     "output_type": "stream",
     "text": [
      "train\n",
      "              precision    recall  f1-score   support\n",
      "\n",
      "           0       0.91      0.85      0.88      1265\n",
      "           1       0.55      0.67      0.60       335\n",
      "\n",
      "    accuracy                           0.81      1600\n",
      "   macro avg       0.73      0.76      0.74      1600\n",
      "weighted avg       0.83      0.81      0.82      1600\n",
      "\n",
      "test\n",
      "              precision    recall  f1-score   support\n",
      "\n",
      "           0       0.91      0.84      0.87      1577\n",
      "           1       0.53      0.69      0.60       423\n",
      "\n",
      "    accuracy                           0.81      2000\n",
      "   macro avg       0.72      0.76      0.74      2000\n",
      "weighted avg       0.83      0.81      0.82      2000\n",
      "\n"
     ]
    }
   ],
   "source": [
    "# train\n",
    "\n",
    "# model definition\n",
    "rf_model = RandomForestClassifier(n_estimators=100, min_samples_leaf=100)\n",
    "\n",
    "# fiting model\n",
    "rf_fit = rf_model.fit(X_train_smote, y_train_smote)\n",
    "\n",
    "# predicts\n",
    "y_hat = rf_fit.predict(X_val)\n",
    "\n",
    "print('train')\n",
    "print(classification_report(y_val, y_hat))\n",
    "\n",
    "# test\n",
    "\n",
    "# fiting model\n",
    "rf_fit = rf_model.fit(X_smote, y_smote)\n",
    "\n",
    "# predicts\n",
    "y_hat = rf_fit.predict(X_test)\n",
    "\n",
    "print('test')\n",
    "print(classification_report(y_test, y_hat))"
   ]
  },
  {
   "cell_type": "code",
   "execution_count": 38,
   "id": "955a5b54",
   "metadata": {
    "ExecuteTime": {
     "end_time": "2022-10-23T14:07:57.445017Z",
     "start_time": "2022-10-23T14:07:57.389584Z"
    },
    "hidden": true
   },
   "outputs": [
    {
     "data": {
      "text/html": [
       "<div>\n",
       "<style scoped>\n",
       "    .dataframe tbody tr th:only-of-type {\n",
       "        vertical-align: middle;\n",
       "    }\n",
       "\n",
       "    .dataframe tbody tr th {\n",
       "        vertical-align: top;\n",
       "    }\n",
       "\n",
       "    .dataframe thead th {\n",
       "        text-align: right;\n",
       "    }\n",
       "</style>\n",
       "<table border=\"1\" class=\"dataframe\">\n",
       "  <thead>\n",
       "    <tr style=\"text-align: right;\">\n",
       "      <th></th>\n",
       "      <th>features</th>\n",
       "      <th>rf_importances</th>\n",
       "    </tr>\n",
       "  </thead>\n",
       "  <tbody>\n",
       "    <tr>\n",
       "      <th>0</th>\n",
       "      <td>NumOfProducts</td>\n",
       "      <td>0.402716</td>\n",
       "    </tr>\n",
       "    <tr>\n",
       "      <th>1</th>\n",
       "      <td>Age</td>\n",
       "      <td>0.299007</td>\n",
       "    </tr>\n",
       "    <tr>\n",
       "      <th>2</th>\n",
       "      <td>Geography</td>\n",
       "      <td>0.163926</td>\n",
       "    </tr>\n",
       "    <tr>\n",
       "      <th>3</th>\n",
       "      <td>Balance</td>\n",
       "      <td>0.050441</td>\n",
       "    </tr>\n",
       "    <tr>\n",
       "      <th>4</th>\n",
       "      <td>IsActiveMember</td>\n",
       "      <td>0.042652</td>\n",
       "    </tr>\n",
       "    <tr>\n",
       "      <th>5</th>\n",
       "      <td>Gender</td>\n",
       "      <td>0.017083</td>\n",
       "    </tr>\n",
       "    <tr>\n",
       "      <th>6</th>\n",
       "      <td>EstimatedSalary</td>\n",
       "      <td>0.007684</td>\n",
       "    </tr>\n",
       "    <tr>\n",
       "      <th>7</th>\n",
       "      <td>CreditScore</td>\n",
       "      <td>0.006722</td>\n",
       "    </tr>\n",
       "    <tr>\n",
       "      <th>8</th>\n",
       "      <td>Tenure_cos</td>\n",
       "      <td>0.004571</td>\n",
       "    </tr>\n",
       "    <tr>\n",
       "      <th>9</th>\n",
       "      <td>Tenure_sin</td>\n",
       "      <td>0.004552</td>\n",
       "    </tr>\n",
       "    <tr>\n",
       "      <th>10</th>\n",
       "      <td>HasCrCard</td>\n",
       "      <td>0.000647</td>\n",
       "    </tr>\n",
       "  </tbody>\n",
       "</table>\n",
       "</div>"
      ],
      "text/plain": [
       "           features  rf_importances\n",
       "0     NumOfProducts        0.402716\n",
       "1               Age        0.299007\n",
       "2         Geography        0.163926\n",
       "3           Balance        0.050441\n",
       "4    IsActiveMember        0.042652\n",
       "5            Gender        0.017083\n",
       "6   EstimatedSalary        0.007684\n",
       "7       CreditScore        0.006722\n",
       "8        Tenure_cos        0.004571\n",
       "9        Tenure_sin        0.004552\n",
       "10        HasCrCard        0.000647"
      ]
     },
     "execution_count": 38,
     "metadata": {},
     "output_type": "execute_result"
    }
   ],
   "source": [
    "cols = df6.drop(['RowNumber', 'CustomerId', 'Exited'], axis=1).columns.to_list()\n",
    "\n",
    "importances = pd.DataFrame(rf_model.feature_importances_, index=cols, columns=['rf_importances']).sort_values('rf_importances', ascending=False).reset_index().rename(columns={'index': 'features'})\n",
    "importances"
   ]
  },
  {
   "cell_type": "code",
   "execution_count": 39,
   "id": "0d06c269",
   "metadata": {
    "ExecuteTime": {
     "end_time": "2022-10-23T14:07:57.733170Z",
     "start_time": "2022-10-23T14:07:57.445515Z"
    },
    "hidden": true
   },
   "outputs": [
    {
     "data": {
      "image/png": "[encoded data removed]",
      "text/plain": [
       "<Figure size 432x288 with 1 Axes>"
      ]
     },
     "metadata": {
      "needs_background": "light"
     },
     "output_type": "display_data"
    }
   ],
   "source": [
    "sns.barplot(data=importances.sort_values('rf_importances', ascending=False), x='rf_importances', y='features', color='r', alpha=0.3)\n",
    "sns.despine(left=True, bottom=True)\n",
    "plt.title('Random Forest')\n",
    "plt.xlabel('')\n",
    "plt.ylabel('');"
   ]
  },
  {
   "cell_type": "markdown",
   "id": "ff720c42",
   "metadata": {
    "heading_collapsed": true,
    "hidden": true
   },
   "source": [
    "## 6.2 Wrapper Method"
   ]
  },
  {
   "cell_type": "markdown",
   "id": "11501417",
   "metadata": {
    "heading_collapsed": true,
    "hidden": true
   },
   "source": [
    "### 6.2.1 Boruta"
   ]
  },
  {
   "cell_type": "code",
   "execution_count": null,
   "id": "be1e7122",
   "metadata": {
    "hidden": true
   },
   "outputs": [],
   "source": []
  },
  {
   "cell_type": "markdown",
   "id": "5d2d4dfc",
   "metadata": {
    "heading_collapsed": true,
    "hidden": true
   },
   "source": [
    "### 6.2.2 RFE"
   ]
  },
  {
   "cell_type": "code",
   "execution_count": null,
   "id": "e911384c",
   "metadata": {
    "hidden": true
   },
   "outputs": [],
   "source": []
  },
  {
   "cell_type": "markdown",
   "id": "38221788",
   "metadata": {
    "heading_collapsed": true,
    "hidden": true
   },
   "source": [
    "## 6.3 Droping Features"
   ]
  },
  {
   "cell_type": "code",
   "execution_count": 40,
   "id": "5ae055c4",
   "metadata": {
    "ExecuteTime": {
     "end_time": "2022-10-23T14:07:57.749004Z",
     "start_time": "2022-10-23T14:07:57.734212Z"
    },
    "hidden": true
   },
   "outputs": [],
   "source": [
    "cols_drop = 'Gender EstimatedSalary CreditScore Tenure_cos Tenure_sin HasCrCard'.split()\n",
    "\n",
    "df6.drop(cols_drop, axis=1, inplace=True)"
   ]
  },
  {
   "cell_type": "markdown",
   "id": "a153a298",
   "metadata": {
    "heading_collapsed": true
   },
   "source": [
    "# 7.0 Machine Learning Modeling"
   ]
  },
  {
   "cell_type": "markdown",
   "id": "b3e64e9d",
   "metadata": {
    "heading_collapsed": true,
    "hidden": true
   },
   "source": [
    "## 7.1 Preprocessing"
   ]
  },
  {
   "cell_type": "code",
   "execution_count": 41,
   "id": "2db62338",
   "metadata": {
    "ExecuteTime": {
     "end_time": "2022-10-23T14:07:57.884216Z",
     "start_time": "2022-10-23T14:07:57.767452Z"
    },
    "hidden": true
   },
   "outputs": [],
   "source": [
    "df7 = df6.copy()\n",
    "error = pd.DataFrame()\n",
    "\n",
    "# spliting X and y\n",
    "X = df7.drop(['RowNumber', 'CustomerId', 'Exited'], axis=1).values\n",
    "y = df7['Exited'].values.ravel()\n",
    "\n",
    "# train and test split\n",
    "X_train, X_val, y_train, y_val = train_test_split(X, y, test_size=0.2, random_state=101)\n",
    "\n",
    "# balancing\n",
    "X_train_smote, y_train_smote = smote.fit_resample(X_train, y_train)\n",
    "X_smote, y_smote = smote.fit_resample(X, y)\n",
    "\n",
    "# test preparation\n",
    "test = test_backup.copy()\n",
    "\n",
    "test.drop(cols_filtering, axis=1, inplace=True)\n",
    "\n",
    "test['Balance'] = ss_balance.transform(test[['Balance']].values)\n",
    "\n",
    "test['CreditScore'] = mm_credit_score.transform(test[['CreditScore']].values)\n",
    "\n",
    "test['EstimatedSalary'] = mm_estimatedsalary.transform(test[['EstimatedSalary']].values)\n",
    "\n",
    "test['Age'] = np.log1p(test['Age'])\n",
    "\n",
    "test['Geography'] = test['Geography'].map(map_geography)\n",
    "\n",
    "test['Gender'] = test['Gender'].map(map_gender)\n",
    "\n",
    "test['NumOfProducts'] = test['NumOfProducts'].map(map_numofproducts)\n",
    "\n",
    "test['Tenure_sin'] = test['Tenure'].apply(lambda x: np.sin(x* (2*np.pi/tenure_cicle)))\n",
    "test['Tenure_cos'] = test['Tenure'].apply(lambda x: np.cos(x* (2*np.pi/tenure_cicle)))\n",
    "test.drop('Tenure', axis=1, inplace=True)\n",
    "\n",
    "# feature_selection\n",
    "test.drop(cols_drop, axis=1, inplace=True)\n",
    "\n",
    "# spliting X and y\n",
    "X_test = test.drop(['RowNumber', 'CustomerId', 'Exited'], axis=1).values\n",
    "y_test = test['Exited'].values.ravel()"
   ]
  },
  {
   "cell_type": "markdown",
   "id": "2efb3a76",
   "metadata": {
    "heading_collapsed": true,
    "hidden": true
   },
   "source": [
    "## 7.2 Logistic Regression"
   ]
  },
  {
   "cell_type": "code",
   "execution_count": 42,
   "id": "40a2225f",
   "metadata": {
    "ExecuteTime": {
     "end_time": "2022-10-23T14:07:58.093103Z",
     "start_time": "2022-10-23T14:07:57.885560Z"
    },
    "hidden": true,
    "scrolled": false
   },
   "outputs": [
    {
     "name": "stdout",
     "output_type": "stream",
     "text": [
      "TRAIN\n",
      "              precision    recall  f1-score   support\n",
      "\n",
      "           0       0.92      0.75      0.83      1265\n",
      "           1       0.45      0.76      0.57       335\n",
      "\n",
      "    accuracy                           0.76      1600\n",
      "   macro avg       0.69      0.76      0.70      1600\n",
      "weighted avg       0.82      0.76      0.78      1600\n",
      "\n",
      "\n",
      "TEST\n",
      "              precision    recall  f1-score   support\n",
      "\n",
      "           0       0.92      0.77      0.84      1577\n",
      "           1       0.47      0.76      0.58       423\n",
      "\n",
      "    accuracy                           0.77      2000\n",
      "   macro avg       0.70      0.77      0.71      2000\n",
      "weighted avg       0.83      0.77      0.79      2000\n",
      "\n"
     ]
    }
   ],
   "source": [
    "lr_model = LogisticRegression()\n",
    "\n",
    "lr_proba_train, lr_proba_test = metrics(X, X_smote, y_smote, X_train_smote, y_train_smote, X_val, y_val, lr_model)"
   ]
  },
  {
   "cell_type": "markdown",
   "id": "d5764779",
   "metadata": {
    "heading_collapsed": true,
    "hidden": true
   },
   "source": [
    "### 7.2.1 Logistic Regression Cross Validation"
   ]
  },
  {
   "cell_type": "code",
   "execution_count": 43,
   "id": "f464a700",
   "metadata": {
    "ExecuteTime": {
     "end_time": "2022-10-23T14:07:58.583281Z",
     "start_time": "2022-10-23T14:07:58.093103Z"
    },
    "hidden": true
   },
   "outputs": [
    {
     "data": {
      "text/html": [
       "<div>\n",
       "<style scoped>\n",
       "    .dataframe tbody tr th:only-of-type {\n",
       "        vertical-align: middle;\n",
       "    }\n",
       "\n",
       "    .dataframe tbody tr th {\n",
       "        vertical-align: top;\n",
       "    }\n",
       "\n",
       "    .dataframe thead th {\n",
       "        text-align: right;\n",
       "    }\n",
       "</style>\n",
       "<table border=\"1\" class=\"dataframe\">\n",
       "  <thead>\n",
       "    <tr style=\"text-align: right;\">\n",
       "      <th></th>\n",
       "      <th>accuracy</th>\n",
       "      <th>precision</th>\n",
       "      <th>recall</th>\n",
       "      <th>f1</th>\n",
       "    </tr>\n",
       "  </thead>\n",
       "  <tbody>\n",
       "    <tr>\n",
       "      <th>fold1</th>\n",
       "      <td>0.75</td>\n",
       "      <td>0.76</td>\n",
       "      <td>0.74</td>\n",
       "      <td>0.75</td>\n",
       "    </tr>\n",
       "    <tr>\n",
       "      <th>fold2</th>\n",
       "      <td>0.75</td>\n",
       "      <td>0.77</td>\n",
       "      <td>0.73</td>\n",
       "      <td>0.75</td>\n",
       "    </tr>\n",
       "    <tr>\n",
       "      <th>fold3</th>\n",
       "      <td>0.75</td>\n",
       "      <td>0.74</td>\n",
       "      <td>0.75</td>\n",
       "      <td>0.75</td>\n",
       "    </tr>\n",
       "    <tr>\n",
       "      <th>fold4</th>\n",
       "      <td>0.75</td>\n",
       "      <td>0.76</td>\n",
       "      <td>0.74</td>\n",
       "      <td>0.75</td>\n",
       "    </tr>\n",
       "    <tr>\n",
       "      <th>fold5</th>\n",
       "      <td>0.75</td>\n",
       "      <td>0.77</td>\n",
       "      <td>0.73</td>\n",
       "      <td>0.75</td>\n",
       "    </tr>\n",
       "    <tr>\n",
       "      <th>mean_and_std</th>\n",
       "      <td>0.75 +/- 0.002</td>\n",
       "      <td>0.76 +/- 0.009</td>\n",
       "      <td>0.74 +/- 0.007</td>\n",
       "      <td>0.75 +/- 0.002</td>\n",
       "    </tr>\n",
       "  </tbody>\n",
       "</table>\n",
       "</div>"
      ],
      "text/plain": [
       "                    accuracy       precision          recall              f1\n",
       "fold1                   0.75            0.76            0.74            0.75\n",
       "fold2                   0.75            0.77            0.73            0.75\n",
       "fold3                   0.75            0.74            0.75            0.75\n",
       "fold4                   0.75            0.76            0.74            0.75\n",
       "fold5                   0.75            0.77            0.73            0.75\n",
       "mean_and_std  0.75 +/- 0.002  0.76 +/- 0.009  0.74 +/- 0.007  0.75 +/- 0.002"
      ]
     },
     "execution_count": 43,
     "metadata": {},
     "output_type": "execute_result"
    }
   ],
   "source": [
    "lr_cross_validation, error = cross_validation(X_smote, y_smote, error, 5, 'Linear Regression', lr_model)\n",
    "lr_cross_validation"
   ]
  },
  {
   "cell_type": "markdown",
   "id": "48d654c5",
   "metadata": {
    "heading_collapsed": true,
    "hidden": true
   },
   "source": [
    "## 7.3 KNN"
   ]
  },
  {
   "cell_type": "code",
   "execution_count": 44,
   "id": "1515218c",
   "metadata": {
    "ExecuteTime": {
     "end_time": "2022-10-23T14:07:59.117496Z",
     "start_time": "2022-10-23T14:07:58.588485Z"
    },
    "hidden": true,
    "scrolled": false
   },
   "outputs": [
    {
     "name": "stdout",
     "output_type": "stream",
     "text": [
      "TRAIN\n",
      "              precision    recall  f1-score   support\n",
      "\n",
      "           0       0.90      0.82      0.86      1265\n",
      "           1       0.49      0.67      0.57       335\n",
      "\n",
      "    accuracy                           0.79      1600\n",
      "   macro avg       0.70      0.74      0.71      1600\n",
      "weighted avg       0.82      0.79      0.80      1600\n",
      "\n",
      "\n",
      "TEST\n",
      "              precision    recall  f1-score   support\n",
      "\n",
      "           0       0.91      0.80      0.85      1577\n",
      "           1       0.49      0.72      0.58       423\n",
      "\n",
      "    accuracy                           0.78      2000\n",
      "   macro avg       0.70      0.76      0.72      2000\n",
      "weighted avg       0.82      0.78      0.80      2000\n",
      "\n"
     ]
    }
   ],
   "source": [
    "knn_model = KNeighborsClassifier()\n",
    "\n",
    "knn_proba_train, knn_proba_test = metrics(X, X_smote, y_smote, X_train_smote, y_train_smote, X_val, y_val, knn_model)"
   ]
  },
  {
   "cell_type": "markdown",
   "id": "dd01fd5f",
   "metadata": {
    "heading_collapsed": true,
    "hidden": true
   },
   "source": [
    "### 7.3.1 KNN Cross Validation"
   ]
  },
  {
   "cell_type": "code",
   "execution_count": 45,
   "id": "5a94e510",
   "metadata": {
    "ExecuteTime": {
     "end_time": "2022-10-23T14:08:00.082923Z",
     "start_time": "2022-10-23T14:07:59.117496Z"
    },
    "hidden": true
   },
   "outputs": [
    {
     "data": {
      "text/html": [
       "<div>\n",
       "<style scoped>\n",
       "    .dataframe tbody tr th:only-of-type {\n",
       "        vertical-align: middle;\n",
       "    }\n",
       "\n",
       "    .dataframe tbody tr th {\n",
       "        vertical-align: top;\n",
       "    }\n",
       "\n",
       "    .dataframe thead th {\n",
       "        text-align: right;\n",
       "    }\n",
       "</style>\n",
       "<table border=\"1\" class=\"dataframe\">\n",
       "  <thead>\n",
       "    <tr style=\"text-align: right;\">\n",
       "      <th></th>\n",
       "      <th>accuracy</th>\n",
       "      <th>precision</th>\n",
       "      <th>recall</th>\n",
       "      <th>f1</th>\n",
       "    </tr>\n",
       "  </thead>\n",
       "  <tbody>\n",
       "    <tr>\n",
       "      <th>fold1</th>\n",
       "      <td>0.81</td>\n",
       "      <td>0.8</td>\n",
       "      <td>0.83</td>\n",
       "      <td>0.82</td>\n",
       "    </tr>\n",
       "    <tr>\n",
       "      <th>fold2</th>\n",
       "      <td>0.83</td>\n",
       "      <td>0.82</td>\n",
       "      <td>0.85</td>\n",
       "      <td>0.83</td>\n",
       "    </tr>\n",
       "    <tr>\n",
       "      <th>fold3</th>\n",
       "      <td>0.84</td>\n",
       "      <td>0.83</td>\n",
       "      <td>0.84</td>\n",
       "      <td>0.84</td>\n",
       "    </tr>\n",
       "    <tr>\n",
       "      <th>fold4</th>\n",
       "      <td>0.82</td>\n",
       "      <td>0.8</td>\n",
       "      <td>0.84</td>\n",
       "      <td>0.82</td>\n",
       "    </tr>\n",
       "    <tr>\n",
       "      <th>fold5</th>\n",
       "      <td>0.82</td>\n",
       "      <td>0.81</td>\n",
       "      <td>0.83</td>\n",
       "      <td>0.82</td>\n",
       "    </tr>\n",
       "    <tr>\n",
       "      <th>mean_and_std</th>\n",
       "      <td>0.82 +/- 0.008</td>\n",
       "      <td>0.81 +/- 0.009</td>\n",
       "      <td>0.84 +/- 0.009</td>\n",
       "      <td>0.83 +/- 0.008</td>\n",
       "    </tr>\n",
       "  </tbody>\n",
       "</table>\n",
       "</div>"
      ],
      "text/plain": [
       "                    accuracy       precision          recall              f1\n",
       "fold1                   0.81             0.8            0.83            0.82\n",
       "fold2                   0.83            0.82            0.85            0.83\n",
       "fold3                   0.84            0.83            0.84            0.84\n",
       "fold4                   0.82             0.8            0.84            0.82\n",
       "fold5                   0.82            0.81            0.83            0.82\n",
       "mean_and_std  0.82 +/- 0.008  0.81 +/- 0.009  0.84 +/- 0.009  0.83 +/- 0.008"
      ]
     },
     "execution_count": 45,
     "metadata": {},
     "output_type": "execute_result"
    }
   ],
   "source": [
    "knn_cross_validation, error = cross_validation(X_smote, y_smote, error, 5, 'K-Neighbors', knn_model)\n",
    "knn_cross_validation"
   ]
  },
  {
   "cell_type": "markdown",
   "id": "3b9e2f55",
   "metadata": {
    "heading_collapsed": true,
    "hidden": true
   },
   "source": [
    "## 7.4 XGBoost"
   ]
  },
  {
   "cell_type": "code",
   "execution_count": 46,
   "id": "e2487a51",
   "metadata": {
    "ExecuteTime": {
     "end_time": "2022-10-23T14:08:01.774041Z",
     "start_time": "2022-10-23T14:08:00.085867Z"
    },
    "hidden": true,
    "scrolled": false
   },
   "outputs": [
    {
     "name": "stdout",
     "output_type": "stream",
     "text": [
      "TRAIN\n",
      "              precision    recall  f1-score   support\n",
      "\n",
      "           0       0.89      0.92      0.91      1265\n",
      "           1       0.66      0.59      0.62       335\n",
      "\n",
      "    accuracy                           0.85      1600\n",
      "   macro avg       0.78      0.75      0.76      1600\n",
      "weighted avg       0.84      0.85      0.85      1600\n",
      "\n",
      "\n",
      "TEST\n",
      "              precision    recall  f1-score   support\n",
      "\n",
      "           0       0.90      0.90      0.90      1577\n",
      "           1       0.64      0.63      0.63       423\n",
      "\n",
      "    accuracy                           0.85      2000\n",
      "   macro avg       0.77      0.77      0.77      2000\n",
      "weighted avg       0.84      0.85      0.85      2000\n",
      "\n"
     ]
    }
   ],
   "source": [
    "xgb_model = XGBClassifier(use_label_encoder=False, eval_metric='error')\n",
    "\n",
    "xgb_proba_train, xgb_proba_test = metrics(X, X_smote, y_smote, X_train_smote, y_train_smote, X_val, y_val, xgb_model)"
   ]
  },
  {
   "cell_type": "markdown",
   "id": "5e1ab2ff",
   "metadata": {
    "heading_collapsed": true,
    "hidden": true
   },
   "source": [
    "### 7.3.1 XGBoost Cross Validation"
   ]
  },
  {
   "cell_type": "code",
   "execution_count": 47,
   "id": "0cb78a05",
   "metadata": {
    "ExecuteTime": {
     "end_time": "2022-10-23T14:08:05.500916Z",
     "start_time": "2022-10-23T14:08:01.774469Z"
    },
    "hidden": true
   },
   "outputs": [
    {
     "data": {
      "text/html": [
       "<div>\n",
       "<style scoped>\n",
       "    .dataframe tbody tr th:only-of-type {\n",
       "        vertical-align: middle;\n",
       "    }\n",
       "\n",
       "    .dataframe tbody tr th {\n",
       "        vertical-align: top;\n",
       "    }\n",
       "\n",
       "    .dataframe thead th {\n",
       "        text-align: right;\n",
       "    }\n",
       "</style>\n",
       "<table border=\"1\" class=\"dataframe\">\n",
       "  <thead>\n",
       "    <tr style=\"text-align: right;\">\n",
       "      <th></th>\n",
       "      <th>accuracy</th>\n",
       "      <th>precision</th>\n",
       "      <th>recall</th>\n",
       "      <th>f1</th>\n",
       "    </tr>\n",
       "  </thead>\n",
       "  <tbody>\n",
       "    <tr>\n",
       "      <th>fold1</th>\n",
       "      <td>0.9</td>\n",
       "      <td>0.9</td>\n",
       "      <td>0.89</td>\n",
       "      <td>0.89</td>\n",
       "    </tr>\n",
       "    <tr>\n",
       "      <th>fold2</th>\n",
       "      <td>0.89</td>\n",
       "      <td>0.92</td>\n",
       "      <td>0.87</td>\n",
       "      <td>0.89</td>\n",
       "    </tr>\n",
       "    <tr>\n",
       "      <th>fold3</th>\n",
       "      <td>0.89</td>\n",
       "      <td>0.92</td>\n",
       "      <td>0.87</td>\n",
       "      <td>0.89</td>\n",
       "    </tr>\n",
       "    <tr>\n",
       "      <th>fold4</th>\n",
       "      <td>0.89</td>\n",
       "      <td>0.91</td>\n",
       "      <td>0.87</td>\n",
       "      <td>0.89</td>\n",
       "    </tr>\n",
       "    <tr>\n",
       "      <th>fold5</th>\n",
       "      <td>0.89</td>\n",
       "      <td>0.89</td>\n",
       "      <td>0.88</td>\n",
       "      <td>0.89</td>\n",
       "    </tr>\n",
       "    <tr>\n",
       "      <th>mean_and_std</th>\n",
       "      <td>0.89 +/- 0.003</td>\n",
       "      <td>0.91 +/- 0.011</td>\n",
       "      <td>0.87 +/- 0.008</td>\n",
       "      <td>0.89 +/- 0.002</td>\n",
       "    </tr>\n",
       "  </tbody>\n",
       "</table>\n",
       "</div>"
      ],
      "text/plain": [
       "                    accuracy       precision          recall              f1\n",
       "fold1                    0.9             0.9            0.89            0.89\n",
       "fold2                   0.89            0.92            0.87            0.89\n",
       "fold3                   0.89            0.92            0.87            0.89\n",
       "fold4                   0.89            0.91            0.87            0.89\n",
       "fold5                   0.89            0.89            0.88            0.89\n",
       "mean_and_std  0.89 +/- 0.003  0.91 +/- 0.011  0.87 +/- 0.008  0.89 +/- 0.002"
      ]
     },
     "execution_count": 47,
     "metadata": {},
     "output_type": "execute_result"
    }
   ],
   "source": [
    "xgb_cross_validation, error = cross_validation(X_smote, y_smote, error, 5, 'XGBoost', xgb_model)\n",
    "xgb_cross_validation"
   ]
  },
  {
   "cell_type": "markdown",
   "id": "ed05f560",
   "metadata": {
    "heading_collapsed": true,
    "hidden": true
   },
   "source": [
    "## 7.5 Random Forest Classifier"
   ]
  },
  {
   "cell_type": "code",
   "execution_count": 48,
   "id": "7b9b831f",
   "metadata": {
    "ExecuteTime": {
     "end_time": "2022-10-23T14:08:07.887709Z",
     "start_time": "2022-10-23T14:08:05.502089Z"
    },
    "hidden": true,
    "scrolled": false
   },
   "outputs": [
    {
     "name": "stdout",
     "output_type": "stream",
     "text": [
      "TRAIN\n",
      "              precision    recall  f1-score   support\n",
      "\n",
      "           0       0.92      0.81      0.86      1265\n",
      "           1       0.51      0.74      0.61       335\n",
      "\n",
      "    accuracy                           0.80      1600\n",
      "   macro avg       0.72      0.78      0.74      1600\n",
      "weighted avg       0.84      0.80      0.81      1600\n",
      "\n",
      "\n",
      "TEST\n",
      "              precision    recall  f1-score   support\n",
      "\n",
      "           0       0.92      0.82      0.87      1577\n",
      "           1       0.52      0.75      0.62       423\n",
      "\n",
      "    accuracy                           0.80      2000\n",
      "   macro avg       0.72      0.78      0.74      2000\n",
      "weighted avg       0.84      0.80      0.81      2000\n",
      "\n"
     ]
    }
   ],
   "source": [
    "rf_model = RandomForestClassifier(n_estimators=100, min_samples_leaf=100)\n",
    "\n",
    "rf_proba_train, rf_proba_test = metrics(X, X_smote, y_smote, X_train_smote, y_train_smote, X_val, y_val, rf_model)"
   ]
  },
  {
   "cell_type": "markdown",
   "id": "f90b1f7f",
   "metadata": {
    "heading_collapsed": true,
    "hidden": true
   },
   "source": [
    "### 7.4.1 Random Forest Cross Validation"
   ]
  },
  {
   "cell_type": "code",
   "execution_count": 49,
   "id": "8b7a9f7c",
   "metadata": {
    "ExecuteTime": {
     "end_time": "2022-10-23T14:08:12.693155Z",
     "start_time": "2022-10-23T14:08:07.892254Z"
    },
    "hidden": true
   },
   "outputs": [
    {
     "data": {
      "text/html": [
       "<div>\n",
       "<style scoped>\n",
       "    .dataframe tbody tr th:only-of-type {\n",
       "        vertical-align: middle;\n",
       "    }\n",
       "\n",
       "    .dataframe tbody tr th {\n",
       "        vertical-align: top;\n",
       "    }\n",
       "\n",
       "    .dataframe thead th {\n",
       "        text-align: right;\n",
       "    }\n",
       "</style>\n",
       "<table border=\"1\" class=\"dataframe\">\n",
       "  <thead>\n",
       "    <tr style=\"text-align: right;\">\n",
       "      <th></th>\n",
       "      <th>accuracy</th>\n",
       "      <th>precision</th>\n",
       "      <th>recall</th>\n",
       "      <th>f1</th>\n",
       "    </tr>\n",
       "  </thead>\n",
       "  <tbody>\n",
       "    <tr>\n",
       "      <th>fold1</th>\n",
       "      <td>0.81</td>\n",
       "      <td>0.81</td>\n",
       "      <td>0.82</td>\n",
       "      <td>0.81</td>\n",
       "    </tr>\n",
       "    <tr>\n",
       "      <th>fold2</th>\n",
       "      <td>0.79</td>\n",
       "      <td>0.81</td>\n",
       "      <td>0.76</td>\n",
       "      <td>0.78</td>\n",
       "    </tr>\n",
       "    <tr>\n",
       "      <th>fold3</th>\n",
       "      <td>0.8</td>\n",
       "      <td>0.81</td>\n",
       "      <td>0.79</td>\n",
       "      <td>0.8</td>\n",
       "    </tr>\n",
       "    <tr>\n",
       "      <th>fold4</th>\n",
       "      <td>0.8</td>\n",
       "      <td>0.78</td>\n",
       "      <td>0.81</td>\n",
       "      <td>0.79</td>\n",
       "    </tr>\n",
       "    <tr>\n",
       "      <th>fold5</th>\n",
       "      <td>0.8</td>\n",
       "      <td>0.8</td>\n",
       "      <td>0.8</td>\n",
       "      <td>0.8</td>\n",
       "    </tr>\n",
       "    <tr>\n",
       "      <th>mean_and_std</th>\n",
       "      <td>0.8 +/- 0.007</td>\n",
       "      <td>0.8 +/- 0.011</td>\n",
       "      <td>0.79 +/- 0.02</td>\n",
       "      <td>0.8 +/- 0.009</td>\n",
       "    </tr>\n",
       "  </tbody>\n",
       "</table>\n",
       "</div>"
      ],
      "text/plain": [
       "                   accuracy      precision         recall             f1\n",
       "fold1                  0.81           0.81           0.82           0.81\n",
       "fold2                  0.79           0.81           0.76           0.78\n",
       "fold3                   0.8           0.81           0.79            0.8\n",
       "fold4                   0.8           0.78           0.81           0.79\n",
       "fold5                   0.8            0.8            0.8            0.8\n",
       "mean_and_std  0.8 +/- 0.007  0.8 +/- 0.011  0.79 +/- 0.02  0.8 +/- 0.009"
      ]
     },
     "execution_count": 49,
     "metadata": {},
     "output_type": "execute_result"
    }
   ],
   "source": [
    "rf_cross_validation, error = cross_validation(X_smote, y_smote, error, 5, 'Random Forest', rf_model)\n",
    "rf_cross_validation"
   ]
  },
  {
   "cell_type": "markdown",
   "id": "cbe5966c",
   "metadata": {
    "heading_collapsed": true
   },
   "source": [
    "# 8.0 Model Performance"
   ]
  },
  {
   "cell_type": "code",
   "execution_count": 50,
   "id": "20328ab4",
   "metadata": {
    "ExecuteTime": {
     "end_time": "2022-10-23T14:08:12.716099Z",
     "start_time": "2022-10-23T14:08:12.696139Z"
    },
    "hidden": true
   },
   "outputs": [],
   "source": [
    "test['EstimatedSalary'] = test['CustomerId'].map(map_test_id_salary)\n",
    "df8 = test.copy()\n",
    "baseline_lengh = df8.shape[0]"
   ]
  },
  {
   "cell_type": "markdown",
   "id": "a4b7079f",
   "metadata": {
    "heading_collapsed": true,
    "hidden": true
   },
   "source": [
    "## 8.1 Machine Learning Performance"
   ]
  },
  {
   "cell_type": "code",
   "execution_count": 51,
   "id": "8d1d39cc",
   "metadata": {
    "ExecuteTime": {
     "end_time": "2022-10-23T14:08:12.744834Z",
     "start_time": "2022-10-23T14:08:12.720357Z"
    },
    "hidden": true,
    "hide_input": true,
    "scrolled": false
   },
   "outputs": [
    {
     "data": {
      "text/html": [
       "<div>\n",
       "<style scoped>\n",
       "    .dataframe tbody tr th:only-of-type {\n",
       "        vertical-align: middle;\n",
       "    }\n",
       "\n",
       "    .dataframe tbody tr th {\n",
       "        vertical-align: top;\n",
       "    }\n",
       "\n",
       "    .dataframe thead th {\n",
       "        text-align: right;\n",
       "    }\n",
       "</style>\n",
       "<table border=\"1\" class=\"dataframe\">\n",
       "  <thead>\n",
       "    <tr style=\"text-align: right;\">\n",
       "      <th></th>\n",
       "      <th>accuracy</th>\n",
       "      <th>precision</th>\n",
       "      <th>recall</th>\n",
       "      <th>f1</th>\n",
       "    </tr>\n",
       "  </thead>\n",
       "  <tbody>\n",
       "    <tr>\n",
       "      <th>Linear Regression</th>\n",
       "      <td>0.75 +/- 0.002</td>\n",
       "      <td>0.76 +/- 0.009</td>\n",
       "      <td>0.74 +/- 0.007</td>\n",
       "      <td>0.75 +/- 0.002</td>\n",
       "    </tr>\n",
       "    <tr>\n",
       "      <th>K-Neighbors</th>\n",
       "      <td>0.82 +/- 0.008</td>\n",
       "      <td>0.81 +/- 0.009</td>\n",
       "      <td>0.84 +/- 0.009</td>\n",
       "      <td>0.83 +/- 0.008</td>\n",
       "    </tr>\n",
       "    <tr>\n",
       "      <th>XGBoost</th>\n",
       "      <td>0.89 +/- 0.003</td>\n",
       "      <td>0.91 +/- 0.011</td>\n",
       "      <td>0.87 +/- 0.008</td>\n",
       "      <td>0.89 +/- 0.002</td>\n",
       "    </tr>\n",
       "    <tr>\n",
       "      <th>Random Forest</th>\n",
       "      <td>0.8 +/- 0.007</td>\n",
       "      <td>0.8 +/- 0.011</td>\n",
       "      <td>0.79 +/- 0.02</td>\n",
       "      <td>0.8 +/- 0.009</td>\n",
       "    </tr>\n",
       "  </tbody>\n",
       "</table>\n",
       "</div>"
      ],
      "text/plain": [
       "                         accuracy       precision          recall  \\\n",
       "Linear Regression  0.75 +/- 0.002  0.76 +/- 0.009  0.74 +/- 0.007   \n",
       "K-Neighbors        0.82 +/- 0.008  0.81 +/- 0.009  0.84 +/- 0.009   \n",
       "XGBoost            0.89 +/- 0.003  0.91 +/- 0.011  0.87 +/- 0.008   \n",
       "Random Forest       0.8 +/- 0.007   0.8 +/- 0.011   0.79 +/- 0.02   \n",
       "\n",
       "                               f1  \n",
       "Linear Regression  0.75 +/- 0.002  \n",
       "K-Neighbors        0.83 +/- 0.008  \n",
       "XGBoost            0.89 +/- 0.002  \n",
       "Random Forest       0.8 +/- 0.009  "
      ]
     },
     "execution_count": 51,
     "metadata": {},
     "output_type": "execute_result"
    }
   ],
   "source": [
    "error.T"
   ]
  },
  {
   "cell_type": "markdown",
   "id": "7df148e8",
   "metadata": {
    "hidden": true
   },
   "source": [
    "O modelo escolhido para seguir para estudos sobre Business e Produção foi o XGBoost."
   ]
  },
  {
   "cell_type": "code",
   "execution_count": 52,
   "id": "152b7395",
   "metadata": {
    "ExecuteTime": {
     "end_time": "2022-10-23T14:08:13.400219Z",
     "start_time": "2022-10-23T14:08:12.744834Z"
    },
    "hidden": true,
    "hide_input": false,
    "scrolled": true
   },
   "outputs": [
    {
     "data": {
      "image/png": "[encoded data removed]",
      "text/plain": [
       "<Figure size 432x288 with 1 Axes>"
      ]
     },
     "metadata": {
      "needs_background": "light"
     },
     "output_type": "display_data"
    }
   ],
   "source": [
    "df8['propensity'] = xgb_proba_test[:, 1]\n",
    "\n",
    "cols = 'CustomerId EstimatedSalary Exited propensity'.split()\n",
    "\n",
    "df8 = df8[cols]\n",
    "df8 = df8.sort_values('propensity', ascending=False)\n",
    "df8['cum_exited'] = np.cumsum(df8['Exited'])\n",
    "df8.reset_index(inplace=True, drop=True)\n",
    "df8['ranking'] = df8.index + 1\n",
    "df8['prop_base'] = df8['ranking'] / df8['ranking'].max()\n",
    "df8['prop_cum_exited'] = df8['cum_exited'] / df8['cum_exited'].max()\n",
    "lab = '0.0+ 0.1+ 0.2+ 0.3+ 0.4+ 0.5+ 0.6+ 0.7+ 0.8+ 0.9+'.split()\n",
    "df8['probability_bin'] = pd.cut(df8['propensity'], 10, labels=lab)\n",
    "df8.loc[df8['prop_base'] <= df8['Exited'].mean(), 'perfect_gain_curve'] = 1\n",
    "df8['perfect_gain_curve'].fillna(0, inplace=True)\n",
    "df8['perfect_gain_curve'] = np.cumsum(df8['perfect_gain_curve'])\n",
    "df8['perfect_gain_curve'] = df8['perfect_gain_curve'] / df8['perfect_gain_curve'].max()\n",
    "\n",
    "sns.barplot(data=df8, x='probability_bin', y='Exited', color='b')\n",
    "sns.despine()\n",
    "plt.hlines(y=df8['Exited'].mean(), xmin=0, xmax=10, color='r', linestyles='--')\n",
    "plt.title('Exited by Probability Ranges', fontsize=20);"
   ]
  },
  {
   "cell_type": "markdown",
   "id": "030d7367",
   "metadata": {
    "hidden": true
   },
   "source": [
    "O modelo está calculando probabilidades bastante condizentes com o churn. Com uma variância bastante alta, possivelmente por conta da baixa quantidade na amostra test"
   ]
  },
  {
   "cell_type": "code",
   "execution_count": 53,
   "id": "8d91bf42",
   "metadata": {
    "ExecuteTime": {
     "end_time": "2022-10-23T14:08:13.943007Z",
     "start_time": "2022-10-23T14:08:13.404903Z"
    },
    "hidden": true,
    "hide_input": false,
    "scrolled": true
   },
   "outputs": [
    {
     "data": {
      "image/png": "[encoded data removed]",
      "text/plain": [
       "<Figure size 432x288 with 1 Axes>"
      ]
     },
     "metadata": {
      "needs_background": "light"
     },
     "output_type": "display_data"
    }
   ],
   "source": [
    "sns.lineplot(data=df8, x='prop_base', y='prop_base', linestyle='--', label='Baseline', color='black', linewidth=0.8)\n",
    "sns.lineplot(data=df8, x='prop_base', y='prop_cum_exited', color='r', label='Xgboost Model')\n",
    "sns.lineplot(data=df8, x='prop_base', y='perfect_gain_curve', color='b', label='Perfect Curve', linestyle='--', linewidth=0.8)\n",
    "plt.title('Cumulative Gain Curve', fontsize=20)\n",
    "sns.despine()\n",
    "plt.xlabel('Porcentagem da Base')\n",
    "plt.ylabel('True Positive Recall');"
   ]
  },
  {
   "cell_type": "markdown",
   "id": "4fcc52bb",
   "metadata": {
    "hidden": true
   },
   "source": [
    "Variância alta. Com o dataset ranqueado por probabilidade de churn, pegando 20% do topo das amostras, conseguimos alcançar 65% de todos os clientes que fizeram churn"
   ]
  },
  {
   "cell_type": "markdown",
   "id": "88b287b5",
   "metadata": {
    "heading_collapsed": true,
    "hidden": true
   },
   "source": [
    "## 8.2 Business Performance"
   ]
  },
  {
   "cell_type": "markdown",
   "id": "0004ca63",
   "metadata": {
    "heading_collapsed": true,
    "hidden": true
   },
   "source": [
    "#### Resgras e Restrições para a Ação de Retenção:\n",
    "\n",
    "- Clientes com propensidade de churn maior que 99% - Farão churn não importa o que se faça\n",
    "- Clientes com propensidade de churn entre 95% e 99% receberão 200,00 de Gift Card\n",
    "- Clientes com propensidade de churn entre 90% e 95% receberão 100,00 de Gift Card\n",
    "- Clientes com propensidade de churn abaixo de 90% receberão 50,00 de Gift Card\n",
    "- O total de budgit para a ação é de 10.000,00"
   ]
  },
  {
   "cell_type": "markdown",
   "id": "61314665",
   "metadata": {
    "heading_collapsed": true,
    "hidden": true
   },
   "source": [
    "### 8.2.1 Baseline Model Before Gift Cards"
   ]
  },
  {
   "cell_type": "code",
   "execution_count": 54,
   "id": "57d611d5",
   "metadata": {
    "ExecuteTime": {
     "end_time": "2022-10-23T14:08:13.972239Z",
     "start_time": "2022-10-23T14:08:13.943007Z"
    },
    "hidden": true
   },
   "outputs": [],
   "source": [
    "mean_of_churn = df['Exited'].mean()\n",
    "mean_salary = df['EstimatedSalary'].mean()\n",
    "\n",
    "baseline = test.copy()\n",
    "\n",
    "baseline['propensity'] = xgb_proba_test[:, 1]\n",
    "baseline['revenue'] = baseline['EstimatedSalary'].apply(lambda x: x * 0.15 if x <= mean_salary else x * 0.2)/12"
   ]
  },
  {
   "cell_type": "code",
   "execution_count": 55,
   "id": "5e32e337",
   "metadata": {
    "ExecuteTime": {
     "end_time": "2022-10-23T14:08:13.994260Z",
     "start_time": "2022-10-23T14:08:13.972239Z"
    },
    "hidden": true,
    "hide_input": false,
    "scrolled": true
   },
   "outputs": [
    {
     "name": "stdout",
     "output_type": "stream",
     "text": [
      "Total Revenue before clients left: 3093136.16\n"
     ]
    }
   ],
   "source": [
    "basline_total_revenue = baseline['revenue'].sum()\n",
    "print(f\"Total Revenue before clients left: {basline_total_revenue:.2f}\")"
   ]
  },
  {
   "cell_type": "code",
   "execution_count": 56,
   "id": "e62fd044",
   "metadata": {
    "ExecuteTime": {
     "end_time": "2022-10-23T14:08:14.010148Z",
     "start_time": "2022-10-23T14:08:13.994260Z"
    },
    "hidden": true,
    "hide_input": false
   },
   "outputs": [
    {
     "name": "stdout",
     "output_type": "stream",
     "text": [
      "Total lost revenue after Gift Cards: 659906.83\n"
     ]
    }
   ],
   "source": [
    "baseline_lost_revenue = baseline.loc[baseline['Exited']==1, 'revenue'].sum()\n",
    "print(f\"Total lost revenue after Gift Cards: {baseline_lost_revenue:.2f}\")"
   ]
  },
  {
   "cell_type": "markdown",
   "id": "246132bb",
   "metadata": {
    "heading_collapsed": true,
    "hidden": true
   },
   "source": [
    "### 8.2.2 After Gift Cards Action trought Random Choice Methods"
   ]
  },
  {
   "cell_type": "code",
   "execution_count": 57,
   "id": "22722985",
   "metadata": {
    "ExecuteTime": {
     "end_time": "2022-10-23T14:08:14.098740Z",
     "start_time": "2022-10-23T14:08:14.013773Z"
    },
    "hidden": true,
    "hide_input": false,
    "scrolled": true
   },
   "outputs": [
    {
     "name": "stdout",
     "output_type": "stream",
     "text": [
      "O ROI total esperado sobre 2000 clientes: $6064.03\n"
     ]
    }
   ],
   "source": [
    "baseline['gift_card_value'] = 0\n",
    "\n",
    "random_sample_index = baseline.sample(100).index\n",
    "baseline.loc[random_sample_index, 'gift_card_value'] = 100\n",
    "\n",
    "baseline['min_gift_card_value'] = baseline['propensity'].apply(lambda x: 200 if x >= .95 else (100 if x >= 0.9 else 50))\n",
    "\n",
    "baseline.loc[baseline['Exited'] == 1, 'retention'] = baseline.apply(lambda x: 1 if x['gift_card_value'] - x['min_gift_card_value'] >= 0 else 0, axis=1)\n",
    "\n",
    "baseline_total_roi = baseline.loc[baseline['retention']==1, 'revenue'].sum() - 10000\n",
    "\n",
    "print(f'O ROI total esperado sobre {test.shape[0]} clientes: ${baseline_total_roi:.2f}')"
   ]
  },
  {
   "cell_type": "markdown",
   "id": "09f0c0db",
   "metadata": {
    "heading_collapsed": true,
    "hidden": true
   },
   "source": [
    "### 8.2.3 Scoring by Machine Learning Model and Sorting by ROI"
   ]
  },
  {
   "cell_type": "code",
   "execution_count": 58,
   "id": "16950055",
   "metadata": {
    "ExecuteTime": {
     "end_time": "2022-10-23T14:08:14.148700Z",
     "start_time": "2022-10-23T14:08:14.098740Z"
    },
    "hidden": true,
    "hide_input": false,
    "scrolled": true
   },
   "outputs": [
    {
     "name": "stdout",
     "output_type": "stream",
     "text": [
      "O ROI total esperado sobre 2000 clientes: $597068.57\n"
     ]
    }
   ],
   "source": [
    "df8.drop(df8.loc[df8['propensity'] >= 0.99].index, inplace=True)\n",
    "\n",
    "df8['revenue'] = df8['EstimatedSalary'].apply(lambda x: x * 0.15 if x <= mean_salary else x * 0.2)/12\n",
    "df8['gift_card_value'] = df8['propensity'].apply(lambda x: 200 if x >= .95 else (100 if x >= 0.9 else 50))\n",
    "df8['roi'] = df8['revenue'] - df8['gift_card_value']\n",
    "df8.sort_values('roi', ascending=False, inplace=True)\n",
    "df8['cum_gift_card_value'] = np.cumsum(df8['gift_card_value'])\n",
    "df8 = df8.loc[df8['cum_gift_card_value'] <= 10000]\n",
    "df8['total_roi'] = np.cumsum(df8['roi'])\n",
    "\n",
    "ml_total_roi = float(df8['total_roi'].tail(1).values)\n",
    "\n",
    "print(f'O ROI total esperado sobre {test.shape[0]} clientes: ${ml_total_roi:.2f}')"
   ]
  },
  {
   "cell_type": "markdown",
   "id": "9601738e",
   "metadata": {
    "heading_collapsed": true,
    "hidden": true
   },
   "source": [
    "### 8.2.4 Business Lift"
   ]
  },
  {
   "cell_type": "code",
   "execution_count": 59,
   "id": "9dc4abc8",
   "metadata": {
    "ExecuteTime": {
     "end_time": "2022-10-23T14:08:14.164582Z",
     "start_time": "2022-10-23T14:08:14.148700Z"
    },
    "hidden": true,
    "hide_input": false,
    "scrolled": true
   },
   "outputs": [
    {
     "name": "stdout",
     "output_type": "stream",
     "text": [
      "Em uma base com 2000 clientes, utilizando um modelo de Machine Learning para ranquear os clientes de acordo com a sua propensão ao CHURN, e ordenando-os de acordo com o ROI, o modelo obteve um LIFT de: $591004.54 em relação à um método aleatório. O modelo foi melhor em uma razão de: 97X\n"
     ]
    }
   ],
   "source": [
    "lift_total_roi = ml_total_roi - baseline_total_roi\n",
    "prop_lift_total_roi = round(lift_total_roi / baseline_total_roi)\n",
    "\n",
    "print(f\"Em uma base com {baseline_lengh} clientes, utilizando um modelo de Machine Learning para ranquear os clientes de acordo com a sua propensão ao CHURN, e ordenando-os de acordo com o ROI, o modelo obteve um LIFT de: ${lift_total_roi:.2f} em relação à um método aleatório. O modelo foi melhor em uma razão de: {prop_lift_total_roi}X\")"
   ]
  },
  {
   "cell_type": "markdown",
   "id": "c694234c",
   "metadata": {
    "heading_collapsed": true
   },
   "source": [
    "# 9.0 Exports"
   ]
  },
  {
   "cell_type": "code",
   "execution_count": 60,
   "id": "0d0a786a",
   "metadata": {
    "ExecuteTime": {
     "end_time": "2022-10-23T14:08:14.201838Z",
     "start_time": "2022-10-23T14:08:14.168038Z"
    },
    "hidden": true
   },
   "outputs": [],
   "source": [
    "# cols_filtering\n",
    "pickle.dump(cols_filtering, open('D:\\\\My Drive\\\\pessoal\\\\projetos\\\\bank_churn_predict\\\\src\\\\features\\\\cols_filtering.pkl', 'wb'))\n",
    "\n",
    "# cols_drop_split\n",
    "pickle.dump(cols_drop_split, open('D:\\\\My Drive\\\\pessoal\\\\projetos\\\\bank_churn_predict\\\\src\\\\features\\\\cols_drop_split.pkl', 'wb'))\n",
    "\n",
    "# ss_balance\n",
    "pickle.dump(ss_balance, open('D:\\\\My Drive\\\\pessoal\\\\projetos\\\\bank_churn_predict\\\\src\\\\features\\\\ss_balance.pkl', 'wb'))\n",
    "\n",
    "# mm_credit_score\n",
    "pickle.dump(mm_credit_score, open('D:\\\\My Drive\\\\pessoal\\\\projetos\\\\bank_churn_predict\\\\src\\\\features\\\\mm_credit_score.pkl', 'wb'))\n",
    "\n",
    "# mm_estimatedsalary\n",
    "pickle.dump(mm_estimatedsalary, open('D:\\\\My Drive\\\\pessoal\\\\projetos\\\\bank_churn_predict\\\\src\\\\features\\\\mm_estimatedsalary.pkl', 'wb'))\n",
    "\n",
    "# map_geography\n",
    "pickle.dump(map_geography, open('D:\\\\My Drive\\\\pessoal\\\\projetos\\\\bank_churn_predict\\\\src\\\\features\\\\map_geography.pkl', 'wb'))\n",
    "\n",
    "# map_gender\n",
    "pickle.dump(map_gender, open('D:\\\\My Drive\\\\pessoal\\\\projetos\\\\bank_churn_predict\\\\src\\\\features\\\\map_gender.pkl', 'wb'))\n",
    "\n",
    "# map_numofproducts\n",
    "pickle.dump(map_numofproducts, open('D:\\\\My Drive\\\\pessoal\\\\projetos\\\\bank_churn_predict\\\\src\\\\features\\\\map_numofproducts.pkl', 'wb'))\n",
    "\n",
    "# tenure_cicle\n",
    "pickle.dump(tenure_cicle, open('D:\\\\My Drive\\\\pessoal\\\\projetos\\\\bank_churn_predict\\\\src\\\\features\\\\tenure_cicle.pkl', 'wb'))\n",
    "\n",
    "# map_test_id_salary\n",
    "pickle.dump(map_test_id_salary, open('D:\\\\My Drive\\\\pessoal\\\\projetos\\\\bank_churn_predict\\\\src\\\\features\\\\map_test_id_salary.pkl', 'wb'))\n",
    "\n",
    "# tenure_cicle\n",
    "pickle.dump(tenure_cicle, open('D:\\\\My Drive\\\\pessoal\\\\projetos\\\\bank_churn_predict\\\\src\\\\features\\\\tenure_cicle.pkl', 'wb'))\n",
    "\n",
    "# cols_drop\n",
    "pickle.dump(cols_drop, open('D:\\\\My Drive\\\\pessoal\\\\projetos\\\\bank_churn_predict\\\\src\\\\features\\\\cols_drop.pkl', 'wb'))\n",
    "\n",
    "# xgb_model\n",
    "pickle.dump(xgb_model, open('D:\\\\My Drive\\\\pessoal\\\\projetos\\\\bank_churn_predict\\\\src\\\\models\\\\xgb_model.pkl', 'wb'))"
   ]
  },
  {
   "cell_type": "markdown",
   "id": "bb777e4a",
   "metadata": {
    "heading_collapsed": true
   },
   "source": [
    "# 10.0 API Deployed at Heroku"
   ]
  },
  {
   "cell_type": "markdown",
   "id": "38c30563",
   "metadata": {
    "heading_collapsed": true,
    "hidden": true
   },
   "source": [
    "## 10.1 Top_bank Class"
   ]
  },
  {
   "cell_type": "code",
   "execution_count": 61,
   "id": "d346852a",
   "metadata": {
    "ExecuteTime": {
     "end_time": "2022-10-23T14:08:14.221977Z",
     "start_time": "2022-10-23T14:08:14.202333Z"
    },
    "hidden": true
   },
   "outputs": [],
   "source": [
    "# import pickle\n",
    "# import pandas as pd\n",
    "# import numpy as np\n",
    "\n",
    "# class Top_bank(object):\n",
    "#     def __init__(self):\n",
    "#         self.cols_filtering = pickle.load(open('features/cols_filtering.pkl', 'rb'))\n",
    "#         self.ss_balance = pickle.load(open('features/ss_balance.pkl', 'rb'))\n",
    "#         self.mm_credit_score = pickle.load(open('features/mm_credit_score.pkl', 'rb'))\n",
    "#         self.mm_estimatedsalary = pickle.load(open('features/mm_estimatedsalary.pkl', 'rb'))\n",
    "#         self.map_geography = pickle.load(open('features/map_geography.pkl', 'rb'))\n",
    "#         self.map_gender = pickle.load(open('features/map_gender.pkl', 'rb'))\n",
    "#         self.map_numofproducts = pickle.load(open('features/map_numofproducts.pkl', 'rb'))\n",
    "#         self.tenure_cicle = pickle.load(open('features/tenure_cicle.pkl', 'rb'))\n",
    "#         self.cols_drop = pickle.load(open('features/cols_drop.pkl', 'rb'))\n",
    "#         self.cols_drop_split = pickle.load(open('features/cols_drop_split.pkl', 'rb'))\n",
    "#         self.map_test_id_salary = pickle.load(open('features/map_test_id_salary.pkl', 'rb'))\n",
    "#         self.model = pickle.load(open('models/xgb_model.pkl', 'rb'))\n",
    "\n",
    "#     def data_filtering(self, df):\n",
    "#         df.drop(self.cols_filtering, axis=1, inplace=True)\n",
    "#         return df\n",
    "        \n",
    "        \n",
    "#     def data_preparation(self, df):\n",
    "#         df['Balance'] = self.ss_balance.transform(df[['Balance']].values)\n",
    "#         df['CreditScore'] = self.mm_credit_score.transform(df[['CreditScore']].values)\n",
    "#         df['EstimatedSalary'] = self.mm_estimatedsalary.transform(df[['EstimatedSalary']].values)\n",
    "#         df['Age'] = np.log1p(df['Age'])\n",
    "#         df['Geography'] = df['Geography'].map(self.map_geography)\n",
    "#         df['Gender'] = df['Gender'].map(self.map_gender)\n",
    "#         df['NumOfProducts'] = df['NumOfProducts'].map(self.map_numofproducts)\n",
    "#         df['Tenure_sin'] = df['Tenure'].apply(lambda x: np.sin(x* (2*np.pi/self.tenure_cicle)))\n",
    "#         df['Tenure_cos'] = df['Tenure'].apply(lambda x: np.cos(x* (2*np.pi/self.tenure_cicle)))\n",
    "#         df.drop('Tenure', axis=1, inplace=True)\n",
    "#         df.drop(self.cols_drop, axis=1, inplace=True)\n",
    "#         df.drop(self.cols_drop_split, axis=1, inplace=True)\n",
    "#         return df\n",
    "\n",
    "\n",
    "#     def get_propensity(self, df, df_raw):\n",
    "#         predict_proba = self.model.predict_proba(df)\n",
    "#         df_raw['propensity'] = predict_proba[:, 1]\n",
    "#         return df_raw"
   ]
  },
  {
   "cell_type": "markdown",
   "id": "a6bf298e",
   "metadata": {
    "heading_collapsed": true,
    "hidden": true
   },
   "source": [
    "## 10.2 Handler API"
   ]
  },
  {
   "cell_type": "code",
   "execution_count": 62,
   "id": "05f106d9",
   "metadata": {
    "ExecuteTime": {
     "end_time": "2022-10-23T14:08:14.235832Z",
     "start_time": "2022-10-23T14:08:14.224563Z"
    },
    "hidden": true
   },
   "outputs": [],
   "source": [
    "# from flask import Flask, request, Response\n",
    "# import pandas as pd\n",
    "# from top_bank import Top_bank\n",
    "# import os\n",
    "\n",
    "# # initialize API\n",
    "# app = Flask(__name__)\n",
    "\n",
    "# @app.route('/predict', methods=['POST'])\n",
    "\n",
    "# def top_bank_predict():\n",
    "#     df_raw_json = request.get_json()\n",
    "    \n",
    "#     if df_raw_json:\n",
    "#         if isinstance(df_raw_json, dict):\n",
    "#             df_raw = pd.DataFrame(df_raw_json, index=[0])\n",
    "            \n",
    "#         else:\n",
    "#             df_raw = pd.DataFrame(df_raw_json, columns=df_raw_json[0].keys())\n",
    "    \n",
    "#         # instantiate Top_bank_class\n",
    "#         papeline = Top_bank()\n",
    "\n",
    "#         # data_cleaning\n",
    "#         df = papeline.data_filtering(df_raw)\n",
    "\n",
    "#         # data_preparation\n",
    "#         df = papeline.data_preparation(df_raw)\n",
    "\n",
    "#         # get_propensity\n",
    "#         df = papeline.get_propensity(df, df_raw)\n",
    "\n",
    "#         # return json\n",
    "#         df = df.to_json(orient='records')\n",
    "#         return df\n",
    "    \n",
    "#     else:\n",
    "#         return Response('{}', status=200, mimetype='application/json')\n",
    "    \n",
    "# if __name__ == '__main__':\n",
    "#     # starting flask\n",
    "#     port = os.environ.get('PORT', 5000) # heroku host\n",
    "#     # port = 5000 # local host\n",
    "#     app.run(host='0.0.0.0', port=port)"
   ]
  },
  {
   "cell_type": "markdown",
   "id": "105a4538",
   "metadata": {
    "heading_collapsed": true,
    "hidden": true
   },
   "source": [
    "## 10.3 API Tester"
   ]
  },
  {
   "cell_type": "code",
   "execution_count": 63,
   "id": "c90dc1f7",
   "metadata": {
    "ExecuteTime": {
     "end_time": "2022-10-23T14:08:46.518743Z",
     "start_time": "2022-10-23T14:08:14.240275Z"
    },
    "hidden": true,
    "scrolled": false
   },
   "outputs": [
    {
     "name": "stdout",
     "output_type": "stream",
     "text": [
      "Status request code: 200\n"
     ]
    },
    {
     "data": {
      "text/html": [
       "<div>\n",
       "<style scoped>\n",
       "    .dataframe tbody tr th:only-of-type {\n",
       "        vertical-align: middle;\n",
       "    }\n",
       "\n",
       "    .dataframe tbody tr th {\n",
       "        vertical-align: top;\n",
       "    }\n",
       "\n",
       "    .dataframe thead th {\n",
       "        text-align: right;\n",
       "    }\n",
       "</style>\n",
       "<table border=\"1\" class=\"dataframe\">\n",
       "  <thead>\n",
       "    <tr style=\"text-align: right;\">\n",
       "      <th></th>\n",
       "      <th>Geography</th>\n",
       "      <th>Age</th>\n",
       "      <th>Balance</th>\n",
       "      <th>NumOfProducts</th>\n",
       "      <th>IsActiveMember</th>\n",
       "      <th>propensity</th>\n",
       "    </tr>\n",
       "  </thead>\n",
       "  <tbody>\n",
       "    <tr>\n",
       "      <th>0</th>\n",
       "      <td>0.164975</td>\n",
       "      <td>3.970292</td>\n",
       "      <td>-1.233510</td>\n",
       "      <td>0.075977</td>\n",
       "      <td>1</td>\n",
       "      <td>0.096832</td>\n",
       "    </tr>\n",
       "    <tr>\n",
       "      <th>1</th>\n",
       "      <td>0.160069</td>\n",
       "      <td>3.178054</td>\n",
       "      <td>-0.059645</td>\n",
       "      <td>0.273684</td>\n",
       "      <td>1</td>\n",
       "      <td>0.096831</td>\n",
       "    </tr>\n",
       "    <tr>\n",
       "      <th>2</th>\n",
       "      <td>0.160069</td>\n",
       "      <td>3.850148</td>\n",
       "      <td>-0.234660</td>\n",
       "      <td>0.273684</td>\n",
       "      <td>1</td>\n",
       "      <td>0.275503</td>\n",
       "    </tr>\n",
       "    <tr>\n",
       "      <th>3</th>\n",
       "      <td>0.160069</td>\n",
       "      <td>3.367296</td>\n",
       "      <td>0.608566</td>\n",
       "      <td>0.075977</td>\n",
       "      <td>1</td>\n",
       "      <td>0.063706</td>\n",
       "    </tr>\n",
       "    <tr>\n",
       "      <th>4</th>\n",
       "      <td>0.322938</td>\n",
       "      <td>3.850148</td>\n",
       "      <td>0.968424</td>\n",
       "      <td>0.273684</td>\n",
       "      <td>0</td>\n",
       "      <td>0.755051</td>\n",
       "    </tr>\n",
       "  </tbody>\n",
       "</table>\n",
       "</div>"
      ],
      "text/plain": [
       "   Geography       Age   Balance  NumOfProducts  IsActiveMember  propensity\n",
       "0   0.164975  3.970292 -1.233510       0.075977               1    0.096832\n",
       "1   0.160069  3.178054 -0.059645       0.273684               1    0.096831\n",
       "2   0.160069  3.850148 -0.234660       0.273684               1    0.275503\n",
       "3   0.160069  3.367296  0.608566       0.075977               1    0.063706\n",
       "4   0.322938  3.850148  0.968424       0.273684               0    0.755051"
      ]
     },
     "execution_count": 63,
     "metadata": {},
     "output_type": "execute_result"
    }
   ],
   "source": [
    "test_raw_json = test_raw.to_json(orient='records')\n",
    "\n",
    "# url = 'http://192.168.15.4:5000/predict'\n",
    "url = 'https://api-top-bank.herokuapp.com/predict'\n",
    "headers = {'Content-type':'application/json'}\n",
    "data = test_raw_json\n",
    "\n",
    "df10_json = requests.post(url=url, headers=headers, data=data)\n",
    "\n",
    "print(f'Status request code: {df10_json.status_code}')\n",
    "\n",
    "df = pd.DataFrame(df10_json.json(), columns=df10_json.json()[0].keys())\n",
    "df.head()"
   ]
  },
  {
   "cell_type": "markdown",
   "id": "e8a55dde",
   "metadata": {},
   "source": [
    "# Time"
   ]
  },
  {
   "cell_type": "code",
   "execution_count": 64,
   "id": "7f87b027",
   "metadata": {
    "ExecuteTime": {
     "end_time": "2022-10-23T14:08:46.539642Z",
     "start_time": "2022-10-23T14:08:46.523620Z"
    },
    "scrolled": true
   },
   "outputs": [
    {
     "name": "stdout",
     "output_type": "stream",
     "text": [
      "O tempo de processamento do projeto foi de: 1 minutos\n"
     ]
    }
   ],
   "source": [
    "print(f'O tempo de processamento do projeto foi de: {int(round(time.time()-tempo_agora, 2)/60)} minutos')"
   ]
  }
 ],
 "metadata": {
  "kernelspec": {
   "display_name": "Python 3 (ipykernel)",
   "language": "python",
   "name": "python3"
  },
  "language_info": {
   "codemirror_mode": {
    "name": "ipython",
    "version": 3
   },
   "file_extension": ".py",
   "mimetype": "text/x-python",
   "name": "python",
   "nbconvert_exporter": "python",
   "pygments_lexer": "ipython3",
   "version": "3.9.12"
  },
  "toc": {
   "base_numbering": 1,
   "nav_menu": {},
   "number_sections": true,
   "sideBar": true,
   "skip_h1_title": false,
   "title_cell": "Table of Contents",
   "title_sidebar": "Contents",
   "toc_cell": false,
   "toc_position": {
    "height": "calc(100% - 180px)",
    "left": "10px",
    "top": "150px",
    "width": "323.821px"
   },
   "toc_section_display": true,
   "toc_window_display": true
  }
 },
 "nbformat": 4,
 "nbformat_minor": 5
}
