{
 "cells": [
  {
   "cell_type": "markdown",
   "id": "f5f22930",
   "metadata": {
    "heading_collapsed": true
   },
   "source": [
    "# Reports\n",
    "1. Inputs: Prepared data to ml modeling\n",
    "2. Outputs: Trained models and metrics\n",
    "3. ..."
   ]
  },
  {
   "cell_type": "markdown",
   "id": "c729438b",
   "metadata": {
    "heading_collapsed": true
   },
   "source": [
    "# 1.0 Imports"
   ]
  },
  {
   "cell_type": "markdown",
   "id": "46adce05",
   "metadata": {
    "heading_collapsed": true,
    "hidden": true
   },
   "source": [
    "###### 1.1 Importing libraries"
   ]
  },
  {
   "cell_type": "code",
   "execution_count": 1,
   "id": "11fa254d",
   "metadata": {
    "hidden": true
   },
   "outputs": [],
   "source": [
    "import numpy as np\n",
    "import pandas as pd\n",
    "\n",
    "from sklearn.preprocessing import LabelEncoder, StandardScaler\n",
    "from sklearn.model_selection import train_test_split\n",
    "from sklearn.metrics import classification_report, roc_auc_score, roc_curve\n",
    "from sklearn.ensemble import RandomForestClassifier\n",
    "\n",
    "from imblearn.over_sampling import SMOTE\n",
    "from imblearn.under_sampling import NearMiss\n",
    "\n",
    "from xgboost import XGBRFClassifier\n",
    "\n",
    "import pickle\n",
    "\n",
    "import time\n",
    "\n",
    "tempo_agora = time.time() # Contabilizando o tempo de processamento do projeto"
   ]
  },
  {
   "cell_type": "markdown",
   "id": "e9a1b054",
   "metadata": {
    "heading_collapsed": true,
    "hidden": true
   },
   "source": [
    "###### 1.2 Importing data"
   ]
  },
  {
   "cell_type": "code",
   "execution_count": 2,
   "id": "0d41dcd0",
   "metadata": {
    "hidden": true
   },
   "outputs": [],
   "source": [
    "X_to_modeling = pickle.load(open('D://My Drive//Pessoal//Projetos//bank_churn_predict//bank_churn_predict//exportings//X_to_modeling.pkl', 'rb'))\n",
    "y_to_modeling = pickle.load(open('D://My Drive//Pessoal//Projetos//bank_churn_predict//bank_churn_predict//exportings//y_to_modeling.pkl', 'rb'))"
   ]
  },
  {
   "cell_type": "code",
   "execution_count": 3,
   "id": "262f7b8c",
   "metadata": {
    "hidden": true
   },
   "outputs": [],
   "source": [
    "X_valid = X_to_modeling[0]\n",
    "X_test = X_to_modeling[1]\n",
    "X_smote = X_to_modeling[2]\n",
    "X_train_smote = X_to_modeling[3]\n",
    "X_near = X_to_modeling[4]\n",
    "X_train_near = X_to_modeling[5]\n",
    "\n",
    "y_valid = y_to_modeling[0]\n",
    "y_test = y_to_modeling[1]\n",
    "y_smote = y_to_modeling[2]\n",
    "y_train_smote = y_to_modeling[3]\n",
    "y_near = y_to_modeling[4]\n",
    "y_train_near = y_to_modeling[5]"
   ]
  },
  {
   "cell_type": "markdown",
   "id": "d4d5d7b9",
   "metadata": {
    "heading_collapsed": true
   },
   "source": [
    "# 2.0 ML Modeling"
   ]
  },
  {
   "cell_type": "markdown",
   "id": "d6eff8d7",
   "metadata": {
    "heading_collapsed": true,
    "hidden": true
   },
   "source": [
    "### 2.1 Xgbrfboost"
   ]
  },
  {
   "cell_type": "code",
   "execution_count": 4,
   "id": "fb11d6e3",
   "metadata": {
    "hidden": true
   },
   "outputs": [
    {
     "name": "stdout",
     "output_type": "stream",
     "text": [
      "              precision    recall  f1-score   support\n",
      "\n",
      "           0       0.91      0.85      0.88      1923\n",
      "           1       0.51      0.64      0.57       477\n",
      "\n",
      "    accuracy                           0.81      2400\n",
      "   macro avg       0.71      0.74      0.72      2400\n",
      "weighted avg       0.83      0.81      0.81      2400\n",
      "\n",
      "0.7443116592588231\n"
     ]
    }
   ],
   "source": [
    "# Modeling\n",
    "xgbrf_model = XGBRFClassifier(use_label_encoder=False)\n",
    "xgbrf_model_fit = xgbrf_model.fit(X_smote, y_smote, eval_metric='error')\n",
    "xgbrf_predict = xgbrf_model_fit.predict(X_valid)\n",
    "\n",
    "print(classification_report(y_valid, xgbrf_predict))\n",
    "print(roc_auc_score(y_valid, xgbrf_predict))"
   ]
  },
  {
   "cell_type": "markdown",
   "id": "e2704ed8",
   "metadata": {
    "heading_collapsed": true,
    "hidden": true
   },
   "source": [
    "### 2.2 Random Forest"
   ]
  },
  {
   "cell_type": "code",
   "execution_count": 5,
   "id": "8fe3d77c",
   "metadata": {
    "hidden": true,
    "scrolled": true
   },
   "outputs": [
    {
     "name": "stdout",
     "output_type": "stream",
     "text": [
      "              precision    recall  f1-score   support\n",
      "\n",
      "           0       0.92      0.86      0.89      1923\n",
      "           1       0.54      0.68      0.61       477\n",
      "\n",
      "    accuracy                           0.82      2400\n",
      "   macro avg       0.73      0.77      0.75      2400\n",
      "weighted avg       0.84      0.82      0.83      2400\n",
      "\n",
      "0.7699480306256276\n"
     ]
    }
   ],
   "source": [
    "rf_model = RandomForestClassifier(n_estimators=100, \n",
    "                                  max_depth=7, \n",
    "                                  max_features=0.3, \n",
    "                                  random_state=101)\n",
    "rf_model_fit = rf_model.fit(X_smote, y_smote)\n",
    "rf_predict = rf_model_fit.predict(X_valid)\n",
    "\n",
    "print(classification_report(y_valid, rf_predict))\n",
    "print(roc_auc_score(y_valid, rf_predict))"
   ]
  },
  {
   "cell_type": "markdown",
   "id": "1fb6991d",
   "metadata": {
    "heading_collapsed": true
   },
   "source": [
    "# 3.0 Exporting Data"
   ]
  },
  {
   "cell_type": "markdown",
   "id": "20e8ed39",
   "metadata": {
    "heading_collapsed": true,
    "hidden": true
   },
   "source": [
    "###### 3.1 Models"
   ]
  },
  {
   "cell_type": "code",
   "execution_count": 6,
   "id": "a0d14fde",
   "metadata": {
    "hidden": true
   },
   "outputs": [],
   "source": [
    "# XGRFboost\n",
    "pickle.dump(xgbrf_model_fit, open('D://My Drive//Pessoal//Projetos//bank_churn_predict//deploy//model//xgbrf_model.pkl', 'wb'))\n",
    "\n",
    "# Random Forest\n",
    "pickle.dump(rf_model_fit, open('D://My Drive//Pessoal//Projetos//bank_churn_predict//deploy//model//rf_model.pkl', 'wb'))"
   ]
  },
  {
   "cell_type": "markdown",
   "id": "c694234c",
   "metadata": {},
   "source": [
    "# Time"
   ]
  },
  {
   "cell_type": "code",
   "execution_count": 7,
   "id": "7f87b027",
   "metadata": {},
   "outputs": [
    {
     "name": "stdout",
     "output_type": "stream",
     "text": [
      "O tempo de processamento do projeto foi de: 0 minutos\n"
     ]
    }
   ],
   "source": [
    "print(f'O tempo de processamento do projeto foi de: {int(round(time.time()-tempo_agora, 2)/60)} minutos')"
   ]
  }
 ],
 "metadata": {
  "kernelspec": {
   "display_name": "Python 3 (ipykernel)",
   "language": "python",
   "name": "python3"
  },
  "language_info": {
   "codemirror_mode": {
    "name": "ipython",
    "version": 3
   },
   "file_extension": ".py",
   "mimetype": "text/x-python",
   "name": "python",
   "nbconvert_exporter": "python",
   "pygments_lexer": "ipython3",
   "version": "3.8.8"
  }
 },
 "nbformat": 4,
 "nbformat_minor": 5
}
