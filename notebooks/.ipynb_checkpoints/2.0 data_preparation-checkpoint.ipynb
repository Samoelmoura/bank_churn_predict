{
 "cells": [
  {
   "cell_type": "markdown",
   "id": "b4572851",
   "metadata": {},
   "source": [
    "# Reports\n",
    "1. Inputs: cleaned data whith feature engineering\n",
    "2. Outputs: prepared data to ml\n",
    "3. "
   ]
  },
  {
   "cell_type": "markdown",
   "id": "c729438b",
   "metadata": {},
   "source": [
    "# 1.0 Imports"
   ]
  },
  {
   "cell_type": "code",
   "execution_count": 1,
   "id": "11fa254d",
   "metadata": {
    "ExecuteTime": {
     "end_time": "2022-04-26T00:53:25.751798Z",
     "start_time": "2022-04-26T00:53:23.940531Z"
    }
   },
   "outputs": [
    {
     "name": "stderr",
     "output_type": "stream",
     "text": [
      "D:\\My Drive\\Pessoal\\Projetos\\environments\\data_science\\lib\\site-packages\\xgboost\\compat.py:36: FutureWarning: pandas.Int64Index is deprecated and will be removed from pandas in a future version. Use pandas.Index with the appropriate dtype instead.\n",
      "  from pandas import MultiIndex, Int64Index\n"
     ]
    }
   ],
   "source": [
    "import numpy as np\n",
    "import pandas as pd\n",
    "import matplotlib.pyplot as plt\n",
    "import seaborn as sns\n",
    "\n",
    "from sklearn.preprocessing import LabelEncoder, StandardScaler\n",
    "from sklearn.model_selection import train_test_split\n",
    "from sklearn.metrics import classification_report, roc_auc_score, roc_curve, confusion_matrix\n",
    "from sklearn.ensemble import RandomForestClassifier\n",
    "from sklearn.linear_model import LogisticRegression\n",
    "from sklearn.feature_selection import RFE\n",
    "import pickle\n",
    "\n",
    "from imblearn.over_sampling import SMOTE\n",
    "from imblearn.under_sampling import NearMiss\n",
    "\n",
    "from xgboost import XGBRFClassifier\n",
    "\n",
    "from boruta import BorutaPy\n",
    "\n",
    "import time\n",
    "\n",
    "tempo_agora = time.time() # Contabilizando o tempo de processamento do projeto"
   ]
  },
  {
   "cell_type": "markdown",
   "id": "e78e2a32",
   "metadata": {},
   "source": [
    "## 1.1 Data Imports"
   ]
  },
  {
   "cell_type": "code",
   "execution_count": 2,
   "id": "f34beb59",
   "metadata": {
    "ExecuteTime": {
     "end_time": "2022-04-26T00:53:25.767819Z",
     "start_time": "2022-04-26T00:53:25.753331Z"
    }
   },
   "outputs": [],
   "source": [
    "df = pickle.load(open('D://My Drive//Pessoal//Projetos//bank_churn_predict//bank_churn_predict//exportings//df_to_data_preparation.pkl', 'rb'))"
   ]
  },
  {
   "cell_type": "markdown",
   "id": "83200982",
   "metadata": {},
   "source": [
    "# 2.0 Data Preparation"
   ]
  },
  {
   "cell_type": "markdown",
   "id": "7881d050",
   "metadata": {},
   "source": [
    "### 2.1 Transformations"
   ]
  },
  {
   "cell_type": "markdown",
   "id": "93b1f246",
   "metadata": {},
   "source": [
    "###### 2.1.1 Log de Age"
   ]
  },
  {
   "cell_type": "code",
   "execution_count": 3,
   "id": "2e14296d",
   "metadata": {
    "ExecuteTime": {
     "end_time": "2022-04-26T00:53:25.798981Z",
     "start_time": "2022-04-26T00:53:25.769771Z"
    }
   },
   "outputs": [],
   "source": [
    "df['Log_Age'] = df['Age'].apply(lambda x: np.log(x) if x>0 else 0);"
   ]
  },
  {
   "cell_type": "markdown",
   "id": "5c6716b3",
   "metadata": {},
   "source": [
    "### 2.2 Preprocessing"
   ]
  },
  {
   "cell_type": "code",
   "execution_count": 4,
   "id": "36ac0e42",
   "metadata": {
    "ExecuteTime": {
     "end_time": "2022-04-26T00:53:25.814385Z",
     "start_time": "2022-04-26T00:53:25.799990Z"
    }
   },
   "outputs": [],
   "source": [
    "backup = df.copy()"
   ]
  },
  {
   "cell_type": "code",
   "execution_count": 5,
   "id": "0cf2950b",
   "metadata": {
    "ExecuteTime": {
     "end_time": "2022-04-26T00:53:25.906920Z",
     "start_time": "2022-04-26T00:53:25.815387Z"
    },
    "scrolled": true
   },
   "outputs": [],
   "source": [
    "df = backup.copy()\n",
    "\n",
    "# Encodings\n",
    "temp = pd.get_dummies(df['Geography_enc'], prefix='Geography', drop_first=True)\n",
    "df = pd.concat([df, temp], axis=1)\n",
    "\n",
    "# Removing features\n",
    "features_remover = 'CustomerId Surname Geography Gender Geography_enc RowNumber Age Tenure'.split()\n",
    "df.drop(features_remover, axis=1, inplace=True)\n",
    "# print(f'Features que seguirão para a modelagem: {df.drop(\"Exited\", axis=1).columns.to_list()}')\n",
    "\n",
    "# Split features and target\n",
    "X = df.drop('Exited', axis=1)\n",
    "X = np.array(X)\n",
    "y = df['Exited']\n",
    "y = np.array(y).reshape(1, len(y))[0]\n",
    "\n",
    "# Hiding test\n",
    "X_, X_test, y_, y_test = train_test_split(X, y, test_size=0.2, random_state=101)\n",
    "\n",
    "# Train and validation\n",
    "X_train, X_valid, y_train, y_valid = train_test_split(X_, y_, test_size=0.3, random_state=101)\n",
    "\n",
    "# Standard and scaler\n",
    "scaler = StandardScaler()\n",
    "scaler = scaler.fit(X_)\n",
    "\n",
    "X_scaler = scaler.transform(X_)\n",
    "X_train_scaler = scaler.transform(X_train)\n",
    "X_valid_scaler = scaler.transform(X_valid)\n",
    "X_test_scaler = scaler.transform(X_test)\n",
    "\n",
    "# Solving unbalance problem\n",
    "# smote\n",
    "smote = SMOTE()\n",
    "X_smote, y_smote = smote.fit_resample(X_, y_)\n",
    "X_train_smote, y_train_smote = smote.fit_resample(X_train, y_train)\n",
    "\n",
    "# near\n",
    "near = NearMiss()\n",
    "X_near, y_near = near.fit_resample(X_, y_)\n",
    "X_train_near, y_train_near = near.fit_resample(X_train, y_train)"
   ]
  },
  {
   "cell_type": "markdown",
   "id": "6ae0b706",
   "metadata": {},
   "source": [
    "# 3.0 Feature Selection"
   ]
  },
  {
   "cell_type": "markdown",
   "id": "589e8195",
   "metadata": {},
   "source": [
    "## 3.1 Importances"
   ]
  },
  {
   "cell_type": "markdown",
   "id": "7950d9e1",
   "metadata": {},
   "source": [
    "### 3.1.1 Random Forest"
   ]
  },
  {
   "cell_type": "code",
   "execution_count": 6,
   "id": "89e1258e",
   "metadata": {
    "ExecuteTime": {
     "end_time": "2022-04-26T00:53:26.828963Z",
     "start_time": "2022-04-26T00:53:25.907922Z"
    },
    "scrolled": false
   },
   "outputs": [
    {
     "name": "stdout",
     "output_type": "stream",
     "text": [
      "Validation\n",
      "              precision    recall  f1-score   support\n",
      "\n",
      "           0       0.88      0.95      0.91      1923\n",
      "           1       0.71      0.48      0.57       477\n",
      "\n",
      "    accuracy                           0.86      2400\n",
      "   macro avg       0.79      0.71      0.74      2400\n",
      "weighted avg       0.85      0.86      0.85      2400\n",
      "\n",
      "0.7137645254237842\n",
      "\n",
      "[[1830   93]\n",
      " [ 250  227]]\n",
      "\n",
      "Test\n",
      "              precision    recall  f1-score   support\n",
      "\n",
      "           0       0.89      0.94      0.92      1577\n",
      "           1       0.73      0.55      0.63       423\n",
      "\n",
      "    accuracy                           0.86      2000\n",
      "   macro avg       0.81      0.75      0.77      2000\n",
      "weighted avg       0.85      0.86      0.85      2000\n",
      "\n",
      "0.7490117243891581\n",
      "\n",
      "[[1490   87]\n",
      " [ 189  234]]\n"
     ]
    }
   ],
   "source": [
    "print('Validation')\n",
    "# model definition\n",
    "rf_model = RandomForestClassifier()\n",
    "\n",
    "# fiting model\n",
    "rf_model = rf_model.fit(X_train_smote, y_train_smote)\n",
    "\n",
    "# validation predicting\n",
    "predicts = rf_model.predict(X_valid)\n",
    "\n",
    "print(classification_report(y_valid, predicts))\n",
    "print(roc_auc_score(y_valid, predicts))\n",
    "print()\n",
    "print(confusion_matrix(y_valid, predicts))\n",
    "print('\\nTest')\n",
    "\n",
    "# test predicting\n",
    "predicts = rf_model.predict(X_test)\n",
    "\n",
    "print(classification_report(y_test, predicts))\n",
    "print(roc_auc_score(y_test, predicts))\n",
    "print()\n",
    "print(confusion_matrix(y_test, predicts))"
   ]
  },
  {
   "cell_type": "code",
   "execution_count": 7,
   "id": "b3fcb8a6",
   "metadata": {
    "ExecuteTime": {
     "end_time": "2022-04-26T00:53:26.859346Z",
     "start_time": "2022-04-26T00:53:26.830917Z"
    }
   },
   "outputs": [],
   "source": [
    "rf_importances = pd.DataFrame(rf_model.feature_importances_)\n",
    "rf_importances.columns = ['rf_importances']"
   ]
  },
  {
   "cell_type": "markdown",
   "id": "5aecab86",
   "metadata": {},
   "source": [
    "### 3.1.2 XGBoost"
   ]
  },
  {
   "cell_type": "code",
   "execution_count": 8,
   "id": "b1194393",
   "metadata": {
    "ExecuteTime": {
     "end_time": "2022-04-26T00:53:27.312372Z",
     "start_time": "2022-04-26T00:53:26.861288Z"
    }
   },
   "outputs": [
    {
     "name": "stdout",
     "output_type": "stream",
     "text": [
      "Validation\n",
      "              precision    recall  f1-score   support\n",
      "\n",
      "           0       0.88      0.93      0.91      1923\n",
      "           1       0.65      0.50      0.57       477\n",
      "\n",
      "    accuracy                           0.85      2400\n",
      "   macro avg       0.77      0.72      0.74      2400\n",
      "weighted avg       0.84      0.85      0.84      2400\n",
      "\n",
      "0.7175027881618409\n",
      "\n",
      "[[1796  127]\n",
      " [ 238  239]]\n",
      "\n",
      "Test\n",
      "              precision    recall  f1-score   support\n",
      "\n",
      "           0       0.88      0.93      0.91      1577\n",
      "           1       0.68      0.55      0.61       423\n",
      "\n",
      "    accuracy                           0.85      2000\n",
      "   macro avg       0.78      0.74      0.76      2000\n",
      "weighted avg       0.84      0.85      0.84      2000\n",
      "\n",
      "0.7396723886962557\n",
      "\n",
      "[[1468  109]\n",
      " [ 191  232]]\n"
     ]
    }
   ],
   "source": [
    "print('Validation')\n",
    "# model definition\n",
    "xgb_model = XGBRFClassifier(use_label_encoder=False, eval_metric='logloss')\n",
    "\n",
    "# fiting model\n",
    "xgb_model = xgb_model.fit(X_train_smote, y_train_smote)\n",
    "\n",
    "# validation predicting\n",
    "predicts = xgb_model.predict(X_valid)\n",
    "\n",
    "print(classification_report(y_valid, predicts))\n",
    "print(roc_auc_score(y_valid, predicts))\n",
    "print()\n",
    "print(confusion_matrix(y_valid, predicts))\n",
    "print('\\nTest')\n",
    "\n",
    "# test predicting\n",
    "predicts = xgb_model.predict(X_test)\n",
    "\n",
    "print(classification_report(y_test, predicts))\n",
    "print(roc_auc_score(y_test, predicts))\n",
    "print()\n",
    "print(confusion_matrix(y_test, predicts))"
   ]
  },
  {
   "cell_type": "code",
   "execution_count": 9,
   "id": "8cd10644",
   "metadata": {
    "ExecuteTime": {
     "end_time": "2022-04-26T00:53:27.327368Z",
     "start_time": "2022-04-26T00:53:27.313876Z"
    }
   },
   "outputs": [],
   "source": [
    "xgb_importances = pd.DataFrame(xgb_model.feature_importances_)\n",
    "xgb_importances.columns = ['xgb_importances']"
   ]
  },
  {
   "cell_type": "markdown",
   "id": "048a38ad",
   "metadata": {},
   "source": [
    "## 3.2 RFE"
   ]
  },
  {
   "cell_type": "code",
   "execution_count": 10,
   "id": "8cd340b2",
   "metadata": {
    "ExecuteTime": {
     "end_time": "2022-04-26T00:53:30.659103Z",
     "start_time": "2022-04-26T00:53:27.331873Z"
    }
   },
   "outputs": [],
   "source": [
    "rfe_model = RFE(xgb_model, n_features_to_select=1)\n",
    "\n",
    "rfe_fit = rfe_model.fit(X_train_smote, y_train_smote)\n",
    "\n",
    "selector = rfe_fit.ranking_\n",
    "\n",
    "selector = pd.DataFrame(selector)\n",
    "\n",
    "selector.columns = ['rfe']"
   ]
  },
  {
   "cell_type": "markdown",
   "id": "4846cf1f",
   "metadata": {},
   "source": [
    "## 3.3 Boruta"
   ]
  },
  {
   "cell_type": "code",
   "execution_count": 11,
   "id": "f71efe89",
   "metadata": {
    "ExecuteTime": {
     "end_time": "2022-04-26T01:03:19.903346Z",
     "start_time": "2022-04-26T00:53:30.662478Z"
    }
   },
   "outputs": [],
   "source": [
    "boruta_model = BorutaPy(xgb_model)\n",
    "\n",
    "boruta_fit = boruta_model.fit(X_train_smote, y_train_smote)\n",
    "\n",
    "bor_model = boruta_fit.ranking_\n",
    "\n",
    "bor_model = pd.DataFrame(bor_model)\n",
    "bor_model.columns = ['boruta']"
   ]
  },
  {
   "cell_type": "markdown",
   "id": "1666efc7",
   "metadata": {},
   "source": [
    "## 3.4 Comparision"
   ]
  },
  {
   "cell_type": "code",
   "execution_count": 12,
   "id": "a06a3c7d",
   "metadata": {
    "ExecuteTime": {
     "end_time": "2022-04-26T01:03:19.929570Z",
     "start_time": "2022-04-26T01:03:19.903346Z"
    },
    "scrolled": false
   },
   "outputs": [
    {
     "data": {
      "text/html": [
       "<div>\n",
       "<style scoped>\n",
       "    .dataframe tbody tr th:only-of-type {\n",
       "        vertical-align: middle;\n",
       "    }\n",
       "\n",
       "    .dataframe tbody tr th {\n",
       "        vertical-align: top;\n",
       "    }\n",
       "\n",
       "    .dataframe thead th {\n",
       "        text-align: right;\n",
       "    }\n",
       "</style>\n",
       "<table border=\"1\" class=\"dataframe\">\n",
       "  <thead>\n",
       "    <tr style=\"text-align: right;\">\n",
       "      <th></th>\n",
       "      <th>rf_importances</th>\n",
       "      <th>xgb_importances</th>\n",
       "      <th>rfe</th>\n",
       "      <th>boruta</th>\n",
       "    </tr>\n",
       "  </thead>\n",
       "  <tbody>\n",
       "    <tr>\n",
       "      <th>CreditScore</th>\n",
       "      <td>0.066853</td>\n",
       "      <td>0.004562</td>\n",
       "      <td>10</td>\n",
       "      <td>3</td>\n",
       "    </tr>\n",
       "    <tr>\n",
       "      <th>Balance</th>\n",
       "      <td>0.081385</td>\n",
       "      <td>0.016767</td>\n",
       "      <td>6</td>\n",
       "      <td>1</td>\n",
       "    </tr>\n",
       "    <tr>\n",
       "      <th>NumOfProducts</th>\n",
       "      <td>0.167472</td>\n",
       "      <td>0.168207</td>\n",
       "      <td>2</td>\n",
       "      <td>1</td>\n",
       "    </tr>\n",
       "    <tr>\n",
       "      <th>HasCrCard</th>\n",
       "      <td>0.035479</td>\n",
       "      <td>0.006526</td>\n",
       "      <td>8</td>\n",
       "      <td>1</td>\n",
       "    </tr>\n",
       "    <tr>\n",
       "      <th>IsActiveMember</th>\n",
       "      <td>0.137454</td>\n",
       "      <td>0.327606</td>\n",
       "      <td>1</td>\n",
       "      <td>1</td>\n",
       "    </tr>\n",
       "    <tr>\n",
       "      <th>EstimatedSalary</th>\n",
       "      <td>0.077249</td>\n",
       "      <td>0.004375</td>\n",
       "      <td>11</td>\n",
       "      <td>4</td>\n",
       "    </tr>\n",
       "    <tr>\n",
       "      <th>Gender_enc</th>\n",
       "      <td>0.092603</td>\n",
       "      <td>0.124570</td>\n",
       "      <td>5</td>\n",
       "      <td>1</td>\n",
       "    </tr>\n",
       "    <tr>\n",
       "      <th>tenure_exite_mean</th>\n",
       "      <td>0.053028</td>\n",
       "      <td>0.004921</td>\n",
       "      <td>9</td>\n",
       "      <td>2</td>\n",
       "    </tr>\n",
       "    <tr>\n",
       "      <th>Log_Age</th>\n",
       "      <td>0.193013</td>\n",
       "      <td>0.250938</td>\n",
       "      <td>3</td>\n",
       "      <td>1</td>\n",
       "    </tr>\n",
       "    <tr>\n",
       "      <th>Geography_1</th>\n",
       "      <td>0.061414</td>\n",
       "      <td>0.081741</td>\n",
       "      <td>4</td>\n",
       "      <td>1</td>\n",
       "    </tr>\n",
       "    <tr>\n",
       "      <th>Geography_2</th>\n",
       "      <td>0.034049</td>\n",
       "      <td>0.009788</td>\n",
       "      <td>7</td>\n",
       "      <td>1</td>\n",
       "    </tr>\n",
       "  </tbody>\n",
       "</table>\n",
       "</div>"
      ],
      "text/plain": [
       "                   rf_importances  xgb_importances  rfe  boruta\n",
       "CreditScore              0.066853         0.004562   10       3\n",
       "Balance                  0.081385         0.016767    6       1\n",
       "NumOfProducts            0.167472         0.168207    2       1\n",
       "HasCrCard                0.035479         0.006526    8       1\n",
       "IsActiveMember           0.137454         0.327606    1       1\n",
       "EstimatedSalary          0.077249         0.004375   11       4\n",
       "Gender_enc               0.092603         0.124570    5       1\n",
       "tenure_exite_mean        0.053028         0.004921    9       2\n",
       "Log_Age                  0.193013         0.250938    3       1\n",
       "Geography_1              0.061414         0.081741    4       1\n",
       "Geography_2              0.034049         0.009788    7       1"
      ]
     },
     "execution_count": 12,
     "metadata": {},
     "output_type": "execute_result"
    }
   ],
   "source": [
    "feature_selection = pd.concat([rf_importances, xgb_importances, selector, bor_model], axis=1)\n",
    "feature_selection.index = df.drop(\"Exited\", axis=1).columns\n",
    "\n",
    "feature_selection"
   ]
  },
  {
   "cell_type": "markdown",
   "id": "aa12876e",
   "metadata": {},
   "source": [
    "O Boruta e o RFE discortam sobre a feature HasCrCard."
   ]
  },
  {
   "cell_type": "code",
   "execution_count": 13,
   "id": "88b10bf9",
   "metadata": {
    "ExecuteTime": {
     "end_time": "2022-04-26T01:03:20.133924Z",
     "start_time": "2022-04-26T01:03:19.931569Z"
    },
    "scrolled": false
   },
   "outputs": [
    {
     "data": {
      "text/plain": [
       "<AxesSubplot:>"
      ]
     },
     "execution_count": 13,
     "metadata": {},
     "output_type": "execute_result"
    },
    {
     "data": {
      "image/png": "[encoded data removed]",
      "text/plain": [
       "<Figure size 432x288 with 1 Axes>"
      ]
     },
     "metadata": {
      "needs_background": "light"
     },
     "output_type": "display_data"
    }
   ],
   "source": [
    "feature_selection.drop(['rfe', 'boruta'], axis=1).plot(kind='bar')"
   ]
  },
  {
   "cell_type": "markdown",
   "id": "4e28599b",
   "metadata": {},
   "source": [
    "Baseando-se nos estudos dos métodos Importances, RFE e Boruta, o método escolhido para a seleção final foi o BORUTA."
   ]
  },
  {
   "cell_type": "markdown",
   "id": "fa85d2f6",
   "metadata": {},
   "source": [
    "## 3.5 Removing Features"
   ]
  },
  {
   "cell_type": "code",
   "execution_count": 14,
   "id": "b10ace13",
   "metadata": {
    "ExecuteTime": {
     "end_time": "2022-04-26T01:03:20.149936Z",
     "start_time": "2022-04-26T01:03:20.134911Z"
    }
   },
   "outputs": [],
   "source": [
    "X_valid = np.delete(X_valid, [0, 5], 1)\n",
    "X_test = np.delete(X_test, [0, 5], 1)\n",
    "X_smote = np.delete(X_smote, [0, 5], 1)\n",
    "X_train_smote = np.delete(X_train_smote, [0, 5], 1)\n",
    "X_near = np.delete(X_near, [0, 5], 1)\n",
    "X_train_near = np.delete(X_train_near, [0, 5], 1)"
   ]
  },
  {
   "cell_type": "markdown",
   "id": "c5493241",
   "metadata": {},
   "source": [
    "# 4.0 Exporting Data"
   ]
  },
  {
   "cell_type": "markdown",
   "id": "f1d5459a",
   "metadata": {},
   "source": [
    "###### 4.1 Arrays"
   ]
  },
  {
   "cell_type": "code",
   "execution_count": 15,
   "id": "f1c919f2",
   "metadata": {
    "ExecuteTime": {
     "end_time": "2022-04-26T01:03:20.164942Z",
     "start_time": "2022-04-26T01:03:20.151901Z"
    }
   },
   "outputs": [],
   "source": [
    "X_to_modeling = [X_valid, X_test, X_smote, X_train_smote, X_near, X_train_near]\n",
    "y_to_modeling = [y_valid, y_test, y_smote, y_train_smote, y_near, y_train_near]\n",
    "\n",
    "pickle.dump(X_to_modeling, open('D://My Drive//Pessoal//Projetos//bank_churn_predict//bank_churn_predict//exportings//X_to_modeling.pkl', 'wb'))\n",
    "pickle.dump(y_to_modeling, open('D://My Drive//Pessoal//Projetos//bank_churn_predict//bank_churn_predict//exportings//y_to_modeling.pkl', 'wb'))"
   ]
  },
  {
   "cell_type": "markdown",
   "id": "b9f916fe",
   "metadata": {},
   "source": [
    "###### 4.2 Features_remover"
   ]
  },
  {
   "cell_type": "code",
   "execution_count": 16,
   "id": "0914d482",
   "metadata": {
    "ExecuteTime": {
     "end_time": "2022-04-26T01:03:20.180255Z",
     "start_time": "2022-04-26T01:03:20.167947Z"
    }
   },
   "outputs": [],
   "source": [
    "pickle.dump(features_remover, open('D://My Drive//Pessoal//Projetos//bank_churn_predict//deploy//transformers//features_remover.pkl', 'wb'))"
   ]
  },
  {
   "cell_type": "markdown",
   "id": "97a14801",
   "metadata": {},
   "source": [
    "###### 4.3 Scaler"
   ]
  },
  {
   "cell_type": "code",
   "execution_count": 17,
   "id": "be1096f5",
   "metadata": {
    "ExecuteTime": {
     "end_time": "2022-04-26T01:03:20.195615Z",
     "start_time": "2022-04-26T01:03:20.181303Z"
    }
   },
   "outputs": [],
   "source": [
    "pickle.dump(scaler, open('D://My Drive//Pessoal//Projetos//bank_churn_predict//deploy//transformers//scaler.pkl', 'wb'))"
   ]
  },
  {
   "cell_type": "markdown",
   "id": "c694234c",
   "metadata": {},
   "source": [
    "# Time"
   ]
  },
  {
   "cell_type": "code",
   "execution_count": 18,
   "id": "7f87b027",
   "metadata": {
    "ExecuteTime": {
     "end_time": "2022-04-26T01:03:20.210818Z",
     "start_time": "2022-04-26T01:03:20.196376Z"
    },
    "scrolled": true
   },
   "outputs": [
    {
     "name": "stdout",
     "output_type": "stream",
     "text": [
      "O tempo de processamento do projeto foi de: 9 minutos\n"
     ]
    }
   ],
   "source": [
    "print(f'O tempo de processamento do projeto foi de: {int(round(time.time()-tempo_agora, 2)/60)} minutos')"
   ]
  }
 ],
 "metadata": {
  "kernelspec": {
   "display_name": "Python 3 (ipykernel)",
   "language": "python",
   "name": "python3"
  },
  "language_info": {
   "codemirror_mode": {
    "name": "ipython",
    "version": 3
   },
   "file_extension": ".py",
   "mimetype": "text/x-python",
   "name": "python",
   "nbconvert_exporter": "python",
   "pygments_lexer": "ipython3",
   "version": "3.9.7"
  }
 },
 "nbformat": 4,
 "nbformat_minor": 5
}
