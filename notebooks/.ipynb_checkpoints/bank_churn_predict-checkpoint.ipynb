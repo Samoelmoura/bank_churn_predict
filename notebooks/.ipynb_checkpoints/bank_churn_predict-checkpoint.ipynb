{
 "cells": [
  {
   "cell_type": "markdown",
   "id": "b4572851",
   "metadata": {
    "heading_collapsed": true
   },
   "source": [
    "# 0.0 Business Problem"
   ]
  },
  {
   "cell_type": "markdown",
   "id": "b4da65b9",
   "metadata": {
    "heading_collapsed": true,
    "hidden": true
   },
   "source": [
    "## *****Estágio atual do projeto:*****\n",
    "Ciclo 4: Criar as hipóteses de negócio\n",
    "\n",
    "## 0.1 Contexto:\n",
    "A TopBank é uma grande empresa de serviços bancários. Ela atua principalmente nos países da Europa oferecendo produtos financeiros, desde contas bancárias até investimentos, passando por alguns tipos de seguros e produto de investimento.\n",
    "\n",
    "O modelo de negócio da empresa é do tipo serviço, ou seja, ela comercializa serviços bancários para seus clientes através de agências físicas e um portal online. \n",
    "\n",
    "O principal produto da empresa é uma conta bancária, na qual o cliente pode depositar seu salário, fazer saques, depósitos e transferência para outras contas. Essa conta bancária não tem custo para o cliente e tem uma vigência de 12 meses, ou seja, o cliente precisa renovar o contrato dessa conta para continuar utilizando pelos próximos 12 meses.\n",
    "\n",
    "Segundo o time de Analytics da TopBank, cada cliente que possui essa conta bancária retorna um valor monetário de 15% do valor do seu salário estimado, se esse for menor que a média e 20% se esse salário for maior que a média, durante o período vigente de sua conta. Esse valor é calculado anualmente. \n",
    "\n",
    "Por exemplo, se o salário mensal de um cliente é de 1.000 reais e a média de todos os salários do banco é de 800 reais. A empresa, portanto, fatura 200 reais anualmente com esse cliente. Se esse cliente está no banco há 10 anos, a empresa já faturou 2.000 reais com suas transações e utilização da conta. \n",
    "\n",
    "Nos últimos meses, o time de Analytics percebeu que a taxa de clientes cancelando suas contas e deixando o banco, atingiu números inéditos na empresa. Preocupados com o aumento dessa taxa, o time planejou um plano de ação para diminuir taxa de evasão de clientes.\n",
    "\n",
    "Preocupados com a queda dessa métrica, o time de Analytics da TopBottom, contratou você como consultor de Data Science para criar um plano de ação, com o objetivo de reduzir a evasão de clientes, ou seja, impedir que o cliente cancele seu contrato e não o renove por mais 12 meses. Essa evasão, nas métricas de negócio, é conhecida como Churn.\n",
    "\n",
    "De maneira geral, Churn é uma métrica que indica o número de clientes que cancelaram o contrato ou pararam de comprar seu produto em um determinado período de tempo. Por exemplo, clientes que cancelaram o contrato de serviço ou após o vencimento do mesmo, não renovaram, são clientes considerados em churn.\n",
    "\n",
    "Outro exemplo seria os clientes que não fazem uma compra à mais de 60 dias. Esse clientes podem ser considerados clientes em churn até que uma compra seja realizada. O período de 60 dias é totalmente arbitrário e varia entre empresas. \n",
    "\n",
    "Projeto retirado do Blog Seja Um Data Scientist\n",
    "https://sejaumdatascientist.com/predicao-de-churn/\n",
    "\n",
    "Projeto original disponível na plataforma Kaggle\n",
    "https://www.kaggle.com/mervetorkan/churndataset\n",
    "\n",
    "## 0.2 Estratégia da Solução:\n",
    "\n",
    "#### 0.2.1 Objetivos:\n",
    "1. Qual a taxa atual de Churn da Top-Bank? Como ela varia mensalmente?\n",
    "2. Qual a performance do modelo em classificar os clientes como churn?\n",
    "3. Qual o retorno esperado, em termos de faturamento, se a empresa utilizar seu modelo para evitar o churn dos clientes?\n",
    "\n",
    "#### 0.2.2 Proposta de Solução:\n",
    "1. Definir a baseline de churn atual e qual é seu custo para a empresa, e utilizar de Exploratory Data Analysis para levantar parâmetros de timeseries para explicar o comportamento da variabilidade ao longo do tempo.\n",
    "2. Escolher métrica de performance, modelar o problema e treinar.\n",
    "3. Definido a baseline (problema 1), scorar os clientes, suas probabilidades de churn, definir programa de giftcards, mensurar probabilidade de conversão de clientes em churn, e custo do programa. Retorno financeiro = Churn atual - (menos) Churn predito após programa de giftcards - (menos) custo do programa.\n",
    "\n",
    "#### 0.2.3 Inputs:\n",
    "1. Problema de negócio\n",
    "2. Conjunto de dados com características de 10.000 clientes e seus status de churn\n",
    "\n",
    "#### 0.2.4 Outputs:\n",
    "1. Taxas e parâmetros em uma tabela no notebook (Porcentagem, | Mês | Taxa de churn |)\n",
    "3. Métricas do modelo (Métrica F1-Score)\n",
    "3. Receita gerada pela redução de churn (Valor em moeda)\n",
    "4. Tabela de banco de dados SQL com todas as classificações\n",
    "5. API com request/predict do tipo: | v1 | v2 | v3 | - 1/0\n",
    "\n",
    "#### 0.2.5 Ciclos:\n",
    "1. Criar um pipeline de dados funcional, de ponta a ponta (desde a coleta de dados até o \n",
    "    treinamento do modelo)\n",
    "2. Entender os dados e limpa-los (buscar inconsistências) Análises de estatística\n",
    "    descritiva de primeira ordem\n",
    "3. Feature Engineering (criar variáveis que modelam o fenômeno)\n",
    "4. Criar as hipóteses de negócio\n",
    "5. Análise exploratória de dados para validar ou refutar hióteses\n",
    "6. Definir métricas e treinar o modelo\n",
    "7. Analisar métricas\n",
    "8. Resultados e conclusão\n",
    "\n",
    "## 0.3 Significado das features:\n",
    "\n",
    "1. RowNumber: O número da coluna\n",
    "2. CustomerID: Identificador único do cliente\n",
    "3. Surname: Sobrenome do cliente.\n",
    "4. CreditScore: A pontuação de Crédito do cliente para o mercado de consumo.\n",
    "5. Geography: O país onde o cliente reside.\n",
    "6. Gender: O gênero do cliente.\n",
    "7. Age: A idade do cliente.\n",
    "8. Tenure: Número de anos que o cliente permaneceu ativo.\n",
    "9. Balance: Valor monetário que o cliente tem em sua conta bancária.\n",
    "10. NumOfProducts: O número de produtos comprado pelo cliente no banco.\n",
    "11. HasCrCard: Indica se o cliente possui ou não cartão de crédito.\n",
    "12. IsActiveMember: Indica se o cliente fez pelo menos uma movimentação na conta bancário dentro de 12 meses.\n",
    "13. EstimateSalary: Estimativa do salário mensal do cliente.\n",
    "14. Exited: Indica se o cliente está ou não em Churn.\n",
    "\n",
    "## 0.4 Sumário:\n",
    "\n",
    "## 0.5 Resultados e Conclusão:"
   ]
  },
  {
   "cell_type": "markdown",
   "id": "c729438b",
   "metadata": {
    "heading_collapsed": true
   },
   "source": [
    "# 1.0 Imports"
   ]
  },
  {
   "cell_type": "markdown",
   "id": "46adce05",
   "metadata": {
    "heading_collapsed": true,
    "hidden": true
   },
   "source": [
    "###### 1.1 Importing libraries"
   ]
  },
  {
   "cell_type": "code",
   "execution_count": 1,
   "id": "11fa254d",
   "metadata": {
    "hidden": true
   },
   "outputs": [],
   "source": [
    "import numpy as np\n",
    "import pandas as pd\n",
    "import matplotlib.pyplot as plt\n",
    "import seaborn as sns\n",
    "\n",
    "from sklearn.preprocessing import LabelEncoder, StandardScaler\n",
    "from sklearn.model_selection import train_test_split\n",
    "from sklearn.metrics import classification_report, roc_auc_score, roc_curve\n",
    "from sklearn.ensemble import RandomForestClassifier\n",
    "\n",
    "from scipy.stats import shapiro, ttest_ind\n",
    "\n",
    "from imblearn.over_sampling import SMOTE\n",
    "from imblearn.under_sampling import NearMiss\n",
    "\n",
    "from xgboost import XGBRFClassifier\n",
    "\n",
    "import time\n",
    "\n",
    "tempo_agora = time.time() # Contabilizando o tempo de processamento do projeto"
   ]
  },
  {
   "cell_type": "markdown",
   "id": "bdf7f18f",
   "metadata": {
    "heading_collapsed": true,
    "hidden": true
   },
   "source": [
    "###### 1.2 Loading dataset"
   ]
  },
  {
   "cell_type": "code",
   "execution_count": 2,
   "id": "c99872ec",
   "metadata": {
    "hidden": true
   },
   "outputs": [],
   "source": [
    "# reading csv\n",
    "df = pd.read_csv('C:\\\\Users\\\\Notebook\\\\Google Drive\\\\Pessoal\\\\Projetos\\\\bank_churn_predict\\\\churn.csv')"
   ]
  },
  {
   "cell_type": "markdown",
   "id": "e62dcc46",
   "metadata": {
    "heading_collapsed": true,
    "hidden": true
   },
   "source": [
    "###### 1.3 Helper functions"
   ]
  },
  {
   "cell_type": "code",
   "execution_count": 3,
   "id": "4379c4d6",
   "metadata": {
    "hidden": true
   },
   "outputs": [],
   "source": [
    "# Estatística descritiva de primeira ordem\n",
    "def estat_desc(x):\n",
    "    print(f'Média: {round(x.mean(), 2)}')\n",
    "    print(f'Mínimo: {round(x.min(), 2)}')\n",
    "    print(f'Máximo: {round(x.max(), 2)}')\n",
    "    print(f'Range: {round(x.max()-x.min(), 2)}')\n",
    "    print(f'Desvio Padrão: {round(x.std(), 2)}')\n",
    "    print(f'Curtose: {round(x.kurtosis(), 2)}')\n",
    "    print(f'Skew: {round(x.skew(), 2)}')\n",
    "    \n",
    "# Teste de Shapiro de normalidade\n",
    "def teste_shapiro(x, alpha=0.05):\n",
    "    temp = np.random.choice(df.index, 5000)\n",
    "    x = x.loc[temp]\n",
    "    result = shapiro(x)\n",
    "    if result.pvalue < alpha:\n",
    "        print(f'Com um pvalor: {result.pvalue}, a Series NÃO tem distribuição normal.')\n",
    "    else:\n",
    "        print(f'Com um pvalor: {result.pvalue}, a Series tem distribuição normal.')\n",
    "\n",
    "# identificando outliers\n",
    "def busca_outliers(df, series):\n",
    "    q1 = np.percentile(df[series], 25)\n",
    "    q3 = np.percentile(df[series], 75)\n",
    "    distancia = q3 - q1\n",
    "    salto = distancia * 1.5\n",
    "    li = q1 - salto\n",
    "    ls = q3 + salto\n",
    "    indices = df[(df[series]<li)|(df[series]>ls)].index\n",
    "    print(f'O limite inferior é: {li}\\nO limite superior é: {ls}\\nHá {len(indices)} outliers')\n",
    "    return indices\n",
    "\n",
    "# Função inferência\n",
    "def comparar_features(series1, series2, confiança, qtd_amostras):\n",
    "    print('Series 1')\n",
    "    print(f'Média = {round(series1.mean(), 2)}')\n",
    "    print(f'Desvio padrão = {round(series1.std(), 2)}')\n",
    "    print()\n",
    "    print('Series 2')\n",
    "    print(f'Média = {round(series2.mean(), 2)}')\n",
    "    print(f'Desvio padrão = {round(series2.std(), 2)}')\n",
    "    aleatório1 = np.random.choice(series1.dropna(), qtd_amostras)\n",
    "    aleatório2 = np.random.choice(series2.dropna(), qtd_amostras)\n",
    "    stat, p = ttest_ind(aleatório1, aleatório2)\n",
    "    print(f'statistic = {round(stat, 2)}, p = {round(p, 2)}')\n",
    "  \n",
    "    if p < confiança:\n",
    "        print(f'\\nCom um p-valor igual à {round(p, 2)}, as series são estatísticamente DIFERENTES com um grau de confiança de {round(100-confiança*100)}%')\n",
    "    if p > confiança:\n",
    "        print(f'\\nCom um p-valor igual à {round(p, 2)}, as series são estatísticamente IGUAIS com um grau de confiança de {round(100-confiança*100)}%')"
   ]
  },
  {
   "cell_type": "markdown",
   "id": "34679afd",
   "metadata": {
    "heading_collapsed": true
   },
   "source": [
    "# 2.0 General Analysis and Data Cleaning"
   ]
  },
  {
   "cell_type": "markdown",
   "id": "852b5c4b",
   "metadata": {
    "heading_collapsed": true,
    "hidden": true
   },
   "source": [
    "## 2.1 Data Descriptions"
   ]
  },
  {
   "cell_type": "markdown",
   "id": "1d220e17",
   "metadata": {
    "heading_collapsed": true,
    "hidden": true
   },
   "source": [
    "### 2.1.1 Main insights:\n",
    "\n",
    "###### Exited\n",
    "1. Desbalanceado, por volta de 20% de churn\n",
    "2. Correlação fraca com Age e muito fraca com as demais\n",
    "\n",
    "###### NumOfProducts\n",
    "1. Clientes com 3 ou 4 produtos têm maior probabilidade de churn\n",
    "2. Correlação fraca negativa com Balance\n",
    "3. 95% dos clientes possuem 1 ou 2 produtos\n",
    "\n",
    "###### HasCrCard\n",
    "1. 70% dos clientes possui cartão de crédito\n",
    "2. Aparentemente não ajuda a modelar o fenômeno\n",
    "3. Correlações muito fracas\n",
    "\n",
    "###### IsActiveMember\n",
    "1. A quantidade de clientes ativos e inativos está equilibrada\n",
    "2. Membros ativos são 47% menos propensos ao churn\n",
    "3. Correlações muito fracas\n",
    "\n",
    "###### Geography\n",
    "1. Mais de 50% dos clientes está na França\n",
    "2. Clientes da Germany têm maior probabilidade de Churn\n",
    "3. Correlações muito fracas\n",
    "\n",
    "###### Gender\n",
    "1. 54% dos clientes são homens\n",
    "2. Mulheres têm 34% de chance maior de churn de churn\n",
    "\n",
    "###### CreditScore\n",
    "1. Não tem distribuição normal\n",
    "2. Não há faixas de CreditScore mais suscetíveis ao churn\n",
    "3. Correlações muito fracas\n",
    "\n",
    "###### Age\n",
    "1. Idade mínima de 18 anos, máxima de 92, aparentemente sem erros de input\n",
    "2. Média de idade de clientes em churn é de 45, já os em não churn é de 37\n",
    "3. Correlação fraca com Exited\n",
    "4. Idade mínima de 18 anos, máxima de 92, aparentemente sem erros de input\n",
    "5. Não tem distribuição normal\n",
    "6. Cauda direita mais pesada\n",
    "7. 359 outliers\n",
    "\n",
    "###### Balance\n",
    "1. Balance com valor máximo bastante mais alto do terceiro quartil, com primeiro quartil com cliantes com valor zerado na conta, o que sugere que haja uma quantidade grande de contas com zero de saldo.\n",
    "2. Clientes com saldo zerado na conta tem probabilidade relativamente menor de churn\n",
    "3. Correlação fraca com NumOfProducts\n",
    "4. 36% das contas bancárias estão zeradas\n",
    "5. Não tem distribuição normal\n",
    "\n",
    "###### EstimatedSalary\n",
    "1. Não tem distribuição normal\n",
    "2. Aparentemente não ajuda a modelar o fenômeno\n",
    "3. Correlações muito fracas\n",
    "4. Apresenta uma frequência bastante contínua em todo o range da variância da feature, semelhante a variáveis categóricas\n",
    "\n",
    "###### Tenure\n",
    "1. Aparentemente não ajuda a modelar o fenômeno\n",
    "2. Correlações muito fracas\n",
    "3. Apesar das médias de churn por categoria serem relativamente diferentes, os desvios padrões colocam todas as categorias em um mesmo patamar"
   ]
  },
  {
   "cell_type": "markdown",
   "id": "7d388fe5",
   "metadata": {
    "heading_collapsed": true,
    "hidden": true
   },
   "source": [
    "##### 2.1.2 Looking dataset"
   ]
  },
  {
   "cell_type": "code",
   "execution_count": 4,
   "id": "a9a6d3cc",
   "metadata": {
    "hidden": true,
    "scrolled": true
   },
   "outputs": [
    {
     "data": {
      "text/html": [
       "<div>\n",
       "<style scoped>\n",
       "    .dataframe tbody tr th:only-of-type {\n",
       "        vertical-align: middle;\n",
       "    }\n",
       "\n",
       "    .dataframe tbody tr th {\n",
       "        vertical-align: top;\n",
       "    }\n",
       "\n",
       "    .dataframe thead th {\n",
       "        text-align: right;\n",
       "    }\n",
       "</style>\n",
       "<table border=\"1\" class=\"dataframe\">\n",
       "  <thead>\n",
       "    <tr style=\"text-align: right;\">\n",
       "      <th></th>\n",
       "      <th>RowNumber</th>\n",
       "      <th>CustomerId</th>\n",
       "      <th>Surname</th>\n",
       "      <th>CreditScore</th>\n",
       "      <th>Geography</th>\n",
       "      <th>Gender</th>\n",
       "      <th>Age</th>\n",
       "      <th>Tenure</th>\n",
       "      <th>Balance</th>\n",
       "      <th>NumOfProducts</th>\n",
       "      <th>HasCrCard</th>\n",
       "      <th>IsActiveMember</th>\n",
       "      <th>EstimatedSalary</th>\n",
       "      <th>Exited</th>\n",
       "    </tr>\n",
       "  </thead>\n",
       "  <tbody>\n",
       "    <tr>\n",
       "      <th>0</th>\n",
       "      <td>1</td>\n",
       "      <td>15634602</td>\n",
       "      <td>Hargrave</td>\n",
       "      <td>619</td>\n",
       "      <td>France</td>\n",
       "      <td>Female</td>\n",
       "      <td>42</td>\n",
       "      <td>2</td>\n",
       "      <td>0.00</td>\n",
       "      <td>1</td>\n",
       "      <td>1</td>\n",
       "      <td>1</td>\n",
       "      <td>101348.88</td>\n",
       "      <td>1</td>\n",
       "    </tr>\n",
       "    <tr>\n",
       "      <th>1</th>\n",
       "      <td>2</td>\n",
       "      <td>15647311</td>\n",
       "      <td>Hill</td>\n",
       "      <td>608</td>\n",
       "      <td>Spain</td>\n",
       "      <td>Female</td>\n",
       "      <td>41</td>\n",
       "      <td>1</td>\n",
       "      <td>83807.86</td>\n",
       "      <td>1</td>\n",
       "      <td>0</td>\n",
       "      <td>1</td>\n",
       "      <td>112542.58</td>\n",
       "      <td>0</td>\n",
       "    </tr>\n",
       "    <tr>\n",
       "      <th>2</th>\n",
       "      <td>3</td>\n",
       "      <td>15619304</td>\n",
       "      <td>Onio</td>\n",
       "      <td>502</td>\n",
       "      <td>France</td>\n",
       "      <td>Female</td>\n",
       "      <td>42</td>\n",
       "      <td>8</td>\n",
       "      <td>159660.80</td>\n",
       "      <td>3</td>\n",
       "      <td>1</td>\n",
       "      <td>0</td>\n",
       "      <td>113931.57</td>\n",
       "      <td>1</td>\n",
       "    </tr>\n",
       "    <tr>\n",
       "      <th>3</th>\n",
       "      <td>4</td>\n",
       "      <td>15701354</td>\n",
       "      <td>Boni</td>\n",
       "      <td>699</td>\n",
       "      <td>France</td>\n",
       "      <td>Female</td>\n",
       "      <td>39</td>\n",
       "      <td>1</td>\n",
       "      <td>0.00</td>\n",
       "      <td>2</td>\n",
       "      <td>0</td>\n",
       "      <td>0</td>\n",
       "      <td>93826.63</td>\n",
       "      <td>0</td>\n",
       "    </tr>\n",
       "    <tr>\n",
       "      <th>4</th>\n",
       "      <td>5</td>\n",
       "      <td>15737888</td>\n",
       "      <td>Mitchell</td>\n",
       "      <td>850</td>\n",
       "      <td>Spain</td>\n",
       "      <td>Female</td>\n",
       "      <td>43</td>\n",
       "      <td>2</td>\n",
       "      <td>125510.82</td>\n",
       "      <td>1</td>\n",
       "      <td>1</td>\n",
       "      <td>1</td>\n",
       "      <td>79084.10</td>\n",
       "      <td>0</td>\n",
       "    </tr>\n",
       "  </tbody>\n",
       "</table>\n",
       "</div>"
      ],
      "text/plain": [
       "   RowNumber  CustomerId   Surname  CreditScore Geography  Gender  Age  \\\n",
       "0          1    15634602  Hargrave          619    France  Female   42   \n",
       "1          2    15647311      Hill          608     Spain  Female   41   \n",
       "2          3    15619304      Onio          502    France  Female   42   \n",
       "3          4    15701354      Boni          699    France  Female   39   \n",
       "4          5    15737888  Mitchell          850     Spain  Female   43   \n",
       "\n",
       "   Tenure    Balance  NumOfProducts  HasCrCard  IsActiveMember  \\\n",
       "0       2       0.00              1          1               1   \n",
       "1       1   83807.86              1          0               1   \n",
       "2       8  159660.80              3          1               0   \n",
       "3       1       0.00              2          0               0   \n",
       "4       2  125510.82              1          1               1   \n",
       "\n",
       "   EstimatedSalary  Exited  \n",
       "0        101348.88       1  \n",
       "1        112542.58       0  \n",
       "2        113931.57       1  \n",
       "3         93826.63       0  \n",
       "4         79084.10       0  "
      ]
     },
     "execution_count": 4,
     "metadata": {},
     "output_type": "execute_result"
    }
   ],
   "source": [
    "df.head(5)"
   ]
  },
  {
   "cell_type": "markdown",
   "id": "9844549c",
   "metadata": {
    "heading_collapsed": true,
    "hidden": true
   },
   "source": [
    "##### 2.1.3 Data dimensions"
   ]
  },
  {
   "cell_type": "code",
   "execution_count": 5,
   "id": "c190ba97",
   "metadata": {
    "hidden": true
   },
   "outputs": [
    {
     "name": "stdout",
     "output_type": "stream",
     "text": [
      "O dataset possui: 10000 linhas\n",
      "O dataset possui: 14 colunas\n"
     ]
    }
   ],
   "source": [
    "print(f'O dataset possui: {df.shape[0]} linhas')\n",
    "print(f'O dataset possui: {df.shape[1]} colunas')"
   ]
  },
  {
   "cell_type": "markdown",
   "id": "5601711a",
   "metadata": {
    "heading_collapsed": true,
    "hidden": true
   },
   "source": [
    "##### 2.1.4 Datatypes"
   ]
  },
  {
   "cell_type": "code",
   "execution_count": 6,
   "id": "e12f3418",
   "metadata": {
    "hidden": true
   },
   "outputs": [
    {
     "data": {
      "text/plain": [
       "RowNumber            int64\n",
       "CustomerId           int64\n",
       "Surname             object\n",
       "CreditScore          int64\n",
       "Geography           object\n",
       "Gender              object\n",
       "Age                  int64\n",
       "Tenure               int64\n",
       "Balance            float64\n",
       "NumOfProducts        int64\n",
       "HasCrCard            int64\n",
       "IsActiveMember       int64\n",
       "EstimatedSalary    float64\n",
       "Exited               int64\n",
       "dtype: object"
      ]
     },
     "execution_count": 6,
     "metadata": {},
     "output_type": "execute_result"
    }
   ],
   "source": [
    "df.dtypes"
   ]
  },
  {
   "cell_type": "markdown",
   "id": "8556d3f5",
   "metadata": {
    "heading_collapsed": true,
    "hidden": true
   },
   "source": [
    "##### 2.1.5 Changing interesting datatypes"
   ]
  },
  {
   "cell_type": "code",
   "execution_count": 7,
   "id": "a12e6332",
   "metadata": {
    "hidden": true
   },
   "outputs": [],
   "source": [
    "geography_le = LabelEncoder()\n",
    "Geography = geography_le.fit(df['Geography'])\n",
    "df['Geography_enc'] = geography_le.fit_transform(df['Geography'])\n",
    "gender_le = LabelEncoder()\n",
    "Gender = gender_le.fit(df['Gender'])\n",
    "df['Gender_enc'] = gender_le.fit_transform(df['Gender'])"
   ]
  },
  {
   "cell_type": "markdown",
   "id": "e80aca2c",
   "metadata": {
    "heading_collapsed": true,
    "hidden": true
   },
   "source": [
    "##### 2.1.6 Segregating feature types"
   ]
  },
  {
   "cell_type": "code",
   "execution_count": 8,
   "id": "279f7458",
   "metadata": {
    "hidden": true
   },
   "outputs": [],
   "source": [
    "features_id = ['CustomerId']\n",
    "features_string = ['Gender', 'Geography', 'Surname']\n",
    "features_categóricas = ['NumOfProducts', 'HasCrCard', 'IsActiveMember', 'Geography_enc', 'Gender_enc', 'Tenure']\n",
    "features_numéricas = ['CreditScore', 'Age', 'Balance', 'EstimatedSalary']\n",
    "target = ['Exited']"
   ]
  },
  {
   "cell_type": "markdown",
   "id": "c7bbd080",
   "metadata": {
    "heading_collapsed": true,
    "hidden": true
   },
   "source": [
    "##### 2.1.7 Cheking NaN values"
   ]
  },
  {
   "cell_type": "code",
   "execution_count": 9,
   "id": "0a3bddae",
   "metadata": {
    "hidden": true
   },
   "outputs": [
    {
     "data": {
      "text/plain": [
       "RowNumber          0\n",
       "CustomerId         0\n",
       "Surname            0\n",
       "CreditScore        0\n",
       "Geography          0\n",
       "Gender             0\n",
       "Age                0\n",
       "Tenure             0\n",
       "Balance            0\n",
       "NumOfProducts      0\n",
       "HasCrCard          0\n",
       "IsActiveMember     0\n",
       "EstimatedSalary    0\n",
       "Exited             0\n",
       "Geography_enc      0\n",
       "Gender_enc         0\n",
       "dtype: int64"
      ]
     },
     "execution_count": 9,
     "metadata": {},
     "output_type": "execute_result"
    }
   ],
   "source": [
    "df.isna().sum()"
   ]
  },
  {
   "cell_type": "markdown",
   "id": "7b184e1a",
   "metadata": {
    "heading_collapsed": true,
    "hidden": true
   },
   "source": [
    "## 2.2 Descriptive Statistics"
   ]
  },
  {
   "cell_type": "markdown",
   "id": "cc2d8c19",
   "metadata": {
    "heading_collapsed": true,
    "hidden": true
   },
   "source": [
    "### 2.2.1 Target"
   ]
  },
  {
   "cell_type": "code",
   "execution_count": 10,
   "id": "30c7d1c8",
   "metadata": {
    "hidden": true
   },
   "outputs": [
    {
     "name": "stdout",
     "output_type": "stream",
     "text": [
      "A taxa global de churn é: 20.37%\n"
     ]
    }
   ],
   "source": [
    "print(f'A taxa global de churn é: {round(df[\"Exited\"].mean() * 100, 2)}%')"
   ]
  },
  {
   "cell_type": "markdown",
   "id": "c0b00309",
   "metadata": {
    "hidden": true
   },
   "source": [
    "Desbalanceada"
   ]
  },
  {
   "cell_type": "markdown",
   "id": "8ee99dee",
   "metadata": {
    "heading_collapsed": true,
    "hidden": true
   },
   "source": [
    "### 2.2.1 Categorical Features"
   ]
  },
  {
   "cell_type": "code",
   "execution_count": 11,
   "id": "223b9b4a",
   "metadata": {
    "hidden": true,
    "scrolled": true
   },
   "outputs": [
    {
     "data": {
      "text/html": [
       "<div>\n",
       "<style scoped>\n",
       "    .dataframe tbody tr th:only-of-type {\n",
       "        vertical-align: middle;\n",
       "    }\n",
       "\n",
       "    .dataframe tbody tr th {\n",
       "        vertical-align: top;\n",
       "    }\n",
       "\n",
       "    .dataframe thead th {\n",
       "        text-align: right;\n",
       "    }\n",
       "</style>\n",
       "<table border=\"1\" class=\"dataframe\">\n",
       "  <thead>\n",
       "    <tr style=\"text-align: right;\">\n",
       "      <th></th>\n",
       "      <th>NumOfProducts</th>\n",
       "      <th>HasCrCard</th>\n",
       "      <th>IsActiveMember</th>\n",
       "      <th>Geography_enc</th>\n",
       "      <th>Gender_enc</th>\n",
       "      <th>Tenure</th>\n",
       "    </tr>\n",
       "  </thead>\n",
       "  <tbody>\n",
       "    <tr>\n",
       "      <th>count</th>\n",
       "      <td>10000</td>\n",
       "      <td>10000</td>\n",
       "      <td>10000</td>\n",
       "      <td>10000</td>\n",
       "      <td>10000</td>\n",
       "      <td>10000</td>\n",
       "    </tr>\n",
       "    <tr>\n",
       "      <th>unique</th>\n",
       "      <td>4</td>\n",
       "      <td>2</td>\n",
       "      <td>2</td>\n",
       "      <td>3</td>\n",
       "      <td>2</td>\n",
       "      <td>11</td>\n",
       "    </tr>\n",
       "    <tr>\n",
       "      <th>top</th>\n",
       "      <td>1</td>\n",
       "      <td>1</td>\n",
       "      <td>1</td>\n",
       "      <td>0</td>\n",
       "      <td>1</td>\n",
       "      <td>2</td>\n",
       "    </tr>\n",
       "    <tr>\n",
       "      <th>freq</th>\n",
       "      <td>5084</td>\n",
       "      <td>7055</td>\n",
       "      <td>5151</td>\n",
       "      <td>5014</td>\n",
       "      <td>5457</td>\n",
       "      <td>1048</td>\n",
       "    </tr>\n",
       "  </tbody>\n",
       "</table>\n",
       "</div>"
      ],
      "text/plain": [
       "        NumOfProducts  HasCrCard  IsActiveMember  Geography_enc  Gender_enc  \\\n",
       "count           10000      10000           10000          10000       10000   \n",
       "unique              4          2               2              3           2   \n",
       "top                 1          1               1              0           1   \n",
       "freq             5084       7055            5151           5014        5457   \n",
       "\n",
       "        Tenure  \n",
       "count    10000  \n",
       "unique      11  \n",
       "top          2  \n",
       "freq      1048  "
      ]
     },
     "execution_count": 11,
     "metadata": {},
     "output_type": "execute_result"
    }
   ],
   "source": [
    "df[features_categóricas].astype('category').describe()"
   ]
  },
  {
   "cell_type": "code",
   "execution_count": 12,
   "id": "66e2418f",
   "metadata": {
    "hidden": true
   },
   "outputs": [
    {
     "data": {
      "text/plain": [
       "array(['France'], dtype=object)"
      ]
     },
     "execution_count": 12,
     "metadata": {},
     "output_type": "execute_result"
    }
   ],
   "source": [
    "Geography.inverse_transform([0])"
   ]
  },
  {
   "cell_type": "code",
   "execution_count": 13,
   "id": "0f777e1e",
   "metadata": {
    "hidden": true
   },
   "outputs": [
    {
     "data": {
      "text/plain": [
       "array(['Male'], dtype=object)"
      ]
     },
     "execution_count": 13,
     "metadata": {},
     "output_type": "execute_result"
    }
   ],
   "source": [
    "Gender.inverse_transform([1])"
   ]
  },
  {
   "cell_type": "markdown",
   "id": "55676351",
   "metadata": {
    "heading_collapsed": true,
    "hidden": true
   },
   "source": [
    "### 2.2.1 Numerical Features"
   ]
  },
  {
   "cell_type": "code",
   "execution_count": 14,
   "id": "925b06c0",
   "metadata": {
    "hidden": true,
    "scrolled": true
   },
   "outputs": [
    {
     "data": {
      "text/html": [
       "<div>\n",
       "<style scoped>\n",
       "    .dataframe tbody tr th:only-of-type {\n",
       "        vertical-align: middle;\n",
       "    }\n",
       "\n",
       "    .dataframe tbody tr th {\n",
       "        vertical-align: top;\n",
       "    }\n",
       "\n",
       "    .dataframe thead th {\n",
       "        text-align: right;\n",
       "    }\n",
       "</style>\n",
       "<table border=\"1\" class=\"dataframe\">\n",
       "  <thead>\n",
       "    <tr style=\"text-align: right;\">\n",
       "      <th></th>\n",
       "      <th>CreditScore</th>\n",
       "      <th>Age</th>\n",
       "      <th>Balance</th>\n",
       "      <th>EstimatedSalary</th>\n",
       "    </tr>\n",
       "  </thead>\n",
       "  <tbody>\n",
       "    <tr>\n",
       "      <th>count</th>\n",
       "      <td>10000.000000</td>\n",
       "      <td>10000.000000</td>\n",
       "      <td>10000.000000</td>\n",
       "      <td>10000.000000</td>\n",
       "    </tr>\n",
       "    <tr>\n",
       "      <th>mean</th>\n",
       "      <td>650.528800</td>\n",
       "      <td>38.921800</td>\n",
       "      <td>76485.889288</td>\n",
       "      <td>100090.239881</td>\n",
       "    </tr>\n",
       "    <tr>\n",
       "      <th>std</th>\n",
       "      <td>96.653299</td>\n",
       "      <td>10.487806</td>\n",
       "      <td>62397.405202</td>\n",
       "      <td>57510.492818</td>\n",
       "    </tr>\n",
       "    <tr>\n",
       "      <th>min</th>\n",
       "      <td>350.000000</td>\n",
       "      <td>18.000000</td>\n",
       "      <td>0.000000</td>\n",
       "      <td>11.580000</td>\n",
       "    </tr>\n",
       "    <tr>\n",
       "      <th>25%</th>\n",
       "      <td>584.000000</td>\n",
       "      <td>32.000000</td>\n",
       "      <td>0.000000</td>\n",
       "      <td>51002.110000</td>\n",
       "    </tr>\n",
       "    <tr>\n",
       "      <th>50%</th>\n",
       "      <td>652.000000</td>\n",
       "      <td>37.000000</td>\n",
       "      <td>97198.540000</td>\n",
       "      <td>100193.915000</td>\n",
       "    </tr>\n",
       "    <tr>\n",
       "      <th>75%</th>\n",
       "      <td>718.000000</td>\n",
       "      <td>44.000000</td>\n",
       "      <td>127644.240000</td>\n",
       "      <td>149388.247500</td>\n",
       "    </tr>\n",
       "    <tr>\n",
       "      <th>max</th>\n",
       "      <td>850.000000</td>\n",
       "      <td>92.000000</td>\n",
       "      <td>250898.090000</td>\n",
       "      <td>199992.480000</td>\n",
       "    </tr>\n",
       "  </tbody>\n",
       "</table>\n",
       "</div>"
      ],
      "text/plain": [
       "        CreditScore           Age        Balance  EstimatedSalary\n",
       "count  10000.000000  10000.000000   10000.000000     10000.000000\n",
       "mean     650.528800     38.921800   76485.889288    100090.239881\n",
       "std       96.653299     10.487806   62397.405202     57510.492818\n",
       "min      350.000000     18.000000       0.000000        11.580000\n",
       "25%      584.000000     32.000000       0.000000     51002.110000\n",
       "50%      652.000000     37.000000   97198.540000    100193.915000\n",
       "75%      718.000000     44.000000  127644.240000    149388.247500\n",
       "max      850.000000     92.000000  250898.090000    199992.480000"
      ]
     },
     "execution_count": 14,
     "metadata": {},
     "output_type": "execute_result"
    }
   ],
   "source": [
    "df[features_numéricas].describe()"
   ]
  },
  {
   "cell_type": "markdown",
   "id": "a094e7c8",
   "metadata": {
    "heading_collapsed": true,
    "hidden": true
   },
   "source": [
    "### 2.2.2 Features Individual Analysis"
   ]
  },
  {
   "cell_type": "markdown",
   "id": "3182fdc2",
   "metadata": {
    "heading_collapsed": true,
    "hidden": true
   },
   "source": [
    "#### Exited"
   ]
  },
  {
   "cell_type": "markdown",
   "id": "027079fc",
   "metadata": {
    "heading_collapsed": true,
    "hidden": true
   },
   "source": [
    "###### Principais Insights:\n",
    "1. Desbalanceado, por volta de 20% de churn\n",
    "2. Correlação fraca com Age e muito fraca com as demais"
   ]
  },
  {
   "cell_type": "markdown",
   "id": "53fe3842",
   "metadata": {
    "heading_collapsed": true,
    "hidden": true
   },
   "source": [
    "###### General Analysis"
   ]
  },
  {
   "cell_type": "code",
   "execution_count": 15,
   "id": "442bee5f",
   "metadata": {
    "hidden": true,
    "scrolled": true
   },
   "outputs": [
    {
     "data": {
      "text/plain": [
       "Age                0.285323\n",
       "Balance            0.118533\n",
       "Geography_enc      0.035943\n",
       "EstimatedSalary    0.012097\n",
       "CustomerId        -0.006248\n",
       "HasCrCard         -0.007138\n",
       "Tenure            -0.014001\n",
       "RowNumber         -0.016571\n",
       "CreditScore       -0.027094\n",
       "NumOfProducts     -0.047820\n",
       "Gender_enc        -0.106512\n",
       "IsActiveMember    -0.156128\n",
       "Name: Exited, dtype: float64"
      ]
     },
     "execution_count": 15,
     "metadata": {},
     "output_type": "execute_result"
    }
   ],
   "source": [
    "df.corr()['Exited'].sort_values(ascending=False)[1:]"
   ]
  },
  {
   "cell_type": "markdown",
   "id": "74ea4146",
   "metadata": {
    "hidden": true
   },
   "source": [
    "Correlação fraca com Age"
   ]
  },
  {
   "cell_type": "code",
   "execution_count": 16,
   "id": "f508e027",
   "metadata": {
    "hidden": true
   },
   "outputs": [
    {
     "data": {
      "text/plain": [
       "0.2037"
      ]
     },
     "execution_count": 16,
     "metadata": {},
     "output_type": "execute_result"
    }
   ],
   "source": [
    "df['Exited'].mean()"
   ]
  },
  {
   "cell_type": "markdown",
   "id": "1a7c3d5c",
   "metadata": {
    "hidden": true
   },
   "source": [
    "Target desbalanceada, serão necessárias ferramentas de balanceamento e métricas para dados desbalanceados"
   ]
  },
  {
   "cell_type": "markdown",
   "id": "3218a956",
   "metadata": {
    "heading_collapsed": true,
    "hidden": true
   },
   "source": [
    "#### Age"
   ]
  },
  {
   "cell_type": "markdown",
   "id": "4386957e",
   "metadata": {
    "heading_collapsed": true,
    "hidden": true
   },
   "source": [
    "###### Principais Insights:\n",
    "1. Idade mínima de 18 anos, máxima de 92, aparentemente sem erros de input\n",
    "2. Média de idade de clientes em churn é de 45, já os em não churn é de 37\n",
    "3. Correlação fraca com Exited\n",
    "4. Idade mínima de 18 anos, máxima de 92, aparentemente sem erros de input\n",
    "5. Não tem distribuição normal\n",
    "6. Cauda direita mais pesada\n",
    "7. 359 outliers"
   ]
  },
  {
   "cell_type": "markdown",
   "id": "977ca039",
   "metadata": {
    "heading_collapsed": true,
    "hidden": true
   },
   "source": [
    "###### General Analysis"
   ]
  },
  {
   "cell_type": "code",
   "execution_count": 17,
   "id": "b3796ea5",
   "metadata": {
    "hidden": true
   },
   "outputs": [
    {
     "data": {
      "text/plain": [
       "Exited             0.285323\n",
       "IsActiveMember     0.085472\n",
       "Balance            0.028308\n",
       "Geography_enc      0.022812\n",
       "CustomerId         0.009497\n",
       "RowNumber          0.000783\n",
       "CreditScore       -0.003965\n",
       "EstimatedSalary   -0.007201\n",
       "Tenure            -0.009997\n",
       "HasCrCard         -0.011721\n",
       "Gender_enc        -0.027544\n",
       "NumOfProducts     -0.030680\n",
       "Name: Age, dtype: float64"
      ]
     },
     "execution_count": 17,
     "metadata": {},
     "output_type": "execute_result"
    }
   ],
   "source": [
    "df.corr()['Age'].sort_values(ascending=False)[1:]"
   ]
  },
  {
   "cell_type": "markdown",
   "id": "fb92a80f",
   "metadata": {
    "hidden": true
   },
   "source": [
    "Correlação fraca com Exited"
   ]
  },
  {
   "cell_type": "code",
   "execution_count": 18,
   "id": "6c0fa700",
   "metadata": {
    "hidden": true
   },
   "outputs": [
    {
     "data": {
      "text/plain": [
       "<AxesSubplot:xlabel='Age', ylabel='Count'>"
      ]
     },
     "execution_count": 18,
     "metadata": {},
     "output_type": "execute_result"
    },
    {
     "data": {
      "image/png": "[encoded data removed]",
      "text/plain": [
       "<Figure size 432x288 with 1 Axes>"
      ]
     },
     "metadata": {
      "needs_background": "light"
     },
     "output_type": "display_data"
    }
   ],
   "source": [
    "sns.histplot(df['Age'])"
   ]
  },
  {
   "cell_type": "code",
   "execution_count": 19,
   "id": "d8cd17be",
   "metadata": {
    "hidden": true
   },
   "outputs": [
    {
     "name": "stdout",
     "output_type": "stream",
     "text": [
      "Média: 38.92\n",
      "Mínimo: 18\n",
      "Máximo: 92\n",
      "Range: 74\n",
      "Desvio Padrão: 10.49\n",
      "Curtose: 1.4\n",
      "Skew: 1.01\n"
     ]
    }
   ],
   "source": [
    "estat_desc(df['Age'])"
   ]
  },
  {
   "cell_type": "code",
   "execution_count": 20,
   "id": "98d4f4ba",
   "metadata": {
    "hidden": true,
    "scrolled": false
   },
   "outputs": [
    {
     "name": "stdout",
     "output_type": "stream",
     "text": [
      "Com um pvalor: 2.7855361198464795e-39, a Series NÃO tem distribuição normal.\n"
     ]
    }
   ],
   "source": [
    "teste_shapiro(df['Age'], 0.05)"
   ]
  },
  {
   "cell_type": "code",
   "execution_count": 21,
   "id": "82ecc5b1",
   "metadata": {
    "hidden": true,
    "scrolled": false
   },
   "outputs": [
    {
     "name": "stdout",
     "output_type": "stream",
     "text": [
      "O limite inferior é: 14.0\n",
      "O limite superior é: 62.0\n",
      "Há 359 outliers\n"
     ]
    }
   ],
   "source": [
    "indices = busca_outliers(df, 'Age')"
   ]
  },
  {
   "cell_type": "markdown",
   "id": "6fb32b7e",
   "metadata": {
    "heading_collapsed": true,
    "hidden": true
   },
   "source": [
    "###### Correlação com a target"
   ]
  },
  {
   "cell_type": "code",
   "execution_count": 22,
   "id": "b7ee54a3",
   "metadata": {
    "hidden": true
   },
   "outputs": [
    {
     "data": {
      "image/png": "[encoded data removed]",
      "text/plain": [
       "<Figure size 432x288 with 2 Axes>"
      ]
     },
     "metadata": {
      "needs_background": "light"
     },
     "output_type": "display_data"
    }
   ],
   "source": [
    "plt.subplot(2, 1, 1)\n",
    "g = sns.histplot(df.loc[df['Exited']==0, 'Age'], color='b', alpha=0.5)\n",
    "g = sns.histplot(df.loc[df['Exited']==1, 'Age'], color='r', alpha=0.5)\n",
    "plt.subplot(2, 1, 2)\n",
    "g = sns.kdeplot(df.loc[df['Exited']==0, 'Age'], color='b', alpha=0.5, shade=True)\n",
    "g = sns.kdeplot(df.loc[df['Exited']==1, 'Age'], color='r', alpha=0.5, shade=True)"
   ]
  },
  {
   "cell_type": "markdown",
   "id": "9a4328a5",
   "metadata": {
    "hidden": true
   },
   "source": [
    "Aparentemente a média de idade de clientes que não estão em churn é por volta dos 37 anos, e os clientes em churn por volta de 45 anos."
   ]
  },
  {
   "cell_type": "code",
   "execution_count": 23,
   "id": "d934b773",
   "metadata": {
    "hidden": true
   },
   "outputs": [
    {
     "name": "stdout",
     "output_type": "stream",
     "text": [
      "Média de idade de clientes em NÃO churn: 37\n",
      "Média de idade de clientes em churn: 45\n"
     ]
    }
   ],
   "source": [
    "print(f'Média de idade de clientes em NÃO churn: {round(df.loc[df[\"Exited\"]==0, \"Age\"].mean())}')\n",
    "print(f'Média de idade de clientes em churn: {round(df.loc[df[\"Exited\"]==1, \"Age\"].mean())}')"
   ]
  },
  {
   "cell_type": "markdown",
   "id": "84da838e",
   "metadata": {
    "heading_collapsed": true,
    "hidden": true
   },
   "source": [
    "#### Balance"
   ]
  },
  {
   "cell_type": "markdown",
   "id": "89d2214f",
   "metadata": {
    "heading_collapsed": true,
    "hidden": true
   },
   "source": [
    "###### Principais Insights:\n",
    "1. Clientes com saldo zerado na conta tem probabilidade relativamente menor de churn\n",
    "2. Correlação fraca com NumOfProducts\n",
    "3. 36% das contas bancárias estão zeradas\n",
    "4. Não tem distribuição normal"
   ]
  },
  {
   "cell_type": "markdown",
   "id": "f51556b2",
   "metadata": {
    "heading_collapsed": true,
    "hidden": true
   },
   "source": [
    "###### General Analysis"
   ]
  },
  {
   "cell_type": "code",
   "execution_count": 24,
   "id": "ff7bf7c5",
   "metadata": {
    "hidden": true
   },
   "outputs": [
    {
     "data": {
      "text/plain": [
       "Exited             0.118533\n",
       "Geography_enc      0.069408\n",
       "Age                0.028308\n",
       "EstimatedSalary    0.012797\n",
       "Gender_enc         0.012087\n",
       "CreditScore        0.006268\n",
       "RowNumber         -0.009067\n",
       "IsActiveMember    -0.010084\n",
       "Tenure            -0.012254\n",
       "CustomerId        -0.012419\n",
       "HasCrCard         -0.014858\n",
       "NumOfProducts     -0.304180\n",
       "Name: Balance, dtype: float64"
      ]
     },
     "execution_count": 24,
     "metadata": {},
     "output_type": "execute_result"
    }
   ],
   "source": [
    "df.corr()['Balance'].sort_values(ascending=False)[1:]"
   ]
  },
  {
   "cell_type": "markdown",
   "id": "2e41f5f4",
   "metadata": {
    "hidden": true
   },
   "source": [
    "Correlação fraca com NumOfProducts"
   ]
  },
  {
   "cell_type": "code",
   "execution_count": 25,
   "id": "bfadda4c",
   "metadata": {
    "hidden": true
   },
   "outputs": [
    {
     "name": "stdout",
     "output_type": "stream",
     "text": [
      "Média: 76485.89\n",
      "Mínimo: 0.0\n",
      "Máximo: 250898.09\n",
      "Range: 250898.09\n",
      "Desvio Padrão: 62397.41\n",
      "Curtose: -1.49\n",
      "Skew: -0.14\n"
     ]
    }
   ],
   "source": [
    "estat_desc(df['Balance'])"
   ]
  },
  {
   "cell_type": "code",
   "execution_count": 26,
   "id": "6d4ea3a9",
   "metadata": {
    "hidden": true
   },
   "outputs": [
    {
     "data": {
      "text/plain": [
       "<AxesSubplot:xlabel='Balance', ylabel='Count'>"
      ]
     },
     "execution_count": 26,
     "metadata": {},
     "output_type": "execute_result"
    },
    {
     "data": {
      "image/png": "[encoded data removed]",
      "text/plain": [
       "<Figure size 432x288 with 1 Axes>"
      ]
     },
     "metadata": {
      "needs_background": "light"
     },
     "output_type": "display_data"
    }
   ],
   "source": [
    "sns.histplot(df['Balance'])"
   ]
  },
  {
   "cell_type": "code",
   "execution_count": 27,
   "id": "d4069280",
   "metadata": {
    "hidden": true
   },
   "outputs": [
    {
     "data": {
      "text/plain": [
       "0.00         0.3617\n",
       "105473.74    0.0002\n",
       "130170.82    0.0002\n",
       "72594.00     0.0001\n",
       "139723.90    0.0001\n",
       "Name: Balance, dtype: float64"
      ]
     },
     "execution_count": 27,
     "metadata": {},
     "output_type": "execute_result"
    }
   ],
   "source": [
    "df['Balance'].value_counts(normalize=True).head(5)"
   ]
  },
  {
   "cell_type": "markdown",
   "id": "e9996642",
   "metadata": {
    "hidden": true
   },
   "source": [
    "36% das contas bancárias estão zeradas"
   ]
  },
  {
   "cell_type": "code",
   "execution_count": 28,
   "id": "a28322e6",
   "metadata": {
    "hidden": true
   },
   "outputs": [
    {
     "name": "stdout",
     "output_type": "stream",
     "text": [
      "Com um pvalor: 0.0, a Series NÃO tem distribuição normal.\n"
     ]
    }
   ],
   "source": [
    "teste_shapiro(df['Balance'])"
   ]
  },
  {
   "cell_type": "code",
   "execution_count": 29,
   "id": "fd7ff857",
   "metadata": {
    "hidden": true
   },
   "outputs": [
    {
     "name": "stdout",
     "output_type": "stream",
     "text": [
      "O limite inferior é: -191466.36000000002\n",
      "O limite superior é: 319110.60000000003\n",
      "Há 0 outliers\n"
     ]
    }
   ],
   "source": [
    "indices = busca_outliers(df, 'Balance')"
   ]
  },
  {
   "cell_type": "markdown",
   "id": "2a201cba",
   "metadata": {
    "heading_collapsed": true,
    "hidden": true
   },
   "source": [
    "###### Correlação com a target"
   ]
  },
  {
   "cell_type": "code",
   "execution_count": 30,
   "id": "a3d3bc43",
   "metadata": {
    "hidden": true
   },
   "outputs": [
    {
     "data": {
      "text/plain": [
       "<AxesSubplot:xlabel='Balance', ylabel='Density'>"
      ]
     },
     "execution_count": 30,
     "metadata": {},
     "output_type": "execute_result"
    },
    {
     "data": {
      "image/png": "[encoded data removed]",
      "text/plain": [
       "<Figure size 432x288 with 2 Axes>"
      ]
     },
     "metadata": {
      "needs_background": "light"
     },
     "output_type": "display_data"
    }
   ],
   "source": [
    "plt.subplot(2, 1, 1)\n",
    "sns.histplot(df.loc[df['Exited']==0, 'Balance'], color='b', alpha=0.5)\n",
    "sns.histplot(df.loc[df['Exited']==1, 'Balance'], color='r', alpha=0.5)\n",
    "plt.subplot(2, 1, 2)\n",
    "sns.kdeplot(df.loc[df['Exited']==0, 'Balance'], color='b', alpha=0.5, shade=True)\n",
    "sns.kdeplot(df.loc[df['Exited']==1, 'Balance'], color='r', alpha=0.5, shade=True)"
   ]
  },
  {
   "cell_type": "markdown",
   "id": "e713174e",
   "metadata": {
    "hidden": true
   },
   "source": [
    "Aparentemente os clientes que têm algum dinheiro na sua conta bancária tem uma probabilidade relativamente maior de churn"
   ]
  },
  {
   "cell_type": "markdown",
   "id": "7806747e",
   "metadata": {
    "heading_collapsed": true,
    "hidden": true
   },
   "source": [
    "#### Geography"
   ]
  },
  {
   "cell_type": "markdown",
   "id": "cbd82c00",
   "metadata": {
    "heading_collapsed": true,
    "hidden": true
   },
   "source": [
    "###### Principais Insights:\n",
    "1. Mais de 50% dos clientes está na França\n",
    "2. Clientes da Germany têm maior probabilidade de Churn\n",
    "3. Correlações muito fracas"
   ]
  },
  {
   "cell_type": "markdown",
   "id": "fb7b8903",
   "metadata": {
    "heading_collapsed": true,
    "hidden": true
   },
   "source": [
    "###### General Analysis"
   ]
  },
  {
   "cell_type": "code",
   "execution_count": 31,
   "id": "0fc1763d",
   "metadata": {
    "hidden": true,
    "scrolled": true
   },
   "outputs": [
    {
     "data": {
      "text/plain": [
       "Balance            0.069408\n",
       "Exited             0.035943\n",
       "Age                0.022812\n",
       "CreditScore        0.007888\n",
       "IsActiveMember     0.006724\n",
       "CustomerId         0.006516\n",
       "Gender_enc         0.004719\n",
       "NumOfProducts      0.003972\n",
       "Tenure             0.003739\n",
       "EstimatedSalary   -0.001369\n",
       "HasCrCard         -0.008523\n",
       "RowNumber         -0.010358\n",
       "Name: Geography_enc, dtype: float64"
      ]
     },
     "execution_count": 31,
     "metadata": {},
     "output_type": "execute_result"
    }
   ],
   "source": [
    "df.corr()['Geography_enc'].sort_values(ascending=False)[1:]"
   ]
  },
  {
   "cell_type": "markdown",
   "id": "7d88b5e0",
   "metadata": {
    "hidden": true
   },
   "source": [
    "Correlações muito fracas"
   ]
  },
  {
   "cell_type": "code",
   "execution_count": 32,
   "id": "760e6d2d",
   "metadata": {
    "hidden": true
   },
   "outputs": [
    {
     "data": {
      "text/plain": [
       "<AxesSubplot:xlabel='Geography_enc', ylabel='count'>"
      ]
     },
     "execution_count": 32,
     "metadata": {},
     "output_type": "execute_result"
    },
    {
     "data": {
      "image/png": "[encoded data removed]",
      "text/plain": [
       "<Figure size 432x288 with 1 Axes>"
      ]
     },
     "metadata": {
      "needs_background": "light"
     },
     "output_type": "display_data"
    }
   ],
   "source": [
    "sns.countplot(x='Geography_enc', data=df)"
   ]
  },
  {
   "cell_type": "markdown",
   "id": "792e20a5",
   "metadata": {
    "heading_collapsed": true,
    "hidden": true
   },
   "source": [
    "###### Correlação com a target"
   ]
  },
  {
   "cell_type": "code",
   "execution_count": 33,
   "id": "012e3537",
   "metadata": {
    "hidden": true
   },
   "outputs": [
    {
     "data": {
      "text/plain": [
       "<seaborn.axisgrid.FacetGrid at 0x24614fd87c0>"
      ]
     },
     "execution_count": 33,
     "metadata": {},
     "output_type": "execute_result"
    },
    {
     "data": {
      "image/png": "[encoded data removed]",
      "text/plain": [
       "<Figure size 360x360 with 1 Axes>"
      ]
     },
     "metadata": {
      "needs_background": "light"
     },
     "output_type": "display_data"
    }
   ],
   "source": [
    "sns.catplot(x='Geography', y='Exited', data=df, kind='bar')"
   ]
  },
  {
   "cell_type": "markdown",
   "id": "4edb3a44",
   "metadata": {
    "hidden": true
   },
   "source": [
    "Clientes da Germany têm maior probabilidade de Churn"
   ]
  },
  {
   "cell_type": "markdown",
   "id": "159b9e93",
   "metadata": {
    "heading_collapsed": true,
    "hidden": true
   },
   "source": [
    "#### CreditScore"
   ]
  },
  {
   "cell_type": "markdown",
   "id": "8fd2efa6",
   "metadata": {
    "heading_collapsed": true,
    "hidden": true
   },
   "source": [
    "###### Principais Insights:\n",
    "1. Não tem distribuição normal\n",
    "2. Não há faixas de CreditScore mais suscetíveis ao churn\n",
    "3. Correlações muito fracas"
   ]
  },
  {
   "cell_type": "markdown",
   "id": "39b5e46a",
   "metadata": {
    "heading_collapsed": true,
    "hidden": true
   },
   "source": [
    "###### General Analysis"
   ]
  },
  {
   "cell_type": "code",
   "execution_count": 34,
   "id": "03cff050",
   "metadata": {
    "hidden": true
   },
   "outputs": [
    {
     "data": {
      "text/plain": [
       "IsActiveMember     0.025651\n",
       "NumOfProducts      0.012238\n",
       "Geography_enc      0.007888\n",
       "Balance            0.006268\n",
       "RowNumber          0.005840\n",
       "CustomerId         0.005308\n",
       "Tenure             0.000842\n",
       "EstimatedSalary   -0.001384\n",
       "Gender_enc        -0.002857\n",
       "Age               -0.003965\n",
       "HasCrCard         -0.005458\n",
       "Exited            -0.027094\n",
       "Name: CreditScore, dtype: float64"
      ]
     },
     "execution_count": 34,
     "metadata": {},
     "output_type": "execute_result"
    }
   ],
   "source": [
    "df.corr()['CreditScore'].sort_values(ascending=False)[1:]"
   ]
  },
  {
   "cell_type": "markdown",
   "id": "16e4dac0",
   "metadata": {
    "hidden": true
   },
   "source": [
    "Correlações muito fracas"
   ]
  },
  {
   "cell_type": "code",
   "execution_count": 35,
   "id": "5fba7409",
   "metadata": {
    "hidden": true
   },
   "outputs": [
    {
     "data": {
      "text/plain": [
       "<AxesSubplot:xlabel='CreditScore', ylabel='Count'>"
      ]
     },
     "execution_count": 35,
     "metadata": {},
     "output_type": "execute_result"
    },
    {
     "data": {
      "image/png": "[encoded data removed]",
      "text/plain": [
       "<Figure size 432x288 with 1 Axes>"
      ]
     },
     "metadata": {
      "needs_background": "light"
     },
     "output_type": "display_data"
    }
   ],
   "source": [
    "sns.histplot(df['CreditScore'])"
   ]
  },
  {
   "cell_type": "markdown",
   "id": "b894797f",
   "metadata": {
    "hidden": true
   },
   "source": [
    "Há um teto máximo de score"
   ]
  },
  {
   "cell_type": "code",
   "execution_count": 36,
   "id": "5b25e64f",
   "metadata": {
    "hidden": true
   },
   "outputs": [
    {
     "name": "stdout",
     "output_type": "stream",
     "text": [
      "Média: 650.53\n",
      "Mínimo: 350\n",
      "Máximo: 850\n",
      "Range: 500\n",
      "Desvio Padrão: 96.65\n",
      "Curtose: -0.43\n",
      "Skew: -0.07\n"
     ]
    }
   ],
   "source": [
    "estat_desc(df['CreditScore'])"
   ]
  },
  {
   "cell_type": "code",
   "execution_count": 37,
   "id": "29a16fdd",
   "metadata": {
    "hidden": true
   },
   "outputs": [
    {
     "name": "stdout",
     "output_type": "stream",
     "text": [
      "O limite inferior é: 383.0\n",
      "O limite superior é: 919.0\n",
      "Há 15 outliers\n"
     ]
    }
   ],
   "source": [
    "indices = busca_outliers(df, 'CreditScore')"
   ]
  },
  {
   "cell_type": "markdown",
   "id": "63facb97",
   "metadata": {
    "hidden": true
   },
   "source": [
    "Outliers somente no início da distribuição"
   ]
  },
  {
   "cell_type": "code",
   "execution_count": 38,
   "id": "535150e6",
   "metadata": {
    "hidden": true
   },
   "outputs": [
    {
     "name": "stdout",
     "output_type": "stream",
     "text": [
      "Com um pvalor: 1.70283353254563e-14, a Series NÃO tem distribuição normal.\n"
     ]
    }
   ],
   "source": [
    "teste_shapiro(df['CreditScore'])"
   ]
  },
  {
   "cell_type": "markdown",
   "id": "893db644",
   "metadata": {
    "heading_collapsed": true,
    "hidden": true
   },
   "source": [
    "###### Correlação com a target"
   ]
  },
  {
   "cell_type": "code",
   "execution_count": 39,
   "id": "96cb3af7",
   "metadata": {
    "hidden": true
   },
   "outputs": [
    {
     "data": {
      "image/png": "[encoded data removed]",
      "text/plain": [
       "<Figure size 432x288 with 2 Axes>"
      ]
     },
     "metadata": {
      "needs_background": "light"
     },
     "output_type": "display_data"
    }
   ],
   "source": [
    "plt.subplot(2, 1, 1)\n",
    "g = sns.histplot(df.loc[df['Exited']==0, 'CreditScore'], alpha=0.5, color='b')\n",
    "g = sns.histplot(df.loc[df['Exited']==1, 'CreditScore'], alpha=0.5, color='r')\n",
    "plt.subplot(2, 1, 2)\n",
    "g = sns.kdeplot(df.loc[df['Exited']==0, 'CreditScore'], alpha=0.5, color='b', shade=True)\n",
    "g = sns.kdeplot(df.loc[df['Exited']==1, 'CreditScore'], alpha=0.5, color='r', shade=True)"
   ]
  },
  {
   "cell_type": "markdown",
   "id": "a9253c15",
   "metadata": {
    "hidden": true
   },
   "source": [
    "Não há faixas de CreditScore mais suscetíveis ao churn"
   ]
  },
  {
   "cell_type": "markdown",
   "id": "e14c4182",
   "metadata": {
    "heading_collapsed": true,
    "hidden": true
   },
   "source": [
    "#### Tenure"
   ]
  },
  {
   "cell_type": "markdown",
   "id": "caa32cca",
   "metadata": {
    "heading_collapsed": true,
    "hidden": true
   },
   "source": [
    "###### Principais Insights:\n",
    "1. Aparentemente não ajuda a modelar o fenômeno\n",
    "2. Correlações muito fracas\n",
    "3. Apesar das médias de churn por categoria serem relativamente diferentes, os desvios padrões colocam todas as categorias em um mesmo patamar"
   ]
  },
  {
   "cell_type": "markdown",
   "id": "aacdb0f0",
   "metadata": {
    "heading_collapsed": true,
    "hidden": true
   },
   "source": [
    "###### General Analysis"
   ]
  },
  {
   "cell_type": "code",
   "execution_count": 40,
   "id": "7f12dcf6",
   "metadata": {
    "hidden": true
   },
   "outputs": [
    {
     "data": {
      "text/plain": [
       "HasCrCard          0.022583\n",
       "Gender_enc         0.014733\n",
       "NumOfProducts      0.013444\n",
       "EstimatedSalary    0.007784\n",
       "Geography_enc      0.003739\n",
       "CreditScore        0.000842\n",
       "RowNumber         -0.006495\n",
       "Age               -0.009997\n",
       "Balance           -0.012254\n",
       "Exited            -0.014001\n",
       "CustomerId        -0.014883\n",
       "IsActiveMember    -0.028362\n",
       "Name: Tenure, dtype: float64"
      ]
     },
     "execution_count": 40,
     "metadata": {},
     "output_type": "execute_result"
    }
   ],
   "source": [
    "df.corr()['Tenure'].sort_values(ascending=False)[1:]"
   ]
  },
  {
   "cell_type": "markdown",
   "id": "28ed42d6",
   "metadata": {
    "hidden": true
   },
   "source": [
    "Correlações muito fracas"
   ]
  },
  {
   "cell_type": "code",
   "execution_count": 41,
   "id": "bb80e741",
   "metadata": {
    "hidden": true
   },
   "outputs": [
    {
     "data": {
      "text/plain": [
       "10"
      ]
     },
     "execution_count": 41,
     "metadata": {},
     "output_type": "execute_result"
    }
   ],
   "source": [
    "df['Tenure'].max()"
   ]
  },
  {
   "cell_type": "code",
   "execution_count": 42,
   "id": "5a9a7d8c",
   "metadata": {
    "hidden": true
   },
   "outputs": [
    {
     "data": {
      "text/plain": [
       "<AxesSubplot:xlabel='Tenure', ylabel='count'>"
      ]
     },
     "execution_count": 42,
     "metadata": {},
     "output_type": "execute_result"
    },
    {
     "data": {
      "image/png": "[encoded data removed]",
      "text/plain": [
       "<Figure size 432x288 with 1 Axes>"
      ]
     },
     "metadata": {
      "needs_background": "light"
     },
     "output_type": "display_data"
    }
   ],
   "source": [
    "sns.countplot(x='Tenure', data=df)"
   ]
  },
  {
   "cell_type": "code",
   "execution_count": 43,
   "id": "c293b8d4",
   "metadata": {
    "hidden": true
   },
   "outputs": [
    {
     "data": {
      "text/plain": [
       "2     0.1048\n",
       "1     0.1035\n",
       "7     0.1028\n",
       "8     0.1025\n",
       "5     0.1012\n",
       "3     0.1009\n",
       "4     0.0989\n",
       "9     0.0984\n",
       "6     0.0967\n",
       "10    0.0490\n",
       "0     0.0413\n",
       "Name: Tenure, dtype: float64"
      ]
     },
     "execution_count": 43,
     "metadata": {},
     "output_type": "execute_result"
    }
   ],
   "source": [
    "df['Tenure'].value_counts(normalize=True)"
   ]
  },
  {
   "cell_type": "markdown",
   "id": "89c38446",
   "metadata": {
    "heading_collapsed": true,
    "hidden": true
   },
   "source": [
    "###### Correlação com a target"
   ]
  },
  {
   "cell_type": "code",
   "execution_count": 44,
   "id": "d2c46cd9",
   "metadata": {
    "hidden": true
   },
   "outputs": [
    {
     "data": {
      "text/plain": [
       "<seaborn.axisgrid.FacetGrid at 0x246162db5b0>"
      ]
     },
     "execution_count": 44,
     "metadata": {},
     "output_type": "execute_result"
    },
    {
     "data": {
      "image/png": "[encoded data removed]",
      "text/plain": [
       "<Figure size 360x360 with 1 Axes>"
      ]
     },
     "metadata": {
      "needs_background": "light"
     },
     "output_type": "display_data"
    }
   ],
   "source": [
    "sns.catplot(x='Tenure', y='Exited', data=df, kind='bar')"
   ]
  },
  {
   "cell_type": "markdown",
   "id": "02ef533d",
   "metadata": {
    "hidden": true
   },
   "source": [
    "Apesar das médias serem relativamente diferentes, os desvios padrões colocam todas as categorias em um mesmo patamar"
   ]
  },
  {
   "cell_type": "markdown",
   "id": "e6412ed7",
   "metadata": {
    "heading_collapsed": true,
    "hidden": true
   },
   "source": [
    "#### NumOfProducts"
   ]
  },
  {
   "cell_type": "markdown",
   "id": "2056a770",
   "metadata": {
    "heading_collapsed": true,
    "hidden": true
   },
   "source": [
    "###### Principais Insights:\n",
    "1. Clientes com 3 ou 4 produtos têm maior probabilidade de churn\n",
    "2. Correlação fraca negativa com Balance\n",
    "3. 95% dos clientes possuem 1 ou 2 produtos"
   ]
  },
  {
   "cell_type": "markdown",
   "id": "484dd5f1",
   "metadata": {
    "heading_collapsed": true,
    "hidden": true
   },
   "source": [
    "###### General Analysis"
   ]
  },
  {
   "cell_type": "code",
   "execution_count": 45,
   "id": "5ddd698b",
   "metadata": {
    "hidden": true
   },
   "outputs": [
    {
     "data": {
      "text/plain": [
       "CustomerId         0.016972\n",
       "EstimatedSalary    0.014204\n",
       "Tenure             0.013444\n",
       "CreditScore        0.012238\n",
       "IsActiveMember     0.009612\n",
       "RowNumber          0.007246\n",
       "Geography_enc      0.003972\n",
       "HasCrCard          0.003183\n",
       "Gender_enc        -0.021859\n",
       "Age               -0.030680\n",
       "Exited            -0.047820\n",
       "Balance           -0.304180\n",
       "Name: NumOfProducts, dtype: float64"
      ]
     },
     "execution_count": 45,
     "metadata": {},
     "output_type": "execute_result"
    }
   ],
   "source": [
    "df.corr()['NumOfProducts'].sort_values(ascending=False)[1:]"
   ]
  },
  {
   "cell_type": "markdown",
   "id": "674f10b4",
   "metadata": {
    "hidden": true
   },
   "source": [
    "Correlação fraca negativa com Balance"
   ]
  },
  {
   "cell_type": "code",
   "execution_count": 46,
   "id": "76e40825",
   "metadata": {
    "hidden": true
   },
   "outputs": [
    {
     "data": {
      "text/plain": [
       "<AxesSubplot:xlabel='NumOfProducts', ylabel='count'>"
      ]
     },
     "execution_count": 46,
     "metadata": {},
     "output_type": "execute_result"
    },
    {
     "data": {
      "image/png": "[encoded data removed]",
      "text/plain": [
       "<Figure size 432x288 with 1 Axes>"
      ]
     },
     "metadata": {
      "needs_background": "light"
     },
     "output_type": "display_data"
    }
   ],
   "source": [
    "sns.countplot(x='NumOfProducts', data=df)"
   ]
  },
  {
   "cell_type": "code",
   "execution_count": 47,
   "id": "b89824b2",
   "metadata": {
    "hidden": true
   },
   "outputs": [
    {
     "data": {
      "text/plain": [
       "1    0.5084\n",
       "2    0.4590\n",
       "3    0.0266\n",
       "4    0.0060\n",
       "Name: NumOfProducts, dtype: float64"
      ]
     },
     "execution_count": 47,
     "metadata": {},
     "output_type": "execute_result"
    }
   ],
   "source": [
    "df['NumOfProducts'].value_counts(normalize=True)"
   ]
  },
  {
   "cell_type": "markdown",
   "id": "c2600c53",
   "metadata": {
    "hidden": true
   },
   "source": [
    "95% dos clientes possuem 1 ou 2 produtos"
   ]
  },
  {
   "cell_type": "markdown",
   "id": "d841b9b5",
   "metadata": {
    "heading_collapsed": true,
    "hidden": true
   },
   "source": [
    "###### Correlação com a target"
   ]
  },
  {
   "cell_type": "code",
   "execution_count": 48,
   "id": "775db227",
   "metadata": {
    "hidden": true
   },
   "outputs": [
    {
     "data": {
      "text/plain": [
       "<seaborn.axisgrid.FacetGrid at 0x24615250fa0>"
      ]
     },
     "execution_count": 48,
     "metadata": {},
     "output_type": "execute_result"
    },
    {
     "data": {
      "image/png": "[encoded data removed]",
      "text/plain": [
       "<Figure size 360x360 with 1 Axes>"
      ]
     },
     "metadata": {
      "needs_background": "light"
     },
     "output_type": "display_data"
    }
   ],
   "source": [
    "sns.catplot(x='NumOfProducts', y='Exited', data=df, kind='bar')"
   ]
  },
  {
   "cell_type": "markdown",
   "id": "30cb9388",
   "metadata": {
    "hidden": true
   },
   "source": [
    "Clientes com 3 ou 4 produtos tem maior probabilidade de churn"
   ]
  },
  {
   "cell_type": "markdown",
   "id": "f81f65e6",
   "metadata": {
    "heading_collapsed": true,
    "hidden": true
   },
   "source": [
    "#### HasCrCard"
   ]
  },
  {
   "cell_type": "markdown",
   "id": "ebbdd52e",
   "metadata": {
    "heading_collapsed": true,
    "hidden": true
   },
   "source": [
    "###### Principais Insights:\n",
    "1. 70% dos clientes possui cartão de crédito\n",
    "2. Aparentemente não ajuda a modelar o fenômeno\n",
    "3. Correlações muito fracas"
   ]
  },
  {
   "cell_type": "markdown",
   "id": "1ad56eae",
   "metadata": {
    "heading_collapsed": true,
    "hidden": true
   },
   "source": [
    "###### General Analysis"
   ]
  },
  {
   "cell_type": "code",
   "execution_count": 49,
   "id": "21bfbafe",
   "metadata": {
    "hidden": true
   },
   "outputs": [
    {
     "data": {
      "text/plain": [
       "Tenure             0.022583\n",
       "Gender_enc         0.005766\n",
       "NumOfProducts      0.003183\n",
       "RowNumber          0.000599\n",
       "CreditScore       -0.005458\n",
       "Exited            -0.007138\n",
       "Geography_enc     -0.008523\n",
       "EstimatedSalary   -0.009933\n",
       "Age               -0.011721\n",
       "IsActiveMember    -0.011866\n",
       "CustomerId        -0.014025\n",
       "Balance           -0.014858\n",
       "Name: HasCrCard, dtype: float64"
      ]
     },
     "execution_count": 49,
     "metadata": {},
     "output_type": "execute_result"
    }
   ],
   "source": [
    "df.corr()['HasCrCard'].sort_values(ascending=False)[1:]"
   ]
  },
  {
   "cell_type": "markdown",
   "id": "cdcc6d95",
   "metadata": {
    "hidden": true
   },
   "source": [
    "Correlações muito fracas"
   ]
  },
  {
   "cell_type": "code",
   "execution_count": 50,
   "id": "9715b4a9",
   "metadata": {
    "hidden": true
   },
   "outputs": [
    {
     "data": {
      "text/plain": [
       "<AxesSubplot:xlabel='HasCrCard', ylabel='count'>"
      ]
     },
     "execution_count": 50,
     "metadata": {},
     "output_type": "execute_result"
    },
    {
     "data": {
      "image/png": "[encoded data removed]",
      "text/plain": [
       "<Figure size 432x288 with 1 Axes>"
      ]
     },
     "metadata": {
      "needs_background": "light"
     },
     "output_type": "display_data"
    }
   ],
   "source": [
    "sns.countplot(x='HasCrCard', data=df)"
   ]
  },
  {
   "cell_type": "code",
   "execution_count": 51,
   "id": "14ecffa8",
   "metadata": {
    "hidden": true
   },
   "outputs": [
    {
     "data": {
      "text/plain": [
       "1    0.7055\n",
       "0    0.2945\n",
       "Name: HasCrCard, dtype: float64"
      ]
     },
     "execution_count": 51,
     "metadata": {},
     "output_type": "execute_result"
    }
   ],
   "source": [
    "df['HasCrCard'].value_counts(normalize=True)"
   ]
  },
  {
   "cell_type": "markdown",
   "id": "4feaf7a5",
   "metadata": {
    "heading_collapsed": true,
    "hidden": true
   },
   "source": [
    "###### Correlação com a target"
   ]
  },
  {
   "cell_type": "code",
   "execution_count": 52,
   "id": "aafe0c6a",
   "metadata": {
    "hidden": true
   },
   "outputs": [
    {
     "data": {
      "text/plain": [
       "<seaborn.axisgrid.FacetGrid at 0x24614e05250>"
      ]
     },
     "execution_count": 52,
     "metadata": {},
     "output_type": "execute_result"
    },
    {
     "data": {
      "image/png": "[encoded data removed]",
      "text/plain": [
       "<Figure size 360x360 with 1 Axes>"
      ]
     },
     "metadata": {
      "needs_background": "light"
     },
     "output_type": "display_data"
    }
   ],
   "source": [
    "sns.catplot(x='HasCrCard', y='Exited', data=df, kind='bar')"
   ]
  },
  {
   "cell_type": "markdown",
   "id": "dc308fa7",
   "metadata": {
    "hidden": true
   },
   "source": [
    "Iguais"
   ]
  },
  {
   "cell_type": "markdown",
   "id": "8a32a3fa",
   "metadata": {
    "heading_collapsed": true,
    "hidden": true
   },
   "source": [
    "#### IsActiveMember"
   ]
  },
  {
   "cell_type": "markdown",
   "id": "1e209097",
   "metadata": {
    "heading_collapsed": true,
    "hidden": true
   },
   "source": [
    "###### Principais Insights:\n",
    "1. A quantidade de clientes ativos e inativos está equilibrada\n",
    "2. Membros ativos são 47% menos propensos ao churn\n",
    "3. Correlações muito fracas"
   ]
  },
  {
   "cell_type": "markdown",
   "id": "92d87116",
   "metadata": {
    "heading_collapsed": true,
    "hidden": true
   },
   "source": [
    "###### General Analysis"
   ]
  },
  {
   "cell_type": "code",
   "execution_count": 53,
   "id": "287babac",
   "metadata": {
    "hidden": true
   },
   "outputs": [
    {
     "data": {
      "text/plain": [
       "Age                0.085472\n",
       "CreditScore        0.025651\n",
       "Gender_enc         0.022544\n",
       "RowNumber          0.012044\n",
       "NumOfProducts      0.009612\n",
       "Geography_enc      0.006724\n",
       "CustomerId         0.001665\n",
       "Balance           -0.010084\n",
       "EstimatedSalary   -0.011421\n",
       "HasCrCard         -0.011866\n",
       "Tenure            -0.028362\n",
       "Exited            -0.156128\n",
       "Name: IsActiveMember, dtype: float64"
      ]
     },
     "execution_count": 53,
     "metadata": {},
     "output_type": "execute_result"
    }
   ],
   "source": [
    "df.corr()['IsActiveMember'].sort_values(ascending=False)[1:]"
   ]
  },
  {
   "cell_type": "markdown",
   "id": "fd3dfa70",
   "metadata": {
    "hidden": true
   },
   "source": [
    "Correlações muito fracas"
   ]
  },
  {
   "cell_type": "markdown",
   "id": "0d4a955f",
   "metadata": {
    "heading_collapsed": true,
    "hidden": true
   },
   "source": [
    "###### Correlação com a target"
   ]
  },
  {
   "cell_type": "code",
   "execution_count": 54,
   "id": "0f46cfb4",
   "metadata": {
    "hidden": true,
    "scrolled": false
   },
   "outputs": [
    {
     "data": {
      "text/plain": [
       "<seaborn.axisgrid.FacetGrid at 0x24615243970>"
      ]
     },
     "execution_count": 54,
     "metadata": {},
     "output_type": "execute_result"
    },
    {
     "data": {
      "image/png": "[encoded data removed]",
      "text/plain": [
       "<Figure size 360x360 with 1 Axes>"
      ]
     },
     "metadata": {
      "needs_background": "light"
     },
     "output_type": "display_data"
    }
   ],
   "source": [
    "sns.catplot(x='IsActiveMember', y='Exited', data=df, kind='bar')"
   ]
  },
  {
   "cell_type": "code",
   "execution_count": 55,
   "id": "1e356585",
   "metadata": {
    "hidden": true
   },
   "outputs": [
    {
     "name": "stdout",
     "output_type": "stream",
     "text": [
      "Os membros NÃO ativos taxa: 26.85% de churn\n",
      "Os membros ativos taxa: 14.27% de churn\n"
     ]
    }
   ],
   "source": [
    "print(f'Os membros NÃO ativos taxa: {round(df.loc[df[\"IsActiveMember\"]==0, \"Exited\"].mean()*100, 2)}% de churn')\n",
    "print(f'Os membros ativos taxa: {round(df.loc[df[\"IsActiveMember\"]==1, \"Exited\"].mean()*100, 2)}% de churn')"
   ]
  },
  {
   "cell_type": "code",
   "execution_count": 56,
   "id": "57bc4fb0",
   "metadata": {
    "hidden": true
   },
   "outputs": [
    {
     "data": {
      "text/plain": [
       "0.4685288640595904"
      ]
     },
     "execution_count": 56,
     "metadata": {},
     "output_type": "execute_result"
    }
   ],
   "source": [
    "(26.85-14.27)/26.85"
   ]
  },
  {
   "cell_type": "markdown",
   "id": "5d130222",
   "metadata": {
    "hidden": true
   },
   "source": [
    "Diferença significativa"
   ]
  },
  {
   "cell_type": "markdown",
   "id": "14f58bd0",
   "metadata": {
    "heading_collapsed": true,
    "hidden": true
   },
   "source": [
    "#### EstimatedSalary"
   ]
  },
  {
   "cell_type": "markdown",
   "id": "e6c4cdfe",
   "metadata": {
    "heading_collapsed": true,
    "hidden": true
   },
   "source": [
    "###### Principais Insights:\n",
    "1. Aparentemente não ajuda a modelar o fenômeno\n",
    "2. Correlações muito fracas\n",
    "3. Apresenta uma frequência bastante contínua em todo o range da variância da feature, semelhante a features categóricas\n",
    "4. Não parece ajudar a modelar o fenômeno"
   ]
  },
  {
   "cell_type": "markdown",
   "id": "e8a7cc4f",
   "metadata": {
    "heading_collapsed": true,
    "hidden": true
   },
   "source": [
    "###### General Analysis"
   ]
  },
  {
   "cell_type": "code",
   "execution_count": 57,
   "id": "e30eeaf6",
   "metadata": {
    "hidden": true
   },
   "outputs": [
    {
     "data": {
      "text/plain": [
       "CustomerId        0.015271\n",
       "NumOfProducts     0.014204\n",
       "Balance           0.012797\n",
       "Exited            0.012097\n",
       "Tenure            0.007784\n",
       "Geography_enc    -0.001369\n",
       "CreditScore      -0.001384\n",
       "RowNumber        -0.005988\n",
       "Age              -0.007201\n",
       "Gender_enc       -0.008112\n",
       "HasCrCard        -0.009933\n",
       "IsActiveMember   -0.011421\n",
       "Name: EstimatedSalary, dtype: float64"
      ]
     },
     "execution_count": 57,
     "metadata": {},
     "output_type": "execute_result"
    }
   ],
   "source": [
    "df.corr()['EstimatedSalary'].sort_values(ascending=False)[1:]"
   ]
  },
  {
   "cell_type": "markdown",
   "id": "ca5509d4",
   "metadata": {
    "hidden": true
   },
   "source": [
    "Correlações muito fracas"
   ]
  },
  {
   "cell_type": "code",
   "execution_count": 58,
   "id": "504525b9",
   "metadata": {
    "hidden": true
   },
   "outputs": [
    {
     "data": {
      "text/plain": [
       "<AxesSubplot:xlabel='EstimatedSalary', ylabel='Count'>"
      ]
     },
     "execution_count": 58,
     "metadata": {},
     "output_type": "execute_result"
    },
    {
     "data": {
      "image/png": "[encoded data removed]",
      "text/plain": [
       "<Figure size 432x288 with 1 Axes>"
      ]
     },
     "metadata": {
      "needs_background": "light"
     },
     "output_type": "display_data"
    }
   ],
   "source": [
    "sns.histplot(df['EstimatedSalary'])"
   ]
  },
  {
   "cell_type": "markdown",
   "id": "1b869e11",
   "metadata": {
    "hidden": true
   },
   "source": [
    "Inesperado, a distribuição esperada era uma Gaussiana ou algo parecido"
   ]
  },
  {
   "cell_type": "markdown",
   "id": "c9e07c4d",
   "metadata": {
    "heading_collapsed": true,
    "hidden": true
   },
   "source": [
    "###### Correlação com a target"
   ]
  },
  {
   "cell_type": "code",
   "execution_count": 59,
   "id": "8beae9e5",
   "metadata": {
    "hidden": true
   },
   "outputs": [
    {
     "data": {
      "image/png": "[encoded data removed]",
      "text/plain": [
       "<Figure size 432x288 with 2 Axes>"
      ]
     },
     "metadata": {
      "needs_background": "light"
     },
     "output_type": "display_data"
    }
   ],
   "source": [
    "plt.subplot(2, 1, 1)\n",
    "g = sns.histplot(df.loc[df['Exited']==0, 'EstimatedSalary'], color='b', alpha=0.5)\n",
    "g = sns.histplot(df.loc[df['Exited']==1, 'EstimatedSalary'], color='r', alpha=0.5)\n",
    "plt.subplot(2, 1, 2)\n",
    "g = sns.kdeplot(df.loc[df['Exited']==0, 'EstimatedSalary'], color='b', alpha=0.5, shade=True)\n",
    "g = sns.kdeplot(df.loc[df['Exited']==1, 'EstimatedSalary'], color='r', alpha=0.5, shade=True)"
   ]
  },
  {
   "cell_type": "markdown",
   "id": "deffcfdc",
   "metadata": {
    "hidden": true
   },
   "source": [
    "Não parece ajudar a modelar o fenômeno"
   ]
  },
  {
   "cell_type": "markdown",
   "id": "22bb104b",
   "metadata": {
    "heading_collapsed": true,
    "hidden": true
   },
   "source": [
    "#### Gender"
   ]
  },
  {
   "cell_type": "markdown",
   "id": "29c1502a",
   "metadata": {
    "heading_collapsed": true,
    "hidden": true
   },
   "source": [
    "###### Principais Insights:\n",
    "1. 54% dos clientes são homens\n",
    "2. Mulheres têm 34% de chance maior de churn de churn"
   ]
  },
  {
   "cell_type": "markdown",
   "id": "3ad8ee77",
   "metadata": {
    "heading_collapsed": true,
    "hidden": true
   },
   "source": [
    "###### General Analysis"
   ]
  },
  {
   "cell_type": "code",
   "execution_count": 60,
   "id": "280d7d65",
   "metadata": {
    "hidden": true
   },
   "outputs": [
    {
     "data": {
      "text/plain": [
       "<AxesSubplot:xlabel='Gender', ylabel='count'>"
      ]
     },
     "execution_count": 60,
     "metadata": {},
     "output_type": "execute_result"
    },
    {
     "data": {
      "image/png": "[encoded data removed]",
      "text/plain": [
       "<Figure size 432x288 with 1 Axes>"
      ]
     },
     "metadata": {
      "needs_background": "light"
     },
     "output_type": "display_data"
    }
   ],
   "source": [
    "sns.countplot(x='Gender', data=df)"
   ]
  },
  {
   "cell_type": "markdown",
   "id": "7e2ac8a4",
   "metadata": {
    "hidden": true
   },
   "source": [
    "Equilibrada"
   ]
  },
  {
   "cell_type": "markdown",
   "id": "96ebdc69",
   "metadata": {
    "heading_collapsed": true,
    "hidden": true
   },
   "source": [
    "###### Correlação com a target"
   ]
  },
  {
   "cell_type": "code",
   "execution_count": 61,
   "id": "814c96a6",
   "metadata": {
    "hidden": true,
    "scrolled": false
   },
   "outputs": [
    {
     "data": {
      "text/plain": [
       "<seaborn.axisgrid.FacetGrid at 0x24616491700>"
      ]
     },
     "execution_count": 61,
     "metadata": {},
     "output_type": "execute_result"
    },
    {
     "data": {
      "image/png": "[encoded data removed]",
      "text/plain": [
       "<Figure size 360x360 with 1 Axes>"
      ]
     },
     "metadata": {
      "needs_background": "light"
     },
     "output_type": "display_data"
    }
   ],
   "source": [
    "sns.catplot(x='Gender', y='Exited', data=df, kind='bar')"
   ]
  },
  {
   "cell_type": "code",
   "execution_count": 62,
   "id": "0eaf7d0a",
   "metadata": {
    "hidden": true
   },
   "outputs": [
    {
     "name": "stdout",
     "output_type": "stream",
     "text": [
      "Mulheres apresentam: 25.07% de churn\n",
      "Homens apresentam: 16.46% de churn\n"
     ]
    }
   ],
   "source": [
    "print(f'Mulheres apresentam: {round(df.loc[df[\"Gender\"]==\"Female\", \"Exited\"].mean() * 100, 2)}% de churn')\n",
    "print(f'Homens apresentam: {round(df.loc[df[\"Gender\"]==\"Male\", \"Exited\"].mean() * 100, 2)}% de churn')"
   ]
  },
  {
   "cell_type": "code",
   "execution_count": 63,
   "id": "611811db",
   "metadata": {
    "hidden": true
   },
   "outputs": [
    {
     "data": {
      "text/plain": [
       "0.34343837255684084"
      ]
     },
     "execution_count": 63,
     "metadata": {},
     "output_type": "execute_result"
    }
   ],
   "source": [
    "(25.07 - 16.46)/25.07"
   ]
  },
  {
   "cell_type": "markdown",
   "id": "d24b065a",
   "metadata": {
    "heading_collapsed": true
   },
   "source": [
    "# 3.0 Feature Engineering"
   ]
  },
  {
   "cell_type": "markdown",
   "id": "93b1f246",
   "metadata": {
    "heading_collapsed": true,
    "hidden": true
   },
   "source": [
    "## Age Transformada por Log"
   ]
  },
  {
   "cell_type": "code",
   "execution_count": 64,
   "id": "2e14296d",
   "metadata": {
    "hidden": true
   },
   "outputs": [],
   "source": [
    "df['Log_Age'] = df['Age'].apply(lambda x: np.log(x) if x>0 else 0)"
   ]
  },
  {
   "cell_type": "code",
   "execution_count": 65,
   "id": "af71911e",
   "metadata": {
    "hidden": true
   },
   "outputs": [
    {
     "data": {
      "text/plain": [
       "<AxesSubplot:xlabel='Log_Age', ylabel='Count'>"
      ]
     },
     "execution_count": 65,
     "metadata": {},
     "output_type": "execute_result"
    },
    {
     "data": {
      "image/png": "[encoded data removed]",
      "text/plain": [
       "<Figure size 432x288 with 1 Axes>"
      ]
     },
     "metadata": {
      "needs_background": "light"
     },
     "output_type": "display_data"
    }
   ],
   "source": [
    "sns.histplot(df['Log_Age'])"
   ]
  },
  {
   "cell_type": "code",
   "execution_count": 66,
   "id": "ebb230f8",
   "metadata": {
    "hidden": true
   },
   "outputs": [
    {
     "name": "stdout",
     "output_type": "stream",
     "text": [
      "Com um pvalor: 1.2292211519493446e-12, a Series NÃO tem distribuição normal.\n"
     ]
    }
   ],
   "source": [
    "teste_shapiro(df['Log_Age'], 0.05)"
   ]
  },
  {
   "cell_type": "code",
   "execution_count": 67,
   "id": "64e92a7e",
   "metadata": {
    "hidden": true,
    "scrolled": true
   },
   "outputs": [
    {
     "name": "stdout",
     "output_type": "stream",
     "text": [
      "Média: 3.63\n",
      "Mínimo: 2.89\n",
      "Máximo: 4.52\n",
      "Range: 1.63\n",
      "Desvio Padrão: 0.26\n",
      "Curtose: 0.15\n",
      "Skew: 0.18\n"
     ]
    }
   ],
   "source": [
    "estat_desc(df['Log_Age'])"
   ]
  },
  {
   "cell_type": "code",
   "execution_count": 68,
   "id": "9004f2ba",
   "metadata": {
    "hidden": true,
    "scrolled": true
   },
   "outputs": [
    {
     "name": "stdout",
     "output_type": "stream",
     "text": [
      "O limite inferior é: 2.988055306121925\n",
      "O limite superior é: 4.261870230596063\n",
      "Há 182 outliers\n"
     ]
    }
   ],
   "source": [
    "indices = busca_outliers(df, 'Log_Age')"
   ]
  },
  {
   "cell_type": "markdown",
   "id": "96e32d93",
   "metadata": {
    "heading_collapsed": true,
    "hidden": true
   },
   "source": [
    "## Média de churn por categoria de Tenure"
   ]
  },
  {
   "cell_type": "code",
   "execution_count": 69,
   "id": "93c16ce9",
   "metadata": {
    "hidden": true
   },
   "outputs": [],
   "source": [
    "temp = df.groupby('Tenure').mean()['Exited']\n",
    "df['Tenure_Exited_Mean'] = df['Tenure'].map(temp)"
   ]
  },
  {
   "cell_type": "code",
   "execution_count": 70,
   "id": "65afdfc2",
   "metadata": {
    "hidden": true
   },
   "outputs": [
    {
     "data": {
      "text/html": [
       "<div>\n",
       "<style scoped>\n",
       "    .dataframe tbody tr th:only-of-type {\n",
       "        vertical-align: middle;\n",
       "    }\n",
       "\n",
       "    .dataframe tbody tr th {\n",
       "        vertical-align: top;\n",
       "    }\n",
       "\n",
       "    .dataframe thead th {\n",
       "        text-align: right;\n",
       "    }\n",
       "</style>\n",
       "<table border=\"1\" class=\"dataframe\">\n",
       "  <thead>\n",
       "    <tr style=\"text-align: right;\">\n",
       "      <th></th>\n",
       "      <th>Tenure_Exited_Mean</th>\n",
       "      <th>Exited</th>\n",
       "    </tr>\n",
       "  </thead>\n",
       "  <tbody>\n",
       "    <tr>\n",
       "      <th>Tenure_Exited_Mean</th>\n",
       "      <td>1.000000</td>\n",
       "      <td>0.037283</td>\n",
       "    </tr>\n",
       "    <tr>\n",
       "      <th>Exited</th>\n",
       "      <td>0.037283</td>\n",
       "      <td>1.000000</td>\n",
       "    </tr>\n",
       "  </tbody>\n",
       "</table>\n",
       "</div>"
      ],
      "text/plain": [
       "                    Tenure_Exited_Mean    Exited\n",
       "Tenure_Exited_Mean            1.000000  0.037283\n",
       "Exited                        0.037283  1.000000"
      ]
     },
     "execution_count": 70,
     "metadata": {},
     "output_type": "execute_result"
    }
   ],
   "source": [
    "df[['Tenure_Exited_Mean', 'Exited']].corr()"
   ]
  },
  {
   "cell_type": "markdown",
   "id": "e4c3b2ef",
   "metadata": {
    "hidden": true
   },
   "source": [
    "Aparentemente não ajuda a modelar o evento"
   ]
  },
  {
   "cell_type": "markdown",
   "id": "6ee00e85",
   "metadata": {
    "heading_collapsed": true
   },
   "source": [
    "# 4.0 Business Hypothesis"
   ]
  },
  {
   "cell_type": "markdown",
   "id": "5d2ea058",
   "metadata": {
    "heading_collapsed": true,
    "hidden": true
   },
   "source": [
    "## 4.1 A média de idade entre os clientes em churn e não churn são diferentes com um grau de confiança de 95%"
   ]
  },
  {
   "cell_type": "code",
   "execution_count": 71,
   "id": "e86b90b1",
   "metadata": {
    "hidden": true
   },
   "outputs": [],
   "source": [
    "a = df.loc[df['Exited']==0, 'Age']\n",
    "b = df.loc[df['Exited']==1, 'Age']"
   ]
  },
  {
   "cell_type": "code",
   "execution_count": 72,
   "id": "823b8364",
   "metadata": {
    "hidden": true,
    "scrolled": true
   },
   "outputs": [
    {
     "name": "stdout",
     "output_type": "stream",
     "text": [
      "Series 1\n",
      "Média = 37.41\n",
      "Desvio padrão = 10.13\n",
      "\n",
      "Series 2\n",
      "Média = 44.84\n",
      "Desvio padrão = 9.76\n",
      "statistic = -10.3, p = 0.0\n",
      "\n",
      "Com um p-valor igual à 0.0, as series são estatísticamente DIFERENTES com um grau de confiança de 95%\n"
     ]
    }
   ],
   "source": [
    "comparar_features(a, b, 0.05, 500)"
   ]
  },
  {
   "cell_type": "code",
   "execution_count": 73,
   "id": "2f937e70",
   "metadata": {
    "hidden": true
   },
   "outputs": [],
   "source": [
    "a = np.random.choice(df.loc[df['Exited']==0, 'Age'].values, 500)\n",
    "b = np.random.choice(df.loc[df['Exited']==1, 'Age'].values, 500)"
   ]
  },
  {
   "cell_type": "code",
   "execution_count": 74,
   "id": "fe954e2b",
   "metadata": {
    "hidden": true
   },
   "outputs": [
    {
     "data": {
      "image/png": "[encoded data removed]",
      "text/plain": [
       "<Figure size 432x288 with 1 Axes>"
      ]
     },
     "metadata": {
      "needs_background": "light"
     },
     "output_type": "display_data"
    }
   ],
   "source": [
    "g = sns.histplot(a, color='b', alpha=0.5, bins=15)\n",
    "g = sns.histplot(b, color='r', alpha=0.5, bins=15)"
   ]
  },
  {
   "cell_type": "markdown",
   "id": "53f361ec",
   "metadata": {
    "heading_collapsed": true,
    "hidden": true
   },
   "source": [
    "## 4.2 Clientes com saldo bancário igual a zero, têm mais probabilidade de renovar o contrato de serviço."
   ]
  },
  {
   "cell_type": "markdown",
   "id": "d9307013",
   "metadata": {
    "heading_collapsed": true,
    "hidden": true
   },
   "source": [
    "## 4.3 90% dos clientes com saldo bancário igual a zero, possuem até 2 produtos bancários."
   ]
  },
  {
   "cell_type": "markdown",
   "id": "fcc4dc2d",
   "metadata": {
    "heading_collapsed": true
   },
   "source": [
    "# 5.0 Exploratory Data Analysis"
   ]
  },
  {
   "cell_type": "markdown",
   "id": "613f15cb",
   "metadata": {
    "heading_collapsed": true
   },
   "source": [
    "# 6.0 Machine Learning Model"
   ]
  },
  {
   "cell_type": "markdown",
   "id": "83200982",
   "metadata": {
    "heading_collapsed": true,
    "hidden": true
   },
   "source": [
    "## 6.1 Preparing"
   ]
  },
  {
   "cell_type": "code",
   "execution_count": 75,
   "id": "36ac0e42",
   "metadata": {
    "hidden": true
   },
   "outputs": [],
   "source": [
    "backup = df.copy()"
   ]
  },
  {
   "cell_type": "code",
   "execution_count": 76,
   "id": "0cf2950b",
   "metadata": {
    "hidden": true
   },
   "outputs": [],
   "source": [
    "df = backup.copy()"
   ]
  },
  {
   "cell_type": "code",
   "execution_count": 77,
   "id": "84d97b49",
   "metadata": {
    "hidden": true
   },
   "outputs": [],
   "source": [
    "# Encodings\n",
    "temp = pd.get_dummies(df['Geography_enc'], prefix='Geography', drop_first=True)\n",
    "df = pd.concat([df, temp], axis=1)\n",
    "\n",
    "# Removing features\n",
    "features_remover = 'CustomerId Surname Geography Gender Geography_enc RowNumber Age Tenure'.split()\n",
    "df.drop(features_remover, axis=1, inplace=True)\n",
    "\n",
    "# Split features and target\n",
    "X = df.drop('Exited', axis=1)\n",
    "y = df['Exited']\n",
    "\n",
    "# Standard and scaler\n",
    "scaler = StandardScaler()\n",
    "X_scaler = scaler.fit_transform(X)\n",
    "X_scaler = pd.DataFrame(X_scaler, columns = X.columns)\n",
    "\n",
    "# Hiding test\n",
    "X_train, X_test, y_train, y_test = train_test_split(X_scaler, y, test_size=0.2, random_state=101)\n",
    "\n",
    "# Train and validation\n",
    "X_train_, X_valid, y_train_, y_valid = train_test_split(X_train, y_train, test_size=0.3, random_state=101)"
   ]
  },
  {
   "cell_type": "code",
   "execution_count": 78,
   "id": "50d219bc",
   "metadata": {
    "hidden": true
   },
   "outputs": [],
   "source": [
    "# Solving unbalance\n",
    "smote = SMOTE()\n",
    "X_smote, y_smote = smote.fit_resample(X_train_, y_train_)\n",
    "X_smote = pd.DataFrame(X_smote, columns=X.columns)\n",
    "\n",
    "# near = NearMiss()\n",
    "# X_near, y_near = near.fit_resample(X_train_, y_train_)\n",
    "# X_near = pd.DataFrame(X_near, columns=X.columns)"
   ]
  },
  {
   "cell_type": "markdown",
   "id": "d4d5d7b9",
   "metadata": {
    "heading_collapsed": true,
    "hidden": true
   },
   "source": [
    "## 6.2 Models"
   ]
  },
  {
   "cell_type": "markdown",
   "id": "d6eff8d7",
   "metadata": {
    "heading_collapsed": true,
    "hidden": true
   },
   "source": [
    "### Xgbrfboost"
   ]
  },
  {
   "cell_type": "code",
   "execution_count": 79,
   "id": "fb11d6e3",
   "metadata": {
    "hidden": true
   },
   "outputs": [],
   "source": [
    "# Modeling\n",
    "xgbrf_model = XGBRFClassifier(use_label_encoder=False)\n",
    "xgbrf_model_fit = xgbrf_model.fit(X_smote, y_smote, eval_metric='error')\n",
    "xgbrf_predict = xgbrf_model_fit.predict(X_valid)"
   ]
  },
  {
   "cell_type": "markdown",
   "id": "7989b73f",
   "metadata": {
    "heading_collapsed": true,
    "hidden": true
   },
   "source": [
    "#### Metrics"
   ]
  },
  {
   "cell_type": "code",
   "execution_count": 80,
   "id": "70d60acf",
   "metadata": {
    "hidden": true
   },
   "outputs": [
    {
     "name": "stdout",
     "output_type": "stream",
     "text": [
      "              precision    recall  f1-score   support\n",
      "\n",
      "           0       0.92      0.85      0.88      1923\n",
      "           1       0.52      0.69      0.60       477\n",
      "\n",
      "    accuracy                           0.81      2400\n",
      "   macro avg       0.72      0.77      0.74      2400\n",
      "weighted avg       0.84      0.81      0.82      2400\n",
      "\n",
      "0.7665924247032775\n"
     ]
    }
   ],
   "source": [
    "print(classification_report(y_valid, xgbrf_predict))\n",
    "print(roc_auc_score(y_valid, xgbrf_predict))"
   ]
  },
  {
   "cell_type": "markdown",
   "id": "857bb074",
   "metadata": {
    "heading_collapsed": true,
    "hidden": true
   },
   "source": [
    "#### Importances"
   ]
  },
  {
   "cell_type": "code",
   "execution_count": 81,
   "id": "95b930c4",
   "metadata": {
    "hidden": true
   },
   "outputs": [
    {
     "data": {
      "text/html": [
       "<div>\n",
       "<style scoped>\n",
       "    .dataframe tbody tr th:only-of-type {\n",
       "        vertical-align: middle;\n",
       "    }\n",
       "\n",
       "    .dataframe tbody tr th {\n",
       "        vertical-align: top;\n",
       "    }\n",
       "\n",
       "    .dataframe thead th {\n",
       "        text-align: right;\n",
       "    }\n",
       "</style>\n",
       "<table border=\"1\" class=\"dataframe\">\n",
       "  <thead>\n",
       "    <tr style=\"text-align: right;\">\n",
       "      <th></th>\n",
       "      <th>features</th>\n",
       "      <th>xgbrf_importances</th>\n",
       "    </tr>\n",
       "  </thead>\n",
       "  <tbody>\n",
       "    <tr>\n",
       "      <th>2</th>\n",
       "      <td>NumOfProducts</td>\n",
       "      <td>0.333986</td>\n",
       "    </tr>\n",
       "    <tr>\n",
       "      <th>7</th>\n",
       "      <td>Log_Age</td>\n",
       "      <td>0.233981</td>\n",
       "    </tr>\n",
       "    <tr>\n",
       "      <th>4</th>\n",
       "      <td>IsActiveMember</td>\n",
       "      <td>0.167918</td>\n",
       "    </tr>\n",
       "    <tr>\n",
       "      <th>9</th>\n",
       "      <td>Geography_1</td>\n",
       "      <td>0.097597</td>\n",
       "    </tr>\n",
       "    <tr>\n",
       "      <th>1</th>\n",
       "      <td>Balance</td>\n",
       "      <td>0.057008</td>\n",
       "    </tr>\n",
       "    <tr>\n",
       "      <th>6</th>\n",
       "      <td>Gender_enc</td>\n",
       "      <td>0.034930</td>\n",
       "    </tr>\n",
       "    <tr>\n",
       "      <th>8</th>\n",
       "      <td>Tenure_Exited_Mean</td>\n",
       "      <td>0.028278</td>\n",
       "    </tr>\n",
       "    <tr>\n",
       "      <th>10</th>\n",
       "      <td>Geography_2</td>\n",
       "      <td>0.015423</td>\n",
       "    </tr>\n",
       "    <tr>\n",
       "      <th>0</th>\n",
       "      <td>CreditScore</td>\n",
       "      <td>0.012330</td>\n",
       "    </tr>\n",
       "    <tr>\n",
       "      <th>5</th>\n",
       "      <td>EstimatedSalary</td>\n",
       "      <td>0.010313</td>\n",
       "    </tr>\n",
       "    <tr>\n",
       "      <th>3</th>\n",
       "      <td>HasCrCard</td>\n",
       "      <td>0.008235</td>\n",
       "    </tr>\n",
       "  </tbody>\n",
       "</table>\n",
       "</div>"
      ],
      "text/plain": [
       "              features  xgbrf_importances\n",
       "2        NumOfProducts           0.333986\n",
       "7              Log_Age           0.233981\n",
       "4       IsActiveMember           0.167918\n",
       "9          Geography_1           0.097597\n",
       "1              Balance           0.057008\n",
       "6           Gender_enc           0.034930\n",
       "8   Tenure_Exited_Mean           0.028278\n",
       "10         Geography_2           0.015423\n",
       "0          CreditScore           0.012330\n",
       "5      EstimatedSalary           0.010313\n",
       "3            HasCrCard           0.008235"
      ]
     },
     "execution_count": 81,
     "metadata": {},
     "output_type": "execute_result"
    }
   ],
   "source": [
    "ranking = pd.DataFrame()\n",
    "ranking['features'] = X.columns.to_list()\n",
    "ranking['xgbrf_importances'] = xgbrf_model.feature_importances_\n",
    "ranking[['features', 'xgbrf_importances']].sort_values('xgbrf_importances', ascending=False)"
   ]
  },
  {
   "cell_type": "markdown",
   "id": "e2704ed8",
   "metadata": {
    "heading_collapsed": true,
    "hidden": true
   },
   "source": [
    "### Random Forest"
   ]
  },
  {
   "cell_type": "code",
   "execution_count": 82,
   "id": "8fe3d77c",
   "metadata": {
    "hidden": true
   },
   "outputs": [],
   "source": [
    "rf_model = RandomForestClassifier()\n",
    "rf_model_fit = rf_model.fit(X_smote, y_smote)\n",
    "rf_predict = rf_model_fit.predict(X_valid)"
   ]
  },
  {
   "cell_type": "markdown",
   "id": "a30296af",
   "metadata": {
    "heading_collapsed": true,
    "hidden": true
   },
   "source": [
    "#### Metrics"
   ]
  },
  {
   "cell_type": "code",
   "execution_count": 83,
   "id": "74b8629d",
   "metadata": {
    "hidden": true
   },
   "outputs": [
    {
     "name": "stdout",
     "output_type": "stream",
     "text": [
      "              precision    recall  f1-score   support\n",
      "\n",
      "           0       0.90      0.91      0.90      1923\n",
      "           1       0.61      0.57      0.59       477\n",
      "\n",
      "    accuracy                           0.84      2400\n",
      "   macro avg       0.76      0.74      0.75      2400\n",
      "weighted avg       0.84      0.84      0.84      2400\n",
      "\n",
      "0.7424899511703739\n"
     ]
    }
   ],
   "source": [
    "print(classification_report(y_valid, rf_predict))\n",
    "print(roc_auc_score(y_valid, rf_predict))"
   ]
  },
  {
   "cell_type": "markdown",
   "id": "01a90f7a",
   "metadata": {
    "heading_collapsed": true,
    "hidden": true
   },
   "source": [
    "#### Importances"
   ]
  },
  {
   "cell_type": "code",
   "execution_count": 84,
   "id": "a17a2354",
   "metadata": {
    "hidden": true
   },
   "outputs": [],
   "source": [
    "ranking['rf_importances'] = rf_model_fit.feature_importances_"
   ]
  },
  {
   "cell_type": "code",
   "execution_count": 85,
   "id": "c00e3fa7",
   "metadata": {
    "hidden": true
   },
   "outputs": [
    {
     "data": {
      "text/html": [
       "<div>\n",
       "<style scoped>\n",
       "    .dataframe tbody tr th:only-of-type {\n",
       "        vertical-align: middle;\n",
       "    }\n",
       "\n",
       "    .dataframe tbody tr th {\n",
       "        vertical-align: top;\n",
       "    }\n",
       "\n",
       "    .dataframe thead th {\n",
       "        text-align: right;\n",
       "    }\n",
       "</style>\n",
       "<table border=\"1\" class=\"dataframe\">\n",
       "  <thead>\n",
       "    <tr style=\"text-align: right;\">\n",
       "      <th></th>\n",
       "      <th>features</th>\n",
       "      <th>rf_importances</th>\n",
       "    </tr>\n",
       "  </thead>\n",
       "  <tbody>\n",
       "    <tr>\n",
       "      <th>7</th>\n",
       "      <td>Log_Age</td>\n",
       "      <td>0.268410</td>\n",
       "    </tr>\n",
       "    <tr>\n",
       "      <th>2</th>\n",
       "      <td>NumOfProducts</td>\n",
       "      <td>0.165390</td>\n",
       "    </tr>\n",
       "    <tr>\n",
       "      <th>1</th>\n",
       "      <td>Balance</td>\n",
       "      <td>0.125162</td>\n",
       "    </tr>\n",
       "    <tr>\n",
       "      <th>5</th>\n",
       "      <td>EstimatedSalary</td>\n",
       "      <td>0.108242</td>\n",
       "    </tr>\n",
       "    <tr>\n",
       "      <th>0</th>\n",
       "      <td>CreditScore</td>\n",
       "      <td>0.104113</td>\n",
       "    </tr>\n",
       "    <tr>\n",
       "      <th>8</th>\n",
       "      <td>Tenure_Exited_Mean</td>\n",
       "      <td>0.098712</td>\n",
       "    </tr>\n",
       "    <tr>\n",
       "      <th>4</th>\n",
       "      <td>IsActiveMember</td>\n",
       "      <td>0.043290</td>\n",
       "    </tr>\n",
       "    <tr>\n",
       "      <th>6</th>\n",
       "      <td>Gender_enc</td>\n",
       "      <td>0.026959</td>\n",
       "    </tr>\n",
       "    <tr>\n",
       "      <th>9</th>\n",
       "      <td>Geography_1</td>\n",
       "      <td>0.025912</td>\n",
       "    </tr>\n",
       "    <tr>\n",
       "      <th>3</th>\n",
       "      <td>HasCrCard</td>\n",
       "      <td>0.018142</td>\n",
       "    </tr>\n",
       "    <tr>\n",
       "      <th>10</th>\n",
       "      <td>Geography_2</td>\n",
       "      <td>0.015669</td>\n",
       "    </tr>\n",
       "  </tbody>\n",
       "</table>\n",
       "</div>"
      ],
      "text/plain": [
       "              features  rf_importances\n",
       "7              Log_Age        0.268410\n",
       "2        NumOfProducts        0.165390\n",
       "1              Balance        0.125162\n",
       "5      EstimatedSalary        0.108242\n",
       "0          CreditScore        0.104113\n",
       "8   Tenure_Exited_Mean        0.098712\n",
       "4       IsActiveMember        0.043290\n",
       "6           Gender_enc        0.026959\n",
       "9          Geography_1        0.025912\n",
       "3            HasCrCard        0.018142\n",
       "10         Geography_2        0.015669"
      ]
     },
     "execution_count": 85,
     "metadata": {},
     "output_type": "execute_result"
    }
   ],
   "source": [
    "ranking[['features', 'rf_importances']].sort_values('rf_importances', ascending=False)"
   ]
  },
  {
   "cell_type": "markdown",
   "id": "9206013b",
   "metadata": {
    "heading_collapsed": true
   },
   "source": [
    "# 7.0 Results and Conclusions"
   ]
  },
  {
   "cell_type": "markdown",
   "id": "c694234c",
   "metadata": {},
   "source": [
    "# Time"
   ]
  },
  {
   "cell_type": "code",
   "execution_count": 86,
   "id": "7f87b027",
   "metadata": {},
   "outputs": [
    {
     "name": "stdout",
     "output_type": "stream",
     "text": [
      "O tempo de processamento do projeto foi de: 0 minutos\n"
     ]
    }
   ],
   "source": [
    "print(f'O tempo de processamento do projeto foi de: {int(round(time.time()-tempo_agora, 2)/60)} minutos')"
   ]
  },
  {
   "cell_type": "markdown",
   "id": "54727686",
   "metadata": {
    "heading_collapsed": true
   },
   "source": [
    "# Continua..."
   ]
  }
 ],
 "metadata": {
  "kernelspec": {
   "display_name": "Python 3",
   "language": "python",
   "name": "python3"
  },
  "language_info": {
   "codemirror_mode": {
    "name": "ipython",
    "version": 3
   },
   "file_extension": ".py",
   "mimetype": "text/x-python",
   "name": "python",
   "nbconvert_exporter": "python",
   "pygments_lexer": "ipython3",
   "version": "3.8.8"
  }
 },
 "nbformat": 4,
 "nbformat_minor": 5
}
