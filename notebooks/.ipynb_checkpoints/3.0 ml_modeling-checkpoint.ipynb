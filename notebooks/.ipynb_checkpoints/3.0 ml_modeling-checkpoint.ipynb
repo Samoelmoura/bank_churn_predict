{
 "cells": [
  {
   "cell_type": "markdown",
   "id": "f5f22930",
   "metadata": {
    "heading_collapsed": true
   },
   "source": [
    "# Reports\n",
    "1. Inputs: Prepared data to ml modeling\n",
    "2. Outputs: Trained models and metrics\n",
    "3. ..."
   ]
  },
  {
   "cell_type": "markdown",
   "id": "c729438b",
   "metadata": {},
   "source": [
    "# 1.0 Imports"
   ]
  },
  {
   "cell_type": "markdown",
   "id": "46adce05",
   "metadata": {},
   "source": [
    "###### 1.1 Importing libraries"
   ]
  },
  {
   "cell_type": "code",
   "execution_count": 1,
   "id": "11fa254d",
   "metadata": {
    "ExecuteTime": {
     "end_time": "2022-04-30T13:17:59.853268Z",
     "start_time": "2022-04-30T13:17:58.635846Z"
    }
   },
   "outputs": [
    {
     "name": "stderr",
     "output_type": "stream",
     "text": [
      "D:\\My Drive\\Pessoal\\Projetos\\environments\\data_science\\lib\\site-packages\\xgboost\\compat.py:36: FutureWarning: pandas.Int64Index is deprecated and will be removed from pandas in a future version. Use pandas.Index with the appropriate dtype instead.\n",
      "  from pandas import MultiIndex, Int64Index\n"
     ]
    }
   ],
   "source": [
    "import numpy as np\n",
    "import pandas as pd\n",
    "\n",
    "from sklearn.preprocessing import LabelEncoder, StandardScaler\n",
    "from sklearn.model_selection import train_test_split\n",
    "from sklearn.metrics import classification_report, roc_auc_score, roc_curve, confusion_matrix\n",
    "from sklearn.ensemble import RandomForestClassifier\n",
    "\n",
    "from imblearn.over_sampling import SMOTE\n",
    "from imblearn.under_sampling import NearMiss\n",
    "\n",
    "from xgboost import XGBRFClassifier\n",
    "\n",
    "import pickle\n",
    "\n",
    "import time\n",
    "\n",
    "tempo_agora = time.time() # Contabilizando o tempo de processamento do projeto"
   ]
  },
  {
   "cell_type": "markdown",
   "id": "e9a1b054",
   "metadata": {},
   "source": [
    "###### 1.2 Importing data"
   ]
  },
  {
   "cell_type": "code",
   "execution_count": 2,
   "id": "0d41dcd0",
   "metadata": {
    "ExecuteTime": {
     "end_time": "2022-04-30T13:17:59.869178Z",
     "start_time": "2022-04-30T13:17:59.853268Z"
    }
   },
   "outputs": [],
   "source": [
    "X_to_modeling = pickle.load(open('D://My Drive//Pessoal//Projetos//bank_churn_predict//bank_churn_predict//data//processed//X_to_modeling.pkl', 'rb'))\n",
    "y_to_modeling = pickle.load(open('D://My Drive//Pessoal//Projetos//bank_churn_predict//bank_churn_predict//data//processed//y_to_modeling.pkl', 'rb'))"
   ]
  },
  {
   "cell_type": "code",
   "execution_count": 3,
   "id": "262f7b8c",
   "metadata": {
    "ExecuteTime": {
     "end_time": "2022-04-30T13:17:59.885231Z",
     "start_time": "2022-04-30T13:17:59.869178Z"
    }
   },
   "outputs": [],
   "source": [
    "X_valid = X_to_modeling[0]\n",
    "X_test = X_to_modeling[1]\n",
    "X_smote = X_to_modeling[2]\n",
    "X_train_smote = X_to_modeling[3]\n",
    "X_near = X_to_modeling[4]\n",
    "X_train_near = X_to_modeling[5]\n",
    "\n",
    "y_valid = y_to_modeling[0]\n",
    "y_test = y_to_modeling[1]\n",
    "y_smote = y_to_modeling[2]\n",
    "y_train_smote = y_to_modeling[3]\n",
    "y_near = y_to_modeling[4]\n",
    "y_train_near = y_to_modeling[5]"
   ]
  },
  {
   "cell_type": "markdown",
   "id": "d4d5d7b9",
   "metadata": {},
   "source": [
    "# 2.0 ML Modeling"
   ]
  },
  {
   "cell_type": "markdown",
   "id": "d6eff8d7",
   "metadata": {},
   "source": [
    "### 2.1 Xgbrfboost"
   ]
  },
  {
   "cell_type": "code",
   "execution_count": 4,
   "id": "fb11d6e3",
   "metadata": {
    "ExecuteTime": {
     "end_time": "2022-04-30T13:18:00.471264Z",
     "start_time": "2022-04-30T13:17:59.885231Z"
    }
   },
   "outputs": [
    {
     "name": "stdout",
     "output_type": "stream",
     "text": [
      "valid\n",
      "              precision    recall  f1-score   support\n",
      "\n",
      "           0       0.89      0.92      0.91      1923\n",
      "           1       0.64      0.55      0.59       477\n",
      "\n",
      "    accuracy                           0.85      2400\n",
      "   macro avg       0.76      0.73      0.75      2400\n",
      "weighted avg       0.84      0.85      0.84      2400\n",
      "\n",
      "0.7343151587698729\n",
      "\n",
      "[[1776  147]\n",
      " [ 217  260]]\n",
      "\n",
      "teste\n",
      "              precision    recall  f1-score   support\n",
      "\n",
      "           0       0.89      0.92      0.91      1577\n",
      "           1       0.67      0.58      0.62       423\n",
      "\n",
      "    accuracy                           0.85      2000\n",
      "   macro avg       0.78      0.75      0.76      2000\n",
      "weighted avg       0.84      0.85      0.85      2000\n",
      "\n",
      "0.7529640772871253\n",
      "\n",
      "[[1454  123]\n",
      " [ 176  247]]\n"
     ]
    }
   ],
   "source": [
    "# Modeling\n",
    "xgbrf_model = XGBRFClassifier(use_label_encoder=False)\n",
    "xgbrf_model_fit = xgbrf_model.fit(X_smote, y_smote, eval_metric='error')\n",
    "xgbrf_predict = xgbrf_model_fit.predict(X_valid)\n",
    "\n",
    "print('valid')\n",
    "print(classification_report(y_valid, xgbrf_predict))\n",
    "print(roc_auc_score(y_valid, xgbrf_predict))\n",
    "print()\n",
    "print(confusion_matrix(y_valid, xgbrf_predict))\n",
    "print('\\nteste')\n",
    "xgbrf_predict = xgbrf_model_fit.predict(X_test)\n",
    "print(classification_report(y_test, xgbrf_predict))\n",
    "print(roc_auc_score(y_test, xgbrf_predict))\n",
    "print()\n",
    "print(confusion_matrix(y_test, xgbrf_predict))\n",
    "\n",
    "pickle.dump(xgbrf_model_fit, open('D://My Drive//Pessoal//Projetos//bank_churn_predict//deploy//model//xgbrf_model.pkl', 'wb'))\n",
    "pickle.dump(xgbrf_model_fit, open('D://My Drive//Pessoal//Projetos//bank_churn_predict//bank_churn_predict//src//models//xgbrf_model.pkl', 'wb'))"
   ]
  },
  {
   "cell_type": "markdown",
   "id": "e2704ed8",
   "metadata": {},
   "source": [
    "### 2.2 Random Forest"
   ]
  },
  {
   "cell_type": "code",
   "execution_count": 5,
   "id": "8fe3d77c",
   "metadata": {
    "ExecuteTime": {
     "end_time": "2022-04-30T13:18:01.096896Z",
     "start_time": "2022-04-30T13:18:00.471264Z"
    },
    "scrolled": false
   },
   "outputs": [
    {
     "name": "stdout",
     "output_type": "stream",
     "text": [
      "valid\n",
      "              precision    recall  f1-score   support\n",
      "\n",
      "           0       0.90      0.93      0.92      1923\n",
      "           1       0.68      0.56      0.62       477\n",
      "\n",
      "    accuracy                           0.86      2400\n",
      "   macro avg       0.79      0.75      0.77      2400\n",
      "weighted avg       0.85      0.86      0.86      2400\n",
      "\n",
      "0.7484211318138261\n",
      "\n",
      "[[1798  125]\n",
      " [ 209  268]]\n",
      "\n",
      "teste\n",
      "              precision    recall  f1-score   support\n",
      "\n",
      "           0       0.89      0.93      0.91      1577\n",
      "           1       0.69      0.58      0.63       423\n",
      "\n",
      "    accuracy                           0.85      2000\n",
      "   macro avg       0.79      0.75      0.77      2000\n",
      "weighted avg       0.85      0.85      0.85      2000\n",
      "\n",
      "0.7549526212352208\n",
      "\n",
      "[[1464  113]\n",
      " [ 177  246]]\n"
     ]
    }
   ],
   "source": [
    "rf_model = RandomForestClassifier(n_estimators=100, \n",
    "                                  max_depth=7, \n",
    "                                  max_features=0.3, \n",
    "                                  random_state=101)\n",
    "rf_model_fit = rf_model.fit(X_smote, y_smote)\n",
    "rf_predict = rf_model_fit.predict(X_valid)\n",
    "\n",
    "print('valid')\n",
    "print(classification_report(y_valid, rf_predict))\n",
    "print(roc_auc_score(y_valid, rf_predict))\n",
    "print()\n",
    "print(confusion_matrix(y_valid, rf_predict))\n",
    "print('\\nteste')\n",
    "rf_predict = rf_model_fit.predict(X_test)\n",
    "print(classification_report(y_test, rf_predict))\n",
    "print(roc_auc_score(y_test, rf_predict))\n",
    "print()\n",
    "print(confusion_matrix(y_test, rf_predict))\n",
    "\n",
    "pickle.dump(rf_model_fit, open('D://My Drive//Pessoal//Projetos//bank_churn_predict//deploy//model//rf_model.pkl', 'wb'))\n",
    "pickle.dump(rf_model_fit, open('D://My Drive//Pessoal//Projetos//bank_churn_predict//bank_churn_predict//src//models//rf_model.pkl', 'wb'))"
   ]
  },
  {
   "cell_type": "markdown",
   "id": "c694234c",
   "metadata": {},
   "source": [
    "# Time"
   ]
  },
  {
   "cell_type": "code",
   "execution_count": 6,
   "id": "7f87b027",
   "metadata": {
    "ExecuteTime": {
     "end_time": "2022-04-30T13:18:01.112929Z",
     "start_time": "2022-04-30T13:18:01.096896Z"
    }
   },
   "outputs": [
    {
     "name": "stdout",
     "output_type": "stream",
     "text": [
      "O tempo de processamento do projeto foi de: 0 minutos\n"
     ]
    }
   ],
   "source": [
    "print(f'O tempo de processamento do projeto foi de: {int(round(time.time()-tempo_agora, 2)/60)} minutos')"
   ]
  }
 ],
 "metadata": {
  "kernelspec": {
   "display_name": "Python 3 (ipykernel)",
   "language": "python",
   "name": "python3"
  },
  "language_info": {
   "codemirror_mode": {
    "name": "ipython",
    "version": 3
   },
   "file_extension": ".py",
   "mimetype": "text/x-python",
   "name": "python",
   "nbconvert_exporter": "python",
   "pygments_lexer": "ipython3",
   "version": "3.9.7"
  }
 },
 "nbformat": 4,
 "nbformat_minor": 5
}
