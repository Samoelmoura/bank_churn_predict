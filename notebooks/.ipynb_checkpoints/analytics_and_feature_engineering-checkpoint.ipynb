{
 "cells": [
  {
   "cell_type": "markdown",
   "id": "b4572851",
   "metadata": {
    "heading_collapsed": true
   },
   "source": [
    "# 0.0 Business Problem"
   ]
  },
  {
   "cell_type": "markdown",
   "id": "b4da65b9",
   "metadata": {
    "heading_collapsed": true,
    "hidden": true
   },
   "source": [
    "## *****Estágio atual do projeto:*****\n",
    "Ciclo 4: Criar as hipóteses de negócio\n",
    "\n",
    "## 0.1 Contexto:\n",
    "A TopBank é uma grande empresa de serviços bancários. Ela atua principalmente nos países da Europa oferecendo produtos financeiros, desde contas bancárias até investimentos, passando por alguns tipos de seguros e produto de investimento.\n",
    "\n",
    "O modelo de negócio da empresa é do tipo serviço, ou seja, ela comercializa serviços bancários para seus clientes através de agências físicas e um portal online. \n",
    "\n",
    "O principal produto da empresa é uma conta bancária, na qual o cliente pode depositar seu salário, fazer saques, depósitos e transferência para outras contas. Essa conta bancária não tem custo para o cliente e tem uma vigência de 12 meses, ou seja, o cliente precisa renovar o contrato dessa conta para continuar utilizando pelos próximos 12 meses.\n",
    "\n",
    "Segundo o time de Analytics da TopBank, cada cliente que possui essa conta bancária retorna um valor monetário de 15% do valor do seu salário estimado, se esse for menor que a média e 20% se esse salário for maior que a média, durante o período vigente de sua conta. Esse valor é calculado anualmente. \n",
    "\n",
    "Por exemplo, se o salário mensal de um cliente é de 1.000 reais e a média de todos os salários do banco é de 800 reais. A empresa, portanto, fatura 200 reais anualmente com esse cliente. Se esse cliente está no banco há 10 anos, a empresa já faturou 2.000 reais com suas transações e utilização da conta. \n",
    "\n",
    "Nos últimos meses, o time de Analytics percebeu que a taxa de clientes cancelando suas contas e deixando o banco, atingiu números inéditos na empresa. Preocupados com o aumento dessa taxa, o time planejou um plano de ação para diminuir taxa de evasão de clientes.\n",
    "\n",
    "Preocupados com a queda dessa métrica, o time de Analytics da TopBottom, contratou você como consultor de Data Science para criar um plano de ação, com o objetivo de reduzir a evasão de clientes, ou seja, impedir que o cliente cancele seu contrato e não o renove por mais 12 meses. Essa evasão, nas métricas de negócio, é conhecida como Churn.\n",
    "\n",
    "De maneira geral, Churn é uma métrica que indica o número de clientes que cancelaram o contrato ou pararam de comprar seu produto em um determinado período de tempo. Por exemplo, clientes que cancelaram o contrato de serviço ou após o vencimento do mesmo, não renovaram, são clientes considerados em churn.\n",
    "\n",
    "Outro exemplo seria os clientes que não fazem uma compra à mais de 60 dias. Esse clientes podem ser considerados clientes em churn até que uma compra seja realizada. O período de 60 dias é totalmente arbitrário e varia entre empresas. \n",
    "\n",
    "Projeto retirado do Blog Seja Um Data Scientist\n",
    "https://sejaumdatascientist.com/predicao-de-churn/\n",
    "\n",
    "Projeto original disponível na plataforma Kaggle\n",
    "https://www.kaggle.com/mervetorkan/churndataset\n",
    "\n",
    "## 0.2 Estratégia da Solução:\n",
    "\n",
    "#### 0.2.1 Objetivos:\n",
    "1. Qual a taxa atual de Churn da Top-Bank? Como ela varia mensalmente?\n",
    "2. Qual a performance do modelo em classificar os clientes como churn?\n",
    "3. Qual o retorno esperado, em termos de faturamento, se a empresa utilizar seu modelo para evitar o churn dos clientes?\n",
    "\n",
    "#### 0.2.2 Proposta de Solução:\n",
    "1. Definir a baseline de churn atual e qual é seu custo para a empresa, e utilizar de Exploratory Data Analysis para levantar parâmetros de timeseries para explicar o comportamento da variabilidade ao longo do tempo.\n",
    "2. Escolher métrica de performance, modelar o problema e treinar.\n",
    "3. Definido a baseline (problema 1), scorar os clientes, suas probabilidades de churn, definir programa de giftcards, mensurar probabilidade de conversão de clientes em churn, e custo do programa. Retorno financeiro = Churn atual - (menos) Churn predito após programa de giftcards - (menos) custo do programa.\n",
    "\n",
    "#### 0.2.3 Inputs:\n",
    "1. Problema de negócio\n",
    "2. Conjunto de dados com características de 10.000 clientes e seus status de churn\n",
    "\n",
    "#### 0.2.4 Outputs:\n",
    "1. Taxas e parâmetros em uma tabela no notebook (Porcentagem, | Mês | Taxa de churn |)\n",
    "3. Métricas do modelo (Métrica F1-Score)\n",
    "3. Receita gerada pela redução de churn (Valor em moeda)\n",
    "4. Tabela de banco de dados SQL com todas as classificações\n",
    "5. API com request/predict do tipo: | v1 | v2 | v3 | - 1/0\n",
    "\n",
    "#### 0.2.5 Ciclos:\n",
    "1. Criar um pipeline de dados funcional, de ponta a ponta (desde a coleta de dados até o \n",
    "    treinamento do modelo)\n",
    "2. Entender os dados e limpa-los (buscar inconsistências) Análises de estatística\n",
    "    descritiva de primeira ordem\n",
    "3. Feature Engineering (criar variáveis que modelam o fenômeno)\n",
    "4. Criar as hipóteses de negócio\n",
    "5. Análise exploratória de dados para validar ou refutar hióteses\n",
    "6. Definir métricas e treinar o modelo\n",
    "7. Analisar métricas\n",
    "8. Resultados e conclusão\n",
    "\n",
    "## 0.3 Significado das features:\n",
    "\n",
    "1. RowNumber: O número da coluna\n",
    "2. CustomerID: Identificador único do cliente\n",
    "3. Surname: Sobrenome do cliente.\n",
    "4. CreditScore: A pontuação de Crédito do cliente para o mercado de consumo.\n",
    "5. Geography: O país onde o cliente reside.\n",
    "6. Gender: O gênero do cliente.\n",
    "7. Age: A idade do cliente.\n",
    "8. Tenure: Número de anos que o cliente permaneceu ativo.\n",
    "9. Balance: Valor monetário que o cliente tem em sua conta bancária.\n",
    "10. NumOfProducts: O número de produtos comprado pelo cliente no banco.\n",
    "11. HasCrCard: Indica se o cliente possui ou não cartão de crédito.\n",
    "12. IsActiveMember: Indica se o cliente fez pelo menos uma movimentação na conta bancário dentro de 12 meses.\n",
    "13. EstimateSalary: Estimativa do salário mensal do cliente.\n",
    "14. Exited: Indica se o cliente está ou não em Churn.\n",
    "\n",
    "## 0.4 Sumário:\n",
    "\n",
    "## 0.5 Resultados e Conclusão:"
   ]
  },
  {
   "cell_type": "markdown",
   "id": "c729438b",
   "metadata": {
    "heading_collapsed": true
   },
   "source": [
    "# 1.0 Imports"
   ]
  },
  {
   "cell_type": "markdown",
   "id": "46adce05",
   "metadata": {
    "heading_collapsed": true,
    "hidden": true
   },
   "source": [
    "###### 1.1 Importing libraries"
   ]
  },
  {
   "cell_type": "code",
   "execution_count": 1,
   "id": "11fa254d",
   "metadata": {
    "hidden": true
   },
   "outputs": [],
   "source": [
    "import numpy as np\n",
    "import pandas as pd\n",
    "import matplotlib.pyplot as plt\n",
    "import seaborn as sns\n",
    "\n",
    "from sklearn.preprocessing import LabelEncoder\n",
    "\n",
    "from scipy.stats import shapiro, ttest_ind\n",
    "\n",
    "import pickle\n",
    "\n",
    "import time\n",
    "\n",
    "tempo_agora = time.time() # Contabilizando o tempo de processamento do projeto"
   ]
  },
  {
   "cell_type": "markdown",
   "id": "bdf7f18f",
   "metadata": {
    "heading_collapsed": true,
    "hidden": true
   },
   "source": [
    "###### 1.2 Loading dataset"
   ]
  },
  {
   "cell_type": "code",
   "execution_count": 2,
   "id": "c99872ec",
   "metadata": {
    "hidden": true
   },
   "outputs": [],
   "source": [
    "# reading csv\n",
    "df = pd.read_csv('C:\\\\Users\\\\Samoel\\\\My Drive\\\\Pessoal\\\\Projetos\\\\bank_churn_predict\\\\bank_churn_predict\\\\churn.csv')"
   ]
  },
  {
   "cell_type": "markdown",
   "id": "e62dcc46",
   "metadata": {
    "heading_collapsed": true,
    "hidden": true
   },
   "source": [
    "###### 1.3 Helper functions"
   ]
  },
  {
   "cell_type": "code",
   "execution_count": 3,
   "id": "4379c4d6",
   "metadata": {
    "hidden": true
   },
   "outputs": [],
   "source": [
    "# Estatística descritiva de primeira ordem\n",
    "def estat_desc(x):\n",
    "    print(f'Média: {round(x.mean(), 2)}')\n",
    "    print(f'Mínimo: {round(x.min(), 2)}')\n",
    "    print(f'Máximo: {round(x.max(), 2)}')\n",
    "    print(f'Range: {round(x.max()-x.min(), 2)}')\n",
    "    print(f'Desvio Padrão: {round(x.std(), 2)}')\n",
    "    print(f'Curtose: {round(x.kurtosis(), 2)}')\n",
    "    print(f'Skew: {round(x.skew(), 2)}')\n",
    "    \n",
    "# Teste de Shapiro de normalidade\n",
    "def teste_shapiro(x, alpha=0.05):\n",
    "    temp = np.random.choice(df.index, 5000)\n",
    "    x = x.loc[temp]\n",
    "    result = shapiro(x)\n",
    "    if result.pvalue < alpha:\n",
    "        print(f'Com um pvalor: {result.pvalue}, a Series NÃO tem distribuição normal.')\n",
    "    else:\n",
    "        print(f'Com um pvalor: {result.pvalue}, a Series tem distribuição normal.')\n",
    "\n",
    "# identificando outliers\n",
    "def busca_outliers(df, series):\n",
    "    q1 = np.percentile(df[series], 25)\n",
    "    q3 = np.percentile(df[series], 75)\n",
    "    distancia = q3 - q1\n",
    "    salto = distancia * 1.5\n",
    "    li = q1 - salto\n",
    "    ls = q3 + salto\n",
    "    indices = df[(df[series]<li)|(df[series]>ls)].index\n",
    "    print(f'O limite inferior é: {li}\\nO limite superior é: {ls}\\nHá {len(indices)} outliers')\n",
    "    return indices\n",
    "\n",
    "# Função inferência\n",
    "def comparar_features(series1, series2, confiança, qtd_amostras):\n",
    "    print('Series 1')\n",
    "    print(f'Média = {round(series1.mean(), 2)}')\n",
    "    print(f'Desvio padrão = {round(series1.std(), 2)}')\n",
    "    print()\n",
    "    print('Series 2')\n",
    "    print(f'Média = {round(series2.mean(), 2)}')\n",
    "    print(f'Desvio padrão = {round(series2.std(), 2)}')\n",
    "    aleatório1 = np.random.choice(series1.dropna(), qtd_amostras)\n",
    "    aleatório2 = np.random.choice(series2.dropna(), qtd_amostras)\n",
    "    stat, p = ttest_ind(aleatório1, aleatório2)\n",
    "    print(f'statistic = {round(stat, 2)}, p = {round(p, 2)}')\n",
    "  \n",
    "    if p < confiança:\n",
    "        print(f'\\nCom um p-valor igual à {round(p, 2)}, as series são estatísticamente DIFERENTES com um grau de confiança de {round(100-confiança*100)}%')\n",
    "    if p > confiança:\n",
    "        print(f'\\nCom um p-valor igual à {round(p, 2)}, as series são estatísticamente IGUAIS com um grau de confiança de {round(100-confiança*100)}%')"
   ]
  },
  {
   "cell_type": "markdown",
   "id": "34679afd",
   "metadata": {
    "heading_collapsed": true
   },
   "source": [
    "# 2.0 Data Description"
   ]
  },
  {
   "cell_type": "markdown",
   "id": "852b5c4b",
   "metadata": {
    "heading_collapsed": true,
    "hidden": true
   },
   "source": [
    "## 2.1 General Analysis"
   ]
  },
  {
   "cell_type": "markdown",
   "id": "1d220e17",
   "metadata": {
    "heading_collapsed": true,
    "hidden": true
   },
   "source": [
    "##### 2.1.1 Main insights:\n",
    "\n",
    "###### Exited\n",
    "1. Desbalanceado, por volta de 20% de churn\n",
    "2. Correlação fraca com Age e muito fraca com as demais\n",
    "\n",
    "###### NumOfProducts\n",
    "1. Clientes com 3 ou 4 produtos têm maior probabilidade de churn, com 80% e 100% de churn respectivamente.\n",
    "2. Correlação fraca negativa com Balance\n",
    "3. 95% dos clientes possuem 1 ou 2 produtos\n",
    "\n",
    "###### HasCrCard\n",
    "1. 70% dos clientes possuem cartão de crédito\n",
    "2. Aparentemente não ajuda a modelar o fenômeno\n",
    "3. Correlações muito fracas\n",
    "\n",
    "###### IsActiveMember\n",
    "1. A quantidade de clientes ativos e inativos está equilibrada\n",
    "2. Membros ativos são 47% menos propensos ao churn\n",
    "3. Correlações muito fracas\n",
    "\n",
    "###### Geography\n",
    "1. Mais de 50% dos clientes está na França\n",
    "2. Clientes da Germany têm maior probabilidade de churn\n",
    "3. Correlações muito fracas\n",
    "\n",
    "###### Gender\n",
    "1. 54% dos clientes são homens\n",
    "2. Mulheres têm 34% de chance maior de churn\n",
    "3. Correlações muito fracas\n",
    "\n",
    "###### CreditScore\n",
    "1. Não há faixas de CreditScore mais suscetíveis ao churn\n",
    "2. Correlações muito fracas\n",
    "\n",
    "###### Age\n",
    "1. Idade mínima de 18 anos, máxima de 92, aparentemente sem erros de input\n",
    "2. Média de idade de clientes em churn é de 45, já os em não churn é de 37\n",
    "3. Correlação fraca com Exited\n",
    "4. Cauda direita mais pesada\n",
    "5. 359 outliers\n",
    "\n",
    "###### Balance\n",
    "1. Balance com valor máximo bastante mais alto do que o terceiro quartil, com primeiro quartil com cliantes com valor zerado na conta, o que sugere que haja uma quantidade grande de contas com zero de saldo.\n",
    "2. Clientes com saldo zerado na conta tem probabilidade relativamente menor de churn\n",
    "3. Correlação fraca com NumOfProducts\n",
    "4. 36% das contas bancárias estão zeradas\n",
    "\n",
    "###### EstimatedSalary\n",
    "1. Aparentemente não ajuda a modelar o fenômeno\n",
    "2. Correlações muito fracas\n",
    "3. Apresenta uma contagem bastante contínua em todo o range da variância da feature, semelhante a variáveis categóricas\n",
    "\n",
    "###### Tenure\n",
    "1. Aparentemente não ajuda a modelar o fenômeno\n",
    "2. Correlações muito fracas\n",
    "3. Apesar das médias de churn por categoria serem relativamente diferentes, os desvios padrões colocam todas as categorias em um mesmo patamar"
   ]
  },
  {
   "cell_type": "markdown",
   "id": "7d388fe5",
   "metadata": {
    "heading_collapsed": true,
    "hidden": true
   },
   "source": [
    "##### 2.1.2 Looking dataset"
   ]
  },
  {
   "cell_type": "code",
   "execution_count": 4,
   "id": "a9a6d3cc",
   "metadata": {
    "hidden": true,
    "scrolled": true
   },
   "outputs": [
    {
     "data": {
      "text/html": [
       "<div>\n",
       "<style scoped>\n",
       "    .dataframe tbody tr th:only-of-type {\n",
       "        vertical-align: middle;\n",
       "    }\n",
       "\n",
       "    .dataframe tbody tr th {\n",
       "        vertical-align: top;\n",
       "    }\n",
       "\n",
       "    .dataframe thead th {\n",
       "        text-align: right;\n",
       "    }\n",
       "</style>\n",
       "<table border=\"1\" class=\"dataframe\">\n",
       "  <thead>\n",
       "    <tr style=\"text-align: right;\">\n",
       "      <th></th>\n",
       "      <th>RowNumber</th>\n",
       "      <th>CustomerId</th>\n",
       "      <th>Surname</th>\n",
       "      <th>CreditScore</th>\n",
       "      <th>Geography</th>\n",
       "      <th>Gender</th>\n",
       "      <th>Age</th>\n",
       "      <th>Tenure</th>\n",
       "      <th>Balance</th>\n",
       "      <th>NumOfProducts</th>\n",
       "      <th>HasCrCard</th>\n",
       "      <th>IsActiveMember</th>\n",
       "      <th>EstimatedSalary</th>\n",
       "      <th>Exited</th>\n",
       "    </tr>\n",
       "  </thead>\n",
       "  <tbody>\n",
       "    <tr>\n",
       "      <th>0</th>\n",
       "      <td>1</td>\n",
       "      <td>15634602</td>\n",
       "      <td>Hargrave</td>\n",
       "      <td>619</td>\n",
       "      <td>France</td>\n",
       "      <td>Female</td>\n",
       "      <td>42</td>\n",
       "      <td>2</td>\n",
       "      <td>0.00</td>\n",
       "      <td>1</td>\n",
       "      <td>1</td>\n",
       "      <td>1</td>\n",
       "      <td>101348.88</td>\n",
       "      <td>1</td>\n",
       "    </tr>\n",
       "    <tr>\n",
       "      <th>1</th>\n",
       "      <td>2</td>\n",
       "      <td>15647311</td>\n",
       "      <td>Hill</td>\n",
       "      <td>608</td>\n",
       "      <td>Spain</td>\n",
       "      <td>Female</td>\n",
       "      <td>41</td>\n",
       "      <td>1</td>\n",
       "      <td>83807.86</td>\n",
       "      <td>1</td>\n",
       "      <td>0</td>\n",
       "      <td>1</td>\n",
       "      <td>112542.58</td>\n",
       "      <td>0</td>\n",
       "    </tr>\n",
       "    <tr>\n",
       "      <th>2</th>\n",
       "      <td>3</td>\n",
       "      <td>15619304</td>\n",
       "      <td>Onio</td>\n",
       "      <td>502</td>\n",
       "      <td>France</td>\n",
       "      <td>Female</td>\n",
       "      <td>42</td>\n",
       "      <td>8</td>\n",
       "      <td>159660.80</td>\n",
       "      <td>3</td>\n",
       "      <td>1</td>\n",
       "      <td>0</td>\n",
       "      <td>113931.57</td>\n",
       "      <td>1</td>\n",
       "    </tr>\n",
       "    <tr>\n",
       "      <th>3</th>\n",
       "      <td>4</td>\n",
       "      <td>15701354</td>\n",
       "      <td>Boni</td>\n",
       "      <td>699</td>\n",
       "      <td>France</td>\n",
       "      <td>Female</td>\n",
       "      <td>39</td>\n",
       "      <td>1</td>\n",
       "      <td>0.00</td>\n",
       "      <td>2</td>\n",
       "      <td>0</td>\n",
       "      <td>0</td>\n",
       "      <td>93826.63</td>\n",
       "      <td>0</td>\n",
       "    </tr>\n",
       "    <tr>\n",
       "      <th>4</th>\n",
       "      <td>5</td>\n",
       "      <td>15737888</td>\n",
       "      <td>Mitchell</td>\n",
       "      <td>850</td>\n",
       "      <td>Spain</td>\n",
       "      <td>Female</td>\n",
       "      <td>43</td>\n",
       "      <td>2</td>\n",
       "      <td>125510.82</td>\n",
       "      <td>1</td>\n",
       "      <td>1</td>\n",
       "      <td>1</td>\n",
       "      <td>79084.10</td>\n",
       "      <td>0</td>\n",
       "    </tr>\n",
       "  </tbody>\n",
       "</table>\n",
       "</div>"
      ],
      "text/plain": [
       "   RowNumber  CustomerId   Surname  CreditScore Geography  Gender  Age  \\\n",
       "0          1    15634602  Hargrave          619    France  Female   42   \n",
       "1          2    15647311      Hill          608     Spain  Female   41   \n",
       "2          3    15619304      Onio          502    France  Female   42   \n",
       "3          4    15701354      Boni          699    France  Female   39   \n",
       "4          5    15737888  Mitchell          850     Spain  Female   43   \n",
       "\n",
       "   Tenure    Balance  NumOfProducts  HasCrCard  IsActiveMember  \\\n",
       "0       2       0.00              1          1               1   \n",
       "1       1   83807.86              1          0               1   \n",
       "2       8  159660.80              3          1               0   \n",
       "3       1       0.00              2          0               0   \n",
       "4       2  125510.82              1          1               1   \n",
       "\n",
       "   EstimatedSalary  Exited  \n",
       "0        101348.88       1  \n",
       "1        112542.58       0  \n",
       "2        113931.57       1  \n",
       "3         93826.63       0  \n",
       "4         79084.10       0  "
      ]
     },
     "execution_count": 4,
     "metadata": {},
     "output_type": "execute_result"
    }
   ],
   "source": [
    "df.head(5)"
   ]
  },
  {
   "cell_type": "markdown",
   "id": "9844549c",
   "metadata": {
    "heading_collapsed": true,
    "hidden": true
   },
   "source": [
    "##### 2.1.3 Data dimensions"
   ]
  },
  {
   "cell_type": "code",
   "execution_count": 5,
   "id": "c190ba97",
   "metadata": {
    "hidden": true
   },
   "outputs": [
    {
     "name": "stdout",
     "output_type": "stream",
     "text": [
      "O dataset possui: 10000 linhas\n",
      "O dataset possui: 14 colunas\n"
     ]
    }
   ],
   "source": [
    "print(f'O dataset possui: {df.shape[0]} linhas')\n",
    "print(f'O dataset possui: {df.shape[1]} colunas')"
   ]
  },
  {
   "cell_type": "markdown",
   "id": "5601711a",
   "metadata": {
    "heading_collapsed": true,
    "hidden": true
   },
   "source": [
    "##### 2.1.4 Datatypes"
   ]
  },
  {
   "cell_type": "code",
   "execution_count": 6,
   "id": "e12f3418",
   "metadata": {
    "hidden": true
   },
   "outputs": [
    {
     "data": {
      "text/plain": [
       "RowNumber            int64\n",
       "CustomerId           int64\n",
       "Surname             object\n",
       "CreditScore          int64\n",
       "Geography           object\n",
       "Gender              object\n",
       "Age                  int64\n",
       "Tenure               int64\n",
       "Balance            float64\n",
       "NumOfProducts        int64\n",
       "HasCrCard            int64\n",
       "IsActiveMember       int64\n",
       "EstimatedSalary    float64\n",
       "Exited               int64\n",
       "dtype: object"
      ]
     },
     "execution_count": 6,
     "metadata": {},
     "output_type": "execute_result"
    }
   ],
   "source": [
    "df.dtypes"
   ]
  },
  {
   "cell_type": "markdown",
   "id": "8556d3f5",
   "metadata": {
    "heading_collapsed": true,
    "hidden": true
   },
   "source": [
    "##### 2.1.5 Changing interesting datatypes"
   ]
  },
  {
   "cell_type": "code",
   "execution_count": 7,
   "id": "a12e6332",
   "metadata": {
    "hidden": true
   },
   "outputs": [],
   "source": [
    "geography_le = LabelEncoder()\n",
    "Geography = geography_le.fit(df['Geography'])\n",
    "df['Geography_enc'] = geography_le.fit_transform(df['Geography'])\n",
    "gender_le = LabelEncoder()\n",
    "Gender = gender_le.fit(df['Gender'])\n",
    "df['Gender_enc'] = gender_le.fit_transform(df['Gender'])"
   ]
  },
  {
   "cell_type": "markdown",
   "id": "e80aca2c",
   "metadata": {
    "heading_collapsed": true,
    "hidden": true
   },
   "source": [
    "##### 2.1.6 Segregating feature types"
   ]
  },
  {
   "cell_type": "code",
   "execution_count": 8,
   "id": "279f7458",
   "metadata": {
    "hidden": true
   },
   "outputs": [],
   "source": [
    "features_id = ['CustomerId']\n",
    "features_string = ['Gender', 'Geography', 'Surname']\n",
    "features_categóricas = ['NumOfProducts', 'HasCrCard', 'IsActiveMember', 'Geography_enc', 'Gender_enc', 'Tenure']\n",
    "features_numéricas = ['CreditScore', 'Age', 'Balance', 'EstimatedSalary']\n",
    "target = ['Exited']"
   ]
  },
  {
   "cell_type": "markdown",
   "id": "c7bbd080",
   "metadata": {
    "heading_collapsed": true,
    "hidden": true
   },
   "source": [
    "##### 2.1.7 Cheking NaN values"
   ]
  },
  {
   "cell_type": "code",
   "execution_count": 9,
   "id": "0a3bddae",
   "metadata": {
    "hidden": true
   },
   "outputs": [
    {
     "data": {
      "text/plain": [
       "RowNumber          0\n",
       "CustomerId         0\n",
       "Surname            0\n",
       "CreditScore        0\n",
       "Geography          0\n",
       "Gender             0\n",
       "Age                0\n",
       "Tenure             0\n",
       "Balance            0\n",
       "NumOfProducts      0\n",
       "HasCrCard          0\n",
       "IsActiveMember     0\n",
       "EstimatedSalary    0\n",
       "Exited             0\n",
       "Geography_enc      0\n",
       "Gender_enc         0\n",
       "dtype: int64"
      ]
     },
     "execution_count": 9,
     "metadata": {},
     "output_type": "execute_result"
    }
   ],
   "source": [
    "df.isna().sum()"
   ]
  },
  {
   "cell_type": "markdown",
   "id": "7b184e1a",
   "metadata": {
    "heading_collapsed": true,
    "hidden": true
   },
   "source": [
    "## 2.2 Descriptive Statistics"
   ]
  },
  {
   "cell_type": "markdown",
   "id": "cc2d8c19",
   "metadata": {
    "heading_collapsed": true,
    "hidden": true
   },
   "source": [
    "### 2.2.1 Target"
   ]
  },
  {
   "cell_type": "code",
   "execution_count": 10,
   "id": "30c7d1c8",
   "metadata": {
    "hidden": true
   },
   "outputs": [
    {
     "name": "stdout",
     "output_type": "stream",
     "text": [
      "A taxa global de churn é: 20.37%\n"
     ]
    }
   ],
   "source": [
    "print(f'A taxa global de churn é: {round(df[\"Exited\"].mean() * 100, 2)}%')"
   ]
  },
  {
   "cell_type": "markdown",
   "id": "c0b00309",
   "metadata": {
    "hidden": true
   },
   "source": [
    "Desbalanceada"
   ]
  },
  {
   "cell_type": "markdown",
   "id": "8ee99dee",
   "metadata": {
    "heading_collapsed": true,
    "hidden": true
   },
   "source": [
    "### 2.2.1 Categorical Features"
   ]
  },
  {
   "cell_type": "code",
   "execution_count": 11,
   "id": "223b9b4a",
   "metadata": {
    "hidden": true,
    "scrolled": true
   },
   "outputs": [
    {
     "data": {
      "text/html": [
       "<div>\n",
       "<style scoped>\n",
       "    .dataframe tbody tr th:only-of-type {\n",
       "        vertical-align: middle;\n",
       "    }\n",
       "\n",
       "    .dataframe tbody tr th {\n",
       "        vertical-align: top;\n",
       "    }\n",
       "\n",
       "    .dataframe thead th {\n",
       "        text-align: right;\n",
       "    }\n",
       "</style>\n",
       "<table border=\"1\" class=\"dataframe\">\n",
       "  <thead>\n",
       "    <tr style=\"text-align: right;\">\n",
       "      <th></th>\n",
       "      <th>NumOfProducts</th>\n",
       "      <th>HasCrCard</th>\n",
       "      <th>IsActiveMember</th>\n",
       "      <th>Geography_enc</th>\n",
       "      <th>Gender_enc</th>\n",
       "      <th>Tenure</th>\n",
       "    </tr>\n",
       "  </thead>\n",
       "  <tbody>\n",
       "    <tr>\n",
       "      <th>count</th>\n",
       "      <td>10000</td>\n",
       "      <td>10000</td>\n",
       "      <td>10000</td>\n",
       "      <td>10000</td>\n",
       "      <td>10000</td>\n",
       "      <td>10000</td>\n",
       "    </tr>\n",
       "    <tr>\n",
       "      <th>unique</th>\n",
       "      <td>4</td>\n",
       "      <td>2</td>\n",
       "      <td>2</td>\n",
       "      <td>3</td>\n",
       "      <td>2</td>\n",
       "      <td>11</td>\n",
       "    </tr>\n",
       "    <tr>\n",
       "      <th>top</th>\n",
       "      <td>1</td>\n",
       "      <td>1</td>\n",
       "      <td>1</td>\n",
       "      <td>0</td>\n",
       "      <td>1</td>\n",
       "      <td>2</td>\n",
       "    </tr>\n",
       "    <tr>\n",
       "      <th>freq</th>\n",
       "      <td>5084</td>\n",
       "      <td>7055</td>\n",
       "      <td>5151</td>\n",
       "      <td>5014</td>\n",
       "      <td>5457</td>\n",
       "      <td>1048</td>\n",
       "    </tr>\n",
       "  </tbody>\n",
       "</table>\n",
       "</div>"
      ],
      "text/plain": [
       "        NumOfProducts  HasCrCard  IsActiveMember  Geography_enc  Gender_enc  \\\n",
       "count           10000      10000           10000          10000       10000   \n",
       "unique              4          2               2              3           2   \n",
       "top                 1          1               1              0           1   \n",
       "freq             5084       7055            5151           5014        5457   \n",
       "\n",
       "        Tenure  \n",
       "count    10000  \n",
       "unique      11  \n",
       "top          2  \n",
       "freq      1048  "
      ]
     },
     "execution_count": 11,
     "metadata": {},
     "output_type": "execute_result"
    }
   ],
   "source": [
    "df[features_categóricas].astype('category').describe()"
   ]
  },
  {
   "cell_type": "code",
   "execution_count": 12,
   "id": "66e2418f",
   "metadata": {
    "hidden": true
   },
   "outputs": [
    {
     "data": {
      "text/plain": [
       "array(['France'], dtype=object)"
      ]
     },
     "execution_count": 12,
     "metadata": {},
     "output_type": "execute_result"
    }
   ],
   "source": [
    "Geography.inverse_transform([0])"
   ]
  },
  {
   "cell_type": "code",
   "execution_count": 13,
   "id": "0f777e1e",
   "metadata": {
    "hidden": true
   },
   "outputs": [
    {
     "data": {
      "text/plain": [
       "array(['Male'], dtype=object)"
      ]
     },
     "execution_count": 13,
     "metadata": {},
     "output_type": "execute_result"
    }
   ],
   "source": [
    "Gender.inverse_transform([1])"
   ]
  },
  {
   "cell_type": "markdown",
   "id": "0a7af069",
   "metadata": {
    "hidden": true
   },
   "source": [
    "Mais de 50% dos clientes possui apenas 1 produto, 70% dos clientes possuel cartão de crédito, 50% dos clientes é da França."
   ]
  },
  {
   "cell_type": "markdown",
   "id": "55676351",
   "metadata": {
    "heading_collapsed": true,
    "hidden": true
   },
   "source": [
    "### 2.2.1 Numerical Features"
   ]
  },
  {
   "cell_type": "code",
   "execution_count": 14,
   "id": "925b06c0",
   "metadata": {
    "hidden": true,
    "scrolled": false
   },
   "outputs": [
    {
     "data": {
      "text/html": [
       "<div>\n",
       "<style scoped>\n",
       "    .dataframe tbody tr th:only-of-type {\n",
       "        vertical-align: middle;\n",
       "    }\n",
       "\n",
       "    .dataframe tbody tr th {\n",
       "        vertical-align: top;\n",
       "    }\n",
       "\n",
       "    .dataframe thead th {\n",
       "        text-align: right;\n",
       "    }\n",
       "</style>\n",
       "<table border=\"1\" class=\"dataframe\">\n",
       "  <thead>\n",
       "    <tr style=\"text-align: right;\">\n",
       "      <th></th>\n",
       "      <th>CreditScore</th>\n",
       "      <th>Age</th>\n",
       "      <th>Balance</th>\n",
       "      <th>EstimatedSalary</th>\n",
       "    </tr>\n",
       "  </thead>\n",
       "  <tbody>\n",
       "    <tr>\n",
       "      <th>count</th>\n",
       "      <td>10000.000000</td>\n",
       "      <td>10000.000000</td>\n",
       "      <td>10000.000000</td>\n",
       "      <td>10000.000000</td>\n",
       "    </tr>\n",
       "    <tr>\n",
       "      <th>mean</th>\n",
       "      <td>650.528800</td>\n",
       "      <td>38.921800</td>\n",
       "      <td>76485.889288</td>\n",
       "      <td>100090.239881</td>\n",
       "    </tr>\n",
       "    <tr>\n",
       "      <th>std</th>\n",
       "      <td>96.653299</td>\n",
       "      <td>10.487806</td>\n",
       "      <td>62397.405202</td>\n",
       "      <td>57510.492818</td>\n",
       "    </tr>\n",
       "    <tr>\n",
       "      <th>min</th>\n",
       "      <td>350.000000</td>\n",
       "      <td>18.000000</td>\n",
       "      <td>0.000000</td>\n",
       "      <td>11.580000</td>\n",
       "    </tr>\n",
       "    <tr>\n",
       "      <th>25%</th>\n",
       "      <td>584.000000</td>\n",
       "      <td>32.000000</td>\n",
       "      <td>0.000000</td>\n",
       "      <td>51002.110000</td>\n",
       "    </tr>\n",
       "    <tr>\n",
       "      <th>50%</th>\n",
       "      <td>652.000000</td>\n",
       "      <td>37.000000</td>\n",
       "      <td>97198.540000</td>\n",
       "      <td>100193.915000</td>\n",
       "    </tr>\n",
       "    <tr>\n",
       "      <th>75%</th>\n",
       "      <td>718.000000</td>\n",
       "      <td>44.000000</td>\n",
       "      <td>127644.240000</td>\n",
       "      <td>149388.247500</td>\n",
       "    </tr>\n",
       "    <tr>\n",
       "      <th>max</th>\n",
       "      <td>850.000000</td>\n",
       "      <td>92.000000</td>\n",
       "      <td>250898.090000</td>\n",
       "      <td>199992.480000</td>\n",
       "    </tr>\n",
       "  </tbody>\n",
       "</table>\n",
       "</div>"
      ],
      "text/plain": [
       "        CreditScore           Age        Balance  EstimatedSalary\n",
       "count  10000.000000  10000.000000   10000.000000     10000.000000\n",
       "mean     650.528800     38.921800   76485.889288    100090.239881\n",
       "std       96.653299     10.487806   62397.405202     57510.492818\n",
       "min      350.000000     18.000000       0.000000        11.580000\n",
       "25%      584.000000     32.000000       0.000000     51002.110000\n",
       "50%      652.000000     37.000000   97198.540000    100193.915000\n",
       "75%      718.000000     44.000000  127644.240000    149388.247500\n",
       "max      850.000000     92.000000  250898.090000    199992.480000"
      ]
     },
     "execution_count": 14,
     "metadata": {},
     "output_type": "execute_result"
    }
   ],
   "source": [
    "df[features_numéricas].describe()"
   ]
  },
  {
   "cell_type": "markdown",
   "id": "1ed80103",
   "metadata": {
    "hidden": true
   },
   "source": [
    "Range de idade entre 18 e 92 anos, mais de 25% das contas tem saldo zero."
   ]
  },
  {
   "cell_type": "markdown",
   "id": "d24b065a",
   "metadata": {
    "heading_collapsed": true
   },
   "source": [
    "# 3.0 Feature Engineering"
   ]
  },
  {
   "cell_type": "markdown",
   "id": "93b1f246",
   "metadata": {
    "heading_collapsed": true,
    "hidden": true
   },
   "source": [
    "#### 3.1 Age Transformada por Log"
   ]
  },
  {
   "cell_type": "code",
   "execution_count": 15,
   "id": "2e14296d",
   "metadata": {
    "hidden": true
   },
   "outputs": [],
   "source": [
    "df['Log_Age'] = df['Age'].apply(lambda x: np.log(x) if x>0 else 0)"
   ]
  },
  {
   "cell_type": "code",
   "execution_count": 16,
   "id": "af71911e",
   "metadata": {
    "hidden": true
   },
   "outputs": [
    {
     "data": {
      "text/plain": [
       "<AxesSubplot:xlabel='Log_Age', ylabel='Count'>"
      ]
     },
     "execution_count": 16,
     "metadata": {},
     "output_type": "execute_result"
    },
    {
     "data": {
      "image/png": "[encoded data removed]",
      "text/plain": [
       "<Figure size 432x288 with 1 Axes>"
      ]
     },
     "metadata": {
      "needs_background": "light"
     },
     "output_type": "display_data"
    }
   ],
   "source": [
    "sns.histplot(df['Log_Age'])"
   ]
  },
  {
   "cell_type": "code",
   "execution_count": 17,
   "id": "ebb230f8",
   "metadata": {
    "hidden": true
   },
   "outputs": [
    {
     "name": "stdout",
     "output_type": "stream",
     "text": [
      "Com um pvalor: 1.3424171171373678e-13, a Series NÃO tem distribuição normal.\n"
     ]
    }
   ],
   "source": [
    "teste_shapiro(df['Log_Age'], 0.05)"
   ]
  },
  {
   "cell_type": "code",
   "execution_count": 18,
   "id": "64e92a7e",
   "metadata": {
    "hidden": true,
    "scrolled": true
   },
   "outputs": [
    {
     "name": "stdout",
     "output_type": "stream",
     "text": [
      "Média: 3.63\n",
      "Mínimo: 2.89\n",
      "Máximo: 4.52\n",
      "Range: 1.63\n",
      "Desvio Padrão: 0.26\n",
      "Curtose: 0.15\n",
      "Skew: 0.18\n"
     ]
    }
   ],
   "source": [
    "estat_desc(df['Log_Age'])"
   ]
  },
  {
   "cell_type": "code",
   "execution_count": 19,
   "id": "9004f2ba",
   "metadata": {
    "hidden": true,
    "scrolled": true
   },
   "outputs": [
    {
     "name": "stdout",
     "output_type": "stream",
     "text": [
      "O limite inferior é: 2.988055306121925\n",
      "O limite superior é: 4.261870230596063\n",
      "Há 182 outliers\n"
     ]
    }
   ],
   "source": [
    "indices = busca_outliers(df, 'Log_Age')"
   ]
  },
  {
   "cell_type": "markdown",
   "id": "96e32d93",
   "metadata": {
    "heading_collapsed": true,
    "hidden": true
   },
   "source": [
    "#### 3.2 Média de churn por categoria de Tenure"
   ]
  },
  {
   "cell_type": "code",
   "execution_count": 20,
   "id": "93c16ce9",
   "metadata": {
    "hidden": true
   },
   "outputs": [],
   "source": [
    "temp = df.groupby('Tenure').mean()['Exited']\n",
    "df['Tenure_Exited_Mean'] = df['Tenure'].map(temp)"
   ]
  },
  {
   "cell_type": "code",
   "execution_count": 21,
   "id": "65afdfc2",
   "metadata": {
    "hidden": true
   },
   "outputs": [
    {
     "data": {
      "text/html": [
       "<div>\n",
       "<style scoped>\n",
       "    .dataframe tbody tr th:only-of-type {\n",
       "        vertical-align: middle;\n",
       "    }\n",
       "\n",
       "    .dataframe tbody tr th {\n",
       "        vertical-align: top;\n",
       "    }\n",
       "\n",
       "    .dataframe thead th {\n",
       "        text-align: right;\n",
       "    }\n",
       "</style>\n",
       "<table border=\"1\" class=\"dataframe\">\n",
       "  <thead>\n",
       "    <tr style=\"text-align: right;\">\n",
       "      <th></th>\n",
       "      <th>Tenure_Exited_Mean</th>\n",
       "      <th>Exited</th>\n",
       "    </tr>\n",
       "  </thead>\n",
       "  <tbody>\n",
       "    <tr>\n",
       "      <th>Tenure_Exited_Mean</th>\n",
       "      <td>1.000000</td>\n",
       "      <td>0.037283</td>\n",
       "    </tr>\n",
       "    <tr>\n",
       "      <th>Exited</th>\n",
       "      <td>0.037283</td>\n",
       "      <td>1.000000</td>\n",
       "    </tr>\n",
       "  </tbody>\n",
       "</table>\n",
       "</div>"
      ],
      "text/plain": [
       "                    Tenure_Exited_Mean    Exited\n",
       "Tenure_Exited_Mean            1.000000  0.037283\n",
       "Exited                        0.037283  1.000000"
      ]
     },
     "execution_count": 21,
     "metadata": {},
     "output_type": "execute_result"
    }
   ],
   "source": [
    "df[['Tenure_Exited_Mean', 'Exited']].corr()"
   ]
  },
  {
   "cell_type": "markdown",
   "id": "e4c3b2ef",
   "metadata": {
    "hidden": true
   },
   "source": [
    "Aparentemente não ajuda a modelar o evento"
   ]
  },
  {
   "cell_type": "markdown",
   "id": "6ee00e85",
   "metadata": {
    "heading_collapsed": true
   },
   "source": [
    "# 4.0 Business Hypothesis"
   ]
  },
  {
   "cell_type": "markdown",
   "id": "fcc8c6e5",
   "metadata": {
    "heading_collapsed": true,
    "hidden": true
   },
   "source": [
    "#### 4.1 "
   ]
  },
  {
   "cell_type": "markdown",
   "id": "fcc4dc2d",
   "metadata": {
    "heading_collapsed": true
   },
   "source": [
    "# 5.0 Exploratory Data Analysis"
   ]
  },
  {
   "cell_type": "markdown",
   "id": "97935f3e",
   "metadata": {
    "heading_collapsed": true,
    "hidden": true
   },
   "source": [
    "### 5.1 Features Analysis"
   ]
  },
  {
   "cell_type": "markdown",
   "id": "1b5265a5",
   "metadata": {
    "heading_collapsed": true,
    "hidden": true
   },
   "source": [
    "#### Exited"
   ]
  },
  {
   "cell_type": "markdown",
   "id": "f556ee3a",
   "metadata": {
    "heading_collapsed": true,
    "hidden": true
   },
   "source": [
    "###### Principais Insights:\n",
    "1. Desbalanceado, por volta de 20% de churn\n",
    "2. Correlação fraca com Age e muito fraca com as demais"
   ]
  },
  {
   "cell_type": "markdown",
   "id": "2f97e158",
   "metadata": {
    "heading_collapsed": true,
    "hidden": true
   },
   "source": [
    "###### General Analysis"
   ]
  },
  {
   "cell_type": "code",
   "execution_count": 22,
   "id": "18d4131d",
   "metadata": {
    "hidden": true,
    "scrolled": true
   },
   "outputs": [
    {
     "data": {
      "text/plain": [
       "Log_Age               0.294082\n",
       "Age                   0.285323\n",
       "Balance               0.118533\n",
       "Tenure_Exited_Mean    0.037283\n",
       "Geography_enc         0.035943\n",
       "EstimatedSalary       0.012097\n",
       "CustomerId           -0.006248\n",
       "HasCrCard            -0.007138\n",
       "Tenure               -0.014001\n",
       "RowNumber            -0.016571\n",
       "CreditScore          -0.027094\n",
       "NumOfProducts        -0.047820\n",
       "Gender_enc           -0.106512\n",
       "IsActiveMember       -0.156128\n",
       "Name: Exited, dtype: float64"
      ]
     },
     "execution_count": 22,
     "metadata": {},
     "output_type": "execute_result"
    }
   ],
   "source": [
    "df.corr()['Exited'].sort_values(ascending=False)[1:]"
   ]
  },
  {
   "cell_type": "markdown",
   "id": "dedf1893",
   "metadata": {
    "hidden": true
   },
   "source": [
    "Correlação fraca com Age"
   ]
  },
  {
   "cell_type": "code",
   "execution_count": 23,
   "id": "5957036a",
   "metadata": {
    "hidden": true
   },
   "outputs": [
    {
     "data": {
      "text/plain": [
       "0.2037"
      ]
     },
     "execution_count": 23,
     "metadata": {},
     "output_type": "execute_result"
    }
   ],
   "source": [
    "df['Exited'].mean()"
   ]
  },
  {
   "cell_type": "markdown",
   "id": "d190b054",
   "metadata": {
    "hidden": true
   },
   "source": [
    "Target desbalanceada, serão necessárias ferramentas de balanceamento e métricas para dados desbalanceados"
   ]
  },
  {
   "cell_type": "markdown",
   "id": "6dc62bb9",
   "metadata": {
    "heading_collapsed": true,
    "hidden": true
   },
   "source": [
    "#### Age"
   ]
  },
  {
   "cell_type": "markdown",
   "id": "4cbff2e0",
   "metadata": {
    "heading_collapsed": true,
    "hidden": true
   },
   "source": [
    "###### Principais Insights:\n",
    "1. Idade mínima de 18 anos, máxima de 92, aparentemente sem erros de input\n",
    "2. Média de idade de clientes em churn é de 45, já os em não churn é de 37\n",
    "3. Correlação fraca com Exited\n",
    "4. Idade mínima de 18 anos, máxima de 92, aparentemente sem erros de input\n",
    "5. Não tem distribuição normal\n",
    "6. Cauda direita mais pesada\n",
    "7. 359 outliers"
   ]
  },
  {
   "cell_type": "markdown",
   "id": "8f58773e",
   "metadata": {
    "heading_collapsed": true,
    "hidden": true
   },
   "source": [
    "###### General Analysis"
   ]
  },
  {
   "cell_type": "code",
   "execution_count": 24,
   "id": "3e253416",
   "metadata": {
    "hidden": true
   },
   "outputs": [
    {
     "data": {
      "text/plain": [
       "Log_Age               0.982680\n",
       "Exited                0.285323\n",
       "IsActiveMember        0.085472\n",
       "Balance               0.028308\n",
       "Tenure_Exited_Mean    0.026586\n",
       "Geography_enc         0.022812\n",
       "CustomerId            0.009497\n",
       "RowNumber             0.000783\n",
       "CreditScore          -0.003965\n",
       "EstimatedSalary      -0.007201\n",
       "Tenure               -0.009997\n",
       "HasCrCard            -0.011721\n",
       "Gender_enc           -0.027544\n",
       "NumOfProducts        -0.030680\n",
       "Name: Age, dtype: float64"
      ]
     },
     "execution_count": 24,
     "metadata": {},
     "output_type": "execute_result"
    }
   ],
   "source": [
    "df.corr()['Age'].sort_values(ascending=False)[1:]"
   ]
  },
  {
   "cell_type": "markdown",
   "id": "1f9cf4c3",
   "metadata": {
    "hidden": true
   },
   "source": [
    "Correlação fraca com Exited"
   ]
  },
  {
   "cell_type": "code",
   "execution_count": 25,
   "id": "7fab9d99",
   "metadata": {
    "hidden": true,
    "scrolled": false
   },
   "outputs": [
    {
     "data": {
      "text/plain": [
       "<AxesSubplot:xlabel='Age', ylabel='Count'>"
      ]
     },
     "execution_count": 25,
     "metadata": {},
     "output_type": "execute_result"
    },
    {
     "data": {
      "image/png": "[encoded data removed]",
      "text/plain": [
       "<Figure size 432x288 with 1 Axes>"
      ]
     },
     "metadata": {
      "needs_background": "light"
     },
     "output_type": "display_data"
    }
   ],
   "source": [
    "sns.histplot(df['Age'])"
   ]
  },
  {
   "cell_type": "code",
   "execution_count": 26,
   "id": "aa564daa",
   "metadata": {
    "hidden": true
   },
   "outputs": [
    {
     "name": "stdout",
     "output_type": "stream",
     "text": [
      "Média: 38.92\n",
      "Mínimo: 18\n",
      "Máximo: 92\n",
      "Range: 74\n",
      "Desvio Padrão: 10.49\n",
      "Curtose: 1.4\n",
      "Skew: 1.01\n"
     ]
    }
   ],
   "source": [
    "estat_desc(df['Age'])"
   ]
  },
  {
   "cell_type": "code",
   "execution_count": 27,
   "id": "86c4f891",
   "metadata": {
    "hidden": true,
    "scrolled": false
   },
   "outputs": [
    {
     "name": "stdout",
     "output_type": "stream",
     "text": [
      "Com um pvalor: 1.118460382285496e-40, a Series NÃO tem distribuição normal.\n"
     ]
    }
   ],
   "source": [
    "teste_shapiro(df['Age'], 0.05)"
   ]
  },
  {
   "cell_type": "code",
   "execution_count": 28,
   "id": "a4d9f90a",
   "metadata": {
    "hidden": true,
    "scrolled": false
   },
   "outputs": [
    {
     "name": "stdout",
     "output_type": "stream",
     "text": [
      "O limite inferior é: 14.0\n",
      "O limite superior é: 62.0\n",
      "Há 359 outliers\n"
     ]
    }
   ],
   "source": [
    "indices = busca_outliers(df, 'Age')"
   ]
  },
  {
   "cell_type": "markdown",
   "id": "bea6883a",
   "metadata": {
    "heading_collapsed": true,
    "hidden": true
   },
   "source": [
    "###### Correlação com a target"
   ]
  },
  {
   "cell_type": "code",
   "execution_count": 29,
   "id": "d8e2979e",
   "metadata": {
    "hidden": true
   },
   "outputs": [
    {
     "data": {
      "image/png": "[encoded data removed]",
      "text/plain": [
       "<Figure size 432x288 with 2 Axes>"
      ]
     },
     "metadata": {
      "needs_background": "light"
     },
     "output_type": "display_data"
    }
   ],
   "source": [
    "plt.subplot(2, 1, 1)\n",
    "g = sns.histplot(df.loc[df['Exited']==0, 'Age'], color='b', alpha=0.5)\n",
    "g = sns.histplot(df.loc[df['Exited']==1, 'Age'], color='r', alpha=0.5)\n",
    "plt.subplot(2, 1, 2)\n",
    "g = sns.kdeplot(df.loc[df['Exited']==0, 'Age'], color='b', alpha=0.5, shade=True)\n",
    "g = sns.kdeplot(df.loc[df['Exited']==1, 'Age'], color='r', alpha=0.5, shade=True)"
   ]
  },
  {
   "cell_type": "markdown",
   "id": "5908e57f",
   "metadata": {
    "hidden": true
   },
   "source": [
    "Aparentemente a média de idade de clientes que não estão em churn é por volta dos 37 anos, e os clientes em churn por volta de 45 anos."
   ]
  },
  {
   "cell_type": "code",
   "execution_count": 30,
   "id": "be9a1a4f",
   "metadata": {
    "hidden": true
   },
   "outputs": [
    {
     "name": "stdout",
     "output_type": "stream",
     "text": [
      "Média de idade de clientes em NÃO churn: 37\n",
      "Média de idade de clientes em churn: 45\n"
     ]
    }
   ],
   "source": [
    "print(f'Média de idade de clientes em NÃO churn: {round(df.loc[df[\"Exited\"]==0, \"Age\"].mean())}')\n",
    "print(f'Média de idade de clientes em churn: {round(df.loc[df[\"Exited\"]==1, \"Age\"].mean())}')"
   ]
  },
  {
   "cell_type": "markdown",
   "id": "0381ba45",
   "metadata": {
    "heading_collapsed": true,
    "hidden": true
   },
   "source": [
    "#### Balance"
   ]
  },
  {
   "cell_type": "markdown",
   "id": "50f30b2b",
   "metadata": {
    "heading_collapsed": true,
    "hidden": true
   },
   "source": [
    "###### Principais Insights:\n",
    "1. Clientes com saldo zerado na conta tem probabilidade relativamente menor de churn\n",
    "2. Correlação fraca com NumOfProducts\n",
    "3. 36% das contas bancárias estão zeradas\n",
    "4. Não tem distribuição normal"
   ]
  },
  {
   "cell_type": "markdown",
   "id": "169b2cad",
   "metadata": {
    "heading_collapsed": true,
    "hidden": true
   },
   "source": [
    "###### General Analysis"
   ]
  },
  {
   "cell_type": "code",
   "execution_count": 31,
   "id": "d210b372",
   "metadata": {
    "hidden": true
   },
   "outputs": [
    {
     "data": {
      "text/plain": [
       "Exited                0.118533\n",
       "Geography_enc         0.069408\n",
       "Log_Age               0.030598\n",
       "Age                   0.028308\n",
       "EstimatedSalary       0.012797\n",
       "Gender_enc            0.012087\n",
       "Tenure_Exited_Mean    0.010074\n",
       "CreditScore           0.006268\n",
       "RowNumber            -0.009067\n",
       "IsActiveMember       -0.010084\n",
       "Tenure               -0.012254\n",
       "CustomerId           -0.012419\n",
       "HasCrCard            -0.014858\n",
       "NumOfProducts        -0.304180\n",
       "Name: Balance, dtype: float64"
      ]
     },
     "execution_count": 31,
     "metadata": {},
     "output_type": "execute_result"
    }
   ],
   "source": [
    "df.corr()['Balance'].sort_values(ascending=False)[1:]"
   ]
  },
  {
   "cell_type": "markdown",
   "id": "5ed14dfd",
   "metadata": {
    "hidden": true
   },
   "source": [
    "Correlação fraca com NumOfProducts"
   ]
  },
  {
   "cell_type": "code",
   "execution_count": 32,
   "id": "969321d1",
   "metadata": {
    "hidden": true
   },
   "outputs": [
    {
     "name": "stdout",
     "output_type": "stream",
     "text": [
      "Média: 76485.89\n",
      "Mínimo: 0.0\n",
      "Máximo: 250898.09\n",
      "Range: 250898.09\n",
      "Desvio Padrão: 62397.41\n",
      "Curtose: -1.49\n",
      "Skew: -0.14\n"
     ]
    }
   ],
   "source": [
    "estat_desc(df['Balance'])"
   ]
  },
  {
   "cell_type": "code",
   "execution_count": 33,
   "id": "bb02dc6d",
   "metadata": {
    "hidden": true
   },
   "outputs": [
    {
     "data": {
      "text/plain": [
       "<AxesSubplot:xlabel='Balance', ylabel='Count'>"
      ]
     },
     "execution_count": 33,
     "metadata": {},
     "output_type": "execute_result"
    },
    {
     "data": {
      "image/png": "[encoded data removed]",
      "text/plain": [
       "<Figure size 432x288 with 1 Axes>"
      ]
     },
     "metadata": {
      "needs_background": "light"
     },
     "output_type": "display_data"
    }
   ],
   "source": [
    "sns.histplot(df['Balance'])"
   ]
  },
  {
   "cell_type": "code",
   "execution_count": 34,
   "id": "bb169d85",
   "metadata": {
    "hidden": true
   },
   "outputs": [
    {
     "data": {
      "text/plain": [
       "0.00         0.3617\n",
       "130170.82    0.0002\n",
       "105473.74    0.0002\n",
       "85304.27     0.0001\n",
       "159397.75    0.0001\n",
       "Name: Balance, dtype: float64"
      ]
     },
     "execution_count": 34,
     "metadata": {},
     "output_type": "execute_result"
    }
   ],
   "source": [
    "df['Balance'].value_counts(normalize=True).head(5)"
   ]
  },
  {
   "cell_type": "markdown",
   "id": "98bd53d6",
   "metadata": {
    "hidden": true
   },
   "source": [
    "36% das contas bancárias estão zeradas"
   ]
  },
  {
   "cell_type": "code",
   "execution_count": 35,
   "id": "2c00dab7",
   "metadata": {
    "hidden": true
   },
   "outputs": [
    {
     "name": "stdout",
     "output_type": "stream",
     "text": [
      "Com um pvalor: 0.0, a Series NÃO tem distribuição normal.\n"
     ]
    }
   ],
   "source": [
    "teste_shapiro(df['Balance'])"
   ]
  },
  {
   "cell_type": "code",
   "execution_count": 36,
   "id": "eb733764",
   "metadata": {
    "hidden": true
   },
   "outputs": [
    {
     "name": "stdout",
     "output_type": "stream",
     "text": [
      "O limite inferior é: -191466.36000000002\n",
      "O limite superior é: 319110.60000000003\n",
      "Há 0 outliers\n"
     ]
    }
   ],
   "source": [
    "indices = busca_outliers(df, 'Balance')"
   ]
  },
  {
   "cell_type": "markdown",
   "id": "b1747cf0",
   "metadata": {
    "heading_collapsed": true,
    "hidden": true
   },
   "source": [
    "###### Correlação com a target"
   ]
  },
  {
   "cell_type": "code",
   "execution_count": 37,
   "id": "2f2f4393",
   "metadata": {
    "hidden": true
   },
   "outputs": [
    {
     "data": {
      "text/plain": [
       "<AxesSubplot:xlabel='Balance', ylabel='Density'>"
      ]
     },
     "execution_count": 37,
     "metadata": {},
     "output_type": "execute_result"
    },
    {
     "data": {
      "image/png": "[encoded data removed]",
      "text/plain": [
       "<Figure size 432x288 with 2 Axes>"
      ]
     },
     "metadata": {
      "needs_background": "light"
     },
     "output_type": "display_data"
    }
   ],
   "source": [
    "plt.subplot(2, 1, 1)\n",
    "sns.histplot(df.loc[df['Exited']==0, 'Balance'], color='b', alpha=0.5)\n",
    "sns.histplot(df.loc[df['Exited']==1, 'Balance'], color='r', alpha=0.5)\n",
    "plt.subplot(2, 1, 2)\n",
    "sns.kdeplot(df.loc[df['Exited']==0, 'Balance'], color='b', alpha=0.5, shade=True)\n",
    "sns.kdeplot(df.loc[df['Exited']==1, 'Balance'], color='r', alpha=0.5, shade=True)"
   ]
  },
  {
   "cell_type": "markdown",
   "id": "291f1377",
   "metadata": {
    "hidden": true
   },
   "source": [
    "Aparentemente os clientes que têm algum dinheiro na sua conta bancária tem uma probabilidade relativamente maior de churn"
   ]
  },
  {
   "cell_type": "code",
   "execution_count": 38,
   "id": "6bf9efc6",
   "metadata": {
    "hidden": true
   },
   "outputs": [
    {
     "name": "stdout",
     "output_type": "stream",
     "text": [
      "Média de Balance entre clientes em NÃO churn 72745.3\n",
      "Média de Balance entre clientes em churn 91108.54\n"
     ]
    }
   ],
   "source": [
    "print(f'Média de Balance entre clientes em NÃO churn {round(df.loc[df[\"Exited\"]==0, \"Balance\"].mean(), 2)}')\n",
    "print(f'Média de Balance entre clientes em churn {round(df.loc[df[\"Exited\"]==1, \"Balance\"].mean(), 2)}')"
   ]
  },
  {
   "cell_type": "markdown",
   "id": "8d625e14",
   "metadata": {
    "heading_collapsed": true,
    "hidden": true
   },
   "source": [
    "#### Geography"
   ]
  },
  {
   "cell_type": "markdown",
   "id": "d3ff62b6",
   "metadata": {
    "heading_collapsed": true,
    "hidden": true
   },
   "source": [
    "###### Principais Insights:\n",
    "1. Mais de 50% dos clientes está na França\n",
    "2. Clientes da Germany têm maior probabilidade de Churn\n",
    "3. Correlações muito fracas"
   ]
  },
  {
   "cell_type": "markdown",
   "id": "71382587",
   "metadata": {
    "heading_collapsed": true,
    "hidden": true
   },
   "source": [
    "###### General Analysis"
   ]
  },
  {
   "cell_type": "code",
   "execution_count": 39,
   "id": "a2d6f459",
   "metadata": {
    "hidden": true,
    "scrolled": true
   },
   "outputs": [
    {
     "data": {
      "text/plain": [
       "Balance               0.069408\n",
       "Exited                0.035943\n",
       "Log_Age               0.024125\n",
       "Age                   0.022812\n",
       "CreditScore           0.007888\n",
       "IsActiveMember        0.006724\n",
       "CustomerId            0.006516\n",
       "Gender_enc            0.004719\n",
       "NumOfProducts         0.003972\n",
       "Tenure                0.003739\n",
       "EstimatedSalary      -0.001369\n",
       "Tenure_Exited_Mean   -0.002868\n",
       "HasCrCard            -0.008523\n",
       "RowNumber            -0.010358\n",
       "Name: Geography_enc, dtype: float64"
      ]
     },
     "execution_count": 39,
     "metadata": {},
     "output_type": "execute_result"
    }
   ],
   "source": [
    "df.corr()['Geography_enc'].sort_values(ascending=False)[1:]"
   ]
  },
  {
   "cell_type": "markdown",
   "id": "ea41492d",
   "metadata": {
    "hidden": true
   },
   "source": [
    "Correlações muito fracas"
   ]
  },
  {
   "cell_type": "code",
   "execution_count": 40,
   "id": "c35352e2",
   "metadata": {
    "hidden": true
   },
   "outputs": [
    {
     "data": {
      "text/plain": [
       "<AxesSubplot:xlabel='Geography_enc', ylabel='count'>"
      ]
     },
     "execution_count": 40,
     "metadata": {},
     "output_type": "execute_result"
    },
    {
     "data": {
      "image/png": "[encoded data removed]",
      "text/plain": [
       "<Figure size 432x288 with 1 Axes>"
      ]
     },
     "metadata": {
      "needs_background": "light"
     },
     "output_type": "display_data"
    }
   ],
   "source": [
    "sns.countplot(x='Geography_enc', data=df)"
   ]
  },
  {
   "cell_type": "markdown",
   "id": "bdc1efeb",
   "metadata": {
    "heading_collapsed": true,
    "hidden": true
   },
   "source": [
    "###### Correlação com a target"
   ]
  },
  {
   "cell_type": "code",
   "execution_count": 41,
   "id": "1a8c2845",
   "metadata": {
    "hidden": true
   },
   "outputs": [
    {
     "data": {
      "text/plain": [
       "<seaborn.axisgrid.FacetGrid at 0x1cdc44ef100>"
      ]
     },
     "execution_count": 41,
     "metadata": {},
     "output_type": "execute_result"
    },
    {
     "data": {
      "image/png": "[encoded data removed]",
      "text/plain": [
       "<Figure size 360x360 with 1 Axes>"
      ]
     },
     "metadata": {
      "needs_background": "light"
     },
     "output_type": "display_data"
    }
   ],
   "source": [
    "sns.catplot(x='Geography', y='Exited', data=df, kind='bar')"
   ]
  },
  {
   "cell_type": "markdown",
   "id": "20159ecc",
   "metadata": {
    "hidden": true
   },
   "source": [
    "Clientes da Germany têm maior probabilidade de Churn"
   ]
  },
  {
   "cell_type": "markdown",
   "id": "27a8d967",
   "metadata": {
    "heading_collapsed": true,
    "hidden": true
   },
   "source": [
    "#### CreditScore"
   ]
  },
  {
   "cell_type": "markdown",
   "id": "e1ed235a",
   "metadata": {
    "heading_collapsed": true,
    "hidden": true
   },
   "source": [
    "###### Principais Insights:\n",
    "1. Não tem distribuição normal\n",
    "2. Não há faixas de CreditScore mais suscetíveis ao churn\n",
    "3. Correlações muito fracas"
   ]
  },
  {
   "cell_type": "markdown",
   "id": "c98c0cf1",
   "metadata": {
    "heading_collapsed": true,
    "hidden": true
   },
   "source": [
    "###### General Analysis"
   ]
  },
  {
   "cell_type": "code",
   "execution_count": 42,
   "id": "a123faff",
   "metadata": {
    "hidden": true
   },
   "outputs": [
    {
     "data": {
      "text/plain": [
       "IsActiveMember        0.025651\n",
       "NumOfProducts         0.012238\n",
       "Geography_enc         0.007888\n",
       "Balance               0.006268\n",
       "RowNumber             0.005840\n",
       "CustomerId            0.005308\n",
       "Tenure_Exited_Mean    0.004229\n",
       "Tenure                0.000842\n",
       "EstimatedSalary      -0.001384\n",
       "Gender_enc           -0.002857\n",
       "Age                  -0.003965\n",
       "HasCrCard            -0.005458\n",
       "Log_Age              -0.006507\n",
       "Exited               -0.027094\n",
       "Name: CreditScore, dtype: float64"
      ]
     },
     "execution_count": 42,
     "metadata": {},
     "output_type": "execute_result"
    }
   ],
   "source": [
    "df.corr()['CreditScore'].sort_values(ascending=False)[1:]"
   ]
  },
  {
   "cell_type": "markdown",
   "id": "60ef4235",
   "metadata": {
    "hidden": true
   },
   "source": [
    "Correlações muito fracas"
   ]
  },
  {
   "cell_type": "code",
   "execution_count": 43,
   "id": "74e0cd51",
   "metadata": {
    "hidden": true
   },
   "outputs": [
    {
     "data": {
      "text/plain": [
       "<AxesSubplot:xlabel='CreditScore', ylabel='Count'>"
      ]
     },
     "execution_count": 43,
     "metadata": {},
     "output_type": "execute_result"
    },
    {
     "data": {
      "image/png": "[encoded data removed]",
      "text/plain": [
       "<Figure size 432x288 with 1 Axes>"
      ]
     },
     "metadata": {
      "needs_background": "light"
     },
     "output_type": "display_data"
    }
   ],
   "source": [
    "sns.histplot(df['CreditScore'])"
   ]
  },
  {
   "cell_type": "markdown",
   "id": "b2c3a1bf",
   "metadata": {
    "hidden": true
   },
   "source": [
    "Há um teto máximo de score"
   ]
  },
  {
   "cell_type": "code",
   "execution_count": 44,
   "id": "db3b941e",
   "metadata": {
    "hidden": true
   },
   "outputs": [
    {
     "name": "stdout",
     "output_type": "stream",
     "text": [
      "Média: 650.53\n",
      "Mínimo: 350\n",
      "Máximo: 850\n",
      "Range: 500\n",
      "Desvio Padrão: 96.65\n",
      "Curtose: -0.43\n",
      "Skew: -0.07\n"
     ]
    }
   ],
   "source": [
    "estat_desc(df['CreditScore'])"
   ]
  },
  {
   "cell_type": "code",
   "execution_count": 45,
   "id": "6357708f",
   "metadata": {
    "hidden": true
   },
   "outputs": [
    {
     "name": "stdout",
     "output_type": "stream",
     "text": [
      "O limite inferior é: 383.0\n",
      "O limite superior é: 919.0\n",
      "Há 15 outliers\n"
     ]
    }
   ],
   "source": [
    "indices = busca_outliers(df, 'CreditScore')"
   ]
  },
  {
   "cell_type": "markdown",
   "id": "fff3c294",
   "metadata": {
    "hidden": true
   },
   "source": [
    "Outliers somente no início da distribuição"
   ]
  },
  {
   "cell_type": "code",
   "execution_count": 46,
   "id": "1550dc85",
   "metadata": {
    "hidden": true
   },
   "outputs": [
    {
     "name": "stdout",
     "output_type": "stream",
     "text": [
      "Com um pvalor: 3.435251893059779e-14, a Series NÃO tem distribuição normal.\n"
     ]
    }
   ],
   "source": [
    "teste_shapiro(df['CreditScore'])"
   ]
  },
  {
   "cell_type": "markdown",
   "id": "1825a9f9",
   "metadata": {
    "heading_collapsed": true,
    "hidden": true
   },
   "source": [
    "###### Correlação com a target"
   ]
  },
  {
   "cell_type": "code",
   "execution_count": 47,
   "id": "033d3d78",
   "metadata": {
    "hidden": true
   },
   "outputs": [
    {
     "data": {
      "image/png": "[encoded data removed]",
      "text/plain": [
       "<Figure size 432x288 with 2 Axes>"
      ]
     },
     "metadata": {
      "needs_background": "light"
     },
     "output_type": "display_data"
    }
   ],
   "source": [
    "plt.subplot(2, 1, 1)\n",
    "g = sns.histplot(df.loc[df['Exited']==0, 'CreditScore'], alpha=0.5, color='b')\n",
    "g = sns.histplot(df.loc[df['Exited']==1, 'CreditScore'], alpha=0.5, color='r')\n",
    "plt.subplot(2, 1, 2)\n",
    "g = sns.kdeplot(df.loc[df['Exited']==0, 'CreditScore'], alpha=0.5, color='b', shade=True)\n",
    "g = sns.kdeplot(df.loc[df['Exited']==1, 'CreditScore'], alpha=0.5, color='r', shade=True)"
   ]
  },
  {
   "cell_type": "markdown",
   "id": "2b85f29b",
   "metadata": {
    "hidden": true
   },
   "source": [
    "Não há faixas de CreditScore mais suscetíveis ao churn"
   ]
  },
  {
   "cell_type": "markdown",
   "id": "58170ae0",
   "metadata": {
    "heading_collapsed": true,
    "hidden": true
   },
   "source": [
    "#### Tenure"
   ]
  },
  {
   "cell_type": "markdown",
   "id": "f1246e70",
   "metadata": {
    "heading_collapsed": true,
    "hidden": true
   },
   "source": [
    "###### Principais Insights:\n",
    "1. Aparentemente não ajuda a modelar o fenômeno\n",
    "2. Correlações muito fracas\n",
    "3. Apesar das médias de churn por categoria serem relativamente diferentes, os desvios padrões colocam todas as categorias em um mesmo patamar"
   ]
  },
  {
   "cell_type": "markdown",
   "id": "f9d49c94",
   "metadata": {
    "heading_collapsed": true,
    "hidden": true
   },
   "source": [
    "###### General Analysis"
   ]
  },
  {
   "cell_type": "code",
   "execution_count": 48,
   "id": "33c67d44",
   "metadata": {
    "hidden": true
   },
   "outputs": [
    {
     "data": {
      "text/plain": [
       "HasCrCard             0.022583\n",
       "Gender_enc            0.014733\n",
       "NumOfProducts         0.013444\n",
       "EstimatedSalary       0.007784\n",
       "Geography_enc         0.003739\n",
       "CreditScore           0.000842\n",
       "RowNumber            -0.006495\n",
       "Age                  -0.009997\n",
       "Log_Age              -0.011199\n",
       "Balance              -0.012254\n",
       "Exited               -0.014001\n",
       "CustomerId           -0.014883\n",
       "IsActiveMember       -0.028362\n",
       "Tenure_Exited_Mean   -0.375521\n",
       "Name: Tenure, dtype: float64"
      ]
     },
     "execution_count": 48,
     "metadata": {},
     "output_type": "execute_result"
    }
   ],
   "source": [
    "df.corr()['Tenure'].sort_values(ascending=False)[1:]"
   ]
  },
  {
   "cell_type": "markdown",
   "id": "de992915",
   "metadata": {
    "hidden": true
   },
   "source": [
    "Correlações muito fracas"
   ]
  },
  {
   "cell_type": "code",
   "execution_count": 49,
   "id": "4ae264c9",
   "metadata": {
    "hidden": true
   },
   "outputs": [
    {
     "data": {
      "text/plain": [
       "10"
      ]
     },
     "execution_count": 49,
     "metadata": {},
     "output_type": "execute_result"
    }
   ],
   "source": [
    "df['Tenure'].max()"
   ]
  },
  {
   "cell_type": "code",
   "execution_count": 50,
   "id": "f458ef3a",
   "metadata": {
    "hidden": true
   },
   "outputs": [
    {
     "data": {
      "text/plain": [
       "<AxesSubplot:xlabel='Tenure', ylabel='count'>"
      ]
     },
     "execution_count": 50,
     "metadata": {},
     "output_type": "execute_result"
    },
    {
     "data": {
      "image/png": "[encoded data removed]",
      "text/plain": [
       "<Figure size 432x288 with 1 Axes>"
      ]
     },
     "metadata": {
      "needs_background": "light"
     },
     "output_type": "display_data"
    }
   ],
   "source": [
    "sns.countplot(x='Tenure', data=df)"
   ]
  },
  {
   "cell_type": "code",
   "execution_count": 51,
   "id": "904ec6f5",
   "metadata": {
    "hidden": true
   },
   "outputs": [
    {
     "data": {
      "text/plain": [
       "2     0.1048\n",
       "1     0.1035\n",
       "7     0.1028\n",
       "8     0.1025\n",
       "5     0.1012\n",
       "3     0.1009\n",
       "4     0.0989\n",
       "9     0.0984\n",
       "6     0.0967\n",
       "10    0.0490\n",
       "0     0.0413\n",
       "Name: Tenure, dtype: float64"
      ]
     },
     "execution_count": 51,
     "metadata": {},
     "output_type": "execute_result"
    }
   ],
   "source": [
    "df['Tenure'].value_counts(normalize=True)"
   ]
  },
  {
   "cell_type": "markdown",
   "id": "30d34d6e",
   "metadata": {
    "heading_collapsed": true,
    "hidden": true
   },
   "source": [
    "###### Correlação com a target"
   ]
  },
  {
   "cell_type": "code",
   "execution_count": 52,
   "id": "a4604d30",
   "metadata": {
    "hidden": true
   },
   "outputs": [
    {
     "data": {
      "text/plain": [
       "<seaborn.axisgrid.FacetGrid at 0x1cdc4775250>"
      ]
     },
     "execution_count": 52,
     "metadata": {},
     "output_type": "execute_result"
    },
    {
     "data": {
      "image/png": "[encoded data removed]",
      "text/plain": [
       "<Figure size 360x360 with 1 Axes>"
      ]
     },
     "metadata": {
      "needs_background": "light"
     },
     "output_type": "display_data"
    }
   ],
   "source": [
    "sns.catplot(x='Tenure', y='Exited', data=df, kind='bar')"
   ]
  },
  {
   "cell_type": "markdown",
   "id": "23ad081b",
   "metadata": {
    "hidden": true
   },
   "source": [
    "Apesar das médias serem relativamente diferentes, os desvios padrões colocam todas as categorias em um mesmo patamar"
   ]
  },
  {
   "cell_type": "markdown",
   "id": "68c87b7b",
   "metadata": {
    "heading_collapsed": true,
    "hidden": true
   },
   "source": [
    "#### NumOfProducts"
   ]
  },
  {
   "cell_type": "markdown",
   "id": "4e54eaae",
   "metadata": {
    "heading_collapsed": true,
    "hidden": true
   },
   "source": [
    "###### Principais Insights:\n",
    "1. Clientes com 3 ou 4 produtos têm maior probabilidade de churn, com 80% e 100% de churn respectivamente.\n",
    "2. Correlação fraca negativa com Balance\n",
    "3. 95% dos clientes possuem 1 ou 2 produtos"
   ]
  },
  {
   "cell_type": "markdown",
   "id": "c9753944",
   "metadata": {
    "heading_collapsed": true,
    "hidden": true
   },
   "source": [
    "###### General Analysis"
   ]
  },
  {
   "cell_type": "code",
   "execution_count": 53,
   "id": "fb96ab89",
   "metadata": {
    "hidden": true
   },
   "outputs": [
    {
     "data": {
      "text/plain": [
       "CustomerId            0.016972\n",
       "EstimatedSalary       0.014204\n",
       "Tenure                0.013444\n",
       "CreditScore           0.012238\n",
       "IsActiveMember        0.009612\n",
       "RowNumber             0.007246\n",
       "Geography_enc         0.003972\n",
       "HasCrCard             0.003183\n",
       "Gender_enc           -0.021859\n",
       "Tenure_Exited_Mean   -0.026026\n",
       "Log_Age              -0.030025\n",
       "Age                  -0.030680\n",
       "Exited               -0.047820\n",
       "Balance              -0.304180\n",
       "Name: NumOfProducts, dtype: float64"
      ]
     },
     "execution_count": 53,
     "metadata": {},
     "output_type": "execute_result"
    }
   ],
   "source": [
    "df.corr()['NumOfProducts'].sort_values(ascending=False)[1:]"
   ]
  },
  {
   "cell_type": "markdown",
   "id": "b132987e",
   "metadata": {
    "hidden": true
   },
   "source": [
    "Correlação fraca negativa com Balance"
   ]
  },
  {
   "cell_type": "code",
   "execution_count": 54,
   "id": "89b95782",
   "metadata": {
    "hidden": true
   },
   "outputs": [
    {
     "data": {
      "text/plain": [
       "<AxesSubplot:xlabel='NumOfProducts', ylabel='count'>"
      ]
     },
     "execution_count": 54,
     "metadata": {},
     "output_type": "execute_result"
    },
    {
     "data": {
      "image/png": "[encoded data removed]",
      "text/plain": [
       "<Figure size 432x288 with 1 Axes>"
      ]
     },
     "metadata": {
      "needs_background": "light"
     },
     "output_type": "display_data"
    }
   ],
   "source": [
    "sns.countplot(x='NumOfProducts', data=df)"
   ]
  },
  {
   "cell_type": "code",
   "execution_count": 55,
   "id": "af159830",
   "metadata": {
    "hidden": true
   },
   "outputs": [
    {
     "data": {
      "text/plain": [
       "1    0.5084\n",
       "2    0.4590\n",
       "3    0.0266\n",
       "4    0.0060\n",
       "Name: NumOfProducts, dtype: float64"
      ]
     },
     "execution_count": 55,
     "metadata": {},
     "output_type": "execute_result"
    }
   ],
   "source": [
    "df['NumOfProducts'].value_counts(normalize=True)"
   ]
  },
  {
   "cell_type": "markdown",
   "id": "696e22aa",
   "metadata": {
    "hidden": true
   },
   "source": [
    "95% dos clientes possuem 1 ou 2 produtos"
   ]
  },
  {
   "cell_type": "markdown",
   "id": "c31a1ad6",
   "metadata": {
    "heading_collapsed": true,
    "hidden": true
   },
   "source": [
    "###### Correlação com a target"
   ]
  },
  {
   "cell_type": "code",
   "execution_count": 56,
   "id": "9b91779f",
   "metadata": {
    "hidden": true,
    "scrolled": false
   },
   "outputs": [
    {
     "data": {
      "text/plain": [
       "<seaborn.axisgrid.FacetGrid at 0x1cdc23376d0>"
      ]
     },
     "execution_count": 56,
     "metadata": {},
     "output_type": "execute_result"
    },
    {
     "data": {
      "image/png": "[encoded data removed]",
      "text/plain": [
       "<Figure size 360x360 with 1 Axes>"
      ]
     },
     "metadata": {
      "needs_background": "light"
     },
     "output_type": "display_data"
    }
   ],
   "source": [
    "sns.catplot(x='NumOfProducts', y='Exited', data=df, kind='bar')"
   ]
  },
  {
   "cell_type": "code",
   "execution_count": 57,
   "id": "953d29ea",
   "metadata": {
    "hidden": true
   },
   "outputs": [
    {
     "data": {
      "text/plain": [
       "60"
      ]
     },
     "execution_count": 57,
     "metadata": {},
     "output_type": "execute_result"
    }
   ],
   "source": [
    "df.loc[df['NumOfProducts']==4, 'Exited'].sum()"
   ]
  },
  {
   "cell_type": "code",
   "execution_count": 58,
   "id": "855fa550",
   "metadata": {
    "hidden": true,
    "scrolled": true
   },
   "outputs": [
    {
     "data": {
      "text/plain": [
       "220"
      ]
     },
     "execution_count": 58,
     "metadata": {},
     "output_type": "execute_result"
    }
   ],
   "source": [
    "df.loc[df['NumOfProducts']==3, 'Exited'].sum()"
   ]
  },
  {
   "cell_type": "markdown",
   "id": "64b1102a",
   "metadata": {
    "hidden": true
   },
   "source": [
    "Clientes com 3 ou 4 produtos tem maior probabilidade de churn. O churn para clientes com 4 produtos é de 100%, com um total de 60 clientes, e com 3 produtos de 80% com um total de 220 clientes."
   ]
  },
  {
   "cell_type": "markdown",
   "id": "a008f0f5",
   "metadata": {
    "heading_collapsed": true,
    "hidden": true
   },
   "source": [
    "#### HasCrCard"
   ]
  },
  {
   "cell_type": "markdown",
   "id": "d1a4283c",
   "metadata": {
    "heading_collapsed": true,
    "hidden": true
   },
   "source": [
    "###### Principais Insights:\n",
    "1. 70% dos clientes possui cartão de crédito\n",
    "2. Aparentemente não ajuda a modelar o fenômeno\n",
    "3. Correlações muito fracas"
   ]
  },
  {
   "cell_type": "markdown",
   "id": "e1f5bbcd",
   "metadata": {
    "heading_collapsed": true,
    "hidden": true
   },
   "source": [
    "###### General Analysis"
   ]
  },
  {
   "cell_type": "code",
   "execution_count": 59,
   "id": "85867eef",
   "metadata": {
    "hidden": true
   },
   "outputs": [
    {
     "data": {
      "text/plain": [
       "Tenure                0.022583\n",
       "Gender_enc            0.005766\n",
       "NumOfProducts         0.003183\n",
       "RowNumber             0.000599\n",
       "CreditScore          -0.005458\n",
       "Exited               -0.007138\n",
       "Geography_enc        -0.008523\n",
       "EstimatedSalary      -0.009933\n",
       "Log_Age              -0.011659\n",
       "Age                  -0.011721\n",
       "IsActiveMember       -0.011866\n",
       "CustomerId           -0.014025\n",
       "Balance              -0.014858\n",
       "Tenure_Exited_Mean   -0.019604\n",
       "Name: HasCrCard, dtype: float64"
      ]
     },
     "execution_count": 59,
     "metadata": {},
     "output_type": "execute_result"
    }
   ],
   "source": [
    "df.corr()['HasCrCard'].sort_values(ascending=False)[1:]"
   ]
  },
  {
   "cell_type": "markdown",
   "id": "79258671",
   "metadata": {
    "hidden": true
   },
   "source": [
    "Correlações muito fracas"
   ]
  },
  {
   "cell_type": "code",
   "execution_count": 60,
   "id": "2dd2b6ff",
   "metadata": {
    "hidden": true
   },
   "outputs": [
    {
     "data": {
      "text/plain": [
       "<AxesSubplot:xlabel='HasCrCard', ylabel='count'>"
      ]
     },
     "execution_count": 60,
     "metadata": {},
     "output_type": "execute_result"
    },
    {
     "data": {
      "image/png": "[encoded data removed]",
      "text/plain": [
       "<Figure size 432x288 with 1 Axes>"
      ]
     },
     "metadata": {
      "needs_background": "light"
     },
     "output_type": "display_data"
    }
   ],
   "source": [
    "sns.countplot(x='HasCrCard', data=df)"
   ]
  },
  {
   "cell_type": "code",
   "execution_count": 61,
   "id": "8ac0084e",
   "metadata": {
    "hidden": true
   },
   "outputs": [
    {
     "data": {
      "text/plain": [
       "1    0.7055\n",
       "0    0.2945\n",
       "Name: HasCrCard, dtype: float64"
      ]
     },
     "execution_count": 61,
     "metadata": {},
     "output_type": "execute_result"
    }
   ],
   "source": [
    "df['HasCrCard'].value_counts(normalize=True)"
   ]
  },
  {
   "cell_type": "markdown",
   "id": "00421505",
   "metadata": {
    "heading_collapsed": true,
    "hidden": true
   },
   "source": [
    "###### Correlação com a target"
   ]
  },
  {
   "cell_type": "code",
   "execution_count": 62,
   "id": "0b976c4a",
   "metadata": {
    "hidden": true
   },
   "outputs": [
    {
     "data": {
      "text/plain": [
       "<seaborn.axisgrid.FacetGrid at 0x1cdc23bfcd0>"
      ]
     },
     "execution_count": 62,
     "metadata": {},
     "output_type": "execute_result"
    },
    {
     "data": {
      "image/png": "[encoded data removed]",
      "text/plain": [
       "<Figure size 360x360 with 1 Axes>"
      ]
     },
     "metadata": {
      "needs_background": "light"
     },
     "output_type": "display_data"
    }
   ],
   "source": [
    "sns.catplot(x='HasCrCard', y='Exited', data=df, kind='bar')"
   ]
  },
  {
   "cell_type": "markdown",
   "id": "6112e6d0",
   "metadata": {
    "hidden": true
   },
   "source": [
    "Iguais"
   ]
  },
  {
   "cell_type": "markdown",
   "id": "d7a34e58",
   "metadata": {
    "heading_collapsed": true,
    "hidden": true
   },
   "source": [
    "#### IsActiveMember"
   ]
  },
  {
   "cell_type": "markdown",
   "id": "9d0b72f5",
   "metadata": {
    "heading_collapsed": true,
    "hidden": true
   },
   "source": [
    "###### Principais Insights:\n",
    "1. A quantidade de clientes ativos e inativos está equilibrada\n",
    "2. Membros ativos são 47% menos propensos ao churn\n",
    "3. Correlações muito fracas"
   ]
  },
  {
   "cell_type": "markdown",
   "id": "3f461275",
   "metadata": {
    "heading_collapsed": true,
    "hidden": true
   },
   "source": [
    "###### General Analysis"
   ]
  },
  {
   "cell_type": "code",
   "execution_count": 63,
   "id": "f38e41a2",
   "metadata": {
    "hidden": true
   },
   "outputs": [
    {
     "data": {
      "text/plain": [
       "Age                   0.085472\n",
       "Log_Age               0.064891\n",
       "CreditScore           0.025651\n",
       "Gender_enc            0.022544\n",
       "RowNumber             0.012044\n",
       "NumOfProducts         0.009612\n",
       "Geography_enc         0.006724\n",
       "CustomerId            0.001665\n",
       "Tenure_Exited_Mean    0.001279\n",
       "Balance              -0.010084\n",
       "EstimatedSalary      -0.011421\n",
       "HasCrCard            -0.011866\n",
       "Tenure               -0.028362\n",
       "Exited               -0.156128\n",
       "Name: IsActiveMember, dtype: float64"
      ]
     },
     "execution_count": 63,
     "metadata": {},
     "output_type": "execute_result"
    }
   ],
   "source": [
    "df.corr()['IsActiveMember'].sort_values(ascending=False)[1:]"
   ]
  },
  {
   "cell_type": "markdown",
   "id": "3cb99bc1",
   "metadata": {
    "hidden": true
   },
   "source": [
    "Correlações muito fracas"
   ]
  },
  {
   "cell_type": "markdown",
   "id": "af276ee4",
   "metadata": {
    "heading_collapsed": true,
    "hidden": true
   },
   "source": [
    "###### Correlação com a target"
   ]
  },
  {
   "cell_type": "code",
   "execution_count": 64,
   "id": "73db2bc0",
   "metadata": {
    "hidden": true,
    "scrolled": false
   },
   "outputs": [
    {
     "data": {
      "text/plain": [
       "<seaborn.axisgrid.FacetGrid at 0x1cdc23cb1c0>"
      ]
     },
     "execution_count": 64,
     "metadata": {},
     "output_type": "execute_result"
    },
    {
     "data": {
      "image/png": "[encoded data removed]",
      "text/plain": [
       "<Figure size 360x360 with 1 Axes>"
      ]
     },
     "metadata": {
      "needs_background": "light"
     },
     "output_type": "display_data"
    }
   ],
   "source": [
    "sns.catplot(x='IsActiveMember', y='Exited', data=df, kind='bar')"
   ]
  },
  {
   "cell_type": "code",
   "execution_count": 65,
   "id": "c625ef53",
   "metadata": {
    "hidden": true
   },
   "outputs": [
    {
     "name": "stdout",
     "output_type": "stream",
     "text": [
      "Os membros NÃO ativos taxa: 26.85% de churn\n",
      "Os membros ativos taxa: 14.27% de churn\n"
     ]
    }
   ],
   "source": [
    "print(f'Os membros NÃO ativos taxa: {round(df.loc[df[\"IsActiveMember\"]==0, \"Exited\"].mean()*100, 2)}% de churn')\n",
    "print(f'Os membros ativos taxa: {round(df.loc[df[\"IsActiveMember\"]==1, \"Exited\"].mean()*100, 2)}% de churn')"
   ]
  },
  {
   "cell_type": "code",
   "execution_count": 66,
   "id": "cda20fb9",
   "metadata": {
    "hidden": true
   },
   "outputs": [
    {
     "data": {
      "text/plain": [
       "0.4685288640595904"
      ]
     },
     "execution_count": 66,
     "metadata": {},
     "output_type": "execute_result"
    }
   ],
   "source": [
    "(26.85-14.27)/26.85"
   ]
  },
  {
   "cell_type": "markdown",
   "id": "719e257c",
   "metadata": {
    "hidden": true
   },
   "source": [
    "Diferença significativa"
   ]
  },
  {
   "cell_type": "markdown",
   "id": "f7c01c46",
   "metadata": {
    "heading_collapsed": true,
    "hidden": true
   },
   "source": [
    "#### EstimatedSalary"
   ]
  },
  {
   "cell_type": "markdown",
   "id": "c0c03cdd",
   "metadata": {
    "heading_collapsed": true,
    "hidden": true
   },
   "source": [
    "###### Principais Insights:\n",
    "1. Aparentemente não ajuda a modelar o fenômeno\n",
    "2. Correlações muito fracas\n",
    "3. Apresenta uma frequência bastante contínua em todo o range da variância da feature, semelhante a features categóricas\n",
    "4. Não parece ajudar a modelar o fenômeno"
   ]
  },
  {
   "cell_type": "markdown",
   "id": "d386fb50",
   "metadata": {
    "heading_collapsed": true,
    "hidden": true
   },
   "source": [
    "###### General Analysis"
   ]
  },
  {
   "cell_type": "code",
   "execution_count": 67,
   "id": "58155a66",
   "metadata": {
    "hidden": true
   },
   "outputs": [
    {
     "data": {
      "text/plain": [
       "CustomerId            0.015271\n",
       "NumOfProducts         0.014204\n",
       "Balance               0.012797\n",
       "Exited                0.012097\n",
       "Tenure                0.007784\n",
       "Geography_enc        -0.001369\n",
       "CreditScore          -0.001384\n",
       "Tenure_Exited_Mean   -0.001589\n",
       "RowNumber            -0.005988\n",
       "Log_Age              -0.006253\n",
       "Age                  -0.007201\n",
       "Gender_enc           -0.008112\n",
       "HasCrCard            -0.009933\n",
       "IsActiveMember       -0.011421\n",
       "Name: EstimatedSalary, dtype: float64"
      ]
     },
     "execution_count": 67,
     "metadata": {},
     "output_type": "execute_result"
    }
   ],
   "source": [
    "df.corr()['EstimatedSalary'].sort_values(ascending=False)[1:]"
   ]
  },
  {
   "cell_type": "markdown",
   "id": "954c8329",
   "metadata": {
    "hidden": true
   },
   "source": [
    "Correlações muito fracas"
   ]
  },
  {
   "cell_type": "code",
   "execution_count": 68,
   "id": "9bb48073",
   "metadata": {
    "hidden": true
   },
   "outputs": [
    {
     "data": {
      "text/plain": [
       "<AxesSubplot:xlabel='EstimatedSalary', ylabel='Count'>"
      ]
     },
     "execution_count": 68,
     "metadata": {},
     "output_type": "execute_result"
    },
    {
     "data": {
      "image/png": "[encoded data removed]",
      "text/plain": [
       "<Figure size 432x288 with 1 Axes>"
      ]
     },
     "metadata": {
      "needs_background": "light"
     },
     "output_type": "display_data"
    }
   ],
   "source": [
    "sns.histplot(df['EstimatedSalary'])"
   ]
  },
  {
   "cell_type": "markdown",
   "id": "2e020255",
   "metadata": {
    "hidden": true
   },
   "source": [
    "Inesperado, a distribuição esperada era uma Gaussiana ou algo parecido"
   ]
  },
  {
   "cell_type": "markdown",
   "id": "7fe85f7b",
   "metadata": {
    "heading_collapsed": true,
    "hidden": true
   },
   "source": [
    "###### Correlação com a target"
   ]
  },
  {
   "cell_type": "code",
   "execution_count": 69,
   "id": "1fbcb53b",
   "metadata": {
    "hidden": true
   },
   "outputs": [
    {
     "data": {
      "image/png": "[encoded data removed]",
      "text/plain": [
       "<Figure size 432x288 with 2 Axes>"
      ]
     },
     "metadata": {
      "needs_background": "light"
     },
     "output_type": "display_data"
    }
   ],
   "source": [
    "plt.subplot(2, 1, 1)\n",
    "g = sns.histplot(df.loc[df['Exited']==0, 'EstimatedSalary'], color='b', alpha=0.5)\n",
    "g = sns.histplot(df.loc[df['Exited']==1, 'EstimatedSalary'], color='r', alpha=0.5)\n",
    "plt.subplot(2, 1, 2)\n",
    "g = sns.kdeplot(df.loc[df['Exited']==0, 'EstimatedSalary'], color='b', alpha=0.5, shade=True)\n",
    "g = sns.kdeplot(df.loc[df['Exited']==1, 'EstimatedSalary'], color='r', alpha=0.5, shade=True)"
   ]
  },
  {
   "cell_type": "markdown",
   "id": "0993c2f2",
   "metadata": {
    "hidden": true
   },
   "source": [
    "Não parece ajudar a modelar o fenômeno"
   ]
  },
  {
   "cell_type": "markdown",
   "id": "121e11de",
   "metadata": {
    "heading_collapsed": true,
    "hidden": true
   },
   "source": [
    "#### Gender"
   ]
  },
  {
   "cell_type": "markdown",
   "id": "54688f74",
   "metadata": {
    "heading_collapsed": true,
    "hidden": true
   },
   "source": [
    "###### Principais Insights:\n",
    "1. 54% dos clientes são homens\n",
    "2. Mulheres têm 34% de chance maior de churn de churn\n",
    "3. Correlações muito fracas"
   ]
  },
  {
   "cell_type": "markdown",
   "id": "54a0ea5a",
   "metadata": {
    "heading_collapsed": true,
    "hidden": true
   },
   "source": [
    "###### General Analysis"
   ]
  },
  {
   "cell_type": "code",
   "execution_count": 70,
   "id": "6b385de9",
   "metadata": {
    "hidden": true
   },
   "outputs": [
    {
     "data": {
      "text/plain": [
       "IsActiveMember        0.022544\n",
       "RowNumber             0.018196\n",
       "Tenure                0.014733\n",
       "Balance               0.012087\n",
       "HasCrCard             0.005766\n",
       "Geography_enc         0.004719\n",
       "CustomerId           -0.002641\n",
       "CreditScore          -0.002857\n",
       "EstimatedSalary      -0.008112\n",
       "Tenure_Exited_Mean   -0.010232\n",
       "NumOfProducts        -0.021859\n",
       "Log_Age              -0.027395\n",
       "Age                  -0.027544\n",
       "Exited               -0.106512\n",
       "Name: Gender_enc, dtype: float64"
      ]
     },
     "execution_count": 70,
     "metadata": {},
     "output_type": "execute_result"
    }
   ],
   "source": [
    "df.corr()['Gender_enc'].sort_values(ascending=False)[1:]"
   ]
  },
  {
   "cell_type": "code",
   "execution_count": 71,
   "id": "a0229d5b",
   "metadata": {
    "hidden": true
   },
   "outputs": [
    {
     "data": {
      "text/plain": [
       "<AxesSubplot:xlabel='Gender', ylabel='count'>"
      ]
     },
     "execution_count": 71,
     "metadata": {},
     "output_type": "execute_result"
    },
    {
     "data": {
      "image/png": "[encoded data removed]",
      "text/plain": [
       "<Figure size 432x288 with 1 Axes>"
      ]
     },
     "metadata": {
      "needs_background": "light"
     },
     "output_type": "display_data"
    }
   ],
   "source": [
    "sns.countplot(x='Gender', data=df)"
   ]
  },
  {
   "cell_type": "markdown",
   "id": "e510be1b",
   "metadata": {
    "hidden": true
   },
   "source": [
    "Equilibrada"
   ]
  },
  {
   "cell_type": "markdown",
   "id": "4de9a0ad",
   "metadata": {
    "heading_collapsed": true,
    "hidden": true
   },
   "source": [
    "###### Correlação com a target"
   ]
  },
  {
   "cell_type": "code",
   "execution_count": 72,
   "id": "ca9b2be4",
   "metadata": {
    "hidden": true,
    "scrolled": false
   },
   "outputs": [
    {
     "data": {
      "text/plain": [
       "<seaborn.axisgrid.FacetGrid at 0x1cdc23bf190>"
      ]
     },
     "execution_count": 72,
     "metadata": {},
     "output_type": "execute_result"
    },
    {
     "data": {
      "image/png": "[encoded data removed]",
      "text/plain": [
       "<Figure size 360x360 with 1 Axes>"
      ]
     },
     "metadata": {
      "needs_background": "light"
     },
     "output_type": "display_data"
    }
   ],
   "source": [
    "sns.catplot(x='Gender', y='Exited', data=df, kind='bar')"
   ]
  },
  {
   "cell_type": "code",
   "execution_count": 73,
   "id": "5592b320",
   "metadata": {
    "hidden": true
   },
   "outputs": [
    {
     "name": "stdout",
     "output_type": "stream",
     "text": [
      "Mulheres apresentam: 25.07% de churn\n",
      "Homens apresentam: 16.46% de churn\n"
     ]
    }
   ],
   "source": [
    "print(f'Mulheres apresentam: {round(df.loc[df[\"Gender\"]==\"Female\", \"Exited\"].mean() * 100, 2)}% de churn')\n",
    "print(f'Homens apresentam: {round(df.loc[df[\"Gender\"]==\"Male\", \"Exited\"].mean() * 100, 2)}% de churn')"
   ]
  },
  {
   "cell_type": "code",
   "execution_count": 74,
   "id": "3fc32d75",
   "metadata": {
    "hidden": true,
    "scrolled": true
   },
   "outputs": [
    {
     "data": {
      "text/plain": [
       "0.34343837255684084"
      ]
     },
     "execution_count": 74,
     "metadata": {},
     "output_type": "execute_result"
    }
   ],
   "source": [
    "(25.07 - 16.46)/25.07"
   ]
  },
  {
   "cell_type": "markdown",
   "id": "e0669978",
   "metadata": {
    "heading_collapsed": true,
    "hidden": true
   },
   "source": [
    "### 5.2 Sample Space"
   ]
  },
  {
   "cell_type": "markdown",
   "id": "91e84250",
   "metadata": {
    "heading_collapsed": true
   },
   "source": [
    "# 6.0 Exporting Data"
   ]
  },
  {
   "cell_type": "code",
   "execution_count": 75,
   "id": "c355e67a",
   "metadata": {
    "hidden": true
   },
   "outputs": [],
   "source": [
    "pickle.dump(df, open('C://Users//Samoel//My Drive//Pessoal//Projetos//bank_churn_predict//bank_churn_predict//exportings//df_to_data_preparation.pkl', 'wb'))"
   ]
  },
  {
   "cell_type": "markdown",
   "id": "c694234c",
   "metadata": {},
   "source": [
    "# Time"
   ]
  },
  {
   "cell_type": "code",
   "execution_count": 76,
   "id": "7f87b027",
   "metadata": {},
   "outputs": [
    {
     "name": "stdout",
     "output_type": "stream",
     "text": [
      "O tempo de processamento do projeto foi de: 0 minutos\n"
     ]
    }
   ],
   "source": [
    "print(f'O tempo de processamento do projeto foi de: {int(round(time.time()-tempo_agora, 2)/60)} minutos')"
   ]
  }
 ],
 "metadata": {
  "kernelspec": {
   "display_name": "Python 3 (ipykernel)",
   "language": "python",
   "name": "python3"
  },
  "language_info": {
   "codemirror_mode": {
    "name": "ipython",
    "version": 3
   },
   "file_extension": ".py",
   "mimetype": "text/x-python",
   "name": "python",
   "nbconvert_exporter": "python",
   "pygments_lexer": "ipython3",
   "version": "3.8.8"
  }
 },
 "nbformat": 4,
 "nbformat_minor": 5
}
