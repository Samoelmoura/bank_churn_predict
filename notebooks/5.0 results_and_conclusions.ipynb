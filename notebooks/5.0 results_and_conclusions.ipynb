{
 "cells": [
  {
   "cell_type": "markdown",
   "id": "a14cc61b",
   "metadata": {
    "heading_collapsed": true
   },
   "source": [
    "# Reports\n",
    "1. Inputs: analytics, metrics and business problem\n",
    "2. Outputs: results and conclusions about business problems"
   ]
  },
  {
   "cell_type": "markdown",
   "id": "b98193ac",
   "metadata": {
    "heading_collapsed": true
   },
   "source": [
    "# 1.0 Imports"
   ]
  },
  {
   "cell_type": "markdown",
   "id": "c6b66975",
   "metadata": {
    "heading_collapsed": true,
    "hidden": true
   },
   "source": [
    "###### 1.1 Libraries"
   ]
  },
  {
   "cell_type": "code",
   "execution_count": 1,
   "id": "ae435a18",
   "metadata": {
    "hidden": true
   },
   "outputs": [],
   "source": [
    "import pandas as pd"
   ]
  },
  {
   "cell_type": "markdown",
   "id": "b72dda90",
   "metadata": {
    "heading_collapsed": true,
    "hidden": true
   },
   "source": [
    "###### 1.2 Colecting data"
   ]
  },
  {
   "cell_type": "code",
   "execution_count": 8,
   "id": "9341d1f4",
   "metadata": {
    "hidden": true
   },
   "outputs": [],
   "source": [
    "df = pd.read_csv('D:\\\\My Drive\\\\Pessoal\\\\Projetos\\\\bank_churn_predict\\\\bank_churn_predict\\\\churn.csv')"
   ]
  },
  {
   "cell_type": "markdown",
   "id": "c9b2572b",
   "metadata": {
    "heading_collapsed": true
   },
   "source": [
    "# 2.0 Baseline"
   ]
  },
  {
   "cell_type": "markdown",
   "id": "4b09ea24",
   "metadata": {
    "heading_collapsed": true,
    "hidden": true
   },
   "source": [
    "###### 2.1 Média de churn atual"
   ]
  },
  {
   "cell_type": "code",
   "execution_count": 37,
   "id": "bba7ed5e",
   "metadata": {
    "hidden": true
   },
   "outputs": [
    {
     "name": "stdout",
     "output_type": "stream",
     "text": [
      "A taxa atual de churn é igual a: 20.37%\n"
     ]
    }
   ],
   "source": [
    "print(f'A taxa atual de churn é igual a: {round(train[\"Exited\"].mean()*100,2)}%')"
   ]
  },
  {
   "cell_type": "markdown",
   "id": "bd9e4492",
   "metadata": {},
   "source": [
    "# 3.0 Métrica do Algorítmo Atual"
   ]
  },
  {
   "cell_type": "code",
   "execution_count": null,
   "id": "e8b18644",
   "metadata": {},
   "outputs": [],
   "source": []
  },
  {
   "cell_type": "markdown",
   "id": "31617e9a",
   "metadata": {
    "heading_collapsed": true
   },
   "source": [
    "# 4.0 Qual a taxa atual de Churn da Top-Bank, qual é o seu custo financeiro para a empresa por perda de faturamento?\n",
    "1. A taxa atual de churn é igual a: 20.37%\n",
    "2. O custo total para a empresa é igual a: $ 38,846,324.63"
   ]
  },
  {
   "cell_type": "markdown",
   "id": "ab97942c",
   "metadata": {
    "heading_collapsed": true,
    "hidden": true
   },
   "source": [
    "### 4.1 Premissas:"
   ]
  },
  {
   "cell_type": "markdown",
   "id": "ad31c6d1",
   "metadata": {
    "hidden": true
   },
   "source": [
    "1. \"Segundo o time de Analytics da TopBank, cada cliente que possui essa conta bancária retorna um valor monetário de 15% do valor do seu salário estimado, se esse for menor que a média e 20% se esse salário for maior que a média, durante o período vigente de sua conta. Esse valor é calculado anualmente.\""
   ]
  },
  {
   "cell_type": "markdown",
   "id": "ef9c77cf",
   "metadata": {
    "heading_collapsed": true,
    "hidden": true
   },
   "source": [
    "### 4.2 Calculos:"
   ]
  },
  {
   "cell_type": "markdown",
   "id": "c2af8e30",
   "metadata": {
    "heading_collapsed": true,
    "hidden": true
   },
   "source": [
    "###### 4.2.1 Média salarial"
   ]
  },
  {
   "cell_type": "code",
   "execution_count": 13,
   "id": "dcc4950e",
   "metadata": {
    "hidden": true
   },
   "outputs": [
    {
     "name": "stdout",
     "output_type": "stream",
     "text": [
      "Média salarial igual a: $100090.24\n"
     ]
    }
   ],
   "source": [
    "print(f'Média salarial igual a: ${round(df[\"EstimatedSalary\"].mean(), 2)}')"
   ]
  },
  {
   "cell_type": "markdown",
   "id": "84b802b5",
   "metadata": {
    "heading_collapsed": true,
    "hidden": true
   },
   "source": [
    "###### 4.2.1 15% da somatória dos salários estimados dentre os clientes em churn com salário estimado ABAIXO da média"
   ]
  },
  {
   "cell_type": "code",
   "execution_count": 27,
   "id": "51fedbb2",
   "metadata": {
    "hidden": true
   },
   "outputs": [
    {
     "name": "stdout",
     "output_type": "stream",
     "text": [
      "Soma total igual a: $7472377.18\n"
     ]
    }
   ],
   "source": [
    "clientes_abaixo_da_media = df.loc[(df[\"Exited\"]==1)&(df[\"EstimatedSalary\"]<100090.24), \"EstimatedSalary\"].sum()*.15\n",
    "print(f'Soma total igual a: ${round(clientes_abaixo_da_media, 2)}')"
   ]
  },
  {
   "cell_type": "markdown",
   "id": "3d308916",
   "metadata": {
    "heading_collapsed": true,
    "hidden": true
   },
   "source": [
    "###### 4.2.2 20% da somatória dos salários estimados dentre os clientes em churn com salário estimado ACIMA da média"
   ]
  },
  {
   "cell_type": "code",
   "execution_count": 30,
   "id": "bba0eef8",
   "metadata": {
    "hidden": true
   },
   "outputs": [
    {
     "name": "stdout",
     "output_type": "stream",
     "text": [
      "Soma total igual a: $31373947.46\n"
     ]
    }
   ],
   "source": [
    "clientes_acima_da_media = df.loc[(df[\"Exited\"]==1)&(df[\"EstimatedSalary\"]>=100090.24), \"EstimatedSalary\"].sum()*.20\n",
    "print(f'Soma total igual a: ${round(clientes_acima_da_media, 2)}')"
   ]
  },
  {
   "cell_type": "markdown",
   "id": "0a620950",
   "metadata": {
    "hidden": true
   },
   "source": [
    "###### 4.2.3 Total"
   ]
  },
  {
   "cell_type": "code",
   "execution_count": 32,
   "id": "ebbf1ae3",
   "metadata": {
    "hidden": true
   },
   "outputs": [],
   "source": [
    "total = clientes_acima_da_media + clientes_abaixo_da_media"
   ]
  },
  {
   "cell_type": "code",
   "execution_count": 33,
   "id": "376de627",
   "metadata": {
    "hidden": true
   },
   "outputs": [
    {
     "name": "stdout",
     "output_type": "stream",
     "text": [
      "Soma total igual a: $38846324.63\n"
     ]
    }
   ],
   "source": [
    "print(f'Soma total igual a: ${round(total, 2)}')"
   ]
  },
  {
   "cell_type": "markdown",
   "id": "6a4f0680",
   "metadata": {},
   "source": [
    "# 5.0 Qual a performance do modelo em classificar os clientes como churn?"
   ]
  },
  {
   "cell_type": "code",
   "execution_count": null,
   "id": "8b58efe4",
   "metadata": {},
   "outputs": [],
   "source": []
  }
 ],
 "metadata": {
  "kernelspec": {
   "display_name": "Python 3 (ipykernel)",
   "language": "python",
   "name": "python3"
  },
  "language_info": {
   "codemirror_mode": {
    "name": "ipython",
    "version": 3
   },
   "file_extension": ".py",
   "mimetype": "text/x-python",
   "name": "python",
   "nbconvert_exporter": "python",
   "pygments_lexer": "ipython3",
   "version": "3.9.7"
  }
 },
 "nbformat": 4,
 "nbformat_minor": 5
}
