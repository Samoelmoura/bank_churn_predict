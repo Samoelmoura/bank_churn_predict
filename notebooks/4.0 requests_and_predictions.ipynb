{
 "cells": [
  {
   "cell_type": "markdown",
   "id": "f5f22930",
   "metadata": {
    "heading_collapsed": true
   },
   "source": [
    "# Reports\n",
    "1. Inputs: raw data from kaggle\n",
    "2. Outputs: predicts and probabilitys\n",
    "3. ..."
   ]
  },
  {
   "cell_type": "markdown",
   "id": "90e8198d",
   "metadata": {
    "heading_collapsed": true
   },
   "source": [
    "# 1.0 Imports"
   ]
  },
  {
   "cell_type": "markdown",
   "id": "00614176",
   "metadata": {
    "heading_collapsed": true,
    "hidden": true
   },
   "source": [
    "###### 1.1 Libraries"
   ]
  },
  {
   "cell_type": "code",
   "execution_count": 1,
   "id": "05b7638c",
   "metadata": {
    "hidden": true
   },
   "outputs": [],
   "source": [
    "import pandas as pd\n",
    "import numpy as np\n",
    "\n",
    "import requests\n",
    "\n",
    "import time\n",
    "import warnings\n",
    "\n",
    "# Tempo de processamento\n",
    "time_agora = time.time()"
   ]
  },
  {
   "cell_type": "markdown",
   "id": "afb6ffa0",
   "metadata": {
    "heading_collapsed": true,
    "hidden": true
   },
   "source": [
    "###### 1.2 Colecting data"
   ]
  },
  {
   "cell_type": "code",
   "execution_count": 2,
   "id": "65414448",
   "metadata": {
    "hidden": true
   },
   "outputs": [],
   "source": [
    "df_raw = pd.read_csv('D:\\\\My Drive\\\\Pessoal\\\\Projetos\\\\bank_churn_predict\\\\bank_churn_predict\\\\churn.csv')"
   ]
  },
  {
   "cell_type": "markdown",
   "id": "5c0b6ae8",
   "metadata": {
    "heading_collapsed": true
   },
   "source": [
    "# 2.0 Predictions"
   ]
  },
  {
   "cell_type": "markdown",
   "id": "40df2078",
   "metadata": {
    "heading_collapsed": true,
    "hidden": true
   },
   "source": [
    "###### 2.1 Simulating data from requests"
   ]
  },
  {
   "cell_type": "code",
   "execution_count": 3,
   "id": "cecc19f6",
   "metadata": {
    "hidden": true
   },
   "outputs": [],
   "source": [
    "request_1 = df_raw.drop('Exited', axis=1).sample(1)\n",
    "request_1_json = request_1.to_json(orient='records')\n",
    "\n",
    "request_varios = df_raw.drop('Exited', axis=1).sample(100)\n",
    "request_varios_json = request_varios.to_json(orient='records')"
   ]
  },
  {
   "cell_type": "markdown",
   "id": "57db8f1d",
   "metadata": {
    "heading_collapsed": true,
    "hidden": true
   },
   "source": [
    "###### 2.2 Request"
   ]
  },
  {
   "cell_type": "code",
   "execution_count": 4,
   "id": "f9d0d317",
   "metadata": {
    "hidden": true,
    "scrolled": true
   },
   "outputs": [
    {
     "data": {
      "text/plain": [
       "200"
      ]
     },
     "execution_count": 4,
     "metadata": {},
     "output_type": "execute_result"
    }
   ],
   "source": [
    "received = requests.post(url='http://192.168.15.26:5000/predict', \n",
    "                         data=request_varios_json, \n",
    "                         headers={'Content-type':'application/json'})\n",
    "received.status_code"
   ]
  },
  {
   "cell_type": "markdown",
   "id": "3bf6dff3",
   "metadata": {
    "heading_collapsed": true,
    "hidden": true
   },
   "source": [
    "###### 2.3 Received"
   ]
  },
  {
   "cell_type": "code",
   "execution_count": 5,
   "id": "be412232",
   "metadata": {
    "hidden": true
   },
   "outputs": [
    {
     "data": {
      "text/html": [
       "<div>\n",
       "<style scoped>\n",
       "    .dataframe tbody tr th:only-of-type {\n",
       "        vertical-align: middle;\n",
       "    }\n",
       "\n",
       "    .dataframe tbody tr th {\n",
       "        vertical-align: top;\n",
       "    }\n",
       "\n",
       "    .dataframe thead th {\n",
       "        text-align: right;\n",
       "    }\n",
       "</style>\n",
       "<table border=\"1\" class=\"dataframe\">\n",
       "  <thead>\n",
       "    <tr style=\"text-align: right;\">\n",
       "      <th></th>\n",
       "      <th>CreditScore</th>\n",
       "      <th>Balance</th>\n",
       "      <th>NumOfProducts</th>\n",
       "      <th>HasCrCard</th>\n",
       "      <th>IsActiveMember</th>\n",
       "      <th>EstimatedSalary</th>\n",
       "      <th>Gender_enc</th>\n",
       "      <th>Log_Age</th>\n",
       "      <th>Tenure_Exited_Mean</th>\n",
       "      <th>Geography_1</th>\n",
       "      <th>Geography_2</th>\n",
       "      <th>predictions</th>\n",
       "      <th>probabilitys</th>\n",
       "    </tr>\n",
       "  </thead>\n",
       "  <tbody>\n",
       "    <tr>\n",
       "      <th>0</th>\n",
       "      <td>-0.177665</td>\n",
       "      <td>-1.240072</td>\n",
       "      <td>4.229792</td>\n",
       "      <td>0.636608</td>\n",
       "      <td>-1.028992</td>\n",
       "      <td>0.022984</td>\n",
       "      <td>-1.083862</td>\n",
       "      <td>240.379634</td>\n",
       "      <td>-13.319581</td>\n",
       "      <td>-0.573226</td>\n",
       "      <td>-0.572951</td>\n",
       "      <td>0</td>\n",
       "      <td>0.381912</td>\n",
       "    </tr>\n",
       "    <tr>\n",
       "      <th>1</th>\n",
       "      <td>-0.032675</td>\n",
       "      <td>-1.240072</td>\n",
       "      <td>-0.908722</td>\n",
       "      <td>0.636608</td>\n",
       "      <td>0.971825</td>\n",
       "      <td>1.188428</td>\n",
       "      <td>0.922627</td>\n",
       "      <td>221.678272</td>\n",
       "      <td>-13.171281</td>\n",
       "      <td>-0.573226</td>\n",
       "      <td>-0.572951</td>\n",
       "      <td>0</td>\n",
       "      <td>0.273485</td>\n",
       "    </tr>\n",
       "    <tr>\n",
       "      <th>2</th>\n",
       "      <td>0.516216</td>\n",
       "      <td>-1.240072</td>\n",
       "      <td>0.804116</td>\n",
       "      <td>0.636608</td>\n",
       "      <td>0.971825</td>\n",
       "      <td>0.810807</td>\n",
       "      <td>0.922627</td>\n",
       "      <td>234.168769</td>\n",
       "      <td>-13.263999</td>\n",
       "      <td>-0.573226</td>\n",
       "      <td>-0.572951</td>\n",
       "      <td>0</td>\n",
       "      <td>0.273485</td>\n",
       "    </tr>\n",
       "    <tr>\n",
       "      <th>3</th>\n",
       "      <td>-1.006179</td>\n",
       "      <td>0.648427</td>\n",
       "      <td>0.804116</td>\n",
       "      <td>-1.570825</td>\n",
       "      <td>-1.028992</td>\n",
       "      <td>-0.077413</td>\n",
       "      <td>-1.083862</td>\n",
       "      <td>223.612281</td>\n",
       "      <td>-13.277318</td>\n",
       "      <td>-0.573226</td>\n",
       "      <td>-0.572951</td>\n",
       "      <td>1</td>\n",
       "      <td>0.571717</td>\n",
       "    </tr>\n",
       "    <tr>\n",
       "      <th>4</th>\n",
       "      <td>0.153741</td>\n",
       "      <td>0.747355</td>\n",
       "      <td>-0.908722</td>\n",
       "      <td>0.636608</td>\n",
       "      <td>0.971825</td>\n",
       "      <td>1.361126</td>\n",
       "      <td>0.922627</td>\n",
       "      <td>241.846036</td>\n",
       "      <td>-13.262450</td>\n",
       "      <td>-0.573226</td>\n",
       "      <td>-0.572951</td>\n",
       "      <td>0</td>\n",
       "      <td>0.273485</td>\n",
       "    </tr>\n",
       "  </tbody>\n",
       "</table>\n",
       "</div>"
      ],
      "text/plain": [
       "   CreditScore   Balance  NumOfProducts  HasCrCard  IsActiveMember  \\\n",
       "0    -0.177665 -1.240072       4.229792   0.636608       -1.028992   \n",
       "1    -0.032675 -1.240072      -0.908722   0.636608        0.971825   \n",
       "2     0.516216 -1.240072       0.804116   0.636608        0.971825   \n",
       "3    -1.006179  0.648427       0.804116  -1.570825       -1.028992   \n",
       "4     0.153741  0.747355      -0.908722   0.636608        0.971825   \n",
       "\n",
       "   EstimatedSalary  Gender_enc     Log_Age  Tenure_Exited_Mean  Geography_1  \\\n",
       "0         0.022984   -1.083862  240.379634          -13.319581    -0.573226   \n",
       "1         1.188428    0.922627  221.678272          -13.171281    -0.573226   \n",
       "2         0.810807    0.922627  234.168769          -13.263999    -0.573226   \n",
       "3        -0.077413   -1.083862  223.612281          -13.277318    -0.573226   \n",
       "4         1.361126    0.922627  241.846036          -13.262450    -0.573226   \n",
       "\n",
       "   Geography_2  predictions  probabilitys  \n",
       "0    -0.572951            0      0.381912  \n",
       "1    -0.572951            0      0.273485  \n",
       "2    -0.572951            0      0.273485  \n",
       "3    -0.572951            1      0.571717  \n",
       "4    -0.572951            0      0.273485  "
      ]
     },
     "execution_count": 5,
     "metadata": {},
     "output_type": "execute_result"
    }
   ],
   "source": [
    "df_predict = pd.DataFrame(received.json(), columns=received.json()[0].keys())\n",
    "df_predict.head(5)"
   ]
  }
 ],
 "metadata": {
  "kernelspec": {
   "display_name": "Python 3 (ipykernel)",
   "language": "python",
   "name": "python3"
  },
  "language_info": {
   "codemirror_mode": {
    "name": "ipython",
    "version": 3
   },
   "file_extension": ".py",
   "mimetype": "text/x-python",
   "name": "python",
   "nbconvert_exporter": "python",
   "pygments_lexer": "ipython3",
   "version": "3.8.8"
  }
 },
 "nbformat": 4,
 "nbformat_minor": 5
}
