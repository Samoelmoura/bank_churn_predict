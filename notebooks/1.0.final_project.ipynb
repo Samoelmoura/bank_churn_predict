{
 "cells": [
  {
   "cell_type": "markdown",
   "id": "c729438b",
   "metadata": {},
   "source": [
    "# 0.0 Imports"
   ]
  },
  {
   "cell_type": "code",
   "execution_count": 77,
   "id": "11fa254d",
   "metadata": {
    "ExecuteTime": {
     "end_time": "2022-06-10T18:47:23.679004Z",
     "start_time": "2022-06-10T18:47:23.655111Z"
    }
   },
   "outputs": [],
   "source": [
    "import numpy as np\n",
    "import pandas as pd\n",
    "import matplotlib.pyplot as plt\n",
    "import seaborn as sns\n",
    "\n",
    "from sklearn.preprocessing import LabelEncoder, MinMaxScaler, StandardScaler\n",
    "from sklearn.model_selection import train_test_split, KFold\n",
    "from sklearn.ensemble import RandomForestClassifier\n",
    "from sklearn.metrics import classification_report, auc, accuracy_score, f1_score, recall_score, precision_score\n",
    "from sklearn.linear_model import LogisticRegression\n",
    "from sklearn.svm import SVC\n",
    "from sklearn.neighbors import KNeighborsClassifier\n",
    "\n",
    "import scikitplot as skplt\n",
    "\n",
    "from xgboost import XGBClassifier\n",
    "\n",
    "from imblearn.over_sampling import SMOTE\n",
    "\n",
    "from scipy.stats import chi2_contingency\n",
    "\n",
    "import pickle\n",
    "\n",
    "import time\n",
    "from IPython.display import Image\n",
    "\n",
    "tempo_agora = time.time() # Contabilizando o tempo de processamento do projeto"
   ]
  },
  {
   "cell_type": "markdown",
   "id": "bdf7f18f",
   "metadata": {},
   "source": [
    "###### 0.1 Loading dataset"
   ]
  },
  {
   "cell_type": "code",
   "execution_count": 78,
   "id": "c99872ec",
   "metadata": {
    "ExecuteTime": {
     "end_time": "2022-06-10T18:47:23.742274Z",
     "start_time": "2022-06-10T18:47:23.680997Z"
    }
   },
   "outputs": [
    {
     "data": {
      "text/html": [
       "<div>\n",
       "<style scoped>\n",
       "    .dataframe tbody tr th:only-of-type {\n",
       "        vertical-align: middle;\n",
       "    }\n",
       "\n",
       "    .dataframe tbody tr th {\n",
       "        vertical-align: top;\n",
       "    }\n",
       "\n",
       "    .dataframe thead th {\n",
       "        text-align: right;\n",
       "    }\n",
       "</style>\n",
       "<table border=\"1\" class=\"dataframe\">\n",
       "  <thead>\n",
       "    <tr style=\"text-align: right;\">\n",
       "      <th></th>\n",
       "      <th>RowNumber</th>\n",
       "      <th>CustomerId</th>\n",
       "      <th>Surname</th>\n",
       "      <th>CreditScore</th>\n",
       "      <th>Geography</th>\n",
       "      <th>Gender</th>\n",
       "      <th>Age</th>\n",
       "      <th>Tenure</th>\n",
       "      <th>Balance</th>\n",
       "      <th>NumOfProducts</th>\n",
       "      <th>HasCrCard</th>\n",
       "      <th>IsActiveMember</th>\n",
       "      <th>EstimatedSalary</th>\n",
       "      <th>Exited</th>\n",
       "    </tr>\n",
       "  </thead>\n",
       "  <tbody>\n",
       "    <tr>\n",
       "      <th>0</th>\n",
       "      <td>1</td>\n",
       "      <td>15634602</td>\n",
       "      <td>Hargrave</td>\n",
       "      <td>619</td>\n",
       "      <td>France</td>\n",
       "      <td>Female</td>\n",
       "      <td>42</td>\n",
       "      <td>2</td>\n",
       "      <td>0.00</td>\n",
       "      <td>1</td>\n",
       "      <td>1</td>\n",
       "      <td>1</td>\n",
       "      <td>101348.88</td>\n",
       "      <td>1</td>\n",
       "    </tr>\n",
       "    <tr>\n",
       "      <th>1</th>\n",
       "      <td>2</td>\n",
       "      <td>15647311</td>\n",
       "      <td>Hill</td>\n",
       "      <td>608</td>\n",
       "      <td>Spain</td>\n",
       "      <td>Female</td>\n",
       "      <td>41</td>\n",
       "      <td>1</td>\n",
       "      <td>83807.86</td>\n",
       "      <td>1</td>\n",
       "      <td>0</td>\n",
       "      <td>1</td>\n",
       "      <td>112542.58</td>\n",
       "      <td>0</td>\n",
       "    </tr>\n",
       "    <tr>\n",
       "      <th>2</th>\n",
       "      <td>3</td>\n",
       "      <td>15619304</td>\n",
       "      <td>Onio</td>\n",
       "      <td>502</td>\n",
       "      <td>France</td>\n",
       "      <td>Female</td>\n",
       "      <td>42</td>\n",
       "      <td>8</td>\n",
       "      <td>159660.80</td>\n",
       "      <td>3</td>\n",
       "      <td>1</td>\n",
       "      <td>0</td>\n",
       "      <td>113931.57</td>\n",
       "      <td>1</td>\n",
       "    </tr>\n",
       "    <tr>\n",
       "      <th>3</th>\n",
       "      <td>4</td>\n",
       "      <td>15701354</td>\n",
       "      <td>Boni</td>\n",
       "      <td>699</td>\n",
       "      <td>France</td>\n",
       "      <td>Female</td>\n",
       "      <td>39</td>\n",
       "      <td>1</td>\n",
       "      <td>0.00</td>\n",
       "      <td>2</td>\n",
       "      <td>0</td>\n",
       "      <td>0</td>\n",
       "      <td>93826.63</td>\n",
       "      <td>0</td>\n",
       "    </tr>\n",
       "    <tr>\n",
       "      <th>4</th>\n",
       "      <td>5</td>\n",
       "      <td>15737888</td>\n",
       "      <td>Mitchell</td>\n",
       "      <td>850</td>\n",
       "      <td>Spain</td>\n",
       "      <td>Female</td>\n",
       "      <td>43</td>\n",
       "      <td>2</td>\n",
       "      <td>125510.82</td>\n",
       "      <td>1</td>\n",
       "      <td>1</td>\n",
       "      <td>1</td>\n",
       "      <td>79084.10</td>\n",
       "      <td>0</td>\n",
       "    </tr>\n",
       "  </tbody>\n",
       "</table>\n",
       "</div>"
      ],
      "text/plain": [
       "   RowNumber  CustomerId   Surname  CreditScore Geography  Gender  Age  \\\n",
       "0          1    15634602  Hargrave          619    France  Female   42   \n",
       "1          2    15647311      Hill          608     Spain  Female   41   \n",
       "2          3    15619304      Onio          502    France  Female   42   \n",
       "3          4    15701354      Boni          699    France  Female   39   \n",
       "4          5    15737888  Mitchell          850     Spain  Female   43   \n",
       "\n",
       "   Tenure    Balance  NumOfProducts  HasCrCard  IsActiveMember  \\\n",
       "0       2       0.00              1          1               1   \n",
       "1       1   83807.86              1          0               1   \n",
       "2       8  159660.80              3          1               0   \n",
       "3       1       0.00              2          0               0   \n",
       "4       2  125510.82              1          1               1   \n",
       "\n",
       "   EstimatedSalary  Exited  \n",
       "0        101348.88       1  \n",
       "1        112542.58       0  \n",
       "2        113931.57       1  \n",
       "3         93826.63       0  \n",
       "4         79084.10       0  "
      ]
     },
     "execution_count": 78,
     "metadata": {},
     "output_type": "execute_result"
    }
   ],
   "source": [
    "# reading csv\n",
    "df_raw = pd.read_csv('D:\\\\My Drive\\\\Pessoal\\\\Projetos\\\\bank_churn_predict\\\\bank_churn_predict\\\\data\\\\raw\\\\churn.csv')\n",
    "test = df_raw.sample(frac=0.2, random_state=101)\n",
    "test_index = test.index\n",
    "df = df_raw.drop(test_index)\n",
    "df.head(5)"
   ]
  },
  {
   "cell_type": "markdown",
   "id": "e62dcc46",
   "metadata": {
    "heading_collapsed": true
   },
   "source": [
    "###### 0.3 Helper functions"
   ]
  },
  {
   "cell_type": "code",
   "execution_count": 79,
   "id": "4379c4d6",
   "metadata": {
    "ExecuteTime": {
     "end_time": "2022-06-10T18:47:23.774129Z",
     "start_time": "2022-06-10T18:47:23.744235Z"
    },
    "hidden": true
   },
   "outputs": [],
   "source": [
    "# identificando outliers\n",
    "def busca_outliers(df, series):\n",
    "    q1 = np.percentile(df[series], 25)\n",
    "    q3 = np.percentile(df[series], 75)\n",
    "    distancia = q3 - q1\n",
    "    salto = distancia * 1.5\n",
    "    li = q1 - salto\n",
    "    ls = q3 + salto\n",
    "    indices = df[(df[series]<li)|(df[series]>ls)].index\n",
    "#     print(f'O limite inferior é: {li}\\nO limite superior é: {ls}\\nHá {len(indices)} outliers')\n",
    "    return indices, li, ls\n",
    "\n",
    "\n",
    "# categorical attributes correlations\n",
    "def cramer_v(x, y):\n",
    "    cm = pd.crosstab(x, y).values\n",
    "    n = cm.sum()\n",
    "    r, k = cm.shape\n",
    "    chi2 = chi2_contingency(cm)[0]\n",
    "    chi2corr = max(0, chi2-(k-1)*(r-1)/(n-1))\n",
    "    kcorr = k-(k-1)**2/(n-1)\n",
    "    rcorr = r-(r-1)**2/(n-1)\n",
    "    return round(np.sqrt((chi2corr/n)/( min(kcorr-1, rcorr-1))), 2)\n",
    "\n",
    "\n",
    "def gain_curve_ktop_precision(df, model_name, dict_ktop_precision, target_variable, ktop=2000, new_clients=127000):\n",
    "    proportional = df.shape[0] / new_clients\n",
    "    ktop_proportional = ktop * proportional\n",
    "    df.sort_values('propencity', ascending=False, inplace=True)\n",
    "    df.reset_index(drop=True, inplace=True)\n",
    "    df['ranking'] = df.index + 1\n",
    "    df[f'cum_{target_variable}'] = np.cumsum(df[target_variable])\n",
    "    df[f'percent_cum_{target_variable}'] = df[f'cum_{target_variable}'] / df['ranking']\n",
    "    answer = round(float(df.loc[df['ranking']>=ktop_proportional, f'percent_cum_{target_variable}'].head(1).values)*100, 2)\n",
    "    dict_ktop_precision[model_name] = answer\n",
    "#     print(f\"Precision at {ktop}ktop: {answer}%\")\n",
    "    return dict_ktop_precision\n",
    "\n",
    "\n",
    "def gain_curve_ktop_recall(df, model_name, dict_ktop_recall, target_variable, ktop=2000, new_clients=127000):\n",
    "    proportional = df.shape[0] / new_clients\n",
    "    ktop_proportional = ktop * proportional\n",
    "    df.sort_values('propencity', ascending=False, inplace=True)\n",
    "    df.reset_index(drop=True, inplace=True)\n",
    "    df['ranking'] = df.index + 1\n",
    "    df[f'cum_{target_variable}'] = np.cumsum(df[target_variable])\n",
    "    df[f'percent_cum_{target_variable}'] = df[f'cum_{target_variable}'] / df[target_variable].sum()\n",
    "    answer = round(float(df.loc[df['ranking']>=ktop_proportional, f'percent_cum_{target_variable}'].head(1).values)*100, 2)\n",
    "    dict_ktop_recall[model_name] = answer\n",
    "#     print(f\"Recall at {ktop}ktop: {answer}%\")\n",
    "    return dict_ktop_recall\n",
    "\n",
    "    \n",
    "def gain_curve_recall_recall(df, model_name, dict_top_recall_recall, target_variable, recall=0.8, new_clients=127000):\n",
    "    proportional = df.shape[0] / new_clients\n",
    "    df.sort_values('propencity', ascending=False, inplace=True)\n",
    "    df.reset_index(drop=True, inplace=True)\n",
    "    df['ranking'] = df.index + 1\n",
    "    df[f'cum_{target_variable}'] = np.cumsum(df[target_variable])\n",
    "    df[f'percent_cum_{target_variable}'] = df[f'cum_{target_variable}'] / df[target_variable].sum()\n",
    "    answer = int(df.loc[df[f'percent_cum_{target_variable}']>=recall, 'ranking'].head(1).values/proportional)\n",
    "    dict_top_recall_recall[model_name] = answer\n",
    "#     print(f\"To achieve {round(recall*100, 2)}% of recall: {answer} will be needed\")\n",
    "    return dict_top_recall_recall\n",
    "    \n",
    "    \n",
    "def cross_validation(X_smote, y_smote, error, kfold, model_name, model):\n",
    "    kf = KFold(kfold, shuffle=True)\n",
    "    accuracy, precision, recall, f1 = [], [], [], []\n",
    "\n",
    "    for train_index, test_index in kf.split(X_smote):\n",
    "        # cross validation folds\n",
    "        X_train, X_val = X_smote[train_index], X_smote[test_index]\n",
    "        y_train, y_val = y_smote[train_index], y_smote[test_index]\n",
    "\n",
    "        # fiting\n",
    "        model_fit_kf = model.fit(X_train, y_train)\n",
    "\n",
    "        # predicting\n",
    "        y_hat = model_fit_kf.predict(X_val)\n",
    "\n",
    "        # metrics\n",
    "        accuracy.append(accuracy_score(y_val, y_hat))\n",
    "        precision.append(precision_score(y_val, y_hat))\n",
    "        recall.append(recall_score(y_val, y_hat))\n",
    "        f1.append(f1_score(y_val, y_hat))\n",
    "\n",
    "    accuracy.append(f'{round(np.mean(accuracy), 2)} +/- {round(np.std(accuracy), 3)}')\n",
    "    precision.append(f'{round(np.mean(precision), 2)} +/- {round(np.std(precision), 3)}')\n",
    "    recall.append(f'{round(np.mean(recall), 2)} +/- {round(np.std(recall), 3)}')\n",
    "    f1.append(f'{round(np.mean(f1), 2)} +/- {round(np.std(f1), 3)}')\n",
    "\n",
    "    cross_validation = pd.DataFrame([accuracy, precision, recall, f1], columns='fold1 fold2 fold3 fold4 fold5 mean_and_std'.split(), index='accuracy precision recall f1'.split()).round(2).T\n",
    "\n",
    "    error[model_name] = cross_validation.loc['mean_and_std']\n",
    "    return cross_validation, error\n",
    "\n",
    "\n",
    "def metrics(X, X_smote, y_smote, X_train_smote, y_train_smote, X_val, y_val, model):\n",
    "    \n",
    "    # fiting val model\n",
    "    model_fit = model.fit(X_train_smote, y_train_smote)\n",
    "    \n",
    "    # predicting val\n",
    "    y_hat = model_fit.predict(X_val)\n",
    "    \n",
    "    # validation\n",
    "    print('TRAIN')\n",
    "    print(classification_report(y_val, y_hat))\n",
    "    print('')\n",
    "\n",
    "    # fiting model integral\n",
    "    model_fit = model.fit(X_smote, y_smote)\n",
    "\n",
    "    # predicting test\n",
    "    y_hat = model_fit.predict(X_test)\n",
    "    \n",
    "    # test\n",
    "    print('TEST')\n",
    "    print(classification_report(y_test, y_hat))\n",
    "    \n",
    "    # predict proba\n",
    "    predict_proba_train = model_fit.predict_proba(X)\n",
    "    predict_proba_test = model_fit.predict_proba(X_test)\n",
    "    \n",
    "    return predict_proba_train, predict_proba_test"
   ]
  },
  {
   "cell_type": "markdown",
   "id": "34679afd",
   "metadata": {
    "heading_collapsed": true
   },
   "source": [
    "# 1.0 Data Description"
   ]
  },
  {
   "cell_type": "code",
   "execution_count": 80,
   "id": "d213938f",
   "metadata": {
    "ExecuteTime": {
     "end_time": "2022-06-10T18:47:23.790076Z",
     "start_time": "2022-06-10T18:47:23.778118Z"
    },
    "hidden": true
   },
   "outputs": [],
   "source": [
    "df1 = df.copy()"
   ]
  },
  {
   "cell_type": "markdown",
   "id": "7d388fe5",
   "metadata": {
    "heading_collapsed": true,
    "hidden": true
   },
   "source": [
    "## 1.1 Looking dataset"
   ]
  },
  {
   "cell_type": "code",
   "execution_count": 81,
   "id": "a9a6d3cc",
   "metadata": {
    "ExecuteTime": {
     "end_time": "2022-06-10T18:47:23.821970Z",
     "start_time": "2022-06-10T18:47:23.792072Z"
    },
    "hidden": true,
    "scrolled": false
   },
   "outputs": [
    {
     "data": {
      "text/html": [
       "<div>\n",
       "<style scoped>\n",
       "    .dataframe tbody tr th:only-of-type {\n",
       "        vertical-align: middle;\n",
       "    }\n",
       "\n",
       "    .dataframe tbody tr th {\n",
       "        vertical-align: top;\n",
       "    }\n",
       "\n",
       "    .dataframe thead th {\n",
       "        text-align: right;\n",
       "    }\n",
       "</style>\n",
       "<table border=\"1\" class=\"dataframe\">\n",
       "  <thead>\n",
       "    <tr style=\"text-align: right;\">\n",
       "      <th></th>\n",
       "      <th>RowNumber</th>\n",
       "      <th>CustomerId</th>\n",
       "      <th>Surname</th>\n",
       "      <th>CreditScore</th>\n",
       "      <th>Geography</th>\n",
       "      <th>Gender</th>\n",
       "      <th>Age</th>\n",
       "      <th>Tenure</th>\n",
       "      <th>Balance</th>\n",
       "      <th>NumOfProducts</th>\n",
       "      <th>HasCrCard</th>\n",
       "      <th>IsActiveMember</th>\n",
       "      <th>EstimatedSalary</th>\n",
       "      <th>Exited</th>\n",
       "    </tr>\n",
       "  </thead>\n",
       "  <tbody>\n",
       "    <tr>\n",
       "      <th>0</th>\n",
       "      <td>1</td>\n",
       "      <td>15634602</td>\n",
       "      <td>Hargrave</td>\n",
       "      <td>619</td>\n",
       "      <td>France</td>\n",
       "      <td>Female</td>\n",
       "      <td>42</td>\n",
       "      <td>2</td>\n",
       "      <td>0.00</td>\n",
       "      <td>1</td>\n",
       "      <td>1</td>\n",
       "      <td>1</td>\n",
       "      <td>101348.88</td>\n",
       "      <td>1</td>\n",
       "    </tr>\n",
       "    <tr>\n",
       "      <th>1</th>\n",
       "      <td>2</td>\n",
       "      <td>15647311</td>\n",
       "      <td>Hill</td>\n",
       "      <td>608</td>\n",
       "      <td>Spain</td>\n",
       "      <td>Female</td>\n",
       "      <td>41</td>\n",
       "      <td>1</td>\n",
       "      <td>83807.86</td>\n",
       "      <td>1</td>\n",
       "      <td>0</td>\n",
       "      <td>1</td>\n",
       "      <td>112542.58</td>\n",
       "      <td>0</td>\n",
       "    </tr>\n",
       "    <tr>\n",
       "      <th>2</th>\n",
       "      <td>3</td>\n",
       "      <td>15619304</td>\n",
       "      <td>Onio</td>\n",
       "      <td>502</td>\n",
       "      <td>France</td>\n",
       "      <td>Female</td>\n",
       "      <td>42</td>\n",
       "      <td>8</td>\n",
       "      <td>159660.80</td>\n",
       "      <td>3</td>\n",
       "      <td>1</td>\n",
       "      <td>0</td>\n",
       "      <td>113931.57</td>\n",
       "      <td>1</td>\n",
       "    </tr>\n",
       "    <tr>\n",
       "      <th>3</th>\n",
       "      <td>4</td>\n",
       "      <td>15701354</td>\n",
       "      <td>Boni</td>\n",
       "      <td>699</td>\n",
       "      <td>France</td>\n",
       "      <td>Female</td>\n",
       "      <td>39</td>\n",
       "      <td>1</td>\n",
       "      <td>0.00</td>\n",
       "      <td>2</td>\n",
       "      <td>0</td>\n",
       "      <td>0</td>\n",
       "      <td>93826.63</td>\n",
       "      <td>0</td>\n",
       "    </tr>\n",
       "    <tr>\n",
       "      <th>4</th>\n",
       "      <td>5</td>\n",
       "      <td>15737888</td>\n",
       "      <td>Mitchell</td>\n",
       "      <td>850</td>\n",
       "      <td>Spain</td>\n",
       "      <td>Female</td>\n",
       "      <td>43</td>\n",
       "      <td>2</td>\n",
       "      <td>125510.82</td>\n",
       "      <td>1</td>\n",
       "      <td>1</td>\n",
       "      <td>1</td>\n",
       "      <td>79084.10</td>\n",
       "      <td>0</td>\n",
       "    </tr>\n",
       "  </tbody>\n",
       "</table>\n",
       "</div>"
      ],
      "text/plain": [
       "   RowNumber  CustomerId   Surname  CreditScore Geography  Gender  Age  \\\n",
       "0          1    15634602  Hargrave          619    France  Female   42   \n",
       "1          2    15647311      Hill          608     Spain  Female   41   \n",
       "2          3    15619304      Onio          502    France  Female   42   \n",
       "3          4    15701354      Boni          699    France  Female   39   \n",
       "4          5    15737888  Mitchell          850     Spain  Female   43   \n",
       "\n",
       "   Tenure    Balance  NumOfProducts  HasCrCard  IsActiveMember  \\\n",
       "0       2       0.00              1          1               1   \n",
       "1       1   83807.86              1          0               1   \n",
       "2       8  159660.80              3          1               0   \n",
       "3       1       0.00              2          0               0   \n",
       "4       2  125510.82              1          1               1   \n",
       "\n",
       "   EstimatedSalary  Exited  \n",
       "0        101348.88       1  \n",
       "1        112542.58       0  \n",
       "2        113931.57       1  \n",
       "3         93826.63       0  \n",
       "4         79084.10       0  "
      ]
     },
     "execution_count": 81,
     "metadata": {},
     "output_type": "execute_result"
    }
   ],
   "source": [
    "df1.head(5)"
   ]
  },
  {
   "cell_type": "markdown",
   "id": "9844549c",
   "metadata": {
    "heading_collapsed": true,
    "hidden": true
   },
   "source": [
    "## 1.2 Data dimensions"
   ]
  },
  {
   "cell_type": "code",
   "execution_count": 82,
   "id": "c190ba97",
   "metadata": {
    "ExecuteTime": {
     "end_time": "2022-06-10T18:47:23.837964Z",
     "start_time": "2022-06-10T18:47:23.823998Z"
    },
    "hidden": true
   },
   "outputs": [
    {
     "name": "stdout",
     "output_type": "stream",
     "text": [
      "O dataset possui: 8000 linhas\n",
      "O dataset possui: 14 colunas\n"
     ]
    }
   ],
   "source": [
    "print(f'O dataset possui: {df1.shape[0]} linhas')\n",
    "print(f'O dataset possui: {df1.shape[1]} colunas')"
   ]
  },
  {
   "cell_type": "markdown",
   "id": "5601711a",
   "metadata": {
    "heading_collapsed": true,
    "hidden": true
   },
   "source": [
    "## 1.3 Datatypes"
   ]
  },
  {
   "cell_type": "code",
   "execution_count": 83,
   "id": "e12f3418",
   "metadata": {
    "ExecuteTime": {
     "end_time": "2022-06-10T18:47:23.853689Z",
     "start_time": "2022-06-10T18:47:23.839953Z"
    },
    "hidden": true
   },
   "outputs": [
    {
     "data": {
      "text/plain": [
       "RowNumber            int64\n",
       "CustomerId           int64\n",
       "Surname             object\n",
       "CreditScore          int64\n",
       "Geography           object\n",
       "Gender              object\n",
       "Age                  int64\n",
       "Tenure               int64\n",
       "Balance            float64\n",
       "NumOfProducts        int64\n",
       "HasCrCard            int64\n",
       "IsActiveMember       int64\n",
       "EstimatedSalary    float64\n",
       "Exited               int64\n",
       "dtype: object"
      ]
     },
     "execution_count": 83,
     "metadata": {},
     "output_type": "execute_result"
    }
   ],
   "source": [
    "df1.dtypes"
   ]
  },
  {
   "cell_type": "markdown",
   "id": "c7bbd080",
   "metadata": {
    "heading_collapsed": true,
    "hidden": true
   },
   "source": [
    "## 1.4 Cheking NaN values"
   ]
  },
  {
   "cell_type": "code",
   "execution_count": 84,
   "id": "0a3bddae",
   "metadata": {
    "ExecuteTime": {
     "end_time": "2022-06-10T18:47:23.869763Z",
     "start_time": "2022-06-10T18:47:23.855658Z"
    },
    "hidden": true
   },
   "outputs": [
    {
     "data": {
      "text/plain": [
       "RowNumber          0\n",
       "CustomerId         0\n",
       "Surname            0\n",
       "CreditScore        0\n",
       "Geography          0\n",
       "Gender             0\n",
       "Age                0\n",
       "Tenure             0\n",
       "Balance            0\n",
       "NumOfProducts      0\n",
       "HasCrCard          0\n",
       "IsActiveMember     0\n",
       "EstimatedSalary    0\n",
       "Exited             0\n",
       "dtype: int64"
      ]
     },
     "execution_count": 84,
     "metadata": {},
     "output_type": "execute_result"
    }
   ],
   "source": [
    "df1.isna().sum()"
   ]
  },
  {
   "cell_type": "markdown",
   "id": "7b184e1a",
   "metadata": {
    "heading_collapsed": true,
    "hidden": true
   },
   "source": [
    "## 1.5 Descriptive Statistical"
   ]
  },
  {
   "cell_type": "markdown",
   "id": "8a971cda",
   "metadata": {
    "heading_collapsed": true,
    "hidden": true
   },
   "source": [
    "### 1.5.1 Classifying Attributes"
   ]
  },
  {
   "cell_type": "code",
   "execution_count": 85,
   "id": "3c724945",
   "metadata": {
    "ExecuteTime": {
     "end_time": "2022-06-10T18:47:23.885237Z",
     "start_time": "2022-06-10T18:47:23.871757Z"
    },
    "hidden": true
   },
   "outputs": [],
   "source": [
    "cat_attributes = ['NumOfProducts', 'HasCrCard', 'IsActiveMember', 'Tenure', 'Gender', 'Geography']\n",
    "num_attributes = ['CreditScore', 'Age', 'Balance', 'EstimatedSalary']"
   ]
  },
  {
   "cell_type": "markdown",
   "id": "00027975",
   "metadata": {
    "heading_collapsed": true,
    "hidden": true
   },
   "source": [
    "### 1.5.2 Numerical Attributes"
   ]
  },
  {
   "cell_type": "code",
   "execution_count": 86,
   "id": "578398b5",
   "metadata": {
    "ExecuteTime": {
     "end_time": "2022-06-10T18:47:23.949021Z",
     "start_time": "2022-06-10T18:47:23.889222Z"
    },
    "hidden": true,
    "hide_input": false,
    "scrolled": false
   },
   "outputs": [
    {
     "data": {
      "text/html": [
       "<div>\n",
       "<style scoped>\n",
       "    .dataframe tbody tr th:only-of-type {\n",
       "        vertical-align: middle;\n",
       "    }\n",
       "\n",
       "    .dataframe tbody tr th {\n",
       "        vertical-align: top;\n",
       "    }\n",
       "\n",
       "    .dataframe thead th {\n",
       "        text-align: right;\n",
       "    }\n",
       "</style>\n",
       "<table border=\"1\" class=\"dataframe\">\n",
       "  <thead>\n",
       "    <tr style=\"text-align: right;\">\n",
       "      <th></th>\n",
       "      <th>min</th>\n",
       "      <th>max</th>\n",
       "      <th>range</th>\n",
       "      <th>mean</th>\n",
       "      <th>median</th>\n",
       "      <th>std</th>\n",
       "      <th>skew</th>\n",
       "      <th>kurtosis</th>\n",
       "    </tr>\n",
       "  </thead>\n",
       "  <tbody>\n",
       "    <tr>\n",
       "      <th>CreditScore</th>\n",
       "      <td>350.00</td>\n",
       "      <td>850.00</td>\n",
       "      <td>500.00</td>\n",
       "      <td>650.918375</td>\n",
       "      <td>652.000</td>\n",
       "      <td>96.549675</td>\n",
       "      <td>-0.081188</td>\n",
       "      <td>-0.426630</td>\n",
       "    </tr>\n",
       "    <tr>\n",
       "      <th>Age</th>\n",
       "      <td>18.00</td>\n",
       "      <td>92.00</td>\n",
       "      <td>74.00</td>\n",
       "      <td>38.782125</td>\n",
       "      <td>37.000</td>\n",
       "      <td>10.493077</td>\n",
       "      <td>1.049614</td>\n",
       "      <td>1.546493</td>\n",
       "    </tr>\n",
       "    <tr>\n",
       "      <th>Balance</th>\n",
       "      <td>0.00</td>\n",
       "      <td>250898.09</td>\n",
       "      <td>250898.09</td>\n",
       "      <td>76827.860287</td>\n",
       "      <td>97442.755</td>\n",
       "      <td>62283.923395</td>\n",
       "      <td>-0.150535</td>\n",
       "      <td>-1.477921</td>\n",
       "    </tr>\n",
       "    <tr>\n",
       "      <th>EstimatedSalary</th>\n",
       "      <td>11.58</td>\n",
       "      <td>199970.74</td>\n",
       "      <td>199959.16</td>\n",
       "      <td>100274.703841</td>\n",
       "      <td>100721.370</td>\n",
       "      <td>57687.654564</td>\n",
       "      <td>-0.004446</td>\n",
       "      <td>-1.184357</td>\n",
       "    </tr>\n",
       "  </tbody>\n",
       "</table>\n",
       "</div>"
      ],
      "text/plain": [
       "                    min        max      range           mean      median  \\\n",
       "CreditScore      350.00     850.00     500.00     650.918375     652.000   \n",
       "Age               18.00      92.00      74.00      38.782125      37.000   \n",
       "Balance            0.00  250898.09  250898.09   76827.860287   97442.755   \n",
       "EstimatedSalary   11.58  199970.74  199959.16  100274.703841  100721.370   \n",
       "\n",
       "                          std      skew  kurtosis  \n",
       "CreditScore         96.549675 -0.081188 -0.426630  \n",
       "Age                 10.493077  1.049614  1.546493  \n",
       "Balance          62283.923395 -0.150535 -1.477921  \n",
       "EstimatedSalary  57687.654564 -0.004446 -1.184357  "
      ]
     },
     "execution_count": 86,
     "metadata": {},
     "output_type": "execute_result"
    }
   ],
   "source": [
    "# Central tendency\n",
    "ct1 = pd.DataFrame(df1[num_attributes].apply(np.mean)).T\n",
    "ct2 = pd.DataFrame(df1[num_attributes].apply(np.median)).T\n",
    "\n",
    "# Dispersion\n",
    "d1 = pd.DataFrame(df1[num_attributes].apply(np.std)).T\n",
    "d2 = pd.DataFrame(df1[num_attributes].apply(min)).T\n",
    "d3 = pd.DataFrame(df1[num_attributes].apply(max)).T\n",
    "d4 = pd.DataFrame(df1[num_attributes].apply(lambda x: x.max() - x.min())).T\n",
    "d5 = pd.DataFrame(df1[num_attributes].apply(lambda x: x.skew())).T\n",
    "d6 = pd.DataFrame(df1[num_attributes].apply(lambda x: x.kurtosis())).T\n",
    "\n",
    "# Concat\n",
    "temp = pd.concat([d2, d3, d4, ct1, ct2, d1, d5, d6]).T\n",
    "temp.columns = 'min max range mean median std skew kurtosis'.split()\n",
    "temp"
   ]
  },
  {
   "cell_type": "markdown",
   "id": "ce144b96",
   "metadata": {
    "hidden": true
   },
   "source": [
    "1. CreditScore - média e mediana próximas, o que indica que os dados estão centralizados na média, a skew é baixa e negativa, o que reforça que os dados estejam centralizados na média com uma cauda esquerda levemente maior, kurtosis pouco negativo, o que sugere uma distribuição mais plana do que uma distribuição normal com mesma média e desvio padrão.\n",
    "2. Age - somente maiores de 18 anos, média e mediana levemente deslocados (10%), skew baixa e positiva, indicando que os dados estão centralizados na média com uma cauda direita levemente maior, kurtosis baixa, características de uma NORMAL\n",
    "3. Balance - mínimo em zero, média e mediana bastante deslocados, desvio padrão bastante alto, skew baixa, o que sugere uma distribuição centralizada na média apesar da média e mediana diferirem, kurtosis negativa, o que sugere uma distribuição mais plana.\n",
    "4. EstimatedSalary - média e mediana próximas, desvio padrão bastante alto, skew centralizado na média, kurtosis baixa, distribuição mais plana do que uma normal."
   ]
  },
  {
   "cell_type": "markdown",
   "id": "c81b77d4",
   "metadata": {
    "heading_collapsed": true,
    "hidden": true
   },
   "source": [
    "### 1.5.3 Categorical Attributes"
   ]
  },
  {
   "cell_type": "code",
   "execution_count": 87,
   "id": "cc2d9ae9",
   "metadata": {
    "ExecuteTime": {
     "end_time": "2022-06-10T18:47:23.964782Z",
     "start_time": "2022-06-10T18:47:23.951023Z"
    },
    "hidden": true,
    "hide_input": false,
    "scrolled": true
   },
   "outputs": [
    {
     "data": {
      "text/plain": [
       "NumOfProducts      4\n",
       "HasCrCard          2\n",
       "IsActiveMember     2\n",
       "Tenure            11\n",
       "Gender             2\n",
       "Geography          3\n",
       "dtype: int64"
      ]
     },
     "execution_count": 87,
     "metadata": {},
     "output_type": "execute_result"
    }
   ],
   "source": [
    "df1[cat_attributes].apply(lambda x: x.nunique())"
   ]
  },
  {
   "cell_type": "code",
   "execution_count": 88,
   "id": "8be6d980",
   "metadata": {
    "ExecuteTime": {
     "end_time": "2022-06-10T18:47:24.614943Z",
     "start_time": "2022-06-10T18:47:23.966723Z"
    },
    "hidden": true,
    "hide_input": false,
    "scrolled": false
   },
   "outputs": [
    {
     "data": {
      "image/png": "[encoded data removed]",
      "text/plain": [
       "<Figure size 1440x720 with 6 Axes>"
      ]
     },
     "metadata": {
      "needs_background": "light"
     },
     "output_type": "display_data"
    }
   ],
   "source": [
    "plt.figure(figsize=(20, 10))\n",
    "plt.subplots_adjust(hspace=0.8)\n",
    "\n",
    "plt.subplot(3, 2, 1)\n",
    "sns.countplot(data=df1, x='NumOfProducts', color='b')\n",
    "sns.despine()\n",
    "plt.title('NumOfProducts', fontsize=20)\n",
    "plt.xlabel('')\n",
    "plt.ylabel('')\n",
    "\n",
    "plt.subplot(3, 2, 2)\n",
    "sns.countplot(data=df1, x='HasCrCard', color='b')\n",
    "sns.despine()\n",
    "plt.title('HasCrCard', fontsize=20)\n",
    "plt.xlabel('')\n",
    "plt.ylabel('')\n",
    "\n",
    "plt.subplot(3, 2, 3)\n",
    "sns.countplot(data=df1, x='IsActiveMember', color='b')\n",
    "sns.despine()\n",
    "plt.title('IsActiveMember', fontsize=20)\n",
    "plt.xlabel('')\n",
    "plt.ylabel('')\n",
    "\n",
    "plt.subplot(3, 2, 4)\n",
    "sns.countplot(data=df1, x='Tenure', color='b')\n",
    "sns.despine()\n",
    "plt.title('Tenure', fontsize=20)\n",
    "plt.xlabel('')\n",
    "plt.ylabel('')\n",
    "\n",
    "plt.subplot(3, 2, 5)\n",
    "sns.countplot(data=df1, x='Gender', color='b')\n",
    "sns.despine()\n",
    "plt.title('Gender', fontsize=20)\n",
    "plt.xlabel('')\n",
    "plt.ylabel('')\n",
    "\n",
    "plt.subplot(3, 2, 6)\n",
    "sns.countplot(data=df1, x='Geography', color='b')\n",
    "sns.despine()\n",
    "plt.title('Geography', fontsize=20)\n",
    "plt.xlabel('')\n",
    "plt.ylabel('');"
   ]
  },
  {
   "cell_type": "markdown",
   "id": "a55b9a6a",
   "metadata": {
    "hidden": true
   },
   "source": [
    "1. Maior parte dos clientes com 1 ou 2 produtos\n",
    "2. Clientes com cartão de crédito são maioria]\n",
    "3. Clientes na França são maioria"
   ]
  },
  {
   "cell_type": "markdown",
   "id": "d24b065a",
   "metadata": {
    "heading_collapsed": true
   },
   "source": [
    "# 2.0 Feature Engineering"
   ]
  },
  {
   "cell_type": "code",
   "execution_count": 89,
   "id": "b8ff5d31",
   "metadata": {
    "ExecuteTime": {
     "end_time": "2022-06-10T18:47:24.631168Z",
     "start_time": "2022-06-10T18:47:24.616944Z"
    },
    "hidden": true
   },
   "outputs": [],
   "source": [
    "df2 = df1.copy()"
   ]
  },
  {
   "cell_type": "markdown",
   "id": "fcc4dc2d",
   "metadata": {
    "heading_collapsed": true
   },
   "source": [
    "# 3.0 Exploratory Data Analysis"
   ]
  },
  {
   "cell_type": "code",
   "execution_count": 90,
   "id": "420fec2a",
   "metadata": {
    "ExecuteTime": {
     "end_time": "2022-06-10T18:47:24.647117Z",
     "start_time": "2022-06-10T18:47:24.633247Z"
    },
    "hidden": true
   },
   "outputs": [],
   "source": [
    "df3 = df2.copy()"
   ]
  },
  {
   "cell_type": "markdown",
   "id": "272b541a",
   "metadata": {
    "heading_collapsed": true,
    "hidden": true
   },
   "source": [
    "##### Main insights:\n",
    "\n",
    "###### Exited\n",
    "1. Desbalanceado, por volta de 20% de churn\n",
    "2. Correlação fraca com Age e muito fraca com as demais\n",
    "\n",
    "###### NumOfProducts\n",
    "1. Clientes com 3 ou 4 produtos têm maior probabilidade de churn, com 80% e 100% de churn respectivamente.\n",
    "2. Correlação fraca negativa com Balance\n",
    "3. 95% dos clientes possuem 1 ou 2 produtos\n",
    "\n",
    "###### HasCrCard\n",
    "1. 70% dos clientes possuem cartão de crédito\n",
    "2. Aparentemente não ajuda a modelar o fenômeno\n",
    "3. Correlações muito fracas\n",
    "\n",
    "###### IsActiveMember\n",
    "1. A quantidade de clientes ativos e inativos está equilibrada\n",
    "2. Membros ativos são 47% menos propensos ao churn\n",
    "3. Correlações muito fracas\n",
    "\n",
    "###### Geography\n",
    "1. Mais de 50% dos clientes está na França\n",
    "2. Clientes da Germany têm maior probabilidade de churn\n",
    "3. Correlações muito fracas\n",
    "\n",
    "###### Gender\n",
    "1. 54% dos clientes são homens\n",
    "2. Mulheres têm 34% de chance maior de churn\n",
    "3. Correlações muito fracas\n",
    "\n",
    "###### CreditScore\n",
    "1. Não há faixas de CreditScore mais suscetíveis ao churn\n",
    "2. Correlações muito fracas\n",
    "3. Há um teto máximo de score, distribuição semelhante a uma Poisson\n",
    "4. Outliers somente no início da distribuição\n",
    "\n",
    "###### Age\n",
    "1. Idade mínima de 18 anos, máxima de 92, aparentemente sem erros de input\n",
    "2. Média de idade de clientes em churn é de 45, já os em não churn é de 37\n",
    "3. Correlação fraca com Exited\n",
    "4. Cauda direita mais pesada\n",
    "5. 359 outliers pelo método de Tukey\n",
    "\n",
    "###### Balance\n",
    "1. Balance com valor máximo bastante mais alto do que o terceiro quartil, indicando outliers. Com primeiro quartil com cliantes com valor zerado na conta, o que sugere que haja uma quantidade grande de contas com zero de saldo.\n",
    "2. Clientes com saldo zerado na conta tem probabilidade relativamente menor de churn\n",
    "3. Excluindo-se as contas de valores de Balance zerados, resta uma curva aparentemente normal com média em 12000\n",
    "3. Correlação fraca com NumOfProducts\n",
    "4. 36% das contas bancárias estão zeradas\n",
    "5. Excluindo-se as contas com Balance igual a zero, pelo método de Tukey há 73 outliers\n",
    "\n",
    "###### EstimatedSalary\n",
    "1. Aparentemente não ajuda a modelar o fenômeno\n",
    "2. Correlações muito fracas\n",
    "3. Apresenta uma contagem bastante contínua em todo o range da variância da feature, semelhante a variáveis categóricas\n",
    "\n",
    "###### Tenure\n",
    "1. Aparentemente não ajuda a modelar o fenômeno\n",
    "2. Correlações muito fracas\n",
    "3. Apesar das médias de churn por categoria serem relativamente diferentes, os desvios padrões colocam todas as categorias em um mesmo patamar"
   ]
  },
  {
   "cell_type": "markdown",
   "id": "671906ec",
   "metadata": {
    "heading_collapsed": true,
    "hidden": true
   },
   "source": [
    "## 3.1 Business Hypothesis"
   ]
  },
  {
   "cell_type": "markdown",
   "id": "ff532a42",
   "metadata": {
    "heading_collapsed": true,
    "hidden": true
   },
   "source": [
    "### 3.1.1 Hypothesis Mindmap"
   ]
  },
  {
   "cell_type": "code",
   "execution_count": 91,
   "id": "e60ac312",
   "metadata": {
    "ExecuteTime": {
     "end_time": "2022-06-10T18:47:24.663077Z",
     "start_time": "2022-06-10T18:47:24.648114Z"
    },
    "hidden": true
   },
   "outputs": [
    {
     "data": {
      "image/png": "[encoded data removed]",
      "text/plain": [
       "<IPython.core.display.Image object>"
      ]
     },
     "execution_count": 91,
     "metadata": {},
     "output_type": "execute_result"
    }
   ],
   "source": [
    "Image('..\\\\img\\\\mindmap.png')"
   ]
  },
  {
   "cell_type": "markdown",
   "id": "888bf8f2",
   "metadata": {
    "heading_collapsed": true,
    "hidden": true
   },
   "source": [
    "### 3.1.2 Creating Hypothesis"
   ]
  },
  {
   "cell_type": "markdown",
   "id": "b8f4837a",
   "metadata": {
    "heading_collapsed": true,
    "hidden": true
   },
   "source": [
    "###### Clientes:\n",
    "1. Clientes mais ativos deveriam fazer menos churn.\n",
    "2. Mulheres deveriam fazer menos churn.\n",
    "3. Clientes com salários maiores deveriam fazer mais churn.\n",
    "4. Clientes mais velhos deveriam fazer menos churn.\n",
    "5. Clientes com melhores scores deveriam fazer mais churn\n",
    "\n",
    "###### Conta Bancária:\n",
    "1. Clientes com contas bancárias com maiores movimentações mensais deveriam fazer menos churn.\n",
    "2. Clientes que adquirem mais produtos deveriam fazer menos churn.\n",
    "3. Clientes com saldos bancários maiores deveriam fazer menos churn.\n",
    "4. Clientes com cartão de crédito deveriam fazer menos churn.\n",
    "\n",
    "###### Loja:\n",
    "1. Lojas especiais VIPs deveriam ter menos churn.\n",
    "2. Lojas melhor localizadas deveriam ter menos churn.\n",
    "3. Lojas maiores deveriam ter menos churn.\n",
    "4. Lojas localizadas em países com melhores PIB's deveriam vender mais.\n",
    "\n",
    "###### Lista Final de Hipóteses:\n",
    "As hipóteses em negrito foram selecionadas e serão estudadas primeiro. O principal critério para selecionar as possíveis hipóteses foi a disponibilidade de features que possibilitem os estudos.\n",
    "\n",
    "1. Clientes mais ativos deveriam fazer menos churn.\n",
    "2. Mulheres deveriam fazer menos churn.\n",
    "3. Clientes com salários maiores deveriam fazer mais churn.\n",
    "4. Clientes mais velhos deveriam fazer menos churn.\n",
    "5. Clientes com melhores scores deveriam fazer mais churn\n",
    "6. Clientes com contas bancárias com maiores movimentações mensais deveriam fazer menos churn.\n",
    "7. Clientes que adquirem mais produtos deveriam fazer menos churn.\n",
    "8. Clientes com saldos bancários maiores deveriam fazer menos churn.\n",
    "9. Clientes com cartão de crédito deveriam fazer menos churn."
   ]
  },
  {
   "cell_type": "markdown",
   "id": "5cafe1f4",
   "metadata": {
    "heading_collapsed": true,
    "hidden": true
   },
   "source": [
    "## 3.2 Univariate Analysis"
   ]
  },
  {
   "cell_type": "markdown",
   "id": "d80968e0",
   "metadata": {
    "heading_collapsed": true,
    "hidden": true
   },
   "source": [
    "### 3.2.1 Response Variable"
   ]
  },
  {
   "cell_type": "code",
   "execution_count": 92,
   "id": "b9ba9ab8",
   "metadata": {
    "ExecuteTime": {
     "end_time": "2022-06-10T18:47:24.771926Z",
     "start_time": "2022-06-10T18:47:24.665352Z"
    },
    "hidden": true,
    "scrolled": false
   },
   "outputs": [
    {
     "name": "stdout",
     "output_type": "stream",
     "text": [
      "Média de churn: 20.18%\n"
     ]
    },
    {
     "data": {
      "image/png": "[encoded data removed]",
      "text/plain": [
       "<Figure size 432x288 with 1 Axes>"
      ]
     },
     "metadata": {
      "needs_background": "light"
     },
     "output_type": "display_data"
    }
   ],
   "source": [
    "sns.countplot(data=df3, x='Exited')\n",
    "sns.despine()\n",
    "plt.title('Exited', fontsize=20)\n",
    "plt.xlabel('')\n",
    "plt.ylabel('')\n",
    "print(f\"Média de churn: {round(df['Exited'].mean()*100, 2)}%\")"
   ]
  },
  {
   "cell_type": "markdown",
   "id": "75c90b3f",
   "metadata": {
    "heading_collapsed": true,
    "hidden": true
   },
   "source": [
    "### 3.2.2 Numerical Variables"
   ]
  },
  {
   "cell_type": "code",
   "execution_count": 93,
   "id": "bb4c4749",
   "metadata": {
    "ExecuteTime": {
     "end_time": "2022-06-10T18:47:25.454640Z",
     "start_time": "2022-06-10T18:47:24.774497Z"
    },
    "hidden": true,
    "hide_input": false,
    "scrolled": false
   },
   "outputs": [
    {
     "data": {
      "image/png": "[encoded data removed]",
      "text/plain": [
       "<Figure size 1440x720 with 4 Axes>"
      ]
     },
     "metadata": {
      "needs_background": "light"
     },
     "output_type": "display_data"
    }
   ],
   "source": [
    "plt.figure(figsize=(20, 10))\n",
    "plt.subplots_adjust(hspace=0.8)\n",
    "\n",
    "plt.subplot(2, 2, 1)\n",
    "indices, li, ls = busca_outliers(df3, 'CreditScore')\n",
    "temp = df3.loc[indices]\n",
    "sns.histplot(data=df3, x='CreditScore')\n",
    "sns.despine()\n",
    "plt.title('CreditScore', fontsize=20)\n",
    "plt.xlabel('')\n",
    "plt.ylabel('')\n",
    "\n",
    "plt.subplot(2, 2, 2)\n",
    "indices, li, ls = busca_outliers(df3, 'Age')\n",
    "temp = df3.loc[indices]\n",
    "sns.histplot(data=df3, x='Age')\n",
    "sns.despine()\n",
    "plt.title('Age', fontsize=20)\n",
    "plt.xlabel('')\n",
    "plt.ylabel('')\n",
    "\n",
    "plt.subplot(2, 2, 3)\n",
    "indices, li, ls = busca_outliers(df3, 'Balance')\n",
    "temp = df3.loc[indices]\n",
    "sns.histplot(data=df3, x='Balance')\n",
    "sns.despine()\n",
    "plt.title('Balance', fontsize=20)\n",
    "plt.xlabel('')\n",
    "plt.ylabel('')\n",
    "\n",
    "plt.subplot(2, 2, 4)\n",
    "indices, li, ls = busca_outliers(df3, 'EstimatedSalary')\n",
    "temp = df3.loc[indices]\n",
    "sns.histplot(data=df3, x='EstimatedSalary')\n",
    "sns.despine()\n",
    "plt.title('EstimatedSalary', fontsize=20)\n",
    "plt.xlabel('')\n",
    "plt.ylabel('');"
   ]
  },
  {
   "cell_type": "markdown",
   "id": "67fdb751",
   "metadata": {
    "hidden": true
   },
   "source": [
    "1. Muitas contas zeradas\n",
    "2. Salário estimado com uma distribuição totalmente plana"
   ]
  },
  {
   "cell_type": "markdown",
   "id": "0fcdf04b",
   "metadata": {
    "heading_collapsed": true,
    "hidden": true
   },
   "source": [
    "### 3.2.3 Categorical Variables"
   ]
  },
  {
   "cell_type": "code",
   "execution_count": 94,
   "id": "64324f04",
   "metadata": {
    "ExecuteTime": {
     "end_time": "2022-06-10T18:47:27.517840Z",
     "start_time": "2022-06-10T18:47:25.456585Z"
    },
    "hidden": true,
    "hide_input": false,
    "scrolled": false
   },
   "outputs": [
    {
     "data": {
      "image/png": "[encoded data removed]",
      "text/plain": [
       "<Figure size 1440x1440 with 12 Axes>"
      ]
     },
     "metadata": {
      "needs_background": "light"
     },
     "output_type": "display_data"
    }
   ],
   "source": [
    "plt.figure(figsize=(20, 20))\n",
    "plt.subplots_adjust(hspace=0.8)\n",
    "\n",
    "plt.subplot(6, 2, 1)\n",
    "sns.countplot(data=df3, x='NumOfProducts', color='b')\n",
    "sns.despine()\n",
    "plt.title('NumOfProducts Count', fontsize=20)\n",
    "plt.xlabel('')\n",
    "plt.ylabel('')\n",
    "\n",
    "plt.subplot(6, 2, 2)\n",
    "sns.barplot(data=df3, x='NumOfProducts', y='Exited', color='b')\n",
    "sns.despine()\n",
    "plt.title('NumOfProducts Exit Mean', fontsize=20)\n",
    "plt.xlabel('')\n",
    "plt.ylabel('')\n",
    "\n",
    "plt.subplot(6, 2, 3)\n",
    "sns.countplot(data=df3, x='HasCrCard', color='b')\n",
    "sns.despine()\n",
    "plt.title('HasCrCard Count', fontsize=20)\n",
    "plt.xlabel('')\n",
    "plt.ylabel('')\n",
    "\n",
    "plt.subplot(6, 2, 4)\n",
    "sns.barplot(data=df3, x='HasCrCard', y='Exited', color='b')\n",
    "sns.despine()\n",
    "plt.title('HasCrCard Exit Mean', fontsize=20)\n",
    "plt.xlabel('')\n",
    "plt.ylabel('')\n",
    "\n",
    "plt.subplot(6, 2, 5)\n",
    "sns.countplot(data=df3, x='IsActiveMember', color='b')\n",
    "sns.despine()\n",
    "plt.title('IsActiveMember Count', fontsize=20)\n",
    "plt.xlabel('')\n",
    "plt.ylabel('')\n",
    "\n",
    "plt.subplot(6, 2, 6)\n",
    "sns.barplot(data=df3, x='IsActiveMember', y='Exited', color='b')\n",
    "sns.despine()\n",
    "plt.title('IsActiveMember Exit Mean', fontsize=20)\n",
    "plt.xlabel('')\n",
    "plt.ylabel('')\n",
    "\n",
    "plt.subplot(6, 2, 7)\n",
    "sns.countplot(data=df3, x='Tenure', color='b')\n",
    "sns.despine()\n",
    "plt.title('Tenure Count', fontsize=20)\n",
    "plt.xlabel('')\n",
    "plt.ylabel('')\n",
    "\n",
    "plt.subplot(6, 2, 8)\n",
    "sns.barplot(data=df3, x='Tenure', y='Exited', color='b')\n",
    "sns.despine()\n",
    "plt.title('Tenure Exit Mean', fontsize=20)\n",
    "plt.xlabel('')\n",
    "plt.ylabel('')\n",
    "\n",
    "plt.subplot(6, 2, 9)\n",
    "sns.countplot(data=df3, x='Gender', color='b')\n",
    "sns.despine()\n",
    "plt.title('Gender Count', fontsize=20)\n",
    "plt.xlabel('')\n",
    "plt.ylabel('')\n",
    "\n",
    "plt.subplot(6, 2, 10)\n",
    "sns.barplot(data=df3, x='Gender', y='Exited', color='b')\n",
    "sns.despine()\n",
    "plt.title('Gender Exit Mean', fontsize=20)\n",
    "plt.xlabel('')\n",
    "plt.ylabel('')\n",
    "\n",
    "plt.subplot(6, 2, 11)\n",
    "sns.countplot(data=df3, x='Geography', color='b')\n",
    "sns.despine()\n",
    "plt.title('Geography Count', fontsize=20)\n",
    "plt.xlabel('')\n",
    "plt.ylabel('')\n",
    "\n",
    "plt.subplot(6, 2, 12)\n",
    "sns.barplot(data=df3, x='Geography', y='Exited', color='b')\n",
    "sns.despine()\n",
    "plt.title('Geography Exit Mean', fontsize=20)\n",
    "plt.xlabel('')\n",
    "plt.ylabel('');"
   ]
  },
  {
   "cell_type": "markdown",
   "id": "ab90b66e",
   "metadata": {
    "heading_collapsed": true,
    "hidden": true
   },
   "source": [
    "###### 1. Clientes mais ativos deveriam fazer menos churn.\n",
    "Hipótese validada, clientes mais ativos fazem menos churn\n",
    "###### 2. Mulheres deveriam fazer menos churn.\n",
    "Hipótese refutada, mulheres fazem mais churn\n",
    "###### 7. Clientes que adquirem mais produtos deveriam fazer menos churn.\n",
    "Hipótese refutada, clientes que adquirirem mais produtos fazem mais churn\n",
    "###### 9. Clientes com cartão de crédito deveriam fazer menos churn.\n",
    "Hipótese refutada, cartão de crédito aparentemente é indiferente para o churn"
   ]
  },
  {
   "cell_type": "markdown",
   "id": "df4a8598",
   "metadata": {
    "heading_collapsed": true,
    "hidden": true
   },
   "source": [
    "## 3.3 Bivariate Analysis"
   ]
  },
  {
   "cell_type": "markdown",
   "id": "fc256eea",
   "metadata": {
    "heading_collapsed": true,
    "hidden": true
   },
   "source": [
    "###### 3.3.1 Clientes com salários maiores deveriam fazer mais churn.\n",
    "Hipótese refutada, salário aparentemente não influencia no churn"
   ]
  },
  {
   "cell_type": "code",
   "execution_count": 95,
   "id": "3161b88d",
   "metadata": {
    "ExecuteTime": {
     "end_time": "2022-06-10T18:47:27.803279Z",
     "start_time": "2022-06-10T18:47:27.519833Z"
    },
    "hidden": true,
    "hide_input": false,
    "scrolled": false
   },
   "outputs": [
    {
     "data": {
      "image/png": "[encoded data removed]",
      "text/plain": [
       "<Figure size 1440x360 with 2 Axes>"
      ]
     },
     "metadata": {
      "needs_background": "light"
     },
     "output_type": "display_data"
    }
   ],
   "source": [
    "plt.figure(figsize=(20, 5))\n",
    "plt.subplot(1, 2, 1)\n",
    "sns.kdeplot(data=df3.loc[df3['Exited']==0], x='EstimatedSalary', color='b')\n",
    "sns.kdeplot(data=df3.loc[df3['Exited']==1], x='EstimatedSalary', color='r')\n",
    "sns.despine()\n",
    "plt.title('EstimatedSalary x Exited', fontsize=20)\n",
    "plt.xlabel('')\n",
    "plt.ylabel('')\n",
    "\n",
    "plt.subplot(1, 2, 2)\n",
    "sns.boxplot(data=df3, y='EstimatedSalary', x='Exited')\n",
    "sns.despine()\n",
    "plt.title('EstimatedSalary x Exited', fontsize=20)\n",
    "plt.xlabel('')\n",
    "plt.ylabel('');"
   ]
  },
  {
   "cell_type": "markdown",
   "id": "ae2daddd",
   "metadata": {
    "heading_collapsed": true,
    "hidden": true
   },
   "source": [
    "###### 3.3.2. Clientes mais velhos deveriam fazer menos churn.\n",
    "Hipótese refutada, clientes mais velhos fazem mais churn"
   ]
  },
  {
   "cell_type": "code",
   "execution_count": 96,
   "id": "e7fe99c2",
   "metadata": {
    "ExecuteTime": {
     "end_time": "2022-06-10T18:47:28.086055Z",
     "start_time": "2022-06-10T18:47:27.806247Z"
    },
    "hidden": true,
    "hide_input": false,
    "scrolled": false
   },
   "outputs": [
    {
     "data": {
      "image/png": "[encoded data removed]",
      "text/plain": [
       "<Figure size 1440x360 with 2 Axes>"
      ]
     },
     "metadata": {
      "needs_background": "light"
     },
     "output_type": "display_data"
    }
   ],
   "source": [
    "plt.figure(figsize=(20, 5))\n",
    "plt.subplot(1, 2, 1)\n",
    "sns.kdeplot(data=df3.loc[df3['Exited']==0], x='Age', color='b')\n",
    "sns.kdeplot(data=df3.loc[df3['Exited']==1], x='Age', color='r')\n",
    "sns.despine()\n",
    "plt.title('Age x Exited', fontsize=20)\n",
    "plt.xlabel('')\n",
    "plt.ylabel('')\n",
    "\n",
    "plt.subplot(1, 2, 2)\n",
    "sns.boxplot(data=df3, y='Age', x='Exited')\n",
    "sns.despine()\n",
    "plt.title('Age x Exited', fontsize=20)\n",
    "plt.xlabel('')\n",
    "plt.ylabel('');"
   ]
  },
  {
   "cell_type": "code",
   "execution_count": 97,
   "id": "06c30ced",
   "metadata": {
    "ExecuteTime": {
     "end_time": "2022-06-10T18:47:28.102002Z",
     "start_time": "2022-06-10T18:47:28.088086Z"
    },
    "hidden": true,
    "hide_input": false,
    "scrolled": false
   },
   "outputs": [
    {
     "name": "stdout",
     "output_type": "stream",
     "text": [
      "Média de clientes que permanecem na base: 37\n",
      "Média de clientes em churn: 44\n"
     ]
    }
   ],
   "source": [
    "print(f\"Média de clientes que permanecem na base: {int(df3.loc[df3['Exited']==0, 'Age'].mean())}\")\n",
    "print(f\"Média de clientes em churn: {int(df3.loc[df3['Exited']==1, 'Age'].mean())}\")"
   ]
  },
  {
   "cell_type": "markdown",
   "id": "34744ba7",
   "metadata": {
    "hidden": true
   },
   "source": [
    "A distribuição de idade entre os clientes que fizeram ou não churn é bastante diferente. A média de clientes que fazem churn está acima do terceiro quartil dos clientes que não fizeram churn."
   ]
  },
  {
   "cell_type": "markdown",
   "id": "ab4f93d8",
   "metadata": {
    "heading_collapsed": true,
    "hidden": true
   },
   "source": [
    "###### 3.3.3. Clientes com melhores scores deveriam fazer mais churn\n",
    "Hipótese refutada, score aparentemente não influencia no churn"
   ]
  },
  {
   "cell_type": "code",
   "execution_count": 98,
   "id": "18352641",
   "metadata": {
    "ExecuteTime": {
     "end_time": "2022-06-10T18:47:28.368081Z",
     "start_time": "2022-06-10T18:47:28.103950Z"
    },
    "hidden": true,
    "hide_input": false,
    "scrolled": true
   },
   "outputs": [
    {
     "data": {
      "image/png": "[encoded data removed]",
      "text/plain": [
       "<Figure size 1440x360 with 2 Axes>"
      ]
     },
     "metadata": {
      "needs_background": "light"
     },
     "output_type": "display_data"
    }
   ],
   "source": [
    "plt.figure(figsize=(20, 5))\n",
    "plt.subplot(1, 2, 1)\n",
    "sns.kdeplot(data=df3.loc[df3['Exited']==0], x='CreditScore', color='b')\n",
    "sns.kdeplot(data=df3.loc[df3['Exited']==1], x='CreditScore', color='r')\n",
    "sns.despine()\n",
    "plt.title('CreditScore x Exited', fontsize=20)\n",
    "plt.xlabel('')\n",
    "plt.ylabel('')\n",
    "\n",
    "plt.subplot(1, 2, 2)\n",
    "sns.boxplot(data=df3, y='CreditScore', x='Exited')\n",
    "sns.despine()\n",
    "plt.title('CreditScore x Exited', fontsize=20)\n",
    "plt.xlabel('')\n",
    "plt.ylabel('');"
   ]
  },
  {
   "cell_type": "markdown",
   "id": "50f44d3b",
   "metadata": {
    "heading_collapsed": true,
    "hidden": true
   },
   "source": [
    "###### 3.3.4. Clientes com saldos bancários maiores deveriam fazer menos churn.\n",
    "Hipótese refutada, clientes com mais dinheiro na conta fazem mais churn."
   ]
  },
  {
   "cell_type": "code",
   "execution_count": 99,
   "id": "09ca40e1",
   "metadata": {
    "ExecuteTime": {
     "end_time": "2022-06-10T18:47:28.648251Z",
     "start_time": "2022-06-10T18:47:28.371064Z"
    },
    "hidden": true,
    "scrolled": true
   },
   "outputs": [
    {
     "data": {
      "image/png": "[encoded data removed]",
      "text/plain": [
       "<Figure size 1440x360 with 2 Axes>"
      ]
     },
     "metadata": {
      "needs_background": "light"
     },
     "output_type": "display_data"
    }
   ],
   "source": [
    "plt.figure(figsize=(20, 5))\n",
    "plt.subplot(1, 2, 1)\n",
    "sns.kdeplot(data=df3.loc[df3['Exited']==0], x='Balance', color='b')\n",
    "sns.kdeplot(data=df3.loc[df3['Exited']==1], x='Balance', color='r')\n",
    "sns.despine()\n",
    "plt.title('Balance x Exited', fontsize=20)\n",
    "plt.xlabel('')\n",
    "plt.ylabel('')\n",
    "\n",
    "plt.subplot(1, 2, 2)\n",
    "sns.boxplot(data=df3, y='Balance', x='Exited')\n",
    "sns.despine()\n",
    "plt.title('Balance x Exited', fontsize=20)\n",
    "plt.xlabel('')\n",
    "plt.ylabel('');"
   ]
  },
  {
   "cell_type": "markdown",
   "id": "9cc57392",
   "metadata": {
    "heading_collapsed": true,
    "hidden": true
   },
   "source": [
    "## 3.4 Multivariate Analysis"
   ]
  },
  {
   "cell_type": "markdown",
   "id": "b9af74c9",
   "metadata": {
    "heading_collapsed": true,
    "hidden": true
   },
   "source": [
    "### 3.4.1 Numerical Attributes"
   ]
  },
  {
   "cell_type": "code",
   "execution_count": 100,
   "id": "56e44158",
   "metadata": {
    "ExecuteTime": {
     "end_time": "2022-06-10T18:47:28.791434Z",
     "start_time": "2022-06-10T18:47:28.650244Z"
    },
    "hidden": true
   },
   "outputs": [
    {
     "data": {
      "image/png": "[encoded data removed]",
      "text/plain": [
       "<Figure size 432x288 with 1 Axes>"
      ]
     },
     "metadata": {
      "needs_background": "light"
     },
     "output_type": "display_data"
    }
   ],
   "source": [
    "sns.heatmap(df3[num_attributes].corr(), annot=True, cbar=False);"
   ]
  },
  {
   "cell_type": "markdown",
   "id": "6bd90288",
   "metadata": {
    "heading_collapsed": true,
    "hidden": true
   },
   "source": [
    "### 3.4.2 Categorical Attributes"
   ]
  },
  {
   "cell_type": "code",
   "execution_count": 101,
   "id": "33f85e0d",
   "metadata": {
    "ExecuteTime": {
     "end_time": "2022-06-10T18:47:29.278195Z",
     "start_time": "2022-06-10T18:47:28.793440Z"
    },
    "hidden": true
   },
   "outputs": [
    {
     "data": {
      "image/png": "[encoded data removed]",
      "text/plain": [
       "<Figure size 432x288 with 1 Axes>"
      ]
     },
     "metadata": {
      "needs_background": "light"
     },
     "output_type": "display_data"
    }
   ],
   "source": [
    "cramer_correlation = []\n",
    "\n",
    "for i, col_1 in enumerate(cat_attributes):\n",
    "    for j, col_2 in enumerate(cat_attributes):\n",
    "        cramer_correlation.append(cramer_v(df3[col_1], df3[col_2]))\n",
    "        \n",
    "matrix = pd.DataFrame(np.array(cramer_correlation).reshape(6, 6), index=cat_attributes, columns=cat_attributes)\n",
    "\n",
    "sns.heatmap(matrix, annot=True, cbar=False);"
   ]
  },
  {
   "cell_type": "markdown",
   "id": "fe4315a1",
   "metadata": {
    "heading_collapsed": true
   },
   "source": [
    "# 4.0 Data Filtering"
   ]
  },
  {
   "cell_type": "code",
   "execution_count": 102,
   "id": "56cf0f13",
   "metadata": {
    "ExecuteTime": {
     "end_time": "2022-06-10T18:47:29.293172Z",
     "start_time": "2022-06-10T18:47:29.280194Z"
    },
    "hidden": true
   },
   "outputs": [],
   "source": [
    "df4 = df3.copy()"
   ]
  },
  {
   "cell_type": "markdown",
   "id": "a89df5df",
   "metadata": {
    "heading_collapsed": true,
    "hidden": true
   },
   "source": [
    "## 4.1 Columns Filtering"
   ]
  },
  {
   "cell_type": "code",
   "execution_count": 103,
   "id": "2b905698",
   "metadata": {
    "ExecuteTime": {
     "end_time": "2022-06-10T18:47:29.308319Z",
     "start_time": "2022-06-10T18:47:29.295199Z"
    },
    "hidden": true
   },
   "outputs": [],
   "source": [
    "cols_filtering = ['Surname']\n",
    "df4.drop(cols_filtering, axis=1, inplace=True)"
   ]
  },
  {
   "cell_type": "markdown",
   "id": "a66c1865",
   "metadata": {
    "heading_collapsed": true,
    "hidden": true
   },
   "source": [
    "## 4.2 Rows Filtering"
   ]
  },
  {
   "cell_type": "code",
   "execution_count": null,
   "id": "c50f1a0c",
   "metadata": {
    "hidden": true
   },
   "outputs": [],
   "source": []
  },
  {
   "cell_type": "markdown",
   "id": "fc115a8c",
   "metadata": {},
   "source": [
    "# 5.0 Data Preparation"
   ]
  },
  {
   "cell_type": "code",
   "execution_count": 104,
   "id": "a5087103",
   "metadata": {
    "ExecuteTime": {
     "end_time": "2022-06-10T18:47:29.324329Z",
     "start_time": "2022-06-10T18:47:29.313301Z"
    }
   },
   "outputs": [],
   "source": [
    "df5 = df4.copy()"
   ]
  },
  {
   "cell_type": "markdown",
   "id": "731ee014",
   "metadata": {
    "heading_collapsed": true
   },
   "source": [
    "## 5.1 Normalization"
   ]
  },
  {
   "cell_type": "code",
   "execution_count": 105,
   "id": "ac1f8819",
   "metadata": {
    "ExecuteTime": {
     "end_time": "2022-06-10T18:47:29.339334Z",
     "start_time": "2022-06-10T18:47:29.325382Z"
    },
    "hidden": true
   },
   "outputs": [],
   "source": [
    "# 'Balance'\n",
    "ss_balance = StandardScaler()\n",
    "ss_balance = ss_balance.fit(df5[['Balance']].values)\n",
    "df5['Balance'] = ss_balance.transform(df5[['Balance']].values)"
   ]
  },
  {
   "cell_type": "markdown",
   "id": "316f2862",
   "metadata": {
    "heading_collapsed": true
   },
   "source": [
    "## 5.2 Rescaling"
   ]
  },
  {
   "cell_type": "code",
   "execution_count": 106,
   "id": "0a22da12",
   "metadata": {
    "ExecuteTime": {
     "end_time": "2022-06-10T18:47:29.370505Z",
     "start_time": "2022-06-10T18:47:29.341362Z"
    },
    "hidden": true
   },
   "outputs": [],
   "source": [
    "# 'CreditScore'\n",
    "mm_credit_score = MinMaxScaler().fit(df5[['CreditScore']].values)\n",
    "df5['CreditScore'] = mm_credit_score.transform(df5[['CreditScore']].values)\n",
    "\n",
    "# 'EstimatedSalary'\n",
    "mm_estimatedsalary = MinMaxScaler().fit(df5[['EstimatedSalary']].values)\n",
    "df5['EstimatedSalary'] = mm_estimatedsalary.transform(df5[['EstimatedSalary']].values)\n",
    "\n",
    "# 'Age'\n",
    "df5['Age'] = np.log1p(df5['Age'])"
   ]
  },
  {
   "cell_type": "markdown",
   "id": "129c828b",
   "metadata": {
    "heading_collapsed": true
   },
   "source": [
    "## 5.3 Transformations"
   ]
  },
  {
   "cell_type": "markdown",
   "id": "67bea792",
   "metadata": {
    "heading_collapsed": true,
    "hidden": true
   },
   "source": [
    "### 5.3.1 Encoding"
   ]
  },
  {
   "cell_type": "code",
   "execution_count": 107,
   "id": "a326e43b",
   "metadata": {
    "ExecuteTime": {
     "end_time": "2022-06-10T18:47:29.401309Z",
     "start_time": "2022-06-10T18:47:29.371503Z"
    },
    "hidden": true
   },
   "outputs": [],
   "source": [
    "# 'Geography'\n",
    "map_geography = df5.groupby('Geography').agg({'Exited':'mean'})['Exited']\n",
    "df5['Geography'] = df5['Geography'].map(map_geography)\n",
    "\n",
    "# 'Gender'\n",
    "map_gender = {'Female':0, 'Male':1}\n",
    "df5['Gender'] = df5['Gender'].map(map_gender)\n",
    "\n",
    "# 'NumOfProducts'\n",
    "map_numofproducts = df5.groupby('NumOfProducts').agg({'Exited':'mean'})['Exited']\n",
    "df5['NumOfProducts'] = df5['NumOfProducts'].map(map_numofproducts)"
   ]
  },
  {
   "cell_type": "markdown",
   "id": "b5e2bb40",
   "metadata": {
    "heading_collapsed": true,
    "hidden": true
   },
   "source": [
    "### 5.3.2 Nature Transformation"
   ]
  },
  {
   "cell_type": "code",
   "execution_count": 108,
   "id": "5176273f",
   "metadata": {
    "ExecuteTime": {
     "end_time": "2022-06-10T18:47:29.496264Z",
     "start_time": "2022-06-10T18:47:29.403327Z"
    },
    "hidden": true
   },
   "outputs": [],
   "source": [
    "# 'Tenure'\n",
    "tenure_cicle = df5['Tenure'].max() - df5['Tenure'].min()\n",
    "df5['Tenure_sin'] = df5['Tenure'].apply(lambda x: np.sin(x* (2*np.pi/tenure_cicle)))\n",
    "df5['Tenure_cos'] = df5['Tenure'].apply(lambda x: np.cos(x* (2*np.pi/tenure_cicle)))\n",
    "df5.drop('Tenure', axis=1, inplace=True)"
   ]
  },
  {
   "cell_type": "markdown",
   "id": "4dd9983f",
   "metadata": {},
   "source": [
    "## 5.4 Splits"
   ]
  },
  {
   "cell_type": "code",
   "execution_count": 109,
   "id": "5b5c857d",
   "metadata": {
    "ExecuteTime": {
     "end_time": "2022-06-10T18:47:29.512254Z",
     "start_time": "2022-06-10T18:47:29.498260Z"
    }
   },
   "outputs": [],
   "source": [
    "# spliting X and y\n",
    "X = df5.drop(['RowNumber', 'CustomerId', 'Exited'], axis=1).values\n",
    "y = df5['Exited'].values.ravel()\n",
    "\n",
    "# train and test split\n",
    "X_train, X_val, y_train, y_val = train_test_split(X, y, test_size=0.2, random_state=101)"
   ]
  },
  {
   "cell_type": "markdown",
   "id": "b4e28bf5",
   "metadata": {
    "heading_collapsed": true
   },
   "source": [
    "## 5.5 Balancing"
   ]
  },
  {
   "cell_type": "code",
   "execution_count": 110,
   "id": "f55ec33f",
   "metadata": {
    "ExecuteTime": {
     "end_time": "2022-06-10T18:47:29.574260Z",
     "start_time": "2022-06-10T18:47:29.515246Z"
    },
    "hidden": true
   },
   "outputs": [],
   "source": [
    "smote = SMOTE()\n",
    "\n",
    "X_train_smote, y_train_smote = smote.fit_resample(X_train, y_train)\n",
    "X_smote, y_smote = smote.fit_resample(X, y)"
   ]
  },
  {
   "cell_type": "markdown",
   "id": "4d50cea2",
   "metadata": {},
   "source": [
    "## 5.6 Test Preparation"
   ]
  },
  {
   "cell_type": "code",
   "execution_count": 111,
   "id": "2292285d",
   "metadata": {
    "ExecuteTime": {
     "end_time": "2022-06-10T18:47:29.636062Z",
     "start_time": "2022-06-10T18:47:29.575257Z"
    }
   },
   "outputs": [],
   "source": [
    "test_backup = test.copy()\n",
    "\n",
    "# for next business steps\n",
    "map_test_id_salary = test[['CustomerId', 'EstimatedSalary']].set_index('CustomerId')['EstimatedSalary']\n",
    "\n",
    "test.drop(cols_filtering, axis=1, inplace=True)\n",
    "\n",
    "test['Balance'] = ss_balance.transform(test[['Balance']].values)\n",
    "\n",
    "test['CreditScore'] = mm_credit_score.transform(test[['CreditScore']].values)\n",
    "\n",
    "test['EstimatedSalary'] = mm_estimatedsalary.transform(test[['EstimatedSalary']].values)\n",
    "\n",
    "test['Age'] = np.log1p(test['Age'])\n",
    "\n",
    "test['Geography'] = test['Geography'].map(map_geography)\n",
    "\n",
    "test['Gender'] = test['Gender'].map(map_gender)\n",
    "\n",
    "test['NumOfProducts'] = test['NumOfProducts'].map(map_numofproducts)\n",
    "\n",
    "test['Tenure_sin'] = test['Tenure'].apply(lambda x: np.sin(x* (2*np.pi/tenure_cicle)))\n",
    "test['Tenure_cos'] = test['Tenure'].apply(lambda x: np.cos(x* (2*np.pi/tenure_cicle)))\n",
    "test.drop('Tenure', axis=1, inplace=True)\n",
    "\n",
    "# spliting X and y\n",
    "X_test = test.drop(['RowNumber', 'CustomerId', 'Exited'], axis=1).values\n",
    "y_test = test['Exited'].values.ravel()"
   ]
  },
  {
   "cell_type": "markdown",
   "id": "87d1d009",
   "metadata": {},
   "source": [
    "# 6.0 Feature Selection"
   ]
  },
  {
   "cell_type": "code",
   "execution_count": 112,
   "id": "4262a73e",
   "metadata": {
    "ExecuteTime": {
     "end_time": "2022-06-10T18:47:29.651874Z",
     "start_time": "2022-06-10T18:47:29.637069Z"
    }
   },
   "outputs": [],
   "source": [
    "df6 = df5.copy()"
   ]
  },
  {
   "cell_type": "markdown",
   "id": "c89e6ce0",
   "metadata": {
    "heading_collapsed": true
   },
   "source": [
    "## 6.1 Embedded Method"
   ]
  },
  {
   "cell_type": "markdown",
   "id": "4d7d41a4",
   "metadata": {
    "heading_collapsed": true,
    "hidden": true
   },
   "source": [
    "### 6.1.1 Importances"
   ]
  },
  {
   "cell_type": "code",
   "execution_count": 113,
   "id": "786d3a43",
   "metadata": {
    "ExecuteTime": {
     "end_time": "2022-06-10T18:47:31.407189Z",
     "start_time": "2022-06-10T18:47:29.653521Z"
    },
    "hidden": true
   },
   "outputs": [
    {
     "name": "stdout",
     "output_type": "stream",
     "text": [
      "train\n",
      "              precision    recall  f1-score   support\n",
      "\n",
      "           0       0.91      0.86      0.88      1265\n",
      "           1       0.55      0.67      0.61       335\n",
      "\n",
      "    accuracy                           0.82      1600\n",
      "   macro avg       0.73      0.76      0.74      1600\n",
      "weighted avg       0.83      0.82      0.82      1600\n",
      "\n",
      "test\n",
      "              precision    recall  f1-score   support\n",
      "\n",
      "           0       0.91      0.84      0.87      1577\n",
      "           1       0.53      0.68      0.59       423\n",
      "\n",
      "    accuracy                           0.80      2000\n",
      "   macro avg       0.72      0.76      0.73      2000\n",
      "weighted avg       0.83      0.80      0.81      2000\n",
      "\n"
     ]
    }
   ],
   "source": [
    "# train\n",
    "\n",
    "# model definition\n",
    "rf_model = RandomForestClassifier(n_estimators=100, min_samples_leaf=100)\n",
    "\n",
    "# fiting model\n",
    "rf_fit = rf_model.fit(X_train_smote, y_train_smote)\n",
    "\n",
    "# predicts\n",
    "y_hat = rf_fit.predict(X_val)\n",
    "\n",
    "print('train')\n",
    "print(classification_report(y_val, y_hat))\n",
    "\n",
    "# test\n",
    "\n",
    "# fiting model\n",
    "rf_fit = rf_model.fit(X_smote, y_smote)\n",
    "\n",
    "# predicts\n",
    "y_hat = rf_fit.predict(X_test)\n",
    "\n",
    "print('test')\n",
    "print(classification_report(y_test, y_hat))"
   ]
  },
  {
   "cell_type": "code",
   "execution_count": 114,
   "id": "955a5b54",
   "metadata": {
    "ExecuteTime": {
     "end_time": "2022-06-10T18:47:31.454244Z",
     "start_time": "2022-06-10T18:47:31.409186Z"
    },
    "hidden": true
   },
   "outputs": [
    {
     "data": {
      "text/html": [
       "<div>\n",
       "<style scoped>\n",
       "    .dataframe tbody tr th:only-of-type {\n",
       "        vertical-align: middle;\n",
       "    }\n",
       "\n",
       "    .dataframe tbody tr th {\n",
       "        vertical-align: top;\n",
       "    }\n",
       "\n",
       "    .dataframe thead th {\n",
       "        text-align: right;\n",
       "    }\n",
       "</style>\n",
       "<table border=\"1\" class=\"dataframe\">\n",
       "  <thead>\n",
       "    <tr style=\"text-align: right;\">\n",
       "      <th></th>\n",
       "      <th>features</th>\n",
       "      <th>rf_importances</th>\n",
       "    </tr>\n",
       "  </thead>\n",
       "  <tbody>\n",
       "    <tr>\n",
       "      <th>0</th>\n",
       "      <td>NumOfProducts</td>\n",
       "      <td>0.406673</td>\n",
       "    </tr>\n",
       "    <tr>\n",
       "      <th>1</th>\n",
       "      <td>Age</td>\n",
       "      <td>0.287402</td>\n",
       "    </tr>\n",
       "    <tr>\n",
       "      <th>2</th>\n",
       "      <td>Geography</td>\n",
       "      <td>0.176978</td>\n",
       "    </tr>\n",
       "    <tr>\n",
       "      <th>3</th>\n",
       "      <td>Balance</td>\n",
       "      <td>0.055531</td>\n",
       "    </tr>\n",
       "    <tr>\n",
       "      <th>4</th>\n",
       "      <td>IsActiveMember</td>\n",
       "      <td>0.039537</td>\n",
       "    </tr>\n",
       "    <tr>\n",
       "      <th>5</th>\n",
       "      <td>Gender</td>\n",
       "      <td>0.012448</td>\n",
       "    </tr>\n",
       "    <tr>\n",
       "      <th>6</th>\n",
       "      <td>EstimatedSalary</td>\n",
       "      <td>0.006992</td>\n",
       "    </tr>\n",
       "    <tr>\n",
       "      <th>7</th>\n",
       "      <td>CreditScore</td>\n",
       "      <td>0.006098</td>\n",
       "    </tr>\n",
       "    <tr>\n",
       "      <th>8</th>\n",
       "      <td>Tenure_sin</td>\n",
       "      <td>0.004198</td>\n",
       "    </tr>\n",
       "    <tr>\n",
       "      <th>9</th>\n",
       "      <td>Tenure_cos</td>\n",
       "      <td>0.003457</td>\n",
       "    </tr>\n",
       "    <tr>\n",
       "      <th>10</th>\n",
       "      <td>HasCrCard</td>\n",
       "      <td>0.000685</td>\n",
       "    </tr>\n",
       "  </tbody>\n",
       "</table>\n",
       "</div>"
      ],
      "text/plain": [
       "           features  rf_importances\n",
       "0     NumOfProducts        0.406673\n",
       "1               Age        0.287402\n",
       "2         Geography        0.176978\n",
       "3           Balance        0.055531\n",
       "4    IsActiveMember        0.039537\n",
       "5            Gender        0.012448\n",
       "6   EstimatedSalary        0.006992\n",
       "7       CreditScore        0.006098\n",
       "8        Tenure_sin        0.004198\n",
       "9        Tenure_cos        0.003457\n",
       "10        HasCrCard        0.000685"
      ]
     },
     "execution_count": 114,
     "metadata": {},
     "output_type": "execute_result"
    }
   ],
   "source": [
    "cols = df6.drop(['RowNumber', 'CustomerId', 'Exited'], axis=1).columns.to_list()\n",
    "\n",
    "importances = pd.DataFrame(rf_model.feature_importances_, index=cols, columns=['rf_importances']).sort_values('rf_importances', ascending=False).reset_index().rename(columns={'index': 'features'})\n",
    "importances"
   ]
  },
  {
   "cell_type": "code",
   "execution_count": 115,
   "id": "0d06c269",
   "metadata": {
    "ExecuteTime": {
     "end_time": "2022-06-10T18:47:31.627220Z",
     "start_time": "2022-06-10T18:47:31.456215Z"
    },
    "hidden": true
   },
   "outputs": [
    {
     "data": {
      "image/png": "[encoded data removed]",
      "text/plain": [
       "<Figure size 432x288 with 1 Axes>"
      ]
     },
     "metadata": {
      "needs_background": "light"
     },
     "output_type": "display_data"
    }
   ],
   "source": [
    "sns.barplot(data=importances.sort_values('rf_importances', ascending=False), x='rf_importances', y='features', color='r', alpha=0.3)\n",
    "sns.despine(left=True, bottom=True)\n",
    "plt.title('Random Forest')\n",
    "plt.xlabel('')\n",
    "plt.ylabel('');"
   ]
  },
  {
   "cell_type": "markdown",
   "id": "ff720c42",
   "metadata": {
    "heading_collapsed": true
   },
   "source": [
    "## 6.2 Wrapper Method"
   ]
  },
  {
   "cell_type": "markdown",
   "id": "11501417",
   "metadata": {
    "heading_collapsed": true,
    "hidden": true
   },
   "source": [
    "### 6.2.1 Boruta"
   ]
  },
  {
   "cell_type": "code",
   "execution_count": null,
   "id": "be1e7122",
   "metadata": {
    "hidden": true
   },
   "outputs": [],
   "source": []
  },
  {
   "cell_type": "markdown",
   "id": "5d2d4dfc",
   "metadata": {
    "heading_collapsed": true,
    "hidden": true
   },
   "source": [
    "### 6.2.2 RFE"
   ]
  },
  {
   "cell_type": "code",
   "execution_count": null,
   "id": "e911384c",
   "metadata": {
    "hidden": true
   },
   "outputs": [],
   "source": []
  },
  {
   "cell_type": "markdown",
   "id": "38221788",
   "metadata": {},
   "source": [
    "## 6.3 Droping Features"
   ]
  },
  {
   "cell_type": "code",
   "execution_count": 116,
   "id": "5ae055c4",
   "metadata": {
    "ExecuteTime": {
     "end_time": "2022-06-10T18:47:31.643165Z",
     "start_time": "2022-06-10T18:47:31.630230Z"
    }
   },
   "outputs": [],
   "source": [
    "cols_drop = 'Gender EstimatedSalary CreditScore Tenure_cos Tenure_sin HasCrCard'.split()\n",
    "\n",
    "df6.drop(cols_drop, axis=1, inplace=True)"
   ]
  },
  {
   "cell_type": "markdown",
   "id": "a153a298",
   "metadata": {},
   "source": [
    "# 7.0 Machine Learning Modeling"
   ]
  },
  {
   "cell_type": "markdown",
   "id": "b3e64e9d",
   "metadata": {},
   "source": [
    "## 7.1 Preprocessing"
   ]
  },
  {
   "cell_type": "code",
   "execution_count": 117,
   "id": "2db62338",
   "metadata": {
    "ExecuteTime": {
     "end_time": "2022-06-10T18:47:31.720182Z",
     "start_time": "2022-06-10T18:47:31.646936Z"
    }
   },
   "outputs": [],
   "source": [
    "df7 = df6.copy()\n",
    "error = pd.DataFrame()\n",
    "\n",
    "# spliting X and y\n",
    "X = df7.drop(['RowNumber', 'CustomerId', 'Exited'], axis=1).values\n",
    "y = df7['Exited'].values.ravel()\n",
    "\n",
    "# train and test split\n",
    "X_train, X_val, y_train, y_val = train_test_split(X, y, test_size=0.2, random_state=101)\n",
    "\n",
    "# balancing\n",
    "X_train_smote, y_train_smote = smote.fit_resample(X_train, y_train)\n",
    "X_smote, y_smote = smote.fit_resample(X, y)\n",
    "\n",
    "# test preparation\n",
    "test = test_backup.copy()\n",
    "\n",
    "test.drop(cols_filtering, axis=1, inplace=True)\n",
    "\n",
    "test['Balance'] = ss_balance.transform(test[['Balance']].values)\n",
    "\n",
    "test['CreditScore'] = mm_credit_score.transform(test[['CreditScore']].values)\n",
    "\n",
    "test['EstimatedSalary'] = mm_estimatedsalary.transform(test[['EstimatedSalary']].values)\n",
    "\n",
    "test['Age'] = np.log1p(test['Age'])\n",
    "\n",
    "test['Geography'] = test['Geography'].map(map_geography)\n",
    "\n",
    "test['Gender'] = test['Gender'].map(map_gender)\n",
    "\n",
    "test['NumOfProducts'] = test['NumOfProducts'].map(map_numofproducts)\n",
    "\n",
    "test['Tenure_sin'] = test['Tenure'].apply(lambda x: np.sin(x* (2*np.pi/tenure_cicle)))\n",
    "test['Tenure_cos'] = test['Tenure'].apply(lambda x: np.cos(x* (2*np.pi/tenure_cicle)))\n",
    "test.drop('Tenure', axis=1, inplace=True)\n",
    "\n",
    "# feature_selection\n",
    "test.drop(cols_drop, axis=1, inplace=True)\n",
    "\n",
    "# spliting X and y\n",
    "X_test = test.drop(['RowNumber', 'CustomerId', 'Exited'], axis=1).values\n",
    "y_test = test['Exited'].values.ravel()"
   ]
  },
  {
   "cell_type": "markdown",
   "id": "2efb3a76",
   "metadata": {},
   "source": [
    "## 7.2 Logistic Regression"
   ]
  },
  {
   "cell_type": "code",
   "execution_count": 118,
   "id": "40a2225f",
   "metadata": {
    "ExecuteTime": {
     "end_time": "2022-06-10T18:47:31.845307Z",
     "start_time": "2022-06-10T18:47:31.722181Z"
    },
    "scrolled": false
   },
   "outputs": [
    {
     "name": "stdout",
     "output_type": "stream",
     "text": [
      "TRAIN\n",
      "              precision    recall  f1-score   support\n",
      "\n",
      "           0       0.92      0.75      0.83      1265\n",
      "           1       0.45      0.76      0.56       335\n",
      "\n",
      "    accuracy                           0.75      1600\n",
      "   macro avg       0.69      0.76      0.70      1600\n",
      "weighted avg       0.82      0.75      0.77      1600\n",
      "\n",
      "\n",
      "TEST\n",
      "              precision    recall  f1-score   support\n",
      "\n",
      "           0       0.92      0.77      0.84      1577\n",
      "           1       0.47      0.76      0.58       423\n",
      "\n",
      "    accuracy                           0.77      2000\n",
      "   macro avg       0.69      0.76      0.71      2000\n",
      "weighted avg       0.83      0.77      0.78      2000\n",
      "\n"
     ]
    }
   ],
   "source": [
    "lr_model = LogisticRegression()\n",
    "\n",
    "lr_proba_train, lr_proba_test = metrics(X, X_smote, y_smote, X_train_smote, y_train_smote, X_val, y_val, lr_model)"
   ]
  },
  {
   "cell_type": "markdown",
   "id": "d5764779",
   "metadata": {
    "heading_collapsed": true
   },
   "source": [
    "### 7.2.1 Logistic Regression Cross Validation"
   ]
  },
  {
   "cell_type": "code",
   "execution_count": 119,
   "id": "f464a700",
   "metadata": {
    "ExecuteTime": {
     "end_time": "2022-06-10T18:47:32.098214Z",
     "start_time": "2022-06-10T18:47:31.848204Z"
    },
    "hidden": true
   },
   "outputs": [
    {
     "data": {
      "text/html": [
       "<div>\n",
       "<style scoped>\n",
       "    .dataframe tbody tr th:only-of-type {\n",
       "        vertical-align: middle;\n",
       "    }\n",
       "\n",
       "    .dataframe tbody tr th {\n",
       "        vertical-align: top;\n",
       "    }\n",
       "\n",
       "    .dataframe thead th {\n",
       "        text-align: right;\n",
       "    }\n",
       "</style>\n",
       "<table border=\"1\" class=\"dataframe\">\n",
       "  <thead>\n",
       "    <tr style=\"text-align: right;\">\n",
       "      <th></th>\n",
       "      <th>accuracy</th>\n",
       "      <th>precision</th>\n",
       "      <th>recall</th>\n",
       "      <th>f1</th>\n",
       "    </tr>\n",
       "  </thead>\n",
       "  <tbody>\n",
       "    <tr>\n",
       "      <th>fold1</th>\n",
       "      <td>0.75</td>\n",
       "      <td>0.75</td>\n",
       "      <td>0.75</td>\n",
       "      <td>0.75</td>\n",
       "    </tr>\n",
       "    <tr>\n",
       "      <th>fold2</th>\n",
       "      <td>0.76</td>\n",
       "      <td>0.78</td>\n",
       "      <td>0.74</td>\n",
       "      <td>0.76</td>\n",
       "    </tr>\n",
       "    <tr>\n",
       "      <th>fold3</th>\n",
       "      <td>0.75</td>\n",
       "      <td>0.76</td>\n",
       "      <td>0.72</td>\n",
       "      <td>0.74</td>\n",
       "    </tr>\n",
       "    <tr>\n",
       "      <th>fold4</th>\n",
       "      <td>0.75</td>\n",
       "      <td>0.76</td>\n",
       "      <td>0.73</td>\n",
       "      <td>0.74</td>\n",
       "    </tr>\n",
       "    <tr>\n",
       "      <th>fold5</th>\n",
       "      <td>0.73</td>\n",
       "      <td>0.73</td>\n",
       "      <td>0.73</td>\n",
       "      <td>0.73</td>\n",
       "    </tr>\n",
       "    <tr>\n",
       "      <th>mean_and_std</th>\n",
       "      <td>0.75 +/- 0.01</td>\n",
       "      <td>0.75 +/- 0.017</td>\n",
       "      <td>0.73 +/- 0.008</td>\n",
       "      <td>0.74 +/- 0.01</td>\n",
       "    </tr>\n",
       "  </tbody>\n",
       "</table>\n",
       "</div>"
      ],
      "text/plain": [
       "                   accuracy       precision          recall             f1\n",
       "fold1                  0.75            0.75            0.75           0.75\n",
       "fold2                  0.76            0.78            0.74           0.76\n",
       "fold3                  0.75            0.76            0.72           0.74\n",
       "fold4                  0.75            0.76            0.73           0.74\n",
       "fold5                  0.73            0.73            0.73           0.73\n",
       "mean_and_std  0.75 +/- 0.01  0.75 +/- 0.017  0.73 +/- 0.008  0.74 +/- 0.01"
      ]
     },
     "execution_count": 119,
     "metadata": {},
     "output_type": "execute_result"
    }
   ],
   "source": [
    "lr_cross_validation, error = cross_validation(X_smote, y_smote, error, 5, 'Linear Regression', lr_model)\n",
    "lr_cross_validation"
   ]
  },
  {
   "cell_type": "markdown",
   "id": "48d654c5",
   "metadata": {
    "heading_collapsed": true
   },
   "source": [
    "## 7.3 KNN"
   ]
  },
  {
   "cell_type": "code",
   "execution_count": 120,
   "id": "1515218c",
   "metadata": {
    "ExecuteTime": {
     "end_time": "2022-06-10T18:47:32.365554Z",
     "start_time": "2022-06-10T18:47:32.100205Z"
    },
    "hidden": true,
    "scrolled": false
   },
   "outputs": [
    {
     "name": "stdout",
     "output_type": "stream",
     "text": [
      "TRAIN\n",
      "              precision    recall  f1-score   support\n",
      "\n",
      "           0       0.90      0.80      0.85      1265\n",
      "           1       0.47      0.67      0.55       335\n",
      "\n",
      "    accuracy                           0.77      1600\n",
      "   macro avg       0.69      0.74      0.70      1600\n",
      "weighted avg       0.81      0.77      0.79      1600\n",
      "\n",
      "\n",
      "TEST\n",
      "              precision    recall  f1-score   support\n",
      "\n",
      "           0       0.91      0.80      0.85      1577\n",
      "           1       0.48      0.72      0.58       423\n",
      "\n",
      "    accuracy                           0.78      2000\n",
      "   macro avg       0.70      0.76      0.71      2000\n",
      "weighted avg       0.82      0.78      0.79      2000\n",
      "\n"
     ]
    }
   ],
   "source": [
    "knn_model = KNeighborsClassifier()\n",
    "\n",
    "knn_proba_train, knn_proba_test = metrics(X, X_smote, y_smote, X_train_smote, y_train_smote, X_val, y_val, knn_model)"
   ]
  },
  {
   "cell_type": "markdown",
   "id": "dd01fd5f",
   "metadata": {
    "heading_collapsed": true,
    "hidden": true
   },
   "source": [
    "### 7.3.1 KNN Cross Validation"
   ]
  },
  {
   "cell_type": "code",
   "execution_count": 121,
   "id": "5a94e510",
   "metadata": {
    "ExecuteTime": {
     "end_time": "2022-06-10T18:47:32.898602Z",
     "start_time": "2022-06-10T18:47:32.367548Z"
    },
    "hidden": true
   },
   "outputs": [
    {
     "data": {
      "text/html": [
       "<div>\n",
       "<style scoped>\n",
       "    .dataframe tbody tr th:only-of-type {\n",
       "        vertical-align: middle;\n",
       "    }\n",
       "\n",
       "    .dataframe tbody tr th {\n",
       "        vertical-align: top;\n",
       "    }\n",
       "\n",
       "    .dataframe thead th {\n",
       "        text-align: right;\n",
       "    }\n",
       "</style>\n",
       "<table border=\"1\" class=\"dataframe\">\n",
       "  <thead>\n",
       "    <tr style=\"text-align: right;\">\n",
       "      <th></th>\n",
       "      <th>accuracy</th>\n",
       "      <th>precision</th>\n",
       "      <th>recall</th>\n",
       "      <th>f1</th>\n",
       "    </tr>\n",
       "  </thead>\n",
       "  <tbody>\n",
       "    <tr>\n",
       "      <th>fold1</th>\n",
       "      <td>0.83</td>\n",
       "      <td>0.81</td>\n",
       "      <td>0.84</td>\n",
       "      <td>0.83</td>\n",
       "    </tr>\n",
       "    <tr>\n",
       "      <th>fold2</th>\n",
       "      <td>0.83</td>\n",
       "      <td>0.81</td>\n",
       "      <td>0.86</td>\n",
       "      <td>0.83</td>\n",
       "    </tr>\n",
       "    <tr>\n",
       "      <th>fold3</th>\n",
       "      <td>0.83</td>\n",
       "      <td>0.8</td>\n",
       "      <td>0.87</td>\n",
       "      <td>0.83</td>\n",
       "    </tr>\n",
       "    <tr>\n",
       "      <th>fold4</th>\n",
       "      <td>0.81</td>\n",
       "      <td>0.81</td>\n",
       "      <td>0.82</td>\n",
       "      <td>0.81</td>\n",
       "    </tr>\n",
       "    <tr>\n",
       "      <th>fold5</th>\n",
       "      <td>0.82</td>\n",
       "      <td>0.81</td>\n",
       "      <td>0.83</td>\n",
       "      <td>0.82</td>\n",
       "    </tr>\n",
       "    <tr>\n",
       "      <th>mean_and_std</th>\n",
       "      <td>0.82 +/- 0.007</td>\n",
       "      <td>0.81 +/- 0.003</td>\n",
       "      <td>0.84 +/- 0.017</td>\n",
       "      <td>0.83 +/- 0.008</td>\n",
       "    </tr>\n",
       "  </tbody>\n",
       "</table>\n",
       "</div>"
      ],
      "text/plain": [
       "                    accuracy       precision          recall              f1\n",
       "fold1                   0.83            0.81            0.84            0.83\n",
       "fold2                   0.83            0.81            0.86            0.83\n",
       "fold3                   0.83             0.8            0.87            0.83\n",
       "fold4                   0.81            0.81            0.82            0.81\n",
       "fold5                   0.82            0.81            0.83            0.82\n",
       "mean_and_std  0.82 +/- 0.007  0.81 +/- 0.003  0.84 +/- 0.017  0.83 +/- 0.008"
      ]
     },
     "execution_count": 121,
     "metadata": {},
     "output_type": "execute_result"
    }
   ],
   "source": [
    "knn_cross_validation, error = cross_validation(X_smote, y_smote, error, 5, 'K-Neighbors', knn_model)\n",
    "knn_cross_validation"
   ]
  },
  {
   "cell_type": "markdown",
   "id": "3b9e2f55",
   "metadata": {
    "heading_collapsed": true
   },
   "source": [
    "## 7.4 XGBoost"
   ]
  },
  {
   "cell_type": "code",
   "execution_count": 122,
   "id": "e2487a51",
   "metadata": {
    "ExecuteTime": {
     "end_time": "2022-06-10T18:47:34.027679Z",
     "start_time": "2022-06-10T18:47:32.900602Z"
    },
    "hidden": true,
    "scrolled": false
   },
   "outputs": [
    {
     "name": "stdout",
     "output_type": "stream",
     "text": [
      "TRAIN\n",
      "              precision    recall  f1-score   support\n",
      "\n",
      "           0       0.89      0.92      0.90      1265\n",
      "           1       0.65      0.58      0.61       335\n",
      "\n",
      "    accuracy                           0.85      1600\n",
      "   macro avg       0.77      0.75      0.76      1600\n",
      "weighted avg       0.84      0.85      0.84      1600\n",
      "\n",
      "\n",
      "TEST\n",
      "              precision    recall  f1-score   support\n",
      "\n",
      "           0       0.90      0.90      0.90      1577\n",
      "           1       0.63      0.63      0.63       423\n",
      "\n",
      "    accuracy                           0.84      2000\n",
      "   macro avg       0.77      0.77      0.77      2000\n",
      "weighted avg       0.84      0.84      0.84      2000\n",
      "\n"
     ]
    }
   ],
   "source": [
    "xgb_model = XGBClassifier(use_label_encoder=False, eval_metric='error')\n",
    "\n",
    "xgb_proba_train, xgb_proba_test = metrics(X, X_smote, y_smote, X_train_smote, y_train_smote, X_val, y_val, xgb_model)"
   ]
  },
  {
   "cell_type": "markdown",
   "id": "5e1ab2ff",
   "metadata": {
    "heading_collapsed": true,
    "hidden": true
   },
   "source": [
    "### 7.3.1 XGBoost Cross Validation"
   ]
  },
  {
   "cell_type": "code",
   "execution_count": 123,
   "id": "0cb78a05",
   "metadata": {
    "ExecuteTime": {
     "end_time": "2022-06-10T18:47:36.853669Z",
     "start_time": "2022-06-10T18:47:34.030667Z"
    },
    "hidden": true
   },
   "outputs": [
    {
     "data": {
      "text/html": [
       "<div>\n",
       "<style scoped>\n",
       "    .dataframe tbody tr th:only-of-type {\n",
       "        vertical-align: middle;\n",
       "    }\n",
       "\n",
       "    .dataframe tbody tr th {\n",
       "        vertical-align: top;\n",
       "    }\n",
       "\n",
       "    .dataframe thead th {\n",
       "        text-align: right;\n",
       "    }\n",
       "</style>\n",
       "<table border=\"1\" class=\"dataframe\">\n",
       "  <thead>\n",
       "    <tr style=\"text-align: right;\">\n",
       "      <th></th>\n",
       "      <th>accuracy</th>\n",
       "      <th>precision</th>\n",
       "      <th>recall</th>\n",
       "      <th>f1</th>\n",
       "    </tr>\n",
       "  </thead>\n",
       "  <tbody>\n",
       "    <tr>\n",
       "      <th>fold1</th>\n",
       "      <td>0.89</td>\n",
       "      <td>0.91</td>\n",
       "      <td>0.86</td>\n",
       "      <td>0.88</td>\n",
       "    </tr>\n",
       "    <tr>\n",
       "      <th>fold2</th>\n",
       "      <td>0.89</td>\n",
       "      <td>0.92</td>\n",
       "      <td>0.86</td>\n",
       "      <td>0.89</td>\n",
       "    </tr>\n",
       "    <tr>\n",
       "      <th>fold3</th>\n",
       "      <td>0.9</td>\n",
       "      <td>0.91</td>\n",
       "      <td>0.88</td>\n",
       "      <td>0.9</td>\n",
       "    </tr>\n",
       "    <tr>\n",
       "      <th>fold4</th>\n",
       "      <td>0.89</td>\n",
       "      <td>0.91</td>\n",
       "      <td>0.86</td>\n",
       "      <td>0.88</td>\n",
       "    </tr>\n",
       "    <tr>\n",
       "      <th>fold5</th>\n",
       "      <td>0.9</td>\n",
       "      <td>0.92</td>\n",
       "      <td>0.89</td>\n",
       "      <td>0.9</td>\n",
       "    </tr>\n",
       "    <tr>\n",
       "      <th>mean_and_std</th>\n",
       "      <td>0.89 +/- 0.006</td>\n",
       "      <td>0.91 +/- 0.005</td>\n",
       "      <td>0.87 +/- 0.012</td>\n",
       "      <td>0.89 +/- 0.007</td>\n",
       "    </tr>\n",
       "  </tbody>\n",
       "</table>\n",
       "</div>"
      ],
      "text/plain": [
       "                    accuracy       precision          recall              f1\n",
       "fold1                   0.89            0.91            0.86            0.88\n",
       "fold2                   0.89            0.92            0.86            0.89\n",
       "fold3                    0.9            0.91            0.88             0.9\n",
       "fold4                   0.89            0.91            0.86            0.88\n",
       "fold5                    0.9            0.92            0.89             0.9\n",
       "mean_and_std  0.89 +/- 0.006  0.91 +/- 0.005  0.87 +/- 0.012  0.89 +/- 0.007"
      ]
     },
     "execution_count": 123,
     "metadata": {},
     "output_type": "execute_result"
    }
   ],
   "source": [
    "xgb_cross_validation, error = cross_validation(X_smote, y_smote, error, 5, 'XGBoost', xgb_model)\n",
    "xgb_cross_validation"
   ]
  },
  {
   "cell_type": "markdown",
   "id": "ed05f560",
   "metadata": {
    "heading_collapsed": true
   },
   "source": [
    "## 7.5 Random Forest Classifier"
   ]
  },
  {
   "cell_type": "code",
   "execution_count": 124,
   "id": "7b9b831f",
   "metadata": {
    "ExecuteTime": {
     "end_time": "2022-06-10T18:47:38.240671Z",
     "start_time": "2022-06-10T18:47:36.855674Z"
    },
    "hidden": true,
    "scrolled": false
   },
   "outputs": [
    {
     "name": "stdout",
     "output_type": "stream",
     "text": [
      "TRAIN\n",
      "              precision    recall  f1-score   support\n",
      "\n",
      "           0       0.93      0.81      0.86      1265\n",
      "           1       0.51      0.75      0.61       335\n",
      "\n",
      "    accuracy                           0.80      1600\n",
      "   macro avg       0.72      0.78      0.74      1600\n",
      "weighted avg       0.84      0.80      0.81      1600\n",
      "\n",
      "\n",
      "TEST\n",
      "              precision    recall  f1-score   support\n",
      "\n",
      "           0       0.92      0.81      0.86      1577\n",
      "           1       0.51      0.74      0.60       423\n",
      "\n",
      "    accuracy                           0.80      2000\n",
      "   macro avg       0.72      0.77      0.73      2000\n",
      "weighted avg       0.83      0.80      0.81      2000\n",
      "\n"
     ]
    }
   ],
   "source": [
    "rf_model = RandomForestClassifier(n_estimators=100, min_samples_leaf=100)\n",
    "\n",
    "rf_proba_train, rf_proba_test = metrics(X, X_smote, y_smote, X_train_smote, y_train_smote, X_val, y_val, rf_model)"
   ]
  },
  {
   "cell_type": "markdown",
   "id": "f90b1f7f",
   "metadata": {
    "heading_collapsed": true,
    "hidden": true
   },
   "source": [
    "### 7.4.1 Random Forest Cross Validation"
   ]
  },
  {
   "cell_type": "code",
   "execution_count": 125,
   "id": "8b7a9f7c",
   "metadata": {
    "ExecuteTime": {
     "end_time": "2022-06-10T18:47:40.944895Z",
     "start_time": "2022-06-10T18:47:38.242677Z"
    },
    "hidden": true
   },
   "outputs": [
    {
     "data": {
      "text/html": [
       "<div>\n",
       "<style scoped>\n",
       "    .dataframe tbody tr th:only-of-type {\n",
       "        vertical-align: middle;\n",
       "    }\n",
       "\n",
       "    .dataframe tbody tr th {\n",
       "        vertical-align: top;\n",
       "    }\n",
       "\n",
       "    .dataframe thead th {\n",
       "        text-align: right;\n",
       "    }\n",
       "</style>\n",
       "<table border=\"1\" class=\"dataframe\">\n",
       "  <thead>\n",
       "    <tr style=\"text-align: right;\">\n",
       "      <th></th>\n",
       "      <th>accuracy</th>\n",
       "      <th>precision</th>\n",
       "      <th>recall</th>\n",
       "      <th>f1</th>\n",
       "    </tr>\n",
       "  </thead>\n",
       "  <tbody>\n",
       "    <tr>\n",
       "      <th>fold1</th>\n",
       "      <td>0.81</td>\n",
       "      <td>0.81</td>\n",
       "      <td>0.81</td>\n",
       "      <td>0.81</td>\n",
       "    </tr>\n",
       "    <tr>\n",
       "      <th>fold2</th>\n",
       "      <td>0.81</td>\n",
       "      <td>0.83</td>\n",
       "      <td>0.79</td>\n",
       "      <td>0.81</td>\n",
       "    </tr>\n",
       "    <tr>\n",
       "      <th>fold3</th>\n",
       "      <td>0.79</td>\n",
       "      <td>0.79</td>\n",
       "      <td>0.78</td>\n",
       "      <td>0.79</td>\n",
       "    </tr>\n",
       "    <tr>\n",
       "      <th>fold4</th>\n",
       "      <td>0.81</td>\n",
       "      <td>0.81</td>\n",
       "      <td>0.78</td>\n",
       "      <td>0.8</td>\n",
       "    </tr>\n",
       "    <tr>\n",
       "      <th>fold5</th>\n",
       "      <td>0.8</td>\n",
       "      <td>0.82</td>\n",
       "      <td>0.78</td>\n",
       "      <td>0.8</td>\n",
       "    </tr>\n",
       "    <tr>\n",
       "      <th>mean_and_std</th>\n",
       "      <td>0.8 +/- 0.008</td>\n",
       "      <td>0.81 +/- 0.011</td>\n",
       "      <td>0.79 +/- 0.014</td>\n",
       "      <td>0.8 +/- 0.01</td>\n",
       "    </tr>\n",
       "  </tbody>\n",
       "</table>\n",
       "</div>"
      ],
      "text/plain": [
       "                   accuracy       precision          recall            f1\n",
       "fold1                  0.81            0.81            0.81          0.81\n",
       "fold2                  0.81            0.83            0.79          0.81\n",
       "fold3                  0.79            0.79            0.78          0.79\n",
       "fold4                  0.81            0.81            0.78           0.8\n",
       "fold5                   0.8            0.82            0.78           0.8\n",
       "mean_and_std  0.8 +/- 0.008  0.81 +/- 0.011  0.79 +/- 0.014  0.8 +/- 0.01"
      ]
     },
     "execution_count": 125,
     "metadata": {},
     "output_type": "execute_result"
    }
   ],
   "source": [
    "rf_cross_validation, error = cross_validation(X_smote, y_smote, error, 5, 'Random Forest', rf_model)\n",
    "rf_cross_validation"
   ]
  },
  {
   "cell_type": "markdown",
   "id": "cbe5966c",
   "metadata": {},
   "source": [
    "# 8.0 Model Performance"
   ]
  },
  {
   "cell_type": "code",
   "execution_count": 126,
   "id": "20328ab4",
   "metadata": {
    "ExecuteTime": {
     "end_time": "2022-06-10T18:47:40.960877Z",
     "start_time": "2022-06-10T18:47:40.946778Z"
    }
   },
   "outputs": [],
   "source": [
    "test['EstimatedSalary'] = test['CustomerId'].map(map_test_id_salary)\n",
    "df8 = test.copy()"
   ]
  },
  {
   "cell_type": "markdown",
   "id": "a4b7079f",
   "metadata": {},
   "source": [
    "## 8.1 Machine Learning Performance"
   ]
  },
  {
   "cell_type": "code",
   "execution_count": 127,
   "id": "8d1d39cc",
   "metadata": {
    "ExecuteTime": {
     "end_time": "2022-06-10T18:47:40.976788Z",
     "start_time": "2022-06-10T18:47:40.961810Z"
    },
    "hide_input": true,
    "scrolled": false
   },
   "outputs": [
    {
     "data": {
      "text/html": [
       "<div>\n",
       "<style scoped>\n",
       "    .dataframe tbody tr th:only-of-type {\n",
       "        vertical-align: middle;\n",
       "    }\n",
       "\n",
       "    .dataframe tbody tr th {\n",
       "        vertical-align: top;\n",
       "    }\n",
       "\n",
       "    .dataframe thead th {\n",
       "        text-align: right;\n",
       "    }\n",
       "</style>\n",
       "<table border=\"1\" class=\"dataframe\">\n",
       "  <thead>\n",
       "    <tr style=\"text-align: right;\">\n",
       "      <th></th>\n",
       "      <th>accuracy</th>\n",
       "      <th>precision</th>\n",
       "      <th>recall</th>\n",
       "      <th>f1</th>\n",
       "    </tr>\n",
       "  </thead>\n",
       "  <tbody>\n",
       "    <tr>\n",
       "      <th>Linear Regression</th>\n",
       "      <td>0.75 +/- 0.01</td>\n",
       "      <td>0.75 +/- 0.017</td>\n",
       "      <td>0.73 +/- 0.008</td>\n",
       "      <td>0.74 +/- 0.01</td>\n",
       "    </tr>\n",
       "    <tr>\n",
       "      <th>K-Neighbors</th>\n",
       "      <td>0.82 +/- 0.007</td>\n",
       "      <td>0.81 +/- 0.003</td>\n",
       "      <td>0.84 +/- 0.017</td>\n",
       "      <td>0.83 +/- 0.008</td>\n",
       "    </tr>\n",
       "    <tr>\n",
       "      <th>XGBoost</th>\n",
       "      <td>0.89 +/- 0.006</td>\n",
       "      <td>0.91 +/- 0.005</td>\n",
       "      <td>0.87 +/- 0.012</td>\n",
       "      <td>0.89 +/- 0.007</td>\n",
       "    </tr>\n",
       "    <tr>\n",
       "      <th>Random Forest</th>\n",
       "      <td>0.8 +/- 0.008</td>\n",
       "      <td>0.81 +/- 0.011</td>\n",
       "      <td>0.79 +/- 0.014</td>\n",
       "      <td>0.8 +/- 0.01</td>\n",
       "    </tr>\n",
       "  </tbody>\n",
       "</table>\n",
       "</div>"
      ],
      "text/plain": [
       "                         accuracy       precision          recall  \\\n",
       "Linear Regression   0.75 +/- 0.01  0.75 +/- 0.017  0.73 +/- 0.008   \n",
       "K-Neighbors        0.82 +/- 0.007  0.81 +/- 0.003  0.84 +/- 0.017   \n",
       "XGBoost            0.89 +/- 0.006  0.91 +/- 0.005  0.87 +/- 0.012   \n",
       "Random Forest       0.8 +/- 0.008  0.81 +/- 0.011  0.79 +/- 0.014   \n",
       "\n",
       "                               f1  \n",
       "Linear Regression   0.74 +/- 0.01  \n",
       "K-Neighbors        0.83 +/- 0.008  \n",
       "XGBoost            0.89 +/- 0.007  \n",
       "Random Forest        0.8 +/- 0.01  "
      ]
     },
     "execution_count": 127,
     "metadata": {},
     "output_type": "execute_result"
    }
   ],
   "source": [
    "error.T"
   ]
  },
  {
   "cell_type": "markdown",
   "id": "7df148e8",
   "metadata": {},
   "source": [
    "O modelo escolhido para seguir para estudos sobre Business e Produção foi o XGBoost."
   ]
  },
  {
   "cell_type": "code",
   "execution_count": 128,
   "id": "152b7395",
   "metadata": {
    "ExecuteTime": {
     "end_time": "2022-06-10T18:47:41.401103Z",
     "start_time": "2022-06-10T18:47:40.980769Z"
    },
    "hide_input": false,
    "scrolled": true
   },
   "outputs": [
    {
     "data": {
      "image/png": "[encoded data removed]",
      "text/plain": [
       "<Figure size 432x288 with 1 Axes>"
      ]
     },
     "metadata": {
      "needs_background": "light"
     },
     "output_type": "display_data"
    }
   ],
   "source": [
    "df8['propensity'] = xgb_proba_test[:, 1]\n",
    "\n",
    "cols = 'CustomerId EstimatedSalary Exited propensity'.split()\n",
    "\n",
    "df8 = df8[cols]\n",
    "df8 = df8.sort_values('propensity', ascending=False)\n",
    "df8['cum_exited'] = np.cumsum(df8['Exited'])\n",
    "df8.reset_index(inplace=True, drop=True)\n",
    "df8['ranking'] = df8.index + 1\n",
    "df8['prop_base'] = df8['ranking'] / df8['ranking'].max()\n",
    "df8['prop_cum_exited'] = df8['cum_exited'] / df8['cum_exited'].max()\n",
    "lab = '0.0+ 0.1+ 0.2+ 0.3+ 0.4+ 0.5+ 0.6+ 0.7+ 0.8+ 0.9+'.split()\n",
    "df8['probability_bin'] = pd.cut(df8['propensity'], 10, labels=lab)\n",
    "df8.loc[df8['prop_base'] <= df8['Exited'].mean(), 'perfect_gain_curve'] = 1\n",
    "df8['perfect_gain_curve'].fillna(0, inplace=True)\n",
    "df8['perfect_gain_curve'] = np.cumsum(df8['perfect_gain_curve'])\n",
    "df8['perfect_gain_curve'] = df8['perfect_gain_curve'] / df8['perfect_gain_curve'].max()\n",
    "\n",
    "sns.barplot(data=df8, x='probability_bin', y='Exited', color='b')\n",
    "sns.despine()\n",
    "plt.hlines(y=df8['Exited'].mean(), xmin=0, xmax=10, color='r', linestyles='--')\n",
    "plt.title('Exited by Probability Ranges', fontsize=20);"
   ]
  },
  {
   "cell_type": "markdown",
   "id": "030d7367",
   "metadata": {},
   "source": [
    "O modelo está calculando probabilidades bastante condizentes com o churn. Com uma variância bastante alta, possivelmente por conta da baixa quantidade na amostra test"
   ]
  },
  {
   "cell_type": "code",
   "execution_count": 129,
   "id": "8d91bf42",
   "metadata": {
    "ExecuteTime": {
     "end_time": "2022-06-10T18:47:41.733294Z",
     "start_time": "2022-06-10T18:47:41.405091Z"
    },
    "hide_input": false,
    "scrolled": true
   },
   "outputs": [
    {
     "data": {
      "image/png": "[encoded data removed]",
      "text/plain": [
       "<Figure size 432x288 with 1 Axes>"
      ]
     },
     "metadata": {
      "needs_background": "light"
     },
     "output_type": "display_data"
    }
   ],
   "source": [
    "sns.lineplot(data=df8, x='prop_base', y='prop_base', linestyle='--', label='Baseline', color='black', linewidth=0.8)\n",
    "sns.lineplot(data=df8, x='prop_base', y='prop_cum_exited', color='r', label='Xgboost Model')\n",
    "sns.lineplot(data=df8, x='prop_base', y='perfect_gain_curve', color='b', label='Perfect Curve', linestyle='--', linewidth=0.8)\n",
    "plt.title('Cumulative Gain Curve', fontsize=20)\n",
    "sns.despine()\n",
    "plt.xlabel('Porcentagem da Base')\n",
    "plt.ylabel('True Positive Recall');"
   ]
  },
  {
   "cell_type": "markdown",
   "id": "4fcc52bb",
   "metadata": {},
   "source": [
    "Variância alta. Com o dataset ranqueado por probabilidade de churn, pegando 20% do topo das amostras, conseguimos alcançar 65% de todos os clientes que fizeram churn"
   ]
  },
  {
   "cell_type": "markdown",
   "id": "88b287b5",
   "metadata": {},
   "source": [
    "## 8.2 Business Performance"
   ]
  },
  {
   "cell_type": "markdown",
   "id": "0004ca63",
   "metadata": {},
   "source": [
    "#### Resgras e Restrições para a Ação de Retenção:\n",
    "\n",
    "- Clientes com propensidade de churn maior que 99% - Farão churn não importa o que se faça\n",
    "- Clientes com propensidade de churn entre 95% e 99% receberão 200,00 de Gift Card\n",
    "- Clientes com propensidade de churn entre 90% e 95% receberão 100,00 de Gift Card\n",
    "- Clientes com propensidade de churn abaixo de 90% receberão 50,00 de Gift Card\n",
    "- O total de budgit para a ação é de 10.000,00"
   ]
  },
  {
   "cell_type": "markdown",
   "id": "61314665",
   "metadata": {
    "heading_collapsed": true
   },
   "source": [
    "### 8.2.1 Baseline Model Before Gift Cards"
   ]
  },
  {
   "cell_type": "code",
   "execution_count": 130,
   "id": "57d611d5",
   "metadata": {
    "ExecuteTime": {
     "end_time": "2022-06-10T18:47:41.748318Z",
     "start_time": "2022-06-10T18:47:41.736268Z"
    },
    "hidden": true
   },
   "outputs": [],
   "source": [
    "mean_of_churn = df['Exited'].mean()\n",
    "mean_salary = df['EstimatedSalary'].mean()\n",
    "\n",
    "baseline = test.copy()\n",
    "\n",
    "baseline['propensity'] = xgb_proba_test[:, 1]\n",
    "baseline['revenue'] = baseline['EstimatedSalary'].apply(lambda x: x * 0.15 if x <= mean_salary else x * 0.2)"
   ]
  },
  {
   "cell_type": "code",
   "execution_count": 131,
   "id": "5e32e337",
   "metadata": {
    "ExecuteTime": {
     "end_time": "2022-06-10T18:47:41.764430Z",
     "start_time": "2022-06-10T18:47:41.750306Z"
    },
    "hidden": true,
    "hide_input": false,
    "scrolled": true
   },
   "outputs": [
    {
     "name": "stdout",
     "output_type": "stream",
     "text": [
      "Total Revenue before clients left: 37117633.93\n"
     ]
    }
   ],
   "source": [
    "basline_total_revenue = baseline['revenue'].sum()\n",
    "print(f\"Total Revenue before clients left: {basline_total_revenue:.2f}\")"
   ]
  },
  {
   "cell_type": "code",
   "execution_count": 132,
   "id": "e62fd044",
   "metadata": {
    "ExecuteTime": {
     "end_time": "2022-06-10T18:47:41.780371Z",
     "start_time": "2022-06-10T18:47:41.766417Z"
    },
    "hidden": true,
    "hide_input": false
   },
   "outputs": [
    {
     "name": "stdout",
     "output_type": "stream",
     "text": [
      "Total lost revenue after Gift Cards: 7918882.01\n"
     ]
    }
   ],
   "source": [
    "baseline_lost_revenue = baseline.loc[baseline['Exited']==1, 'revenue'].sum()\n",
    "print(f\"Total lost revenue after Gift Cards: {baseline_lost_revenue:.2f}\")"
   ]
  },
  {
   "cell_type": "markdown",
   "id": "246132bb",
   "metadata": {
    "heading_collapsed": true
   },
   "source": [
    "### 8.2.2 After Gift Cards Action trought Random Choice Methods"
   ]
  },
  {
   "cell_type": "code",
   "execution_count": 146,
   "id": "22722985",
   "metadata": {
    "ExecuteTime": {
     "end_time": "2022-06-10T18:56:56.115439Z",
     "start_time": "2022-06-10T18:56:56.065108Z"
    },
    "hidden": true,
    "hide_input": false,
    "scrolled": true
   },
   "outputs": [
    {
     "name": "stdout",
     "output_type": "stream",
     "text": [
      "O ROI total esperado sobre 2000 clientes: $401338.09\n"
     ]
    }
   ],
   "source": [
    "baseline['gift_card_value'] = 0\n",
    "\n",
    "random_sample_index = baseline.sample(100).index\n",
    "baseline.loc[random_sample_index, 'gift_card_value'] = 100\n",
    "\n",
    "baseline['min_gift_card_value'] = baseline['propensity'].apply(lambda x: 200 if x >= .95 else (100 if x >= 0.9 else 50))\n",
    "\n",
    "baseline.loc[baseline['Exited'] == 1, 'retention'] = baseline.apply(lambda x: 1 if x['gift_card_value'] - x['min_gift_card_value'] >= 0 else 0, axis=1)\n",
    "\n",
    "baseline_total_roi = baseline.loc[baseline['retention']==1, 'revenue'].sum() - 10000\n",
    "\n",
    "print(f'O ROI total esperado sobre {test.shape[0]} clientes: ${baseline_total_roi:.2f}')"
   ]
  },
  {
   "cell_type": "markdown",
   "id": "09f0c0db",
   "metadata": {
    "heading_collapsed": true
   },
   "source": [
    "### 8.2.3 Scoring by Machine Learning Model and Sorting by ROI"
   ]
  },
  {
   "cell_type": "code",
   "execution_count": 148,
   "id": "16950055",
   "metadata": {
    "ExecuteTime": {
     "end_time": "2022-06-10T18:59:27.313856Z",
     "start_time": "2022-06-10T18:59:27.280130Z"
    },
    "hidden": true,
    "hide_input": false,
    "scrolled": true
   },
   "outputs": [
    {
     "name": "stdout",
     "output_type": "stream",
     "text": [
      "O ROI total esperado sobre 2000 clientes: $6850748.72\n"
     ]
    }
   ],
   "source": [
    "df8.drop(df8.loc[df8['propensity'] >= 0.99].index, inplace=True)\n",
    "\n",
    "df8['revenue'] = df8['EstimatedSalary'].apply(lambda x: x * 0.15 if x <= mean_salary else x * 0.2)\n",
    "df8['gift_card_value'] = df8['propensity'].apply(lambda x: 200 if x >= .95 else (100 if x >= 0.9 else 50))\n",
    "df8['roi'] = df8['revenue'] - df8['gift_card_value']\n",
    "df8.sort_values('roi', ascending=False, inplace=True)\n",
    "df8['cum_gift_card_value'] = np.cumsum(df8['gift_card_value'])\n",
    "df8 = df8.loc[df8['cum_gift_card_value'] <= 10000]\n",
    "df8['total_roi'] = np.cumsum(df8['roi'])\n",
    "\n",
    "ml_total_roi = float(df8['total_roi'].tail(1).values)\n",
    "\n",
    "print(f'O ROI total esperado sobre {test.shape[0]} clientes: ${total_roi:.2f}')"
   ]
  },
  {
   "cell_type": "markdown",
   "id": "9601738e",
   "metadata": {
    "heading_collapsed": true
   },
   "source": [
    "### 8.2.4 Business Lift"
   ]
  },
  {
   "cell_type": "code",
   "execution_count": 153,
   "id": "9dc4abc8",
   "metadata": {
    "ExecuteTime": {
     "end_time": "2022-06-10T19:04:49.508046Z",
     "start_time": "2022-06-10T19:04:49.488100Z"
    },
    "hidden": true,
    "hide_input": false,
    "scrolled": true
   },
   "outputs": [
    {
     "name": "stdout",
     "output_type": "stream",
     "text": [
      "Utilizando um modelo de Machine Learning para ranquear os clientes de acordo com a sua propensão ao CHURN, e ordenando-os de acordo com o ROI, o modelo obteve um LIFT de: $6802076.85 em relação à um método aleatório. O modelo foi melhor em uma razão de: 17X\n"
     ]
    }
   ],
   "source": [
    "lift_total_roi = ml_total_roi - baseline_total_roi\n",
    "prop_lift_total_roi = round(lift_total_roi / baseline_total_roi)\n",
    "\n",
    "print(f\"Utilizando um modelo de Machine Learning para ranquear os clientes de acordo com a sua propensão ao CHURN, e ordenando-os de acordo com o ROI, o modelo obteve um LIFT de: ${lift_total_roi:.2f} em relação à um método aleatório. O modelo foi melhor em uma razão de: {prop_lift_total_roi}X\")"
   ]
  },
  {
   "cell_type": "markdown",
   "id": "c694234c",
   "metadata": {},
   "source": [
    "# Exports"
   ]
  },
  {
   "cell_type": "code",
   "execution_count": 72,
   "id": "11496e54",
   "metadata": {
    "ExecuteTime": {
     "end_time": "2022-06-10T18:45:16.023961Z",
     "start_time": "2022-06-10T18:45:16.014085Z"
    }
   },
   "outputs": [],
   "source": [
    "cols_drop.extend(cols_filtering)"
   ]
  },
  {
   "cell_type": "code",
   "execution_count": 73,
   "id": "0d0a786a",
   "metadata": {
    "ExecuteTime": {
     "end_time": "2022-06-10T18:45:16.038914Z",
     "start_time": "2022-06-10T18:45:16.028944Z"
    }
   },
   "outputs": [],
   "source": [
    "# ss_balance\n",
    "# mm_credit_score\n",
    "# mm_estimatedsalary\n",
    "# map_geography\n",
    "# map_gender\n",
    "# map_numofproducts\n",
    "# tenure_cicle\n",
    "# cols_drop\n",
    "# map_test_id_salary"
   ]
  },
  {
   "cell_type": "markdown",
   "id": "e8a55dde",
   "metadata": {},
   "source": [
    "# Time"
   ]
  },
  {
   "cell_type": "code",
   "execution_count": 74,
   "id": "7f87b027",
   "metadata": {
    "ExecuteTime": {
     "end_time": "2022-06-10T18:45:16.054803Z",
     "start_time": "2022-06-10T18:45:16.039911Z"
    }
   },
   "outputs": [
    {
     "name": "stdout",
     "output_type": "stream",
     "text": [
      "O tempo de processamento do projeto foi de: 2 minutos\n"
     ]
    }
   ],
   "source": [
    "print(f'O tempo de processamento do projeto foi de: {int(round(time.time()-tempo_agora, 2)/60)} minutos')"
   ]
  }
 ],
 "metadata": {
  "kernelspec": {
   "display_name": "Python 3 (ipykernel)",
   "language": "python",
   "name": "python3"
  },
  "language_info": {
   "codemirror_mode": {
    "name": "ipython",
    "version": 3
   },
   "file_extension": ".py",
   "mimetype": "text/x-python",
   "name": "python",
   "nbconvert_exporter": "python",
   "pygments_lexer": "ipython3",
   "version": "3.9.7"
  },
  "toc": {
   "base_numbering": 1,
   "nav_menu": {},
   "number_sections": true,
   "sideBar": true,
   "skip_h1_title": false,
   "title_cell": "Table of Contents",
   "title_sidebar": "Contents",
   "toc_cell": false,
   "toc_position": {
    "height": "calc(100% - 180px)",
    "left": "10px",
    "top": "150px",
    "width": "323.821px"
   },
   "toc_section_display": true,
   "toc_window_display": true
  }
 },
 "nbformat": 4,
 "nbformat_minor": 5
}
