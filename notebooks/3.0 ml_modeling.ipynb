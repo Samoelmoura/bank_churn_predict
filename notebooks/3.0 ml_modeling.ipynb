{
 "cells": [
  {
   "cell_type": "markdown",
   "id": "f5f22930",
   "metadata": {
    "heading_collapsed": true
   },
   "source": [
    "# Reports\n",
    "1. Inputs: Prepared data to ml modeling\n",
    "2. Outputs: Trained models and metrics\n",
    "3. ..."
   ]
  },
  {
   "cell_type": "markdown",
   "id": "c729438b",
   "metadata": {},
   "source": [
    "# 1.0 Imports"
   ]
  },
  {
   "cell_type": "markdown",
   "id": "46adce05",
   "metadata": {},
   "source": [
    "###### 1.1 Importing libraries"
   ]
  },
  {
   "cell_type": "code",
   "execution_count": 9,
   "id": "11fa254d",
   "metadata": {
    "ExecuteTime": {
     "end_time": "2022-04-08T19:36:42.243792Z",
     "start_time": "2022-04-08T19:36:42.228973Z"
    }
   },
   "outputs": [],
   "source": [
    "import numpy as np\n",
    "import pandas as pd\n",
    "\n",
    "from sklearn.preprocessing import LabelEncoder, StandardScaler\n",
    "from sklearn.model_selection import train_test_split\n",
    "from sklearn.metrics import classification_report, roc_auc_score, roc_curve, confusion_matrix\n",
    "from sklearn.ensemble import RandomForestClassifier\n",
    "\n",
    "from imblearn.over_sampling import SMOTE\n",
    "from imblearn.under_sampling import NearMiss\n",
    "\n",
    "from xgboost import XGBRFClassifier\n",
    "\n",
    "import pickle\n",
    "\n",
    "import time\n",
    "\n",
    "tempo_agora = time.time() # Contabilizando o tempo de processamento do projeto"
   ]
  },
  {
   "cell_type": "markdown",
   "id": "e9a1b054",
   "metadata": {
    "heading_collapsed": true
   },
   "source": [
    "###### 1.2 Importing data"
   ]
  },
  {
   "cell_type": "code",
   "execution_count": 2,
   "id": "0d41dcd0",
   "metadata": {
    "ExecuteTime": {
     "end_time": "2022-04-08T19:30:10.363961Z",
     "start_time": "2022-04-08T19:30:10.351163Z"
    },
    "hidden": true
   },
   "outputs": [],
   "source": [
    "X_to_modeling = pickle.load(open('D://My Drive//Pessoal//Projetos//bank_churn_predict//bank_churn_predict//exportings//X_to_modeling.pkl', 'rb'))\n",
    "y_to_modeling = pickle.load(open('D://My Drive//Pessoal//Projetos//bank_churn_predict//bank_churn_predict//exportings//y_to_modeling.pkl', 'rb'))"
   ]
  },
  {
   "cell_type": "code",
   "execution_count": 3,
   "id": "262f7b8c",
   "metadata": {
    "ExecuteTime": {
     "end_time": "2022-04-08T19:30:10.379439Z",
     "start_time": "2022-04-08T19:30:10.365961Z"
    },
    "hidden": true
   },
   "outputs": [],
   "source": [
    "X_valid = X_to_modeling[0]\n",
    "X_test = X_to_modeling[1]\n",
    "X_smote = X_to_modeling[2]\n",
    "X_train_smote = X_to_modeling[3]\n",
    "X_near = X_to_modeling[4]\n",
    "X_train_near = X_to_modeling[5]\n",
    "\n",
    "y_valid = y_to_modeling[0]\n",
    "y_test = y_to_modeling[1]\n",
    "y_smote = y_to_modeling[2]\n",
    "y_train_smote = y_to_modeling[3]\n",
    "y_near = y_to_modeling[4]\n",
    "y_train_near = y_to_modeling[5]"
   ]
  },
  {
   "cell_type": "markdown",
   "id": "d4d5d7b9",
   "metadata": {},
   "source": [
    "# 2.0 ML Modeling"
   ]
  },
  {
   "cell_type": "markdown",
   "id": "d6eff8d7",
   "metadata": {},
   "source": [
    "### 2.1 Xgbrfboost"
   ]
  },
  {
   "cell_type": "code",
   "execution_count": 11,
   "id": "fb11d6e3",
   "metadata": {
    "ExecuteTime": {
     "end_time": "2022-04-08T19:37:55.817582Z",
     "start_time": "2022-04-08T19:37:55.315300Z"
    }
   },
   "outputs": [
    {
     "name": "stdout",
     "output_type": "stream",
     "text": [
      "valid\n",
      "              precision    recall  f1-score   support\n",
      "\n",
      "           0       0.90      0.92      0.91      1923\n",
      "           1       0.64      0.57      0.60       477\n",
      "\n",
      "    accuracy                           0.85      2400\n",
      "   macro avg       0.77      0.75      0.76      2400\n",
      "weighted avg       0.85      0.85      0.85      2400\n",
      "\n",
      "0.7450655258914759\n",
      "\n",
      "[[1773  150]\n",
      " [ 206  271]]\n",
      "\n",
      "teste\n",
      "              precision    recall  f1-score   support\n",
      "\n",
      "           0       0.89      0.91      0.90      1577\n",
      "           1       0.64      0.59      0.61       423\n",
      "\n",
      "    accuracy                           0.84      2000\n",
      "   macro avg       0.77      0.75      0.76      2000\n",
      "weighted avg       0.84      0.84      0.84      2000\n",
      "\n",
      "0.7505722779134456\n",
      "\n",
      "[[1439  138]\n",
      " [ 174  249]]\n"
     ]
    }
   ],
   "source": [
    "# Modeling\n",
    "xgbrf_model = XGBRFClassifier(use_label_encoder=False)\n",
    "xgbrf_model_fit = xgbrf_model.fit(X_smote, y_smote, eval_metric='error')\n",
    "xgbrf_predict = xgbrf_model_fit.predict(X_valid)\n",
    "\n",
    "print('valid')\n",
    "print(classification_report(y_valid, xgbrf_predict))\n",
    "print(roc_auc_score(y_valid, xgbrf_predict))\n",
    "print()\n",
    "print(confusion_matrix(y_valid, xgbrf_predict))\n",
    "print('\\nteste')\n",
    "xgbrf_predict = xgbrf_model_fit.predict(X_test)\n",
    "print(classification_report(y_test, xgbrf_predict))\n",
    "print(roc_auc_score(y_test, xgbrf_predict))\n",
    "print()\n",
    "print(confusion_matrix(y_test, xgbrf_predict))"
   ]
  },
  {
   "cell_type": "markdown",
   "id": "e2704ed8",
   "metadata": {},
   "source": [
    "### 2.2 Random Forest"
   ]
  },
  {
   "cell_type": "code",
   "execution_count": 12,
   "id": "8fe3d77c",
   "metadata": {
    "ExecuteTime": {
     "end_time": "2022-04-08T19:39:09.307299Z",
     "start_time": "2022-04-08T19:39:07.886072Z"
    },
    "scrolled": true
   },
   "outputs": [
    {
     "name": "stdout",
     "output_type": "stream",
     "text": [
      "valid\n",
      "              precision    recall  f1-score   support\n",
      "\n",
      "           0       0.89      0.94      0.92      1923\n",
      "           1       0.69      0.54      0.61       477\n",
      "\n",
      "    accuracy                           0.86      2400\n",
      "   macro avg       0.79      0.74      0.76      2400\n",
      "weighted avg       0.85      0.86      0.85      2400\n",
      "\n",
      "0.7410672527530032\n",
      "\n",
      "[[1806  117]\n",
      " [ 218  259]]\n",
      "\n",
      "teste\n"
     ]
    },
    {
     "ename": "ValueError",
     "evalue": "Found input variables with inconsistent numbers of samples: [2000, 2400]",
     "output_type": "error",
     "traceback": [
      "\u001b[1;31m---------------------------------------------------------------------------\u001b[0m",
      "\u001b[1;31mValueError\u001b[0m                                Traceback (most recent call last)",
      "Input \u001b[1;32mIn [12]\u001b[0m, in \u001b[0;36m<cell line: 15>\u001b[1;34m()\u001b[0m\n\u001b[0;32m     13\u001b[0m \u001b[38;5;28mprint\u001b[39m(\u001b[38;5;124m'\u001b[39m\u001b[38;5;130;01m\\n\u001b[39;00m\u001b[38;5;124mteste\u001b[39m\u001b[38;5;124m'\u001b[39m)\n\u001b[0;32m     14\u001b[0m xgbrf_predict \u001b[38;5;241m=\u001b[39m rf_model_fit\u001b[38;5;241m.\u001b[39mpredict(X_test)\n\u001b[1;32m---> 15\u001b[0m \u001b[38;5;28mprint\u001b[39m(classification_report(y_test, rf_predict))\n\u001b[0;32m     16\u001b[0m \u001b[38;5;28mprint\u001b[39m(roc_auc_score(y_test, rf_predict))\n\u001b[0;32m     17\u001b[0m \u001b[38;5;28mprint\u001b[39m()\n",
      "File \u001b[1;32mD:\\My Drive\\Pessoal\\Projetos\\environments\\data_science\\lib\\site-packages\\sklearn\\metrics\\_classification.py:2110\u001b[0m, in \u001b[0;36mclassification_report\u001b[1;34m(y_true, y_pred, labels, target_names, sample_weight, digits, output_dict, zero_division)\u001b[0m\n\u001b[0;32m   1998\u001b[0m \u001b[38;5;28;01mdef\u001b[39;00m \u001b[38;5;21mclassification_report\u001b[39m(\n\u001b[0;32m   1999\u001b[0m     y_true,\n\u001b[0;32m   2000\u001b[0m     y_pred,\n\u001b[1;32m   (...)\u001b[0m\n\u001b[0;32m   2007\u001b[0m     zero_division\u001b[38;5;241m=\u001b[39m\u001b[38;5;124m\"\u001b[39m\u001b[38;5;124mwarn\u001b[39m\u001b[38;5;124m\"\u001b[39m,\n\u001b[0;32m   2008\u001b[0m ):\n\u001b[0;32m   2009\u001b[0m     \u001b[38;5;124;03m\"\"\"Build a text report showing the main classification metrics.\u001b[39;00m\n\u001b[0;32m   2010\u001b[0m \n\u001b[0;32m   2011\u001b[0m \u001b[38;5;124;03m    Read more in the :ref:`User Guide <classification_report>`.\u001b[39;00m\n\u001b[1;32m   (...)\u001b[0m\n\u001b[0;32m   2107\u001b[0m \u001b[38;5;124;03m    <BLANKLINE>\u001b[39;00m\n\u001b[0;32m   2108\u001b[0m \u001b[38;5;124;03m    \"\"\"\u001b[39;00m\n\u001b[1;32m-> 2110\u001b[0m     y_type, y_true, y_pred \u001b[38;5;241m=\u001b[39m \u001b[43m_check_targets\u001b[49m\u001b[43m(\u001b[49m\u001b[43my_true\u001b[49m\u001b[43m,\u001b[49m\u001b[43m \u001b[49m\u001b[43my_pred\u001b[49m\u001b[43m)\u001b[49m\n\u001b[0;32m   2112\u001b[0m     \u001b[38;5;28;01mif\u001b[39;00m labels \u001b[38;5;129;01mis\u001b[39;00m \u001b[38;5;28;01mNone\u001b[39;00m:\n\u001b[0;32m   2113\u001b[0m         labels \u001b[38;5;241m=\u001b[39m unique_labels(y_true, y_pred)\n",
      "File \u001b[1;32mD:\\My Drive\\Pessoal\\Projetos\\environments\\data_science\\lib\\site-packages\\sklearn\\metrics\\_classification.py:84\u001b[0m, in \u001b[0;36m_check_targets\u001b[1;34m(y_true, y_pred)\u001b[0m\n\u001b[0;32m     57\u001b[0m \u001b[38;5;28;01mdef\u001b[39;00m \u001b[38;5;21m_check_targets\u001b[39m(y_true, y_pred):\n\u001b[0;32m     58\u001b[0m     \u001b[38;5;124;03m\"\"\"Check that y_true and y_pred belong to the same classification task.\u001b[39;00m\n\u001b[0;32m     59\u001b[0m \n\u001b[0;32m     60\u001b[0m \u001b[38;5;124;03m    This converts multiclass or binary types to a common shape, and raises a\u001b[39;00m\n\u001b[1;32m   (...)\u001b[0m\n\u001b[0;32m     82\u001b[0m \u001b[38;5;124;03m    y_pred : array or indicator matrix\u001b[39;00m\n\u001b[0;32m     83\u001b[0m \u001b[38;5;124;03m    \"\"\"\u001b[39;00m\n\u001b[1;32m---> 84\u001b[0m     \u001b[43mcheck_consistent_length\u001b[49m\u001b[43m(\u001b[49m\u001b[43my_true\u001b[49m\u001b[43m,\u001b[49m\u001b[43m \u001b[49m\u001b[43my_pred\u001b[49m\u001b[43m)\u001b[49m\n\u001b[0;32m     85\u001b[0m     type_true \u001b[38;5;241m=\u001b[39m type_of_target(y_true)\n\u001b[0;32m     86\u001b[0m     type_pred \u001b[38;5;241m=\u001b[39m type_of_target(y_pred)\n",
      "File \u001b[1;32mD:\\My Drive\\Pessoal\\Projetos\\environments\\data_science\\lib\\site-packages\\sklearn\\utils\\validation.py:332\u001b[0m, in \u001b[0;36mcheck_consistent_length\u001b[1;34m(*arrays)\u001b[0m\n\u001b[0;32m    330\u001b[0m uniques \u001b[38;5;241m=\u001b[39m np\u001b[38;5;241m.\u001b[39munique(lengths)\n\u001b[0;32m    331\u001b[0m \u001b[38;5;28;01mif\u001b[39;00m \u001b[38;5;28mlen\u001b[39m(uniques) \u001b[38;5;241m>\u001b[39m \u001b[38;5;241m1\u001b[39m:\n\u001b[1;32m--> 332\u001b[0m     \u001b[38;5;28;01mraise\u001b[39;00m \u001b[38;5;167;01mValueError\u001b[39;00m(\n\u001b[0;32m    333\u001b[0m         \u001b[38;5;124m\"\u001b[39m\u001b[38;5;124mFound input variables with inconsistent numbers of samples: \u001b[39m\u001b[38;5;132;01m%r\u001b[39;00m\u001b[38;5;124m\"\u001b[39m\n\u001b[0;32m    334\u001b[0m         \u001b[38;5;241m%\u001b[39m [\u001b[38;5;28mint\u001b[39m(l) \u001b[38;5;28;01mfor\u001b[39;00m l \u001b[38;5;129;01min\u001b[39;00m lengths]\n\u001b[0;32m    335\u001b[0m     )\n",
      "\u001b[1;31mValueError\u001b[0m: Found input variables with inconsistent numbers of samples: [2000, 2400]"
     ]
    }
   ],
   "source": [
    "rf_model = RandomForestClassifier(n_estimators=100, \n",
    "                                  max_depth=7, \n",
    "                                  max_features=0.3, \n",
    "                                  random_state=101)\n",
    "rf_model_fit = rf_model.fit(X_smote, y_smote)\n",
    "rf_predict = rf_model_fit.predict(X_valid)\n",
    "\n",
    "print('valid')\n",
    "print(classification_report(y_valid, rf_predict))\n",
    "print(roc_auc_score(y_valid, rf_predict))\n",
    "print()\n",
    "print(confusion_matrix(y_valid, rf_predict))\n",
    "print('\\nteste')\n",
    "xgbrf_predict = rf_model_fit.predict(X_test)\n",
    "print(classification_report(y_test, rf_predict))\n",
    "print(roc_auc_score(y_test, rf_predict))\n",
    "print()\n",
    "print(confusion_matrix(y_test, rf_predict))"
   ]
  },
  {
   "cell_type": "markdown",
   "id": "1fb6991d",
   "metadata": {},
   "source": [
    "# 3.0 Exporting Data"
   ]
  },
  {
   "cell_type": "markdown",
   "id": "20e8ed39",
   "metadata": {},
   "source": [
    "###### 3.1 Models"
   ]
  },
  {
   "cell_type": "code",
   "execution_count": 6,
   "id": "a0d14fde",
   "metadata": {
    "ExecuteTime": {
     "end_time": "2022-04-08T19:30:11.513004Z",
     "start_time": "2022-04-08T19:30:11.468243Z"
    }
   },
   "outputs": [],
   "source": [
    "# XGRFboost\n",
    "pickle.dump(xgbrf_model_fit, open('D://My Drive//Pessoal//Projetos//bank_churn_predict//deploy//model//xgbrf_model.pkl', 'wb'))\n",
    "\n",
    "# Random Forest\n",
    "pickle.dump(rf_model_fit, open('D://My Drive//Pessoal//Projetos//bank_churn_predict//deploy//model//rf_model.pkl', 'wb'))"
   ]
  },
  {
   "cell_type": "markdown",
   "id": "c694234c",
   "metadata": {},
   "source": [
    "# Time"
   ]
  },
  {
   "cell_type": "code",
   "execution_count": 7,
   "id": "7f87b027",
   "metadata": {
    "ExecuteTime": {
     "end_time": "2022-04-08T19:30:11.528107Z",
     "start_time": "2022-04-08T19:30:11.513972Z"
    }
   },
   "outputs": [
    {
     "name": "stdout",
     "output_type": "stream",
     "text": [
      "O tempo de processamento do projeto foi de: 0 minutos\n"
     ]
    }
   ],
   "source": [
    "print(f'O tempo de processamento do projeto foi de: {int(round(time.time()-tempo_agora, 2)/60)} minutos')"
   ]
  }
 ],
 "metadata": {
  "kernelspec": {
   "display_name": "Python 3 (ipykernel)",
   "language": "python",
   "name": "python3"
  },
  "language_info": {
   "codemirror_mode": {
    "name": "ipython",
    "version": 3
   },
   "file_extension": ".py",
   "mimetype": "text/x-python",
   "name": "python",
   "nbconvert_exporter": "python",
   "pygments_lexer": "ipython3",
   "version": "3.9.7"
  }
 },
 "nbformat": 4,
 "nbformat_minor": 5
}
