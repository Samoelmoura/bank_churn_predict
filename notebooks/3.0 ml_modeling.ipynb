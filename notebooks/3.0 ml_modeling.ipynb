{
 "cells": [
  {
   "cell_type": "markdown",
   "id": "f5f22930",
   "metadata": {
    "heading_collapsed": true
   },
   "source": [
    "# Reports\n",
    "1. Inputs: Prepared data to ml modeling\n",
    "2. Outputs: Trained models and metrics\n",
    "3. ..."
   ]
  },
  {
   "cell_type": "markdown",
   "id": "c729438b",
   "metadata": {},
   "source": [
    "# 1.0 Imports"
   ]
  },
  {
   "cell_type": "markdown",
   "id": "46adce05",
   "metadata": {},
   "source": [
    "###### 1.1 Importing libraries"
   ]
  },
  {
   "cell_type": "code",
   "execution_count": 1,
   "id": "11fa254d",
   "metadata": {
    "ExecuteTime": {
     "end_time": "2022-04-08T19:40:30.495620Z",
     "start_time": "2022-04-08T19:40:29.651644Z"
    }
   },
   "outputs": [
    {
     "name": "stderr",
     "output_type": "stream",
     "text": [
      "D:\\My Drive\\Pessoal\\Projetos\\environments\\data_science\\lib\\site-packages\\xgboost\\compat.py:36: FutureWarning: pandas.Int64Index is deprecated and will be removed from pandas in a future version. Use pandas.Index with the appropriate dtype instead.\n",
      "  from pandas import MultiIndex, Int64Index\n"
     ]
    }
   ],
   "source": [
    "import numpy as np\n",
    "import pandas as pd\n",
    "\n",
    "from sklearn.preprocessing import LabelEncoder, StandardScaler\n",
    "from sklearn.model_selection import train_test_split\n",
    "from sklearn.metrics import classification_report, roc_auc_score, roc_curve, confusion_matrix\n",
    "from sklearn.ensemble import RandomForestClassifier\n",
    "\n",
    "from imblearn.over_sampling import SMOTE\n",
    "from imblearn.under_sampling import NearMiss\n",
    "\n",
    "from xgboost import XGBRFClassifier\n",
    "\n",
    "import pickle\n",
    "\n",
    "import time\n",
    "\n",
    "tempo_agora = time.time() # Contabilizando o tempo de processamento do projeto"
   ]
  },
  {
   "cell_type": "markdown",
   "id": "e9a1b054",
   "metadata": {
    "heading_collapsed": true
   },
   "source": [
    "###### 1.2 Importing data"
   ]
  },
  {
   "cell_type": "code",
   "execution_count": 2,
   "id": "0d41dcd0",
   "metadata": {
    "ExecuteTime": {
     "end_time": "2022-04-08T19:40:30.511423Z",
     "start_time": "2022-04-08T19:40:30.497444Z"
    },
    "hidden": true
   },
   "outputs": [],
   "source": [
    "X_to_modeling = pickle.load(open('D://My Drive//Pessoal//Projetos//bank_churn_predict//bank_churn_predict//exportings//X_to_modeling.pkl', 'rb'))\n",
    "y_to_modeling = pickle.load(open('D://My Drive//Pessoal//Projetos//bank_churn_predict//bank_churn_predict//exportings//y_to_modeling.pkl', 'rb'))"
   ]
  },
  {
   "cell_type": "code",
   "execution_count": 3,
   "id": "262f7b8c",
   "metadata": {
    "ExecuteTime": {
     "end_time": "2022-04-08T19:40:30.527204Z",
     "start_time": "2022-04-08T19:40:30.513423Z"
    },
    "hidden": true
   },
   "outputs": [],
   "source": [
    "X_valid = X_to_modeling[0]\n",
    "X_test = X_to_modeling[1]\n",
    "X_smote = X_to_modeling[2]\n",
    "X_train_smote = X_to_modeling[3]\n",
    "X_near = X_to_modeling[4]\n",
    "X_train_near = X_to_modeling[5]\n",
    "\n",
    "y_valid = y_to_modeling[0]\n",
    "y_test = y_to_modeling[1]\n",
    "y_smote = y_to_modeling[2]\n",
    "y_train_smote = y_to_modeling[3]\n",
    "y_near = y_to_modeling[4]\n",
    "y_train_near = y_to_modeling[5]"
   ]
  },
  {
   "cell_type": "markdown",
   "id": "d4d5d7b9",
   "metadata": {},
   "source": [
    "# 2.0 ML Modeling"
   ]
  },
  {
   "cell_type": "markdown",
   "id": "d6eff8d7",
   "metadata": {},
   "source": [
    "### 2.1 Xgbrfboost"
   ]
  },
  {
   "cell_type": "code",
   "execution_count": 4,
   "id": "fb11d6e3",
   "metadata": {
    "ExecuteTime": {
     "end_time": "2022-04-08T19:40:31.024182Z",
     "start_time": "2022-04-08T19:40:30.529636Z"
    }
   },
   "outputs": [
    {
     "name": "stdout",
     "output_type": "stream",
     "text": [
      "valid\n",
      "              precision    recall  f1-score   support\n",
      "\n",
      "           0       0.90      0.92      0.91      1923\n",
      "           1       0.64      0.57      0.60       477\n",
      "\n",
      "    accuracy                           0.85      2400\n",
      "   macro avg       0.77      0.75      0.76      2400\n",
      "weighted avg       0.85      0.85      0.85      2400\n",
      "\n",
      "0.7450655258914759\n",
      "\n",
      "[[1773  150]\n",
      " [ 206  271]]\n",
      "\n",
      "teste\n",
      "              precision    recall  f1-score   support\n",
      "\n",
      "           0       0.89      0.91      0.90      1577\n",
      "           1       0.64      0.59      0.61       423\n",
      "\n",
      "    accuracy                           0.84      2000\n",
      "   macro avg       0.77      0.75      0.76      2000\n",
      "weighted avg       0.84      0.84      0.84      2000\n",
      "\n",
      "0.7505722779134456\n",
      "\n",
      "[[1439  138]\n",
      " [ 174  249]]\n"
     ]
    }
   ],
   "source": [
    "# Modeling\n",
    "xgbrf_model = XGBRFClassifier(use_label_encoder=False)\n",
    "xgbrf_model_fit = xgbrf_model.fit(X_smote, y_smote, eval_metric='error')\n",
    "xgbrf_predict = xgbrf_model_fit.predict(X_valid)\n",
    "\n",
    "print('valid')\n",
    "print(classification_report(y_valid, xgbrf_predict))\n",
    "print(roc_auc_score(y_valid, xgbrf_predict))\n",
    "print()\n",
    "print(confusion_matrix(y_valid, xgbrf_predict))\n",
    "print('\\nteste')\n",
    "xgbrf_predict = xgbrf_model_fit.predict(X_test)\n",
    "print(classification_report(y_test, xgbrf_predict))\n",
    "print(roc_auc_score(y_test, xgbrf_predict))\n",
    "print()\n",
    "print(confusion_matrix(y_test, xgbrf_predict))"
   ]
  },
  {
   "cell_type": "markdown",
   "id": "e2704ed8",
   "metadata": {},
   "source": [
    "### 2.2 Random Forest"
   ]
  },
  {
   "cell_type": "code",
   "execution_count": 5,
   "id": "8fe3d77c",
   "metadata": {
    "ExecuteTime": {
     "end_time": "2022-04-08T19:40:31.683919Z",
     "start_time": "2022-04-08T19:40:31.026165Z"
    },
    "scrolled": false
   },
   "outputs": [
    {
     "name": "stdout",
     "output_type": "stream",
     "text": [
      "valid\n",
      "              precision    recall  f1-score   support\n",
      "\n",
      "           0       0.89      0.94      0.92      1923\n",
      "           1       0.69      0.54      0.61       477\n",
      "\n",
      "    accuracy                           0.86      2400\n",
      "   macro avg       0.79      0.74      0.76      2400\n",
      "weighted avg       0.85      0.86      0.85      2400\n",
      "\n",
      "0.7410672527530032\n",
      "\n",
      "[[1806  117]\n",
      " [ 218  259]]\n",
      "\n",
      "teste\n",
      "              precision    recall  f1-score   support\n",
      "\n",
      "           0       0.88      0.93      0.91      1577\n",
      "           1       0.67      0.55      0.60       423\n",
      "\n",
      "    accuracy                           0.85      2000\n",
      "   macro avg       0.78      0.74      0.76      2000\n",
      "weighted avg       0.84      0.85      0.84      2000\n",
      "\n",
      "0.7387212155827491\n",
      "\n",
      "[[1465  112]\n",
      " [ 191  232]]\n"
     ]
    }
   ],
   "source": [
    "rf_model = RandomForestClassifier(n_estimators=100, \n",
    "                                  max_depth=7, \n",
    "                                  max_features=0.3, \n",
    "                                  random_state=101)\n",
    "rf_model_fit = rf_model.fit(X_smote, y_smote)\n",
    "rf_predict = rf_model_fit.predict(X_valid)\n",
    "\n",
    "print('valid')\n",
    "print(classification_report(y_valid, rf_predict))\n",
    "print(roc_auc_score(y_valid, rf_predict))\n",
    "print()\n",
    "print(confusion_matrix(y_valid, rf_predict))\n",
    "print('\\nteste')\n",
    "rf_predict = rf_model_fit.predict(X_test)\n",
    "print(classification_report(y_test, rf_predict))\n",
    "print(roc_auc_score(y_test, rf_predict))\n",
    "print()\n",
    "print(confusion_matrix(y_test, rf_predict))"
   ]
  },
  {
   "cell_type": "markdown",
   "id": "1fb6991d",
   "metadata": {},
   "source": [
    "# 3.0 Exporting Data"
   ]
  },
  {
   "cell_type": "markdown",
   "id": "20e8ed39",
   "metadata": {},
   "source": [
    "###### 3.1 Models"
   ]
  },
  {
   "cell_type": "code",
   "execution_count": 6,
   "id": "a0d14fde",
   "metadata": {
    "ExecuteTime": {
     "end_time": "2022-04-08T19:40:31.729717Z",
     "start_time": "2022-04-08T19:40:31.685851Z"
    }
   },
   "outputs": [],
   "source": [
    "# XGRFboost\n",
    "pickle.dump(xgbrf_model_fit, open('D://My Drive//Pessoal//Projetos//bank_churn_predict//deploy//model//xgbrf_model.pkl', 'wb'))\n",
    "\n",
    "# Random Forest\n",
    "pickle.dump(rf_model_fit, open('D://My Drive//Pessoal//Projetos//bank_churn_predict//deploy//model//rf_model.pkl', 'wb'))"
   ]
  },
  {
   "cell_type": "markdown",
   "id": "c694234c",
   "metadata": {},
   "source": [
    "# Time"
   ]
  },
  {
   "cell_type": "code",
   "execution_count": 7,
   "id": "7f87b027",
   "metadata": {
    "ExecuteTime": {
     "end_time": "2022-04-08T19:40:31.744792Z",
     "start_time": "2022-04-08T19:40:31.731469Z"
    }
   },
   "outputs": [
    {
     "name": "stdout",
     "output_type": "stream",
     "text": [
      "O tempo de processamento do projeto foi de: 0 minutos\n"
     ]
    }
   ],
   "source": [
    "print(f'O tempo de processamento do projeto foi de: {int(round(time.time()-tempo_agora, 2)/60)} minutos')"
   ]
  }
 ],
 "metadata": {
  "kernelspec": {
   "display_name": "Python 3 (ipykernel)",
   "language": "python",
   "name": "python3"
  },
  "language_info": {
   "codemirror_mode": {
    "name": "ipython",
    "version": 3
   },
   "file_extension": ".py",
   "mimetype": "text/x-python",
   "name": "python",
   "nbconvert_exporter": "python",
   "pygments_lexer": "ipython3",
   "version": "3.9.7"
  }
 },
 "nbformat": 4,
 "nbformat_minor": 5
}
